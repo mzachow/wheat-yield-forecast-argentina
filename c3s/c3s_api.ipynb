{
 "cells": [
  {
   "cell_type": "code",
   "execution_count": null,
   "id": "4366beeb",
   "metadata": {},
   "outputs": [],
   "source": [
    "import cdsapi"
   ]
  },
  {
   "cell_type": "code",
   "execution_count": 1,
   "id": "412f9485",
   "metadata": {},
   "outputs": [
    {
     "name": "stderr",
     "output_type": "stream",
     "text": [
      "2023-07-11 14:26:14,218 INFO Welcome to the CDS\n",
      "2023-07-11 14:26:14,219 INFO Sending request to https://cds.climate.copernicus.eu/api/v2/resources/seasonal-monthly-single-levels\n",
      "2023-07-11 14:26:14,404 INFO Request is queued\n",
      "2023-07-11 15:49:30,183 INFO Request is running\n",
      "2023-07-11 16:09:36,796 INFO Request is failed\n",
      "2023-07-11 16:09:36,799 ERROR Message: the request you have submitted is not valid\n",
      "2023-07-11 16:09:36,801 ERROR Reason:  Mars server task finished in error; AccessError: Restricted access to current C3S seasonal forecast non-ECMWF contribution. Please check that your date selection is valid. For more information, visit https://climate.copernicus.eu/seasonal-forecasts [marser-ecmwf]; Error code is -2; Request failed; Some errors reported (last error -2)\n",
      "2023-07-11 16:09:36,802 ERROR   Traceback (most recent call last):\n",
      "2023-07-11 16:09:36,803 ERROR     File \"/opt/cdstoolbox/cdscompute/cdscompute/cdshandlers/services/handler.py\", line 59, in handle_request\n",
      "2023-07-11 16:09:36,804 ERROR       result = cached(context.method, proc, context, context.args, context.kwargs)\n",
      "2023-07-11 16:09:36,805 ERROR     File \"/opt/cdstoolbox/cdscompute/cdscompute/caching.py\", line 108, in cached\n",
      "2023-07-11 16:09:36,806 ERROR       result = proc(context, *context.args, **context.kwargs)\n",
      "2023-07-11 16:09:36,807 ERROR     File \"/opt/cdstoolbox/cdscompute/cdscompute/services.py\", line 124, in __call__\n",
      "2023-07-11 16:09:36,808 ERROR       return p(*args, **kwargs)\n",
      "2023-07-11 16:09:36,808 ERROR     File \"/opt/cdstoolbox/cdscompute/cdscompute/services.py\", line 60, in __call__\n",
      "2023-07-11 16:09:36,809 ERROR       return self.proc(context, *args, **kwargs)\n",
      "2023-07-11 16:09:36,809 ERROR     File \"/home/cds/cdsservices/services/mars/mars.py\", line 53, in external\n",
      "2023-07-11 16:09:36,810 ERROR       return mars(context, request, **kwargs)\n",
      "2023-07-11 16:09:36,811 ERROR     File \"/home/cds/cdsservices/services/mars/mars.py\", line 20, in mars\n",
      "2023-07-11 16:09:36,812 ERROR       execute_mars(context, requests, info)\n",
      "2023-07-11 16:09:36,812 ERROR     File \"/home/cds/cdsservices/services/mars/execute_mars.py\", line 20, in execute_mars\n",
      "2023-07-11 16:09:36,812 ERROR       exception=MarsException)\n",
      "2023-07-11 16:09:36,813 ERROR     File \"/opt/cdstoolbox/cdscompute/cdscompute/context.py\", line 209, in run_command\n",
      "2023-07-11 16:09:36,813 ERROR       raise exception(call, proc.returncode, output)\n",
      "2023-07-11 16:09:36,814 ERROR   home.cds.cdsservices.services.mars.__init__.py.exceptions.MarsException: Mars server task finished in error; AccessError: Restricted access to current C3S seasonal forecast non-ECMWF contribution. Please check that your date selection is valid. For more information, visit https://climate.copernicus.eu/seasonal-forecasts [marser-ecmwf]; Error code is -2; Request failed; Some errors reported (last error -2)\n"
     ]
    },
    {
     "ename": "Exception",
     "evalue": "the request you have submitted is not valid. Mars server task finished in error; AccessError: Restricted access to current C3S seasonal forecast non-ECMWF contribution. Please check that your date selection is valid. For more information, visit https://climate.copernicus.eu/seasonal-forecasts [marser-ecmwf]; Error code is -2; Request failed; Some errors reported (last error -2).",
     "output_type": "error",
     "traceback": [
      "\u001b[1;31m---------------------------------------------------------------------------\u001b[0m",
      "\u001b[1;31mException\u001b[0m                                 Traceback (most recent call last)",
      "Cell \u001b[1;32mIn[1], line 5\u001b[0m\n\u001b[0;32m      1\u001b[0m \u001b[39mimport\u001b[39;00m \u001b[39mcdsapi\u001b[39;00m\n\u001b[0;32m      3\u001b[0m c \u001b[39m=\u001b[39m cdsapi\u001b[39m.\u001b[39mClient()\n\u001b[1;32m----> 5\u001b[0m c\u001b[39m.\u001b[39;49mretrieve(\n\u001b[0;32m      6\u001b[0m     \u001b[39m'\u001b[39;49m\u001b[39mseasonal-monthly-single-levels\u001b[39;49m\u001b[39m'\u001b[39;49m,\n\u001b[0;32m      7\u001b[0m     {\n\u001b[0;32m      8\u001b[0m         \u001b[39m'\u001b[39;49m\u001b[39moriginating_centre\u001b[39;49m\u001b[39m'\u001b[39;49m: \u001b[39m'\u001b[39;49m\u001b[39mncep\u001b[39;49m\u001b[39m'\u001b[39;49m,\n\u001b[0;32m      9\u001b[0m         \u001b[39m'\u001b[39;49m\u001b[39msystem\u001b[39;49m\u001b[39m'\u001b[39;49m: \u001b[39m'\u001b[39;49m\u001b[39m2\u001b[39;49m\u001b[39m'\u001b[39;49m,\n\u001b[0;32m     10\u001b[0m         \u001b[39m'\u001b[39;49m\u001b[39mvariable\u001b[39;49m\u001b[39m'\u001b[39;49m: [\n\u001b[0;32m     11\u001b[0m             \u001b[39m'\u001b[39;49m\u001b[39m2m_temperature\u001b[39;49m\u001b[39m'\u001b[39;49m, \u001b[39m'\u001b[39;49m\u001b[39mtotal_precipitation\u001b[39;49m\u001b[39m'\u001b[39;49m,\n\u001b[0;32m     12\u001b[0m         ],\n\u001b[0;32m     13\u001b[0m         \u001b[39m'\u001b[39;49m\u001b[39mproduct_type\u001b[39;49m\u001b[39m'\u001b[39;49m: \u001b[39m'\u001b[39;49m\u001b[39mmonthly_mean\u001b[39;49m\u001b[39m'\u001b[39;49m,\n\u001b[0;32m     14\u001b[0m         \u001b[39m'\u001b[39;49m\u001b[39myear\u001b[39;49m\u001b[39m'\u001b[39;49m: [\n\u001b[0;32m     15\u001b[0m             \u001b[39m'\u001b[39;49m\u001b[39m1993\u001b[39;49m\u001b[39m'\u001b[39;49m, \u001b[39m'\u001b[39;49m\u001b[39m1994\u001b[39;49m\u001b[39m'\u001b[39;49m, \u001b[39m'\u001b[39;49m\u001b[39m1995\u001b[39;49m\u001b[39m'\u001b[39;49m,\n\u001b[0;32m     16\u001b[0m             \u001b[39m'\u001b[39;49m\u001b[39m1996\u001b[39;49m\u001b[39m'\u001b[39;49m, \u001b[39m'\u001b[39;49m\u001b[39m1997\u001b[39;49m\u001b[39m'\u001b[39;49m, \u001b[39m'\u001b[39;49m\u001b[39m1998\u001b[39;49m\u001b[39m'\u001b[39;49m,\n\u001b[0;32m     17\u001b[0m             \u001b[39m'\u001b[39;49m\u001b[39m1999\u001b[39;49m\u001b[39m'\u001b[39;49m, \u001b[39m'\u001b[39;49m\u001b[39m2000\u001b[39;49m\u001b[39m'\u001b[39;49m, \u001b[39m'\u001b[39;49m\u001b[39m2001\u001b[39;49m\u001b[39m'\u001b[39;49m,\n\u001b[0;32m     18\u001b[0m             \u001b[39m'\u001b[39;49m\u001b[39m2002\u001b[39;49m\u001b[39m'\u001b[39;49m, \u001b[39m'\u001b[39;49m\u001b[39m2003\u001b[39;49m\u001b[39m'\u001b[39;49m, \u001b[39m'\u001b[39;49m\u001b[39m2004\u001b[39;49m\u001b[39m'\u001b[39;49m,\n\u001b[0;32m     19\u001b[0m             \u001b[39m'\u001b[39;49m\u001b[39m2005\u001b[39;49m\u001b[39m'\u001b[39;49m, \u001b[39m'\u001b[39;49m\u001b[39m2006\u001b[39;49m\u001b[39m'\u001b[39;49m, \u001b[39m'\u001b[39;49m\u001b[39m2007\u001b[39;49m\u001b[39m'\u001b[39;49m,\n\u001b[0;32m     20\u001b[0m             \u001b[39m'\u001b[39;49m\u001b[39m2008\u001b[39;49m\u001b[39m'\u001b[39;49m, \u001b[39m'\u001b[39;49m\u001b[39m2009\u001b[39;49m\u001b[39m'\u001b[39;49m, \u001b[39m'\u001b[39;49m\u001b[39m2010\u001b[39;49m\u001b[39m'\u001b[39;49m,\n\u001b[0;32m     21\u001b[0m             \u001b[39m'\u001b[39;49m\u001b[39m2011\u001b[39;49m\u001b[39m'\u001b[39;49m, \u001b[39m'\u001b[39;49m\u001b[39m2012\u001b[39;49m\u001b[39m'\u001b[39;49m, \u001b[39m'\u001b[39;49m\u001b[39m2013\u001b[39;49m\u001b[39m'\u001b[39;49m,\n\u001b[0;32m     22\u001b[0m             \u001b[39m'\u001b[39;49m\u001b[39m2014\u001b[39;49m\u001b[39m'\u001b[39;49m, \u001b[39m'\u001b[39;49m\u001b[39m2015\u001b[39;49m\u001b[39m'\u001b[39;49m, \u001b[39m'\u001b[39;49m\u001b[39m2016\u001b[39;49m\u001b[39m'\u001b[39;49m,\n\u001b[0;32m     23\u001b[0m             \u001b[39m'\u001b[39;49m\u001b[39m2019\u001b[39;49m\u001b[39m'\u001b[39;49m, \u001b[39m'\u001b[39;49m\u001b[39m2020\u001b[39;49m\u001b[39m'\u001b[39;49m, \u001b[39m'\u001b[39;49m\u001b[39m2021\u001b[39;49m\u001b[39m'\u001b[39;49m,\n\u001b[0;32m     24\u001b[0m             \u001b[39m'\u001b[39;49m\u001b[39m2022\u001b[39;49m\u001b[39m'\u001b[39;49m, \u001b[39m'\u001b[39;49m\u001b[39m2023\u001b[39;49m\u001b[39m'\u001b[39;49m,\n\u001b[0;32m     25\u001b[0m         ],\n\u001b[0;32m     26\u001b[0m         \u001b[39m'\u001b[39;49m\u001b[39mmonth\u001b[39;49m\u001b[39m'\u001b[39;49m: [\n\u001b[0;32m     27\u001b[0m             \u001b[39m'\u001b[39;49m\u001b[39m06\u001b[39;49m\u001b[39m'\u001b[39;49m, \u001b[39m'\u001b[39;49m\u001b[39m07\u001b[39;49m\u001b[39m'\u001b[39;49m, \u001b[39m'\u001b[39;49m\u001b[39m08\u001b[39;49m\u001b[39m'\u001b[39;49m,\n\u001b[0;32m     28\u001b[0m             \u001b[39m'\u001b[39;49m\u001b[39m09\u001b[39;49m\u001b[39m'\u001b[39;49m, \u001b[39m'\u001b[39;49m\u001b[39m10\u001b[39;49m\u001b[39m'\u001b[39;49m, \u001b[39m'\u001b[39;49m\u001b[39m11\u001b[39;49m\u001b[39m'\u001b[39;49m,\n\u001b[0;32m     29\u001b[0m         ],\n\u001b[0;32m     30\u001b[0m         \u001b[39m'\u001b[39;49m\u001b[39mleadtime_month\u001b[39;49m\u001b[39m'\u001b[39;49m: [\n\u001b[0;32m     31\u001b[0m             \u001b[39m'\u001b[39;49m\u001b[39m1\u001b[39;49m\u001b[39m'\u001b[39;49m, \u001b[39m'\u001b[39;49m\u001b[39m2\u001b[39;49m\u001b[39m'\u001b[39;49m, \u001b[39m'\u001b[39;49m\u001b[39m3\u001b[39;49m\u001b[39m'\u001b[39;49m,\n\u001b[0;32m     32\u001b[0m             \u001b[39m'\u001b[39;49m\u001b[39m4\u001b[39;49m\u001b[39m'\u001b[39;49m, \u001b[39m'\u001b[39;49m\u001b[39m5\u001b[39;49m\u001b[39m'\u001b[39;49m, \u001b[39m'\u001b[39;49m\u001b[39m6\u001b[39;49m\u001b[39m'\u001b[39;49m,\n\u001b[0;32m     33\u001b[0m         ],\n\u001b[0;32m     34\u001b[0m         \u001b[39m'\u001b[39;49m\u001b[39marea\u001b[39;49m\u001b[39m'\u001b[39;49m: [\n\u001b[0;32m     35\u001b[0m             \u001b[39m-\u001b[39;49m\u001b[39m35\u001b[39;49m, \u001b[39m-\u001b[39;49m\u001b[39m63\u001b[39;49m, \u001b[39m-\u001b[39;49m\u001b[39m40\u001b[39;49m,\n\u001b[0;32m     36\u001b[0m             \u001b[39m-\u001b[39;49m\u001b[39m59\u001b[39;49m,\n\u001b[0;32m     37\u001b[0m         ],\n\u001b[0;32m     38\u001b[0m         \u001b[39m'\u001b[39;49m\u001b[39mgrid\u001b[39;49m\u001b[39m'\u001b[39;49m : [\u001b[39m1.0\u001b[39;49m, \u001b[39m1.0\u001b[39;49m],\n\u001b[0;32m     39\u001b[0m         \u001b[39m'\u001b[39;49m\u001b[39mformat\u001b[39;49m\u001b[39m'\u001b[39;49m: \u001b[39m'\u001b[39;49m\u001b[39mgrib\u001b[39;49m\u001b[39m'\u001b[39;49m,\n\u001b[0;32m     40\u001b[0m     },\n\u001b[0;32m     41\u001b[0m     \u001b[39m'\u001b[39;49m\u001b[39mncep.grib\u001b[39;49m\u001b[39m'\u001b[39;49m)\n",
      "File \u001b[1;32mc:\\Users\\Max Zachow\\anaconda3\\lib\\site-packages\\cdsapi\\api.py:348\u001b[0m, in \u001b[0;36mClient.retrieve\u001b[1;34m(self, name, request, target)\u001b[0m\n\u001b[0;32m    347\u001b[0m \u001b[39mdef\u001b[39;00m \u001b[39mretrieve\u001b[39m(\u001b[39mself\u001b[39m, name, request, target\u001b[39m=\u001b[39m\u001b[39mNone\u001b[39;00m):\n\u001b[1;32m--> 348\u001b[0m     result \u001b[39m=\u001b[39m \u001b[39mself\u001b[39;49m\u001b[39m.\u001b[39;49m_api(\u001b[39m\"\u001b[39;49m\u001b[39m%s\u001b[39;49;00m\u001b[39m/resources/\u001b[39;49m\u001b[39m%s\u001b[39;49;00m\u001b[39m\"\u001b[39;49m \u001b[39m%\u001b[39;49m (\u001b[39mself\u001b[39;49m\u001b[39m.\u001b[39;49murl, name), request, \u001b[39m\"\u001b[39;49m\u001b[39mPOST\u001b[39;49m\u001b[39m\"\u001b[39;49m)\n\u001b[0;32m    349\u001b[0m     \u001b[39mif\u001b[39;00m target \u001b[39mis\u001b[39;00m \u001b[39mnot\u001b[39;00m \u001b[39mNone\u001b[39;00m:\n\u001b[0;32m    350\u001b[0m         result\u001b[39m.\u001b[39mdownload(target)\n",
      "File \u001b[1;32mc:\\Users\\Max Zachow\\anaconda3\\lib\\site-packages\\cdsapi\\api.py:506\u001b[0m, in \u001b[0;36mClient._api\u001b[1;34m(self, url, request, method)\u001b[0m\n\u001b[0;32m    504\u001b[0m             \u001b[39mbreak\u001b[39;00m\n\u001b[0;32m    505\u001b[0m         \u001b[39mself\u001b[39m\u001b[39m.\u001b[39merror(\u001b[39m\"\u001b[39m\u001b[39m  \u001b[39m\u001b[39m%s\u001b[39;00m\u001b[39m\"\u001b[39m, n)\n\u001b[1;32m--> 506\u001b[0m     \u001b[39mraise\u001b[39;00m \u001b[39mException\u001b[39;00m(\n\u001b[0;32m    507\u001b[0m         \u001b[39m\"\u001b[39m\u001b[39m%s\u001b[39;00m\u001b[39m. \u001b[39m\u001b[39m%s\u001b[39;00m\u001b[39m.\u001b[39m\u001b[39m\"\u001b[39m\n\u001b[0;32m    508\u001b[0m         \u001b[39m%\u001b[39m (reply[\u001b[39m\"\u001b[39m\u001b[39merror\u001b[39m\u001b[39m\"\u001b[39m]\u001b[39m.\u001b[39mget(\u001b[39m\"\u001b[39m\u001b[39mmessage\u001b[39m\u001b[39m\"\u001b[39m), reply[\u001b[39m\"\u001b[39m\u001b[39merror\u001b[39m\u001b[39m\"\u001b[39m]\u001b[39m.\u001b[39mget(\u001b[39m\"\u001b[39m\u001b[39mreason\u001b[39m\u001b[39m\"\u001b[39m))\n\u001b[0;32m    509\u001b[0m     )\n\u001b[0;32m    511\u001b[0m \u001b[39mraise\u001b[39;00m \u001b[39mException\u001b[39;00m(\u001b[39m\"\u001b[39m\u001b[39mUnknown API state [\u001b[39m\u001b[39m%s\u001b[39;00m\u001b[39m]\u001b[39m\u001b[39m\"\u001b[39m \u001b[39m%\u001b[39m (reply[\u001b[39m\"\u001b[39m\u001b[39mstate\u001b[39m\u001b[39m\"\u001b[39m],))\n",
      "\u001b[1;31mException\u001b[0m: the request you have submitted is not valid. Mars server task finished in error; AccessError: Restricted access to current C3S seasonal forecast non-ECMWF contribution. Please check that your date selection is valid. For more information, visit https://climate.copernicus.eu/seasonal-forecasts [marser-ecmwf]; Error code is -2; Request failed; Some errors reported (last error -2)."
     ]
    }
   ],
   "source": [
    "c = cdsapi.Client()\n",
    "\n",
    "c.retrieve(\n",
    "    'seasonal-monthly-single-levels',\n",
    "    {\n",
    "        'originating_centre': 'ukmo',\n",
    "        'system': '601',\n",
    "        'variable': [\n",
    "            '2m_temperature', 'total_precipitation',\n",
    "        ],\n",
    "        'product_type': 'monthly_mean',\n",
    "        'year': [\n",
    "            '1993', '1994', '1995',\n",
    "            '1996', '1997', '1998',\n",
    "            '1999', '2000', '2001',\n",
    "            '2002', '2003', '2004',\n",
    "            '2005', '2006', '2007',\n",
    "            '2008', '2009', '2010',\n",
    "            '2011', '2012', '2013',\n",
    "            '2014', '2015', '2016',\n",
    "            '2019', '2020', '2021',\n",
    "            '2022', '2023',\n",
    "        ],\n",
    "        'month': [\n",
    "            '06', '07', '08',\n",
    "            '09', '10', '11',\n",
    "        ],\n",
    "        'leadtime_month': [\n",
    "            '1', '2', '3',\n",
    "            '4', '5', '6',\n",
    "        ],\n",
    "        'area': [\n",
    "            -35, -63, -40,\n",
    "            -59,\n",
    "        ],\n",
    "        'grid' : [1.0, 1.0],\n",
    "        'format': 'grib',\n",
    "    },\n",
    "    'ukmo.grib')"
   ]
  }
 ],
 "metadata": {
  "kernelspec": {
   "display_name": "base",
   "language": "python",
   "name": "python3"
  },
  "language_info": {
   "codemirror_mode": {
    "name": "ipython",
    "version": 3
   },
   "file_extension": ".py",
   "mimetype": "text/x-python",
   "name": "python",
   "nbconvert_exporter": "python",
   "pygments_lexer": "ipython3",
   "version": "3.9.16"
  },
  "vscode": {
   "interpreter": {
    "hash": "7bdd4fa5e4a01778d662c250f68cd0ae4cd5c6713655d3ff4cfd53a48ea87565"
   }
  }
 },
 "nbformat": 4,
 "nbformat_minor": 5
}
