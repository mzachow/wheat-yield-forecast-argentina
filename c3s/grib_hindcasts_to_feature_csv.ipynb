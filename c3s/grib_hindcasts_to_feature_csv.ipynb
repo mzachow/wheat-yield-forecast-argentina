{
 "cells": [
  {
   "cell_type": "code",
   "execution_count": 1,
   "metadata": {},
   "outputs": [],
   "source": [
    "import os\n",
    "import numpy as np\n",
    "import pandas as pd\n",
    "import xarray as xr\n",
    "import geopandas as gp\n",
    "\n",
    "from copy import copy\n",
    "from unidecode import unidecode\n",
    "from functools import reduce\n",
    "from datetime import date, datetime\n",
    "from dateutil.relativedelta import relativedelta\n",
    "from bias_correction import BiasCorrection, XBiasCorrection\n",
    "\n",
    "relevant_municipalities = [\"buenos aires coronel dorrego\", \"buenos aires hipolito yrigoyen\"]\n",
    "\n",
    "%load_ext autoreload\n",
    "%autoreload 2"
   ]
  },
  {
   "cell_type": "markdown",
   "metadata": {},
   "source": [
    "### 1. Read data"
   ]
  },
  {
   "cell_type": "markdown",
   "metadata": {},
   "source": [
    "**Polygon shapes**\n",
    "\n",
    "To forecast wheat yield in Argentina, we use weather data from two locations - Buenos Aires Coronel Dorrego and Buenos Aires Hipolito Yrigoyen. In this notebook we read hindcasts from the C3S that is provided in 1° x 1° grid cells. For each location, we need to find the grid cells that are closest. "
   ]
  },
  {
   "cell_type": "code",
   "execution_count": 2,
   "metadata": {},
   "outputs": [
    {
     "data": {
      "text/plain": [
       "{'buenos aires coronel dorrego': <POLYGON Z ((-61.175 -38.293 0, -61.174 -38.293 0, -61.173 -38.293 0, -61.17...>,\n",
       " 'buenos aires hipolito yrigoyen': <POLYGON Z ((-61.45 -36.052 0, -61.435 -36.039 0, -61.393 -36.072 0, -61.333...>}"
      ]
     },
     "execution_count": 2,
     "metadata": {},
     "output_type": "execute_result"
    }
   ],
   "source": [
    "# polygon shapes of the two municipalities that are relevant for the forecast model\n",
    "gdf_adm2 = gp.read_file(\"data/shapefile/arg_admbnda_adm2_unhcr2017.shp\")[[\"ADM1_ES\", \"ADM2_ES\", \"geometry\"]]\n",
    "# concatenate name of state and municipality\n",
    "gdf_adm2[\"name\"] = gdf_adm2[[\"ADM1_ES\", \"ADM2_ES\"]].apply(lambda x: unidecode(x[0].lower()) + \" \" + unidecode(x[1].lower()), axis=1)\n",
    "# filter the two relevant names\n",
    "gdf_adm2 = gdf_adm2.loc[gdf_adm2[\"name\"].isin([\"buenos aires coronel dorrego\", \"buenos aires hipolito yrigoyen\"]), [\"name\", \"geometry\"]].reset_index(drop=True)\n",
    "# convert to dictionary for easier access\n",
    "name_to_shape = gdf_adm2.set_index(\"name\")[\"geometry\"].to_dict()\n",
    "# preview\n",
    "name_to_shape"
   ]
  },
  {
   "cell_type": "markdown",
   "metadata": {},
   "source": [
    "**ERA data**\n",
    "\n",
    "The ERA5-Land-Reanalysis [Dataset](https://cds.climate.copernicus.eu/cdsapp#!/dataset/reanalysis-era5-land-monthly-means?tab=form) is needed to bias-adjustment."
   ]
  },
  {
   "cell_type": "code",
   "execution_count": 3,
   "metadata": {},
   "outputs": [
    {
     "data": {
      "text/html": [
       "<div>\n",
       "<style scoped>\n",
       "    .dataframe tbody tr th:only-of-type {\n",
       "        vertical-align: middle;\n",
       "    }\n",
       "\n",
       "    .dataframe tbody tr th {\n",
       "        vertical-align: top;\n",
       "    }\n",
       "\n",
       "    .dataframe thead th {\n",
       "        text-align: right;\n",
       "    }\n",
       "</style>\n",
       "<table border=\"1\" class=\"dataframe\">\n",
       "  <thead>\n",
       "    <tr style=\"text-align: right;\">\n",
       "      <th></th>\n",
       "      <th>model</th>\n",
       "      <th>year</th>\n",
       "      <th>init_month</th>\n",
       "      <th>forecasted_month</th>\n",
       "      <th>rain</th>\n",
       "      <th>tmean</th>\n",
       "      <th>location</th>\n",
       "    </tr>\n",
       "  </thead>\n",
       "  <tbody>\n",
       "    <tr>\n",
       "      <th>0</th>\n",
       "      <td>ERA</td>\n",
       "      <td>1993</td>\n",
       "      <td>12</td>\n",
       "      <td>8</td>\n",
       "      <td>0.000204</td>\n",
       "      <td>10.112333</td>\n",
       "      <td>coronel dorrego</td>\n",
       "    </tr>\n",
       "    <tr>\n",
       "      <th>1</th>\n",
       "      <td>ERA</td>\n",
       "      <td>1994</td>\n",
       "      <td>12</td>\n",
       "      <td>8</td>\n",
       "      <td>0.001294</td>\n",
       "      <td>9.102000</td>\n",
       "      <td>coronel dorrego</td>\n",
       "    </tr>\n",
       "  </tbody>\n",
       "</table>\n",
       "</div>"
      ],
      "text/plain": [
       "  model  year  init_month  forecasted_month      rain      tmean  \\\n",
       "0   ERA  1993          12                 8  0.000204  10.112333   \n",
       "1   ERA  1994          12                 8  0.001294   9.102000   \n",
       "\n",
       "          location  \n",
       "0  coronel dorrego  \n",
       "1  coronel dorrego  "
      ]
     },
     "execution_count": 3,
     "metadata": {},
     "output_type": "execute_result"
    }
   ],
   "source": [
    "era = pd.read_csv(\"data/era_filtered_locations.csv\").assign(model=\"ERA\", init_month=12)\n",
    "# the redundant part of the location \"Buenoas Aires\" can be removed\n",
    "era[\"name\"] = era[\"name\"].apply(lambda x: x.replace(\"buenos aires \", \"\"))\n",
    "era = era[[\"model\", \"year\", \"init_month\", \"month\", \"rain\", \"tmean\", \"name\"]]\n",
    "era.columns = [\"model\", \"year\", \"init_month\", \"forecasted_month\", \"rain\", \"tmean\", \"location\"]\n",
    "# preview\n",
    "era.head(2)"
   ]
  },
  {
   "cell_type": "code",
   "execution_count": 4,
   "metadata": {},
   "outputs": [],
   "source": [
    "# read hindcasts\n",
    "list_hindcasts = []\n",
    "for model in [\"CMCC\", \"DWD\", \"ECCC\", \"ECMWF\", \"JMA\", \"METFR\", \"UKMO\"]:\n",
    "    df = xr.open_dataset(\"data/\" + model + \"/\" + model.lower() + \".grib\").to_dataframe()\n",
    "    df[\"tprate\"] = df[\"tprate\"] * 86400  # seconds per day \n",
    "    df = df.groupby([\"time\", \"step\", \"latitude\", \"longitude\", \"valid_time\"]).agg({\"t2m\":\"mean\", \"tprate\":\"mean\"}).dropna().assign(model=model).reset_index()\n",
    "    df[\"t2m\"] = df[\"t2m\"].apply(lambda x: x - 273.15)\n",
    "    list_hindcasts.append(df)\n",
    "hindcasts = pd.concat(list_hindcasts, axis=0, ignore_index=False)\n"
   ]
  },
  {
   "cell_type": "markdown",
   "metadata": {},
   "source": [
    "### 2. Basic Preprocessing"
   ]
  },
  {
   "cell_type": "code",
   "execution_count": 8,
   "metadata": {},
   "outputs": [],
   "source": [
    "# security copy\n",
    "c3s = hindcasts.copy()"
   ]
  },
  {
   "cell_type": "code",
   "execution_count": 41,
   "metadata": {},
   "outputs": [],
   "source": [
    "hindcasts = c3s.copy()"
   ]
  },
  {
   "cell_type": "code",
   "execution_count": 42,
   "metadata": {},
   "outputs": [],
   "source": [
    "# convert to datetime\n",
    "hindcasts[\"time\"] = pd.to_datetime(hindcasts[\"time\"])\n",
    "hindcasts[\"valid_time\"] = pd.to_datetime(hindcasts[\"valid_time\"])"
   ]
  },
  {
   "cell_type": "code",
   "execution_count": 43,
   "metadata": {},
   "outputs": [],
   "source": [
    "# for JMA hindcasts that are initialized at the end of the month we bring them to start date as the first day of the next month\n",
    "hindcasts.loc[(hindcasts[\"time\"].dt.day.between(26, 31)) & (hindcasts[\"model\"] == \"JMA\"), \"time\"] = hindcasts.loc[(hindcasts[\"time\"].dt.day.between(26, 31)) & (hindcasts[\"model\"] == \"JMA\"), \"time\"].apply(lambda x: x.replace(day=1) + relativedelta(months=1))\n",
    "# filter init days that are not at the beginning of the month\n",
    "hindcasts = hindcasts.loc[(hindcasts[\"time\"].dt.day == 1)].reset_index(drop=True)"
   ]
  },
  {
   "cell_type": "code",
   "execution_count": 47,
   "metadata": {},
   "outputs": [],
   "source": [
    "# derive year and month\n",
    "hindcasts[\"init_month\"] = hindcasts[\"time\"].dt.month\n",
    "hindcasts[\"forecasted_month\"] = hindcasts[\"valid_time\"].dt.month - 1\n",
    "hindcasts[\"year\"] = hindcasts[\"time\"].dt.year\n",
    "hindcasts[\"forecasted_year\"] = hindcasts[\"valid_time\"].dt.year\n",
    "\n",
    "# filter\n",
    "hindcasts = hindcasts.loc[(hindcasts[\"year\"] == hindcasts[\"forecasted_year\"])\n",
    "                          & (hindcasts[\"init_month\"].between(8,11)) & (hindcasts[\"forecasted_month\"].between(8,11))].reset_index(drop=True)\n",
    "\n",
    "# rename and reorder\n",
    "hindcasts = hindcasts.rename(columns={\"latitude\":\"lat\", \"longitude\":\"lon\", \"t2m\":\"tmean\", \"tprate\":\"rain\"})\n",
    "hindcasts = hindcasts[[\"model\", \"year\", \"init_month\", \"forecasted_month\", \"rain\", \"tmean\", \"lat\", \"lon\"]]\n",
    "\n",
    "# convert to geodataframe to facilitate spatial filtering in the next section\n",
    "hindcasts = gp.GeoDataFrame(hindcasts, geometry=gp.points_from_xy(hindcasts[\"lon\"], hindcasts[\"lat\"]), crs=\"EPSG:4326\")"
   ]
  },
  {
   "cell_type": "markdown",
   "metadata": {},
   "source": [
    "### 3. Find closest location to municipalities"
   ]
  },
  {
   "cell_type": "code",
   "execution_count": 52,
   "metadata": {},
   "outputs": [
    {
     "data": {
      "text/plain": [
       "<Axes: >"
      ]
     },
     "execution_count": 52,
     "metadata": {},
     "output_type": "execute_result"
    },
    {
     "data": {
      "image/png": "[encoded data removed]",
      "text/plain": [
       "<Figure size 600x600 with 1 Axes>"
      ]
     },
     "metadata": {},
     "output_type": "display_data"
    }
   ],
   "source": [
    "base = gdf_adm2.plot(figsize=(6,6), edgecolor=\"black\", linewidth=.2)\n",
    "gp.GeoDataFrame(hindcasts[[\"geometry\", \"lat\", \"lon\"]].drop_duplicates(), geometry=\"geometry\", crs=\"EPSG:4326\").plot(ax=base,  color=\"black\")"
   ]
  },
  {
   "cell_type": "code",
   "execution_count": 53,
   "metadata": {},
   "outputs": [],
   "source": [
    "modelling_groups = hindcasts[\"model\"].unique()\n",
    "li = []\n",
    "for model in modelling_groups:\n",
    "    # get current model and the lat-lon coordinates of its forecasts\n",
    "    current_model = hindcasts.loc[hindcasts[\"model\"] == model, [\"model\", \"lat\", \"lon\", \"geometry\"]].drop_duplicates()\n",
    "    # get the nearest lat-lon pair to both locations (municipalities)\n",
    "    location_1 = pd.DataFrame(current_model.iloc[current_model.sindex.nearest(name_to_shape[relevant_municipalities[0]])[1][0]]).transpose().assign(location=\"coronel dorrego\").reset_index(drop=True)\n",
    "    location_2 = pd.DataFrame(current_model.iloc[current_model.sindex.nearest(name_to_shape[relevant_municipalities[1]])[1][0]]).transpose().assign(location=\"hipolito yrigoyen\").reset_index(drop=True)\n",
    "    # save in dataframe\n",
    "    locations = pd.concat([location_1, location_2], ignore_index=True)\n",
    "    # the lat-lon pairs that are selected are merged with the name of their location; all other lat-lon pairs are dropped\n",
    "    current_model = current_model.merge(locations, on=[\"model\", \"lat\", \"lon\", \"geometry\"], how=\"left\").dropna()\n",
    "    # append the locations for this model\n",
    "    li.append(current_model)\n",
    "    \n",
    "model_locations = pd.concat(li, ignore_index=True, axis=0)\n",
    "hindcasts = hindcasts.merge(model_locations, on=[\"model\", \"lat\", \"lon\", \"geometry\"]).dropna()"
   ]
  },
  {
   "cell_type": "code",
   "execution_count": 54,
   "metadata": {},
   "outputs": [
    {
     "data": {
      "text/plain": [
       "<Axes: >"
      ]
     },
     "execution_count": 54,
     "metadata": {},
     "output_type": "execute_result"
    },
    {
     "data": {
      "image/png": "[encoded data removed]",
      "text/plain": [
       "<Figure size 600x600 with 1 Axes>"
      ]
     },
     "metadata": {},
     "output_type": "display_data"
    }
   ],
   "source": [
    "base = gdf_adm2.plot(figsize=(6,6), edgecolor=\"black\", linewidth=.2)\n",
    "gp.GeoDataFrame(hindcasts[[\"geometry\", \"lat\", \"lon\"]].drop_duplicates(), geometry=\"geometry\", crs=\"EPSG:4326\").plot(ax=base,  color=\"black\")"
   ]
  },
  {
   "cell_type": "code",
   "execution_count": 56,
   "metadata": {},
   "outputs": [
    {
     "data": {
      "text/plain": [
       "model\n",
       "CMCC     480\n",
       "DWD      480\n",
       "ECCC     480\n",
       "ECMWF    480\n",
       "JMA      480\n",
       "METFR    480\n",
       "UKMO     480\n",
       "dtype: int64"
      ]
     },
     "execution_count": 56,
     "metadata": {},
     "output_type": "execute_result"
    }
   ],
   "source": [
    "hindcasts.groupby(\"model\").size()"
   ]
  },
  {
   "cell_type": "markdown",
   "metadata": {},
   "source": [
    "### 4. Bias Adjustment"
   ]
  },
  {
   "cell_type": "code",
   "execution_count": 57,
   "metadata": {},
   "outputs": [],
   "source": [
    "def adjust_bias(observed, predicted, correction_method=\"basic_quantile\"):\n",
    "    \"\"\"Apply bias-adjustment to daily temperature values of hindcasts.\n",
    "    \n",
    "    parameters:\n",
    "     - observed: observed climate data\n",
    "     - predicted: hindcast data\n",
    "     - correction_method: bias-correction method to be applied. Can be 'normal_mapping', 'basic_quantile', 'gamma_mapping', 'modified_quantile'\n",
    "    \n",
    "    returns: \n",
    "     - results: bias-adjusted hindcasts as dataframe  \n",
    "    \"\"\"\n",
    "    # GroupBy objects allow faster access to relevant subsets of climate data.\n",
    "    grouped_climate_observations = observed.groupby([\"location\", \"year\", \"forecasted_month\"])\n",
    "    grouped_climate_hindcasts = predicted.groupby([\"model\", \"init_month\", \"location\", \"year\", \"forecasted_month\"])\n",
    "    grouped_climate_hindcasts_reference = copy(grouped_climate_hindcasts)\n",
    "    li = []\n",
    "    \n",
    "    for group_idx, group_content in grouped_climate_hindcasts:\n",
    "        # Save group characteristics in intuitive variables.\n",
    "        current_model = group_content[\"model\"].unique()[0]\n",
    "        current_init_month = group_content[\"init_month\"].unique()[0]\n",
    "        current_zone = group_content[\"location\"].unique()[0]\n",
    "        current_season = group_content[\"year\"].unique()[0]\n",
    "        current_month = group_content[\"forecasted_month\"].unique()[0]\n",
    "        \n",
    "        # Create calibration set of observations and hindcasts.\n",
    "        hindcasts_used_as_reference = []\n",
    "        observations_used_as_reference = []\n",
    "        for season in list(range(1993,2017)): \n",
    "            if season != current_season:\n",
    "                observation_to_be_added = (current_zone, season, current_month) \n",
    "                observations_used_as_reference.append(grouped_climate_observations.get_group(observation_to_be_added))   \n",
    "            hindcast_to_be_added = (current_model, current_init_month, current_zone, season, current_month)\n",
    "            hindcasts_used_as_reference.append(grouped_climate_hindcasts_reference.get_group(hindcast_to_be_added))\n",
    "        hindcasts_used_as_reference = pd.concat(hindcasts_used_as_reference, axis=0, ignore_index=False)\n",
    "        observations_used_as_reference = pd.concat(observations_used_as_reference, axis=0, ignore_index=False) \n",
    "        \n",
    "        # Perform bias-adjustment for temperature variables.\n",
    "        bc_tmean = BiasCorrection(observations_used_as_reference[\"tmean\"], hindcasts_used_as_reference[\"tmean\"], group_content[\"tmean\"])\n",
    "        bc_rain = BiasCorrection(observations_used_as_reference[\"rain\"], hindcasts_used_as_reference[\"rain\"], group_content[\"rain\"])\n",
    "        group_content[\"tmean\"] = bc_tmean.correct(method=correction_method)\n",
    "        group_content[\"rain\"] = bc_rain.correct(method=correction_method)\n",
    "        \n",
    "        li.append(group_content)\n",
    "    result = pd.concat(li, axis=0, ignore_index=True)       \n",
    "    \n",
    "    return result"
   ]
  },
  {
   "cell_type": "code",
   "execution_count": 64,
   "metadata": {},
   "outputs": [],
   "source": [
    "adjusted_hindcasts = adjust_bias(era, hindcasts)"
   ]
  },
  {
   "cell_type": "markdown",
   "metadata": {},
   "source": [
    "### 5. Feature structure"
   ]
  },
  {
   "cell_type": "code",
   "execution_count": 66,
   "metadata": {},
   "outputs": [
    {
     "data": {
      "text/html": [
       "<div>\n",
       "<style scoped>\n",
       "    .dataframe tbody tr th:only-of-type {\n",
       "        vertical-align: middle;\n",
       "    }\n",
       "\n",
       "    .dataframe tbody tr th {\n",
       "        vertical-align: top;\n",
       "    }\n",
       "\n",
       "    .dataframe thead th {\n",
       "        text-align: right;\n",
       "    }\n",
       "</style>\n",
       "<table border=\"1\" class=\"dataframe\">\n",
       "  <thead>\n",
       "    <tr style=\"text-align: right;\">\n",
       "      <th></th>\n",
       "      <th>model</th>\n",
       "      <th>year</th>\n",
       "      <th>init_month</th>\n",
       "      <th>rain_coronel dorrego_10</th>\n",
       "      <th>rain_coronel dorrego_11</th>\n",
       "      <th>rain_coronel dorrego_8</th>\n",
       "      <th>rain_coronel dorrego_9</th>\n",
       "      <th>rain_hipolito yrigoyen_10</th>\n",
       "      <th>rain_hipolito yrigoyen_11</th>\n",
       "      <th>rain_hipolito yrigoyen_8</th>\n",
       "      <th>rain_hipolito yrigoyen_9</th>\n",
       "      <th>tmean_coronel dorrego_10</th>\n",
       "      <th>tmean_coronel dorrego_11</th>\n",
       "      <th>tmean_coronel dorrego_8</th>\n",
       "      <th>tmean_coronel dorrego_9</th>\n",
       "      <th>tmean_hipolito yrigoyen_10</th>\n",
       "      <th>tmean_hipolito yrigoyen_11</th>\n",
       "      <th>tmean_hipolito yrigoyen_8</th>\n",
       "      <th>tmean_hipolito yrigoyen_9</th>\n",
       "    </tr>\n",
       "  </thead>\n",
       "  <tbody>\n",
       "    <tr>\n",
       "      <th>0</th>\n",
       "      <td>CMCC</td>\n",
       "      <td>1993</td>\n",
       "      <td>9</td>\n",
       "      <td>0.002803</td>\n",
       "      <td>0.001972</td>\n",
       "      <td>0.000204</td>\n",
       "      <td>0.000835</td>\n",
       "      <td>0.002380</td>\n",
       "      <td>0.002029</td>\n",
       "      <td>0.000622</td>\n",
       "      <td>0.001312</td>\n",
       "      <td>13.847133</td>\n",
       "      <td>17.627770</td>\n",
       "      <td>10.112333</td>\n",
       "      <td>11.112456</td>\n",
       "      <td>14.806580</td>\n",
       "      <td>18.985478</td>\n",
       "      <td>10.272308</td>\n",
       "      <td>11.960095</td>\n",
       "    </tr>\n",
       "    <tr>\n",
       "      <th>1</th>\n",
       "      <td>CMCC</td>\n",
       "      <td>1993</td>\n",
       "      <td>10</td>\n",
       "      <td>0.000681</td>\n",
       "      <td>0.002714</td>\n",
       "      <td>0.000204</td>\n",
       "      <td>0.000629</td>\n",
       "      <td>0.001396</td>\n",
       "      <td>0.003327</td>\n",
       "      <td>0.000622</td>\n",
       "      <td>0.002687</td>\n",
       "      <td>14.940505</td>\n",
       "      <td>17.591476</td>\n",
       "      <td>10.112333</td>\n",
       "      <td>11.635667</td>\n",
       "      <td>15.325189</td>\n",
       "      <td>18.455669</td>\n",
       "      <td>10.272308</td>\n",
       "      <td>11.610769</td>\n",
       "    </tr>\n",
       "    <tr>\n",
       "      <th>2</th>\n",
       "      <td>CMCC</td>\n",
       "      <td>1993</td>\n",
       "      <td>11</td>\n",
       "      <td>0.001886</td>\n",
       "      <td>0.003427</td>\n",
       "      <td>0.000204</td>\n",
       "      <td>0.000629</td>\n",
       "      <td>0.002157</td>\n",
       "      <td>0.003915</td>\n",
       "      <td>0.000622</td>\n",
       "      <td>0.002687</td>\n",
       "      <td>14.787833</td>\n",
       "      <td>18.827737</td>\n",
       "      <td>10.112333</td>\n",
       "      <td>11.635667</td>\n",
       "      <td>16.042308</td>\n",
       "      <td>19.746285</td>\n",
       "      <td>10.272308</td>\n",
       "      <td>11.610769</td>\n",
       "    </tr>\n",
       "    <tr>\n",
       "      <th>3</th>\n",
       "      <td>CMCC</td>\n",
       "      <td>1994</td>\n",
       "      <td>9</td>\n",
       "      <td>0.002526</td>\n",
       "      <td>0.002440</td>\n",
       "      <td>0.001294</td>\n",
       "      <td>0.001166</td>\n",
       "      <td>0.003130</td>\n",
       "      <td>0.003192</td>\n",
       "      <td>0.002331</td>\n",
       "      <td>0.001271</td>\n",
       "      <td>14.316248</td>\n",
       "      <td>18.399914</td>\n",
       "      <td>9.102000</td>\n",
       "      <td>10.467002</td>\n",
       "      <td>15.573431</td>\n",
       "      <td>19.731697</td>\n",
       "      <td>9.853077</td>\n",
       "      <td>11.784327</td>\n",
       "    </tr>\n",
       "    <tr>\n",
       "      <th>4</th>\n",
       "      <td>CMCC</td>\n",
       "      <td>1994</td>\n",
       "      <td>10</td>\n",
       "      <td>0.002647</td>\n",
       "      <td>0.001956</td>\n",
       "      <td>0.001294</td>\n",
       "      <td>0.000819</td>\n",
       "      <td>0.003842</td>\n",
       "      <td>0.002918</td>\n",
       "      <td>0.002331</td>\n",
       "      <td>0.001586</td>\n",
       "      <td>13.822843</td>\n",
       "      <td>18.598946</td>\n",
       "      <td>9.102000</td>\n",
       "      <td>11.997500</td>\n",
       "      <td>15.187178</td>\n",
       "      <td>19.799980</td>\n",
       "      <td>9.853077</td>\n",
       "      <td>12.882308</td>\n",
       "    </tr>\n",
       "  </tbody>\n",
       "</table>\n",
       "</div>"
      ],
      "text/plain": [
       "  model  year  init_month  rain_coronel dorrego_10  rain_coronel dorrego_11  \\\n",
       "0  CMCC  1993           9                 0.002803                 0.001972   \n",
       "1  CMCC  1993          10                 0.000681                 0.002714   \n",
       "2  CMCC  1993          11                 0.001886                 0.003427   \n",
       "3  CMCC  1994           9                 0.002526                 0.002440   \n",
       "4  CMCC  1994          10                 0.002647                 0.001956   \n",
       "\n",
       "   rain_coronel dorrego_8  rain_coronel dorrego_9  rain_hipolito yrigoyen_10  \\\n",
       "0                0.000204                0.000835                   0.002380   \n",
       "1                0.000204                0.000629                   0.001396   \n",
       "2                0.000204                0.000629                   0.002157   \n",
       "3                0.001294                0.001166                   0.003130   \n",
       "4                0.001294                0.000819                   0.003842   \n",
       "\n",
       "   rain_hipolito yrigoyen_11  rain_hipolito yrigoyen_8  \\\n",
       "0                   0.002029                  0.000622   \n",
       "1                   0.003327                  0.000622   \n",
       "2                   0.003915                  0.000622   \n",
       "3                   0.003192                  0.002331   \n",
       "4                   0.002918                  0.002331   \n",
       "\n",
       "   rain_hipolito yrigoyen_9  tmean_coronel dorrego_10  \\\n",
       "0                  0.001312                 13.847133   \n",
       "1                  0.002687                 14.940505   \n",
       "2                  0.002687                 14.787833   \n",
       "3                  0.001271                 14.316248   \n",
       "4                  0.001586                 13.822843   \n",
       "\n",
       "   tmean_coronel dorrego_11  tmean_coronel dorrego_8  tmean_coronel dorrego_9  \\\n",
       "0                 17.627770                10.112333                11.112456   \n",
       "1                 17.591476                10.112333                11.635667   \n",
       "2                 18.827737                10.112333                11.635667   \n",
       "3                 18.399914                 9.102000                10.467002   \n",
       "4                 18.598946                 9.102000                11.997500   \n",
       "\n",
       "   tmean_hipolito yrigoyen_10  tmean_hipolito yrigoyen_11  \\\n",
       "0                   14.806580                   18.985478   \n",
       "1                   15.325189                   18.455669   \n",
       "2                   16.042308                   19.746285   \n",
       "3                   15.573431                   19.731697   \n",
       "4                   15.187178                   19.799980   \n",
       "\n",
       "   tmean_hipolito yrigoyen_8  tmean_hipolito yrigoyen_9  \n",
       "0                  10.272308                  11.960095  \n",
       "1                  10.272308                  11.610769  \n",
       "2                  10.272308                  11.610769  \n",
       "3                   9.853077                  11.784327  \n",
       "4                   9.853077                  12.882308  "
      ]
     },
     "execution_count": 66,
     "metadata": {},
     "output_type": "execute_result"
    }
   ],
   "source": [
    "# Bring NMME hindcasts into right structure where features are columns and rows are model-year-init_month\n",
    "hindcasts_pivot = adjusted_hindcasts.pivot(index=[\"model\", \"year\", \"init_month\"], columns=[\"location\", \"forecasted_month\"], values=[\"tmean\", \"rain\"]).reset_index()\n",
    "hindcasts_pivot.columns = [\"{}_{}_{}\".format(c[0], c[1], c[2]) for c in hindcasts_pivot.columns]\n",
    "hindcasts_pivot.columns = [c.strip(\"_\") for c in hindcasts_pivot.columns]\n",
    "\n",
    "# Bring ERA into right structure where features are columns and rows are model-year\n",
    "era_pivot = era.pivot(index=[\"model\", \"year\", \"init_month\"], columns=[\"location\", \"forecasted_month\"], values=[\"tmean\", \"rain\"]).reset_index()\n",
    "era_pivot.columns = [\"{}_{}_{}\".format(c[0], c[1], c[2]) for c in era_pivot.columns]\n",
    "era_pivot.columns = [c.strip(\"_\") for c in era_pivot.columns]\n",
    "era_pivot = era_pivot.sort_values(by=[\"model\", \"year\", \"init_month\"])\n",
    "\n",
    "# features for month < init_months are NaNs and will be replaced with era-reanalysis data\n",
    "all_models = hindcasts_pivot.set_index(\"year\").combine_first(era_pivot.set_index(\"year\")).reset_index()\n",
    "# concat ERA with init_month = 12  \n",
    "all_models = pd.concat([all_models, era_pivot], ignore_index=True)\n",
    "all_models = all_models.drop_duplicates().reset_index(drop=True)\n",
    "all_models = all_models.loc[all_models[\"init_month\"] >= 9].sort_values(by=[\"model\", \"year\", \"init_month\"]).reset_index(drop=True)\n",
    "\n",
    "# bring columns into right order\n",
    "all_models = all_models[\n",
    "    ['model', 'year', 'init_month', 'rain_coronel dorrego_10', 'rain_coronel dorrego_11', 'rain_coronel dorrego_8', 'rain_coronel dorrego_9', 'rain_hipolito yrigoyen_10', \n",
    "     'rain_hipolito yrigoyen_11', 'rain_hipolito yrigoyen_8', 'rain_hipolito yrigoyen_9', 'tmean_coronel dorrego_10', 'tmean_coronel dorrego_11', 'tmean_coronel dorrego_8', \n",
    "     'tmean_coronel dorrego_9', 'tmean_hipolito yrigoyen_10', 'tmean_hipolito yrigoyen_11', 'tmean_hipolito yrigoyen_8', 'tmean_hipolito yrigoyen_9']\n",
    "    ]\n",
    "\n",
    "all_models.head()"
   ]
  },
  {
   "cell_type": "markdown",
   "metadata": {},
   "source": [
    "## EXPORT"
   ]
  },
  {
   "cell_type": "code",
   "execution_count": 68,
   "metadata": {},
   "outputs": [],
   "source": [
    "all_models.to_csv(\"data/features/bias_adjusted_c3s_features.csv\", index=False)"
   ]
  }
 ],
 "metadata": {
  "kernelspec": {
   "display_name": "Python 3.8.0 ('geospatial')",
   "language": "python",
   "name": "python3"
  },
  "language_info": {
   "codemirror_mode": {
    "name": "ipython",
    "version": 3
   },
   "file_extension": ".py",
   "mimetype": "text/x-python",
   "name": "python",
   "nbconvert_exporter": "python",
   "pygments_lexer": "ipython3",
   "version": "3.11.4"
  },
  "orig_nbformat": 4,
  "vscode": {
   "interpreter": {
    "hash": "3defe0cc3d3d54f02a1572862cbbf1c665fc2dba211b501647237531695c978b"
   }
  }
 },
 "nbformat": 4,
 "nbformat_minor": 2
}
