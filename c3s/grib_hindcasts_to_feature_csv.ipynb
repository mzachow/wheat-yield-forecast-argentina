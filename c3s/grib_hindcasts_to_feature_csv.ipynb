{
 "cells": [
  {
   "cell_type": "code",
   "execution_count": 41,
   "metadata": {},
   "outputs": [
    {
     "name": "stdout",
     "output_type": "stream",
     "text": [
      "The autoreload extension is already loaded. To reload it, use:\n",
      "  %reload_ext autoreload\n"
     ]
    }
   ],
   "source": [
    "import os\n",
    "import numpy as np\n",
    "import pandas as pd\n",
    "import xarray as xr\n",
    "import geopandas as gp\n",
    "\n",
    "from copy import copy\n",
    "from unidecode import unidecode\n",
    "from functools import reduce\n",
    "from datetime import date, datetime\n",
    "from dateutil.relativedelta import relativedelta\n",
    "from bias_correction import BiasCorrection, XBiasCorrection\n",
    "\n",
    "relevant_municipalities = [\"buenos aires bahia blanca\", \"buenos aires coronel pringles\", \"buenos aires hipolito yrigoyen\", \"buenos aires coronel dorrego\", \"buenos aires coronel suarez\", \"buenos aires saavedra\", \"santa fe san justo\"]\n",
    "\n",
    "%load_ext autoreload\n",
    "%autoreload 2"
   ]
  },
  {
   "cell_type": "markdown",
   "metadata": {},
   "source": [
    "### 1. Read data"
   ]
  },
  {
   "cell_type": "markdown",
   "metadata": {},
   "source": [
    "**Polygon shapes**\n",
    "\n",
    "To forecast wheat yield in Argentina, we use weather data from specific locations. In this notebook we read hindcasts from the C3S that is provided in 1° x 1° grid cells. For each location, we need to find the grid cells that are closest. "
   ]
  },
  {
   "cell_type": "code",
   "execution_count": 42,
   "metadata": {},
   "outputs": [
    {
     "data": {
      "text/plain": [
       "{'buenos aires coronel suarez': <POLYGON Z ((-61.603 -36.993 0, -61.735 -37.093 0, -61.735 -37.095 0, -61.73...>,\n",
       " 'buenos aires bahia blanca': <POLYGON Z ((-62.219 -38.435 0, -62.198 -38.452 0, -62.084 -38.363 0, -62.04...>,\n",
       " 'buenos aires coronel dorrego': <POLYGON Z ((-61.175 -38.293 0, -61.174 -38.293 0, -61.173 -38.293 0, -61.17...>,\n",
       " 'buenos aires coronel pringles': <POLYGON Z ((-61.001 -37.823 0, -60.988 -37.833 0, -60.853 -37.94 0, -60.846...>,\n",
       " 'buenos aires hipolito yrigoyen': <POLYGON Z ((-61.45 -36.052 0, -61.435 -36.039 0, -61.393 -36.072 0, -61.333...>,\n",
       " 'santa fe san justo': <POLYGON Z ((-60.667 -29.918 0, -60.611 -29.927 0, -60.599 -29.928 0, -60.58...>,\n",
       " 'buenos aires saavedra': <POLYGON Z ((-62.044 -37.753 0, -62.067 -37.833 0, -62.092 -37.913 0, -62.09...>}"
      ]
     },
     "execution_count": 42,
     "metadata": {},
     "output_type": "execute_result"
    }
   ],
   "source": [
    "# polygon shapes of the two municipalities that are relevant for the forecast model\n",
    "gdf_adm2 = gp.read_file(\"data/shapefile/arg_admbnda_adm2_unhcr2017.shp\")[[\"ADM1_ES\", \"ADM2_ES\", \"geometry\"]]\n",
    "# concatenate name of state and municipality\n",
    "gdf_adm2[\"name\"] = gdf_adm2[[\"ADM1_ES\", \"ADM2_ES\"]].apply(lambda x: unidecode(x[0].lower()) + \" \" + unidecode(x[1].lower()), axis=1)\n",
    "# filter the two relevant names\n",
    "gdf_adm2 = gdf_adm2.loc[gdf_adm2[\"name\"].isin([\"buenos aires bahia blanca\", \"buenos aires coronel pringles\", \"buenos aires hipolito yrigoyen\", \"buenos aires coronel dorrego\", \"buenos aires coronel suarez\", \"buenos aires saavedra\", \"santa fe san justo\"]), [\"name\", \"geometry\"]].reset_index(drop=True)\n",
    "# convert to dictionary for easier access\n",
    "name_to_shape = gdf_adm2.set_index(\"name\")[\"geometry\"].to_dict()\n",
    "# preview\n",
    "name_to_shape"
   ]
  },
  {
   "cell_type": "markdown",
   "metadata": {},
   "source": [
    "**ERA data**\n",
    "\n",
    "The ERA5-Land-Reanalysis [Dataset](https://cds.climate.copernicus.eu/cdsapp#!/dataset/reanalysis-era5-land-monthly-means?tab=form) is needed to bias-adjustment."
   ]
  },
  {
   "cell_type": "code",
   "execution_count": 43,
   "metadata": {},
   "outputs": [
    {
     "data": {
      "text/html": [
       "<div>\n",
       "<style scoped>\n",
       "    .dataframe tbody tr th:only-of-type {\n",
       "        vertical-align: middle;\n",
       "    }\n",
       "\n",
       "    .dataframe tbody tr th {\n",
       "        vertical-align: top;\n",
       "    }\n",
       "\n",
       "    .dataframe thead th {\n",
       "        text-align: right;\n",
       "    }\n",
       "</style>\n",
       "<table border=\"1\" class=\"dataframe\">\n",
       "  <thead>\n",
       "    <tr style=\"text-align: right;\">\n",
       "      <th></th>\n",
       "      <th>model</th>\n",
       "      <th>year</th>\n",
       "      <th>init_month</th>\n",
       "      <th>forecasted_month</th>\n",
       "      <th>rain</th>\n",
       "      <th>tmean</th>\n",
       "      <th>location</th>\n",
       "    </tr>\n",
       "  </thead>\n",
       "  <tbody>\n",
       "    <tr>\n",
       "      <th>0</th>\n",
       "      <td>ERA</td>\n",
       "      <td>1993</td>\n",
       "      <td>12</td>\n",
       "      <td>8</td>\n",
       "      <td>0.000122</td>\n",
       "      <td>10.427311</td>\n",
       "      <td>bahia blanca</td>\n",
       "    </tr>\n",
       "    <tr>\n",
       "      <th>1</th>\n",
       "      <td>ERA</td>\n",
       "      <td>1993</td>\n",
       "      <td>12</td>\n",
       "      <td>9</td>\n",
       "      <td>0.000719</td>\n",
       "      <td>12.046370</td>\n",
       "      <td>bahia blanca</td>\n",
       "    </tr>\n",
       "  </tbody>\n",
       "</table>\n",
       "</div>"
      ],
      "text/plain": [
       "  model  year  init_month  forecasted_month      rain      tmean      location\n",
       "0   ERA  1993          12                 8  0.000122  10.427311  bahia blanca\n",
       "1   ERA  1993          12                 9  0.000719  12.046370  bahia blanca"
      ]
     },
     "execution_count": 43,
     "metadata": {},
     "output_type": "execute_result"
    }
   ],
   "source": [
    "era = pd.read_csv(\"data/era_filtered_locations_v2.csv\").assign(model=\"ERA\", init_month=12)\n",
    "# the redundant part of the location \"Buenoas Aires\" can be removed\n",
    "era[\"name\"] = era[\"name\"].apply(lambda x: x.replace(\"buenos aires \", \"\"))\n",
    "era = era[[\"model\", \"year\", \"init_month\", \"month\", \"rain\", \"tmean\", \"name\"]]\n",
    "era.columns = [\"model\", \"year\", \"init_month\", \"forecasted_month\", \"rain\", \"tmean\", \"location\"]\n",
    "# preview\n",
    "era.head(2)"
   ]
  },
  {
   "cell_type": "code",
   "execution_count": 44,
   "metadata": {},
   "outputs": [],
   "source": [
    "# read hindcasts\n",
    "list_hindcasts = []\n",
    "for model in [\"ECCC\", \"ECCC_operational\"]:\n",
    "    df = xr.open_dataset(\"data/\" + model + \"/\" + model.lower() + \".grib\").to_dataframe()\n",
    "    df[\"tprate\"] = df[\"tprate\"] * 86400  # seconds per day \n",
    "    df = df.groupby([\"time\", \"step\", \"latitude\", \"longitude\", \"valid_time\"]).agg({\"t2m\":\"mean\", \"tprate\":\"mean\"}).dropna().assign(model=model).reset_index()\n",
    "    df[\"t2m\"] = df[\"t2m\"].apply(lambda x: x - 273.15)\n",
    "    list_hindcasts.append(df)\n",
    "hindcasts = pd.concat(list_hindcasts, axis=0, ignore_index=False)\n"
   ]
  },
  {
   "cell_type": "markdown",
   "metadata": {},
   "source": [
    "### 2. Basic Preprocessing"
   ]
  },
  {
   "cell_type": "code",
   "execution_count": 46,
   "metadata": {},
   "outputs": [],
   "source": [
    "# security copy\n",
    "c3s = hindcasts.copy()"
   ]
  },
  {
   "cell_type": "code",
   "execution_count": 47,
   "metadata": {},
   "outputs": [],
   "source": [
    "hindcasts = c3s.copy()"
   ]
  },
  {
   "cell_type": "code",
   "execution_count": 48,
   "metadata": {},
   "outputs": [],
   "source": [
    "hindcasts.loc[hindcasts[\"model\"] == \"ECCC_operational\", \"model\"] = \"ECCC\""
   ]
  },
  {
   "cell_type": "code",
   "execution_count": 49,
   "metadata": {},
   "outputs": [],
   "source": [
    "# convert to datetime\n",
    "hindcasts[\"time\"] = pd.to_datetime(hindcasts[\"time\"])\n",
    "hindcasts[\"valid_time\"] = pd.to_datetime(hindcasts[\"valid_time\"])"
   ]
  },
  {
   "cell_type": "code",
   "execution_count": 50,
   "metadata": {},
   "outputs": [],
   "source": [
    "# for JMA hindcasts that are initialized at the end of the month we bring them to start date as the first day of the next month\n",
    "hindcasts.loc[(hindcasts[\"time\"].dt.day.between(26, 31)) & (hindcasts[\"model\"] == \"JMA\"), \"time\"] = hindcasts.loc[(hindcasts[\"time\"].dt.day.between(26, 31)) & (hindcasts[\"model\"] == \"JMA\"), \"time\"].apply(lambda x: x.replace(day=1) + relativedelta(months=1))\n",
    "# filter init days that are not at the beginning of the month\n",
    "hindcasts = hindcasts.loc[(hindcasts[\"time\"].dt.day == 1)].reset_index(drop=True)"
   ]
  },
  {
   "cell_type": "code",
   "execution_count": 51,
   "metadata": {},
   "outputs": [],
   "source": [
    "# derive year and month\n",
    "hindcasts[\"init_month\"] = hindcasts[\"time\"].dt.month\n",
    "hindcasts[\"forecasted_month\"] = hindcasts[\"valid_time\"].dt.month - 1\n",
    "hindcasts[\"year\"] = hindcasts[\"time\"].dt.year\n",
    "hindcasts[\"forecasted_year\"] = hindcasts[\"valid_time\"].dt.year\n",
    "\n",
    "# filter\n",
    "hindcasts = hindcasts.loc[(hindcasts[\"year\"] == hindcasts[\"forecasted_year\"])\n",
    "                          & (hindcasts[\"init_month\"].between(8,11)) & (hindcasts[\"forecasted_month\"].between(8,11))].reset_index(drop=True)\n",
    "\n",
    "# rename and reorder\n",
    "hindcasts = hindcasts.rename(columns={\"latitude\":\"lat\", \"longitude\":\"lon\", \"t2m\":\"tmean\", \"tprate\":\"rain\"})\n",
    "hindcasts = hindcasts[[\"model\", \"year\", \"init_month\", \"forecasted_month\", \"rain\", \"tmean\", \"lat\", \"lon\"]]\n",
    "\n",
    "# convert to geodataframe to facilitate spatial filtering in the next section\n",
    "hindcasts = gp.GeoDataFrame(hindcasts, geometry=gp.points_from_xy(hindcasts[\"lon\"], hindcasts[\"lat\"]), crs=\"EPSG:4326\")"
   ]
  },
  {
   "cell_type": "markdown",
   "metadata": {},
   "source": [
    "### 3. Find closest location to municipalities"
   ]
  },
  {
   "cell_type": "code",
   "execution_count": 30,
   "metadata": {},
   "outputs": [
    {
     "data": {
      "text/plain": [
       "<Axes: >"
      ]
     },
     "execution_count": 30,
     "metadata": {},
     "output_type": "execute_result"
    },
    {
     "data": {
      "image/png": "[encoded data removed]",
      "text/plain": [
       "<Figure size 600x600 with 1 Axes>"
      ]
     },
     "metadata": {},
     "output_type": "display_data"
    }
   ],
   "source": [
    "base = gdf_adm2.plot(figsize=(6,6), edgecolor=\"black\", linewidth=.2)\n",
    "gp.GeoDataFrame(hindcasts[[\"geometry\", \"lat\", \"lon\"]].drop_duplicates(), geometry=\"geometry\", crs=\"EPSG:4326\").plot(ax=base,  color=\"black\")"
   ]
  },
  {
   "cell_type": "code",
   "execution_count": 31,
   "metadata": {},
   "outputs": [
    {
     "name": "stdout",
     "output_type": "stream",
     "text": [
      "['buenos aires bahia blanca', 'buenos aires coronel pringles', 'buenos aires hipolito yrigoyen', 'buenos aires coronel dorrego', 'buenos aires coronel suarez', 'buenos aires saavedra', 'santa fe san justo']\n"
     ]
    }
   ],
   "source": [
    "modelling_groups = hindcasts[\"model\"].unique()\n",
    "li = []\n",
    "print(relevant_municipalities)\n",
    "for model in modelling_groups:\n",
    "    # get current model and the lat-lon coordinates of its forecasts\n",
    "    current_model = hindcasts.loc[hindcasts[\"model\"] == model, [\"model\", \"lat\", \"lon\", \"geometry\"]].drop_duplicates()\n",
    "    # get the nearest lat-lon pair to both locations (municipalities)\n",
    "    location_1 = pd.DataFrame(current_model.iloc[current_model.sindex.nearest(name_to_shape[relevant_municipalities[0]])[1][0]]).transpose().assign(location=\"coronel suarez\").reset_index(drop=True)\n",
    "    location_2 = pd.DataFrame(current_model.iloc[current_model.sindex.nearest(name_to_shape[relevant_municipalities[1]])[1][0]]).transpose().assign(location=\"bahia blanca\").reset_index(drop=True)\n",
    "    location_3 = pd.DataFrame(current_model.iloc[current_model.sindex.nearest(name_to_shape[relevant_municipalities[2]])[1][0]]).transpose().assign(location=\"coronel dorrego\").reset_index(drop=True)\n",
    "    location_4 = pd.DataFrame(current_model.iloc[current_model.sindex.nearest(name_to_shape[relevant_municipalities[3]])[1][0]]).transpose().assign(location=\"coronel pringles\").reset_index(drop=True)\n",
    "    location_5 = pd.DataFrame(current_model.iloc[current_model.sindex.nearest(name_to_shape[relevant_municipalities[4]])[1][0]]).transpose().assign(location=\"hipolito yrigoyen\").reset_index(drop=True)\n",
    "    location_6 = pd.DataFrame(current_model.iloc[current_model.sindex.nearest(name_to_shape[relevant_municipalities[5]])[1][0]]).transpose().assign(location=\"santa fe san justo\").reset_index(drop=True)\n",
    "    location_7 = pd.DataFrame(current_model.iloc[current_model.sindex.nearest(name_to_shape[relevant_municipalities[6]])[1][0]]).transpose().assign(location=\"saavedra\").reset_index(drop=True)\n",
    "    # save in dataframe\n",
    "    locations = pd.concat([location_1, location_2, location_3, location_4, location_5, location_6, location_7], ignore_index=True)\n",
    "    # the lat-lon pairs that are selected are merged with the name of their location; all other lat-lon pairs are dropped\n",
    "    current_model = current_model.merge(locations, on=[\"model\", \"lat\", \"lon\", \"geometry\"], how=\"left\").dropna()\n",
    "    # append the locations for this model\n",
    "    li.append(current_model)\n",
    "    \n",
    "model_locations = pd.concat(li, ignore_index=True, axis=0)\n",
    "hindcasts = hindcasts.merge(model_locations, on=[\"model\", \"lat\", \"lon\", \"geometry\"]).dropna()"
   ]
  },
  {
   "cell_type": "code",
   "execution_count": 32,
   "metadata": {},
   "outputs": [
    {
     "data": {
      "text/plain": [
       "<Axes: >"
      ]
     },
     "execution_count": 32,
     "metadata": {},
     "output_type": "execute_result"
    },
    {
     "data": {
      "image/png": "[encoded data removed]",
      "text/plain": [
       "<Figure size 600x600 with 1 Axes>"
      ]
     },
     "metadata": {},
     "output_type": "display_data"
    }
   ],
   "source": [
    "base = gdf_adm2.plot(figsize=(6,6), edgecolor=\"black\", linewidth=.2)\n",
    "gp.GeoDataFrame(hindcasts[[\"geometry\", \"lat\", \"lon\"]].drop_duplicates(), geometry=\"geometry\", crs=\"EPSG:4326\").plot(ax=base,  color=\"black\")"
   ]
  },
  {
   "cell_type": "code",
   "execution_count": 40,
   "metadata": {},
   "outputs": [],
   "source": [
    "eccc = hindcasts.loc[hindcasts[\"init_month\"] == 10].reset_index(drop=True)\n",
    "eccc.to_csv(\"data/ECCC_operational/ECCC_operational.csv\", index=False)"
   ]
  },
  {
   "cell_type": "markdown",
   "metadata": {},
   "source": [
    "### 4. Bias Adjustment"
   ]
  },
  {
   "cell_type": "code",
   "execution_count": 34,
   "metadata": {},
   "outputs": [],
   "source": [
    "def adjust_bias(observed, predicted, correction_method=\"basic_quantile\"):\n",
    "    \"\"\"Apply bias-adjustment to daily temperature values of hindcasts.\n",
    "    \n",
    "    parameters:\n",
    "     - observed: observed climate data\n",
    "     - predicted: hindcast data\n",
    "     - correction_method: bias-correction method to be applied. Can be 'normal_mapping', 'basic_quantile', 'gamma_mapping', 'modified_quantile'\n",
    "    \n",
    "    returns: \n",
    "     - results: bias-adjusted hindcasts as dataframe  \n",
    "    \"\"\"\n",
    "    # GroupBy objects allow faster access to relevant subsets of climate data.\n",
    "    grouped_climate_observations = observed.groupby([\"location\", \"year\", \"forecasted_month\"])\n",
    "    grouped_climate_hindcasts = predicted.groupby([\"model\", \"init_month\", \"location\", \"year\", \"forecasted_month\"])\n",
    "    grouped_climate_hindcasts_reference = copy(grouped_climate_hindcasts)\n",
    "    li = []\n",
    "    \n",
    "    for group_idx, group_content in grouped_climate_hindcasts:\n",
    "        # Save group characteristics in intuitive variables.\n",
    "        current_model = group_content[\"model\"].unique()[0]\n",
    "        current_init_month = group_content[\"init_month\"].unique()[0]\n",
    "        current_zone = group_content[\"location\"].unique()[0]\n",
    "        current_season = group_content[\"year\"].unique()[0]\n",
    "        current_month = group_content[\"forecasted_month\"].unique()[0]\n",
    "        \n",
    "        # Create calibration set of observations and hindcasts.\n",
    "        hindcasts_used_as_reference = []\n",
    "        observations_used_as_reference = []\n",
    "        for season in list(range(1993,2017)): \n",
    "            if season != current_season:\n",
    "                observation_to_be_added = (current_zone, season, current_month) \n",
    "                observations_used_as_reference.append(grouped_climate_observations.get_group(observation_to_be_added))   \n",
    "            hindcast_to_be_added = (current_model, current_init_month, current_zone, season, current_month)\n",
    "            hindcasts_used_as_reference.append(grouped_climate_hindcasts_reference.get_group(hindcast_to_be_added))\n",
    "        hindcasts_used_as_reference = pd.concat(hindcasts_used_as_reference, axis=0, ignore_index=False)\n",
    "        observations_used_as_reference = pd.concat(observations_used_as_reference, axis=0, ignore_index=False) \n",
    "        \n",
    "        # Perform bias-adjustment for temperature variables.\n",
    "        bc_tmean = BiasCorrection(observations_used_as_reference[\"tmean\"], hindcasts_used_as_reference[\"tmean\"], group_content[\"tmean\"])\n",
    "        bc_rain = BiasCorrection(observations_used_as_reference[\"rain\"], hindcasts_used_as_reference[\"rain\"], group_content[\"rain\"])\n",
    "        group_content[\"tmean\"] = bc_tmean.correct(method=correction_method)\n",
    "        group_content[\"rain\"] = bc_rain.correct(method=correction_method)\n",
    "        \n",
    "        li.append(group_content)\n",
    "    result = pd.concat(li, axis=0, ignore_index=True)       \n",
    "    \n",
    "    return result"
   ]
  },
  {
   "cell_type": "code",
   "execution_count": 35,
   "metadata": {},
   "outputs": [
    {
     "ename": "KeyboardInterrupt",
     "evalue": "",
     "output_type": "error",
     "traceback": [
      "\u001b[1;31m---------------------------------------------------------------------------\u001b[0m",
      "\u001b[1;31mKeyboardInterrupt\u001b[0m                         Traceback (most recent call last)",
      "Cell \u001b[1;32mIn[35], line 1\u001b[0m\n\u001b[1;32m----> 1\u001b[0m adjusted_hindcasts \u001b[39m=\u001b[39m adjust_bias(era, hindcasts)\n",
      "Cell \u001b[1;32mIn[34], line 41\u001b[0m, in \u001b[0;36madjust_bias\u001b[1;34m(observed, predicted, correction_method)\u001b[0m\n\u001b[0;32m     39\u001b[0m bc_tmean \u001b[39m=\u001b[39m BiasCorrection(observations_used_as_reference[\u001b[39m\"\u001b[39m\u001b[39mtmean\u001b[39m\u001b[39m\"\u001b[39m], hindcasts_used_as_reference[\u001b[39m\"\u001b[39m\u001b[39mtmean\u001b[39m\u001b[39m\"\u001b[39m], group_content[\u001b[39m\"\u001b[39m\u001b[39mtmean\u001b[39m\u001b[39m\"\u001b[39m])\n\u001b[0;32m     40\u001b[0m bc_rain \u001b[39m=\u001b[39m BiasCorrection(observations_used_as_reference[\u001b[39m\"\u001b[39m\u001b[39mrain\u001b[39m\u001b[39m\"\u001b[39m], hindcasts_used_as_reference[\u001b[39m\"\u001b[39m\u001b[39mrain\u001b[39m\u001b[39m\"\u001b[39m], group_content[\u001b[39m\"\u001b[39m\u001b[39mrain\u001b[39m\u001b[39m\"\u001b[39m])\n\u001b[1;32m---> 41\u001b[0m group_content[\u001b[39m\"\u001b[39m\u001b[39mtmean\u001b[39m\u001b[39m\"\u001b[39m] \u001b[39m=\u001b[39m bc_tmean\u001b[39m.\u001b[39;49mcorrect(method\u001b[39m=\u001b[39;49mcorrection_method)\n\u001b[0;32m     42\u001b[0m group_content[\u001b[39m\"\u001b[39m\u001b[39mrain\u001b[39m\u001b[39m\"\u001b[39m] \u001b[39m=\u001b[39m bc_rain\u001b[39m.\u001b[39mcorrect(method\u001b[39m=\u001b[39mcorrection_method)\n\u001b[0;32m     44\u001b[0m li\u001b[39m.\u001b[39mappend(group_content)\n",
      "File \u001b[1;32mc:\\Users\\Max Zachow\\anaconda3\\envs\\global-yield-forecast\\Lib\\site-packages\\bias_correction.py:212\u001b[0m, in \u001b[0;36mBiasCorrection.correct\u001b[1;34m(self, method, lower_limit, cdf_threshold)\u001b[0m\n\u001b[0;32m    208\u001b[0m     corrected \u001b[39m=\u001b[39m normal_correction(\n\u001b[0;32m    209\u001b[0m         \u001b[39mself\u001b[39m\u001b[39m.\u001b[39mobs_data, \u001b[39mself\u001b[39m\u001b[39m.\u001b[39mmod_data, \u001b[39mself\u001b[39m\u001b[39m.\u001b[39msce_data, cdf_threshold\u001b[39m=\u001b[39mcdf_threshold\n\u001b[0;32m    210\u001b[0m     )\n\u001b[0;32m    211\u001b[0m \u001b[39melif\u001b[39;00m method \u001b[39m==\u001b[39m \u001b[39m\"\u001b[39m\u001b[39mbasic_quantile\u001b[39m\u001b[39m\"\u001b[39m:\n\u001b[1;32m--> 212\u001b[0m     corrected \u001b[39m=\u001b[39m quantile_correction(\n\u001b[0;32m    213\u001b[0m         \u001b[39mself\u001b[39;49m\u001b[39m.\u001b[39;49mobs_data, \u001b[39mself\u001b[39;49m\u001b[39m.\u001b[39;49mmod_data, \u001b[39mself\u001b[39;49m\u001b[39m.\u001b[39;49msce_data, modified\u001b[39m=\u001b[39;49m\u001b[39mFalse\u001b[39;49;00m\n\u001b[0;32m    214\u001b[0m     )\n\u001b[0;32m    216\u001b[0m \u001b[39melif\u001b[39;00m method \u001b[39m==\u001b[39m \u001b[39m\"\u001b[39m\u001b[39mmodified_quantile\u001b[39m\u001b[39m\"\u001b[39m:\n\u001b[0;32m    217\u001b[0m     corrected \u001b[39m=\u001b[39m quantile_correction(\n\u001b[0;32m    218\u001b[0m         \u001b[39mself\u001b[39m\u001b[39m.\u001b[39mobs_data, \u001b[39mself\u001b[39m\u001b[39m.\u001b[39mmod_data, \u001b[39mself\u001b[39m\u001b[39m.\u001b[39msce_data, modified\u001b[39m=\u001b[39m\u001b[39mTrue\u001b[39;00m\n\u001b[0;32m    219\u001b[0m     )\n",
      "File \u001b[1;32mc:\\Users\\Max Zachow\\anaconda3\\envs\\global-yield-forecast\\Lib\\site-packages\\bias_correction.py:51\u001b[0m, in \u001b[0;36mquantile_correction\u001b[1;34m(obs_data, mod_data, sce_data, modified)\u001b[0m\n\u001b[0;32m     49\u001b[0m cdf \u001b[39m=\u001b[39m ECDF(mod_data)\n\u001b[0;32m     50\u001b[0m p \u001b[39m=\u001b[39m cdf(sce_data) \u001b[39m*\u001b[39m \u001b[39m100\u001b[39m\n\u001b[1;32m---> 51\u001b[0m cor \u001b[39m=\u001b[39m np\u001b[39m.\u001b[39msubtract(\u001b[39m*\u001b[39m[np\u001b[39m.\u001b[39;49mnanpercentile(x, p) \u001b[39mfor\u001b[39;49;00m x \u001b[39min\u001b[39;49;00m [obs_data, mod_data]])\n\u001b[0;32m     52\u001b[0m \u001b[39mif\u001b[39;00m modified:\n\u001b[0;32m     53\u001b[0m     mid \u001b[39m=\u001b[39m np\u001b[39m.\u001b[39msubtract(\u001b[39m*\u001b[39m[np\u001b[39m.\u001b[39mnanpercentile(x, \u001b[39m50\u001b[39m) \u001b[39mfor\u001b[39;00m x \u001b[39min\u001b[39;00m [obs_data, mod_data]])\n",
      "File \u001b[1;32mc:\\Users\\Max Zachow\\anaconda3\\envs\\global-yield-forecast\\Lib\\site-packages\\bias_correction.py:51\u001b[0m, in \u001b[0;36m<listcomp>\u001b[1;34m(.0)\u001b[0m\n\u001b[0;32m     49\u001b[0m cdf \u001b[39m=\u001b[39m ECDF(mod_data)\n\u001b[0;32m     50\u001b[0m p \u001b[39m=\u001b[39m cdf(sce_data) \u001b[39m*\u001b[39m \u001b[39m100\u001b[39m\n\u001b[1;32m---> 51\u001b[0m cor \u001b[39m=\u001b[39m np\u001b[39m.\u001b[39msubtract(\u001b[39m*\u001b[39m[np\u001b[39m.\u001b[39;49mnanpercentile(x, p) \u001b[39mfor\u001b[39;00m x \u001b[39min\u001b[39;00m [obs_data, mod_data]])\n\u001b[0;32m     52\u001b[0m \u001b[39mif\u001b[39;00m modified:\n\u001b[0;32m     53\u001b[0m     mid \u001b[39m=\u001b[39m np\u001b[39m.\u001b[39msubtract(\u001b[39m*\u001b[39m[np\u001b[39m.\u001b[39mnanpercentile(x, \u001b[39m50\u001b[39m) \u001b[39mfor\u001b[39;00m x \u001b[39min\u001b[39;00m [obs_data, mod_data]])\n",
      "File \u001b[1;32mc:\\Users\\Max Zachow\\anaconda3\\envs\\global-yield-forecast\\Lib\\site-packages\\numpy\\lib\\nanfunctions.py:1384\u001b[0m, in \u001b[0;36mnanpercentile\u001b[1;34m(a, q, axis, out, overwrite_input, method, keepdims, interpolation)\u001b[0m\n\u001b[0;32m   1382\u001b[0m \u001b[39mif\u001b[39;00m \u001b[39mnot\u001b[39;00m function_base\u001b[39m.\u001b[39m_quantile_is_valid(q):\n\u001b[0;32m   1383\u001b[0m     \u001b[39mraise\u001b[39;00m \u001b[39mValueError\u001b[39;00m(\u001b[39m\"\u001b[39m\u001b[39mPercentiles must be in the range [0, 100]\u001b[39m\u001b[39m\"\u001b[39m)\n\u001b[1;32m-> 1384\u001b[0m \u001b[39mreturn\u001b[39;00m _nanquantile_unchecked(\n\u001b[0;32m   1385\u001b[0m     a, q, axis, out, overwrite_input, method, keepdims)\n",
      "File \u001b[1;32mc:\\Users\\Max Zachow\\anaconda3\\envs\\global-yield-forecast\\Lib\\site-packages\\numpy\\lib\\nanfunctions.py:1563\u001b[0m, in \u001b[0;36m_nanquantile_unchecked\u001b[1;34m(a, q, axis, out, overwrite_input, method, keepdims)\u001b[0m\n\u001b[0;32m   1561\u001b[0m \u001b[39mif\u001b[39;00m a\u001b[39m.\u001b[39msize \u001b[39m==\u001b[39m \u001b[39m0\u001b[39m:\n\u001b[0;32m   1562\u001b[0m     \u001b[39mreturn\u001b[39;00m np\u001b[39m.\u001b[39mnanmean(a, axis, out\u001b[39m=\u001b[39mout, keepdims\u001b[39m=\u001b[39mkeepdims)\n\u001b[1;32m-> 1563\u001b[0m \u001b[39mreturn\u001b[39;00m function_base\u001b[39m.\u001b[39;49m_ureduce(a,\n\u001b[0;32m   1564\u001b[0m                               func\u001b[39m=\u001b[39;49m_nanquantile_ureduce_func,\n\u001b[0;32m   1565\u001b[0m                               q\u001b[39m=\u001b[39;49mq,\n\u001b[0;32m   1566\u001b[0m                               keepdims\u001b[39m=\u001b[39;49mkeepdims,\n\u001b[0;32m   1567\u001b[0m                               axis\u001b[39m=\u001b[39;49maxis,\n\u001b[0;32m   1568\u001b[0m                               out\u001b[39m=\u001b[39;49mout,\n\u001b[0;32m   1569\u001b[0m                               overwrite_input\u001b[39m=\u001b[39;49moverwrite_input,\n\u001b[0;32m   1570\u001b[0m                               method\u001b[39m=\u001b[39;49mmethod)\n",
      "File \u001b[1;32mc:\\Users\\Max Zachow\\anaconda3\\envs\\global-yield-forecast\\Lib\\site-packages\\numpy\\lib\\function_base.py:3823\u001b[0m, in \u001b[0;36m_ureduce\u001b[1;34m(a, func, keepdims, **kwargs)\u001b[0m\n\u001b[0;32m   3820\u001b[0m             index_out \u001b[39m=\u001b[39m (\u001b[39m0\u001b[39m, ) \u001b[39m*\u001b[39m nd\n\u001b[0;32m   3821\u001b[0m             kwargs[\u001b[39m'\u001b[39m\u001b[39mout\u001b[39m\u001b[39m'\u001b[39m] \u001b[39m=\u001b[39m out[(\u001b[39mEllipsis\u001b[39m, ) \u001b[39m+\u001b[39m index_out]\n\u001b[1;32m-> 3823\u001b[0m r \u001b[39m=\u001b[39m func(a, \u001b[39m*\u001b[39;49m\u001b[39m*\u001b[39;49mkwargs)\n\u001b[0;32m   3825\u001b[0m \u001b[39mif\u001b[39;00m out \u001b[39mis\u001b[39;00m \u001b[39mnot\u001b[39;00m \u001b[39mNone\u001b[39;00m:\n\u001b[0;32m   3826\u001b[0m     \u001b[39mreturn\u001b[39;00m out\n",
      "File \u001b[1;32mc:\\Users\\Max Zachow\\anaconda3\\envs\\global-yield-forecast\\Lib\\site-packages\\numpy\\lib\\nanfunctions.py:1582\u001b[0m, in \u001b[0;36m_nanquantile_ureduce_func\u001b[1;34m(a, q, axis, out, overwrite_input, method)\u001b[0m\n\u001b[0;32m   1580\u001b[0m \u001b[39mif\u001b[39;00m axis \u001b[39mis\u001b[39;00m \u001b[39mNone\u001b[39;00m \u001b[39mor\u001b[39;00m a\u001b[39m.\u001b[39mndim \u001b[39m==\u001b[39m \u001b[39m1\u001b[39m:\n\u001b[0;32m   1581\u001b[0m     part \u001b[39m=\u001b[39m a\u001b[39m.\u001b[39mravel()\n\u001b[1;32m-> 1582\u001b[0m     result \u001b[39m=\u001b[39m _nanquantile_1d(part, q, overwrite_input, method)\n\u001b[0;32m   1583\u001b[0m \u001b[39melse\u001b[39;00m:\n\u001b[0;32m   1584\u001b[0m     result \u001b[39m=\u001b[39m np\u001b[39m.\u001b[39mapply_along_axis(_nanquantile_1d, axis, a, q,\n\u001b[0;32m   1585\u001b[0m                                  overwrite_input, method)\n",
      "File \u001b[1;32mc:\\Users\\Max Zachow\\anaconda3\\envs\\global-yield-forecast\\Lib\\site-packages\\numpy\\lib\\nanfunctions.py:1608\u001b[0m, in \u001b[0;36m_nanquantile_1d\u001b[1;34m(arr1d, q, overwrite_input, method)\u001b[0m\n\u001b[0;32m   1604\u001b[0m \u001b[39mif\u001b[39;00m arr1d\u001b[39m.\u001b[39msize \u001b[39m==\u001b[39m \u001b[39m0\u001b[39m:\n\u001b[0;32m   1605\u001b[0m     \u001b[39m# convert to scalar\u001b[39;00m\n\u001b[0;32m   1606\u001b[0m     \u001b[39mreturn\u001b[39;00m np\u001b[39m.\u001b[39mfull(q\u001b[39m.\u001b[39mshape, np\u001b[39m.\u001b[39mnan, dtype\u001b[39m=\u001b[39marr1d\u001b[39m.\u001b[39mdtype)[()]\n\u001b[1;32m-> 1608\u001b[0m \u001b[39mreturn\u001b[39;00m function_base\u001b[39m.\u001b[39;49m_quantile_unchecked(\n\u001b[0;32m   1609\u001b[0m     arr1d, q, overwrite_input\u001b[39m=\u001b[39;49moverwrite_input, method\u001b[39m=\u001b[39;49mmethod)\n",
      "File \u001b[1;32mc:\\Users\\Max Zachow\\anaconda3\\envs\\global-yield-forecast\\Lib\\site-packages\\numpy\\lib\\function_base.py:4555\u001b[0m, in \u001b[0;36m_quantile_unchecked\u001b[1;34m(a, q, axis, out, overwrite_input, method, keepdims)\u001b[0m\n\u001b[0;32m   4547\u001b[0m \u001b[39mdef\u001b[39;00m \u001b[39m_quantile_unchecked\u001b[39m(a,\n\u001b[0;32m   4548\u001b[0m                         q,\n\u001b[0;32m   4549\u001b[0m                         axis\u001b[39m=\u001b[39m\u001b[39mNone\u001b[39;00m,\n\u001b[1;32m   (...)\u001b[0m\n\u001b[0;32m   4552\u001b[0m                         method\u001b[39m=\u001b[39m\u001b[39m\"\u001b[39m\u001b[39mlinear\u001b[39m\u001b[39m\"\u001b[39m,\n\u001b[0;32m   4553\u001b[0m                         keepdims\u001b[39m=\u001b[39m\u001b[39mFalse\u001b[39;00m):\n\u001b[0;32m   4554\u001b[0m \u001b[39m    \u001b[39m\u001b[39m\"\"\"Assumes that q is in [0, 1], and is an ndarray\"\"\"\u001b[39;00m\n\u001b[1;32m-> 4555\u001b[0m     \u001b[39mreturn\u001b[39;00m _ureduce(a,\n\u001b[0;32m   4556\u001b[0m                     func\u001b[39m=\u001b[39;49m_quantile_ureduce_func,\n\u001b[0;32m   4557\u001b[0m                     q\u001b[39m=\u001b[39;49mq,\n\u001b[0;32m   4558\u001b[0m                     keepdims\u001b[39m=\u001b[39;49mkeepdims,\n\u001b[0;32m   4559\u001b[0m                     axis\u001b[39m=\u001b[39;49maxis,\n\u001b[0;32m   4560\u001b[0m                     out\u001b[39m=\u001b[39;49mout,\n\u001b[0;32m   4561\u001b[0m                     overwrite_input\u001b[39m=\u001b[39;49moverwrite_input,\n\u001b[0;32m   4562\u001b[0m                     method\u001b[39m=\u001b[39;49mmethod)\n",
      "File \u001b[1;32mc:\\Users\\Max Zachow\\anaconda3\\envs\\global-yield-forecast\\Lib\\site-packages\\numpy\\lib\\function_base.py:3823\u001b[0m, in \u001b[0;36m_ureduce\u001b[1;34m(a, func, keepdims, **kwargs)\u001b[0m\n\u001b[0;32m   3820\u001b[0m             index_out \u001b[39m=\u001b[39m (\u001b[39m0\u001b[39m, ) \u001b[39m*\u001b[39m nd\n\u001b[0;32m   3821\u001b[0m             kwargs[\u001b[39m'\u001b[39m\u001b[39mout\u001b[39m\u001b[39m'\u001b[39m] \u001b[39m=\u001b[39m out[(\u001b[39mEllipsis\u001b[39m, ) \u001b[39m+\u001b[39m index_out]\n\u001b[1;32m-> 3823\u001b[0m r \u001b[39m=\u001b[39m func(a, \u001b[39m*\u001b[39;49m\u001b[39m*\u001b[39;49mkwargs)\n\u001b[0;32m   3825\u001b[0m \u001b[39mif\u001b[39;00m out \u001b[39mis\u001b[39;00m \u001b[39mnot\u001b[39;00m \u001b[39mNone\u001b[39;00m:\n\u001b[0;32m   3826\u001b[0m     \u001b[39mreturn\u001b[39;00m out\n",
      "File \u001b[1;32mc:\\Users\\Max Zachow\\anaconda3\\envs\\global-yield-forecast\\Lib\\site-packages\\numpy\\lib\\function_base.py:4721\u001b[0m, in \u001b[0;36m_quantile_ureduce_func\u001b[1;34m(a, q, axis, out, overwrite_input, method)\u001b[0m\n\u001b[0;32m   4719\u001b[0m     \u001b[39melse\u001b[39;00m:\n\u001b[0;32m   4720\u001b[0m         arr \u001b[39m=\u001b[39m a\u001b[39m.\u001b[39mcopy()\n\u001b[1;32m-> 4721\u001b[0m result \u001b[39m=\u001b[39m _quantile(arr,\n\u001b[0;32m   4722\u001b[0m                    quantiles\u001b[39m=\u001b[39;49mq,\n\u001b[0;32m   4723\u001b[0m                    axis\u001b[39m=\u001b[39;49maxis,\n\u001b[0;32m   4724\u001b[0m                    method\u001b[39m=\u001b[39;49mmethod,\n\u001b[0;32m   4725\u001b[0m                    out\u001b[39m=\u001b[39;49mout)\n\u001b[0;32m   4726\u001b[0m \u001b[39mreturn\u001b[39;00m result\n",
      "File \u001b[1;32mc:\\Users\\Max Zachow\\anaconda3\\envs\\global-yield-forecast\\Lib\\site-packages\\numpy\\lib\\function_base.py:4824\u001b[0m, in \u001b[0;36m_quantile\u001b[1;34m(arr, quantiles, axis, method, out)\u001b[0m\n\u001b[0;32m   4819\u001b[0m previous_indexes, next_indexes \u001b[39m=\u001b[39m _get_indexes(arr,\n\u001b[0;32m   4820\u001b[0m                                               virtual_indexes,\n\u001b[0;32m   4821\u001b[0m                                               values_count)\n\u001b[0;32m   4822\u001b[0m \u001b[39m# --- Sorting\u001b[39;00m\n\u001b[0;32m   4823\u001b[0m arr\u001b[39m.\u001b[39mpartition(\n\u001b[1;32m-> 4824\u001b[0m     np\u001b[39m.\u001b[39;49munique(np\u001b[39m.\u001b[39;49mconcatenate(([\u001b[39m0\u001b[39;49m, \u001b[39m-\u001b[39;49m\u001b[39m1\u001b[39;49m],\n\u001b[0;32m   4825\u001b[0m                               previous_indexes\u001b[39m.\u001b[39;49mravel(),\n\u001b[0;32m   4826\u001b[0m                               next_indexes\u001b[39m.\u001b[39;49mravel(),\n\u001b[0;32m   4827\u001b[0m                               ))),\n\u001b[0;32m   4828\u001b[0m     axis\u001b[39m=\u001b[39m\u001b[39m0\u001b[39m)\n\u001b[0;32m   4829\u001b[0m \u001b[39mif\u001b[39;00m supports_nans:\n\u001b[0;32m   4830\u001b[0m     slices_having_nans \u001b[39m=\u001b[39m np\u001b[39m.\u001b[39misnan(arr[\u001b[39m-\u001b[39m\u001b[39m1\u001b[39m, \u001b[39m.\u001b[39m\u001b[39m.\u001b[39m\u001b[39m.\u001b[39m])\n",
      "File \u001b[1;32mc:\\Users\\Max Zachow\\anaconda3\\envs\\global-yield-forecast\\Lib\\site-packages\\numpy\\lib\\arraysetops.py:274\u001b[0m, in \u001b[0;36munique\u001b[1;34m(ar, return_index, return_inverse, return_counts, axis, equal_nan)\u001b[0m\n\u001b[0;32m    272\u001b[0m ar \u001b[39m=\u001b[39m np\u001b[39m.\u001b[39masanyarray(ar)\n\u001b[0;32m    273\u001b[0m \u001b[39mif\u001b[39;00m axis \u001b[39mis\u001b[39;00m \u001b[39mNone\u001b[39;00m:\n\u001b[1;32m--> 274\u001b[0m     ret \u001b[39m=\u001b[39m _unique1d(ar, return_index, return_inverse, return_counts, \n\u001b[0;32m    275\u001b[0m                     equal_nan\u001b[39m=\u001b[39;49mequal_nan)\n\u001b[0;32m    276\u001b[0m     \u001b[39mreturn\u001b[39;00m _unpack_tuple(ret)\n\u001b[0;32m    278\u001b[0m \u001b[39m# axis was specified and not None\u001b[39;00m\n",
      "File \u001b[1;32mc:\\Users\\Max Zachow\\anaconda3\\envs\\global-yield-forecast\\Lib\\site-packages\\numpy\\lib\\arraysetops.py:336\u001b[0m, in \u001b[0;36m_unique1d\u001b[1;34m(ar, return_index, return_inverse, return_counts, equal_nan)\u001b[0m\n\u001b[0;32m    334\u001b[0m     aux \u001b[39m=\u001b[39m ar[perm]\n\u001b[0;32m    335\u001b[0m \u001b[39melse\u001b[39;00m:\n\u001b[1;32m--> 336\u001b[0m     ar\u001b[39m.\u001b[39msort()\n\u001b[0;32m    337\u001b[0m     aux \u001b[39m=\u001b[39m ar\n\u001b[0;32m    338\u001b[0m mask \u001b[39m=\u001b[39m np\u001b[39m.\u001b[39mempty(aux\u001b[39m.\u001b[39mshape, dtype\u001b[39m=\u001b[39mnp\u001b[39m.\u001b[39mbool_)\n",
      "\u001b[1;31mKeyboardInterrupt\u001b[0m: "
     ]
    }
   ],
   "source": [
    "adjusted_hindcasts = adjust_bias(era, hindcasts)"
   ]
  },
  {
   "cell_type": "markdown",
   "metadata": {},
   "source": [
    "### 5. Feature structure"
   ]
  },
  {
   "cell_type": "code",
   "execution_count": 29,
   "metadata": {},
   "outputs": [],
   "source": [
    "# Bring NMME hindcasts into right structure where features are columns and rows are model-year-init_month\n",
    "hindcasts_pivot = adjusted_hindcasts.pivot(index=[\"model\", \"year\", \"init_month\"], columns=[\"location\", \"forecasted_month\"], values=[\"tmean\", \"rain\"]).reset_index()\n",
    "hindcasts_pivot.columns = [\"{}_{}_{}\".format(c[0], c[1], c[2]) for c in hindcasts_pivot.columns]\n",
    "hindcasts_pivot.columns = [c.strip(\"_\") for c in hindcasts_pivot.columns]\n",
    "\n",
    "# Bring ERA into right structure where features are columns and rows are model-year\n",
    "era_pivot = era.pivot(index=[\"model\", \"year\", \"init_month\"], columns=[\"location\", \"forecasted_month\"], values=[\"tmean\", \"rain\"]).reset_index()\n",
    "era_pivot.columns = [\"{}_{}_{}\".format(c[0], c[1], c[2]) for c in era_pivot.columns]\n",
    "era_pivot.columns = [c.strip(\"_\") for c in era_pivot.columns]\n",
    "era_pivot = era_pivot.sort_values(by=[\"model\", \"year\", \"init_month\"])\n",
    "\n",
    "# features for month < init_months are NaNs and will be replaced with era-reanalysis data\n",
    "all_models = hindcasts_pivot.set_index(\"year\").combine_first(era_pivot.set_index(\"year\")).reset_index()\n",
    "# concat ERA with init_month = 12  \n",
    "all_models = pd.concat([all_models, era_pivot], ignore_index=True)\n",
    "all_models = all_models.drop_duplicates().reset_index(drop=True)\n",
    "all_models = all_models.loc[all_models[\"init_month\"] >= 9].sort_values(by=[\"model\", \"year\", \"init_month\"]).reset_index(drop=True)\n",
    "\n"
   ]
  },
  {
   "cell_type": "code",
   "execution_count": 33,
   "metadata": {},
   "outputs": [],
   "source": [
    "# bring columns into right order\n",
    "all_models = all_models.set_index(['model', 'year', 'init_month']).reset_index()"
   ]
  },
  {
   "cell_type": "markdown",
   "metadata": {},
   "source": [
    "## EXPORT"
   ]
  },
  {
   "cell_type": "code",
   "execution_count": 34,
   "metadata": {},
   "outputs": [],
   "source": [
    "all_models.to_csv(\"data/features/bias_adjusted_c3s_features_v2.csv\", index=False)"
   ]
  }
 ],
 "metadata": {
  "kernelspec": {
   "display_name": "Python 3.8.0 ('geospatial')",
   "language": "python",
   "name": "python3"
  },
  "language_info": {
   "codemirror_mode": {
    "name": "ipython",
    "version": 3
   },
   "file_extension": ".py",
   "mimetype": "text/x-python",
   "name": "python",
   "nbconvert_exporter": "python",
   "pygments_lexer": "ipython3",
   "version": "3.11.4"
  },
  "orig_nbformat": 4,
  "vscode": {
   "interpreter": {
    "hash": "3defe0cc3d3d54f02a1572862cbbf1c665fc2dba211b501647237531695c978b"
   }
  }
 },
 "nbformat": 4,
 "nbformat_minor": 2
}
