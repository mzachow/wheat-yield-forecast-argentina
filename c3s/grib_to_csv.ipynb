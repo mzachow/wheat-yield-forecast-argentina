{
 "cells": [
  {
   "cell_type": "code",
   "execution_count": 1,
   "metadata": {},
   "outputs": [],
   "source": [
    "import pandas as pd\n",
    "import xarray as xr\n",
    "from dateutil.relativedelta import relativedelta\n",
    "\n",
    "%load_ext autoreload\n",
    "%autoreload 2"
   ]
  },
  {
   "cell_type": "markdown",
   "metadata": {},
   "source": [
    "### 1. Read data"
   ]
  },
  {
   "cell_type": "code",
   "execution_count": 10,
   "metadata": {},
   "outputs": [],
   "source": [
    "# read hindcasts\n",
    "list_hindcasts = []\n",
    "for model in [\"CMCC\", \"DWD\", \"ECMWF\", \"JMA\", \"METFR\", \"UKMO\", \"ECCC\", \"ECCC_operational\"]:\n",
    "    df = xr.open_dataset(\"data/\" + model + \"/\" + model.lower() + \".grib\").to_dataframe()\n",
    "    df = df.groupby([\"time\", \"step\", \"latitude\", \"longitude\", \"valid_time\"]).agg({\"t2m\":\"mean\", \"tprate\":\"mean\"}).dropna().assign(model=model).reset_index()\n",
    "    list_hindcasts.append(df)\n",
    "hindcasts = pd.concat(list_hindcasts, axis=0, ignore_index=False)"
   ]
  },
  {
   "cell_type": "markdown",
   "metadata": {},
   "source": [
    "### 2. Basic Preprocessing"
   ]
  },
  {
   "cell_type": "code",
   "execution_count": 11,
   "metadata": {},
   "outputs": [],
   "source": [
    "hindcasts_copy = hindcasts.copy()"
   ]
  },
  {
   "cell_type": "code",
   "execution_count": 12,
   "metadata": {},
   "outputs": [],
   "source": [
    "# Uniform names for ECCC forecasts\n",
    "hindcasts.loc[hindcasts[\"model\"] == \"ECCC_operational\", \"model\"] = \"ECCC\"\n",
    "# Seconds per day\n",
    "hindcasts[\"tprate\"] = hindcasts[\"tprate\"] * 86400  \n",
    "# Kelvin to Celsius\n",
    "hindcasts[\"t2m\"] = hindcasts[\"t2m\"].apply(lambda x: x - 273.15)\n",
    "# Convert to datetime object\n",
    "hindcasts[\"time\"] = pd.to_datetime(hindcasts[\"time\"])\n",
    "hindcasts[\"valid_time\"] = pd.to_datetime(hindcasts[\"valid_time\"])\n",
    "# For JMA hindcasts that are initialized at the end of the month we bring them to start date as the first day of the next month\n",
    "hindcasts.loc[(hindcasts[\"time\"].dt.day.between(26, 31)) & (hindcasts[\"model\"] == \"JMA\"), \"time\"] = hindcasts.loc[(hindcasts[\"time\"].dt.day.between(26, 31)) & (hindcasts[\"model\"] == \"JMA\"), \"time\"].apply(lambda x: x.replace(day=1) + relativedelta(months=1))\n",
    "# Filter init days that are not at the beginning of the month\n",
    "hindcasts = hindcasts.loc[(hindcasts[\"time\"].dt.day == 1)].reset_index(drop=True)\n",
    "# Derive year and month\n",
    "hindcasts[\"init_month\"] = hindcasts[\"time\"].dt.month\n",
    "hindcasts[\"forecasted_month\"] = hindcasts[\"valid_time\"].dt.month - 1\n",
    "hindcasts[\"year\"] = hindcasts[\"time\"].dt.year\n",
    "hindcasts[\"forecasted_year\"] = hindcasts[\"valid_time\"].dt.year\n",
    "# Filter\n",
    "hindcasts = hindcasts.loc[(hindcasts[\"year\"] == hindcasts[\"forecasted_year\"])\n",
    "                          & (hindcasts[\"init_month\"].between(6,11)) & (hindcasts[\"forecasted_month\"].between(9,11))].reset_index(drop=True)\n",
    "# Rename and reorder\n",
    "hindcasts = hindcasts.rename(columns={\"latitude\":\"lat\", \"longitude\":\"lon\", \"t2m\":\"tmean\", \"tprate\":\"rain\"})\n",
    "hindcasts = hindcasts[[\"model\", \"year\", \"init_month\", \"forecasted_month\", \"rain\", \"tmean\", \"lat\", \"lon\"]]"
   ]
  },
  {
   "cell_type": "code",
   "execution_count": 13,
   "metadata": {},
   "outputs": [
    {
     "data": {
      "text/plain": [
       "(565245, 8)"
      ]
     },
     "execution_count": 13,
     "metadata": {},
     "output_type": "execute_result"
    }
   ],
   "source": [
    "hindcasts.shape"
   ]
  },
  {
   "cell_type": "code",
   "execution_count": 17,
   "metadata": {},
   "outputs": [
    {
     "data": {
      "text/plain": [
       "model  init_month\n",
       "CMCC   6             {9, 10, 11}\n",
       "       7             {9, 10, 11}\n",
       "       8             {9, 10, 11}\n",
       "       9             {9, 10, 11}\n",
       "       10               {10, 11}\n",
       "       11                   {11}\n",
       "DWD    6             {9, 10, 11}\n",
       "       7             {9, 10, 11}\n",
       "       8             {9, 10, 11}\n",
       "       9             {9, 10, 11}\n",
       "       10               {10, 11}\n",
       "       11                   {11}\n",
       "ECCC   6             {9, 10, 11}\n",
       "       7             {9, 10, 11}\n",
       "       8             {9, 10, 11}\n",
       "       9             {9, 10, 11}\n",
       "       10               {10, 11}\n",
       "       11                   {11}\n",
       "ECMWF  6             {9, 10, 11}\n",
       "       7             {9, 10, 11}\n",
       "       8             {9, 10, 11}\n",
       "       9             {9, 10, 11}\n",
       "       10               {10, 11}\n",
       "       11                   {11}\n",
       "JMA    6             {9, 10, 11}\n",
       "       7             {9, 10, 11}\n",
       "       8             {9, 10, 11}\n",
       "       9             {9, 10, 11}\n",
       "       10               {10, 11}\n",
       "       11                   {11}\n",
       "METFR  6             {9, 10, 11}\n",
       "       7             {9, 10, 11}\n",
       "       8             {9, 10, 11}\n",
       "       9             {9, 10, 11}\n",
       "       10               {10, 11}\n",
       "       11                   {11}\n",
       "UKMO   6             {9, 10, 11}\n",
       "       7             {9, 10, 11}\n",
       "       8             {9, 10, 11}\n",
       "       9             {9, 10, 11}\n",
       "       10               {10, 11}\n",
       "       11                   {11}\n",
       "Name: forecasted_month, dtype: object"
      ]
     },
     "execution_count": 17,
     "metadata": {},
     "output_type": "execute_result"
    }
   ],
   "source": [
    "hindcasts.groupby([\"model\", \"init_month\"])[\"forecasted_month\"].apply(set)"
   ]
  },
  {
   "cell_type": "code",
   "execution_count": 18,
   "metadata": {},
   "outputs": [
    {
     "data": {
      "text/html": [
       "<div>\n",
       "<style scoped>\n",
       "    .dataframe tbody tr th:only-of-type {\n",
       "        vertical-align: middle;\n",
       "    }\n",
       "\n",
       "    .dataframe tbody tr th {\n",
       "        vertical-align: top;\n",
       "    }\n",
       "\n",
       "    .dataframe thead th {\n",
       "        text-align: right;\n",
       "    }\n",
       "</style>\n",
       "<table border=\"1\" class=\"dataframe\">\n",
       "  <thead>\n",
       "    <tr style=\"text-align: right;\">\n",
       "      <th></th>\n",
       "      <th>model</th>\n",
       "      <th>year</th>\n",
       "      <th>init_month</th>\n",
       "      <th>forecasted_month</th>\n",
       "      <th>rain</th>\n",
       "      <th>tmean</th>\n",
       "      <th>lat</th>\n",
       "      <th>lon</th>\n",
       "    </tr>\n",
       "  </thead>\n",
       "  <tbody>\n",
       "    <tr>\n",
       "      <th>275560</th>\n",
       "      <td>JMA</td>\n",
       "      <td>2003</td>\n",
       "      <td>10</td>\n",
       "      <td>11</td>\n",
       "      <td>0.000429</td>\n",
       "      <td>16.215387</td>\n",
       "      <td>-39.5</td>\n",
       "      <td>-69.0</td>\n",
       "    </tr>\n",
       "    <tr>\n",
       "      <th>52585</th>\n",
       "      <td>CMCC</td>\n",
       "      <td>2007</td>\n",
       "      <td>11</td>\n",
       "      <td>11</td>\n",
       "      <td>0.000486</td>\n",
       "      <td>13.835321</td>\n",
       "      <td>-29.0</td>\n",
       "      <td>-69.0</td>\n",
       "    </tr>\n",
       "    <tr>\n",
       "      <th>333343</th>\n",
       "      <td>METFR</td>\n",
       "      <td>2001</td>\n",
       "      <td>9</td>\n",
       "      <td>9</td>\n",
       "      <td>0.002190</td>\n",
       "      <td>9.544641</td>\n",
       "      <td>-40.0</td>\n",
       "      <td>-58.0</td>\n",
       "    </tr>\n",
       "    <tr>\n",
       "      <th>110196</th>\n",
       "      <td>DWD</td>\n",
       "      <td>2000</td>\n",
       "      <td>7</td>\n",
       "      <td>11</td>\n",
       "      <td>0.004868</td>\n",
       "      <td>23.161401</td>\n",
       "      <td>-26.0</td>\n",
       "      <td>-61.0</td>\n",
       "    </tr>\n",
       "    <tr>\n",
       "      <th>206422</th>\n",
       "      <td>ECMWF</td>\n",
       "      <td>2003</td>\n",
       "      <td>10</td>\n",
       "      <td>10</td>\n",
       "      <td>0.001456</td>\n",
       "      <td>12.639337</td>\n",
       "      <td>-40.0</td>\n",
       "      <td>-61.0</td>\n",
       "    </tr>\n",
       "  </tbody>\n",
       "</table>\n",
       "</div>"
      ],
      "text/plain": [
       "        model  year  init_month  forecasted_month      rain      tmean   lat  \\\n",
       "275560    JMA  2003          10                11  0.000429  16.215387 -39.5   \n",
       "52585    CMCC  2007          11                11  0.000486  13.835321 -29.0   \n",
       "333343  METFR  2001           9                 9  0.002190   9.544641 -40.0   \n",
       "110196    DWD  2000           7                11  0.004868  23.161401 -26.0   \n",
       "206422  ECMWF  2003          10                10  0.001456  12.639337 -40.0   \n",
       "\n",
       "         lon  \n",
       "275560 -69.0  \n",
       "52585  -69.0  \n",
       "333343 -58.0  \n",
       "110196 -61.0  \n",
       "206422 -61.0  "
      ]
     },
     "execution_count": 18,
     "metadata": {},
     "output_type": "execute_result"
    }
   ],
   "source": [
    "hindcasts.sample(5)"
   ]
  },
  {
   "cell_type": "markdown",
   "metadata": {},
   "source": [
    "## EXPORT"
   ]
  },
  {
   "cell_type": "code",
   "execution_count": 19,
   "metadata": {},
   "outputs": [],
   "source": [
    "hindcasts.to_csv(\"data/c3s_hindcasts.csv\", index=False)"
   ]
  }
 ],
 "metadata": {
  "kernelspec": {
   "display_name": "Python 3.8.0 ('geospatial')",
   "language": "python",
   "name": "python3"
  },
  "language_info": {
   "codemirror_mode": {
    "name": "ipython",
    "version": 3
   },
   "file_extension": ".py",
   "mimetype": "text/x-python",
   "name": "python",
   "nbconvert_exporter": "python",
   "pygments_lexer": "ipython3",
   "version": "3.11.4"
  },
  "orig_nbformat": 4,
  "vscode": {
   "interpreter": {
    "hash": "3defe0cc3d3d54f02a1572862cbbf1c665fc2dba211b501647237531695c978b"
   }
  }
 },
 "nbformat": 4,
 "nbformat_minor": 2
}
