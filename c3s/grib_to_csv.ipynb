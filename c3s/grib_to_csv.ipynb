{
 "cells": [
  {
   "cell_type": "code",
   "execution_count": 2,
   "metadata": {},
   "outputs": [],
   "source": [
    "import pandas as pd\n",
    "import xarray as xr\n",
    "from dateutil.relativedelta import relativedelta\n",
    "\n",
    "%load_ext autoreload\n",
    "%autoreload 2"
   ]
  },
  {
   "cell_type": "markdown",
   "metadata": {},
   "source": [
    "### 1. Read data"
   ]
  },
  {
   "cell_type": "code",
   "execution_count": 20,
   "metadata": {},
   "outputs": [],
   "source": [
    "# read hindcasts\n",
    "list_hindcasts = []\n",
    "for model in [\"CMCC\", \"DWD\", \"ECMWF\", \"JMA\", \"METFR\", \"UKMO\", \"ECCC\", \"ECCC_operational\"]:\n",
    "    df = xr.open_dataset(\"data/\" + model + \"/\" + model.lower() + \".grib\").to_dataframe()\n",
    "    df = df.groupby([\"time\", \"step\", \"latitude\", \"longitude\", \"valid_time\"]).agg({\"t2m\":\"mean\", \"tprate\":\"mean\"}).dropna().assign(model=model).reset_index()\n",
    "    list_hindcasts.append(df)\n",
    "hindcasts = pd.concat(list_hindcasts, axis=0, ignore_index=False)"
   ]
  },
  {
   "cell_type": "code",
   "execution_count": 21,
   "metadata": {},
   "outputs": [
    {
     "data": {
      "text/html": [
       "<div>\n",
       "<style scoped>\n",
       "    .dataframe tbody tr th:only-of-type {\n",
       "        vertical-align: middle;\n",
       "    }\n",
       "\n",
       "    .dataframe tbody tr th {\n",
       "        vertical-align: top;\n",
       "    }\n",
       "\n",
       "    .dataframe thead th {\n",
       "        text-align: right;\n",
       "    }\n",
       "</style>\n",
       "<table border=\"1\" class=\"dataframe\">\n",
       "  <thead>\n",
       "    <tr style=\"text-align: right;\">\n",
       "      <th></th>\n",
       "      <th>time</th>\n",
       "      <th>step</th>\n",
       "      <th>latitude</th>\n",
       "      <th>longitude</th>\n",
       "      <th>valid_time</th>\n",
       "      <th>t2m</th>\n",
       "      <th>tprate</th>\n",
       "      <th>model</th>\n",
       "    </tr>\n",
       "  </thead>\n",
       "  <tbody>\n",
       "    <tr>\n",
       "      <th>0</th>\n",
       "      <td>1993-04-01</td>\n",
       "      <td>30 days</td>\n",
       "      <td>-25.0</td>\n",
       "      <td>-69.0</td>\n",
       "      <td>1993-05-01</td>\n",
       "      <td>283.522827</td>\n",
       "      <td>2.750266e-10</td>\n",
       "      <td>CMCC</td>\n",
       "    </tr>\n",
       "    <tr>\n",
       "      <th>1</th>\n",
       "      <td>1993-04-01</td>\n",
       "      <td>30 days</td>\n",
       "      <td>-25.0</td>\n",
       "      <td>-68.0</td>\n",
       "      <td>1993-05-01</td>\n",
       "      <td>279.689941</td>\n",
       "      <td>3.969913e-10</td>\n",
       "      <td>CMCC</td>\n",
       "    </tr>\n",
       "    <tr>\n",
       "      <th>2</th>\n",
       "      <td>1993-04-01</td>\n",
       "      <td>30 days</td>\n",
       "      <td>-25.0</td>\n",
       "      <td>-67.0</td>\n",
       "      <td>1993-05-01</td>\n",
       "      <td>279.902527</td>\n",
       "      <td>2.366786e-09</td>\n",
       "      <td>CMCC</td>\n",
       "    </tr>\n",
       "    <tr>\n",
       "      <th>3</th>\n",
       "      <td>1993-04-01</td>\n",
       "      <td>30 days</td>\n",
       "      <td>-25.0</td>\n",
       "      <td>-66.0</td>\n",
       "      <td>1993-05-01</td>\n",
       "      <td>283.908844</td>\n",
       "      <td>1.698170e-08</td>\n",
       "      <td>CMCC</td>\n",
       "    </tr>\n",
       "    <tr>\n",
       "      <th>4</th>\n",
       "      <td>1993-04-01</td>\n",
       "      <td>30 days</td>\n",
       "      <td>-25.0</td>\n",
       "      <td>-65.0</td>\n",
       "      <td>1993-05-01</td>\n",
       "      <td>287.464691</td>\n",
       "      <td>3.244487e-08</td>\n",
       "      <td>CMCC</td>\n",
       "    </tr>\n",
       "    <tr>\n",
       "      <th>...</th>\n",
       "      <td>...</td>\n",
       "      <td>...</td>\n",
       "      <td>...</td>\n",
       "      <td>...</td>\n",
       "      <td>...</td>\n",
       "      <td>...</td>\n",
       "      <td>...</td>\n",
       "      <td>...</td>\n",
       "    </tr>\n",
       "    <tr>\n",
       "      <th>539131</th>\n",
       "      <td>2016-11-01</td>\n",
       "      <td>181 days</td>\n",
       "      <td>-42.0</td>\n",
       "      <td>-61.0</td>\n",
       "      <td>2017-05-01</td>\n",
       "      <td>289.146973</td>\n",
       "      <td>1.972936e-08</td>\n",
       "      <td>ECMWF</td>\n",
       "    </tr>\n",
       "    <tr>\n",
       "      <th>539132</th>\n",
       "      <td>2016-11-01</td>\n",
       "      <td>181 days</td>\n",
       "      <td>-42.0</td>\n",
       "      <td>-60.0</td>\n",
       "      <td>2017-05-01</td>\n",
       "      <td>288.385254</td>\n",
       "      <td>1.584399e-08</td>\n",
       "      <td>ECMWF</td>\n",
       "    </tr>\n",
       "    <tr>\n",
       "      <th>539133</th>\n",
       "      <td>2016-11-01</td>\n",
       "      <td>181 days</td>\n",
       "      <td>-42.0</td>\n",
       "      <td>-59.0</td>\n",
       "      <td>2017-05-01</td>\n",
       "      <td>287.322754</td>\n",
       "      <td>1.307185e-08</td>\n",
       "      <td>ECMWF</td>\n",
       "    </tr>\n",
       "    <tr>\n",
       "      <th>539134</th>\n",
       "      <td>2016-11-01</td>\n",
       "      <td>181 days</td>\n",
       "      <td>-42.0</td>\n",
       "      <td>-58.0</td>\n",
       "      <td>2017-05-01</td>\n",
       "      <td>285.217285</td>\n",
       "      <td>9.535738e-09</td>\n",
       "      <td>ECMWF</td>\n",
       "    </tr>\n",
       "    <tr>\n",
       "      <th>539135</th>\n",
       "      <td>2016-11-01</td>\n",
       "      <td>181 days</td>\n",
       "      <td>-42.0</td>\n",
       "      <td>-57.0</td>\n",
       "      <td>2017-05-01</td>\n",
       "      <td>284.205566</td>\n",
       "      <td>1.061986e-08</td>\n",
       "      <td>ECMWF</td>\n",
       "    </tr>\n",
       "  </tbody>\n",
       "</table>\n",
       "<p>539136 rows × 8 columns</p>\n",
       "</div>"
      ],
      "text/plain": [
       "             time     step  latitude  longitude valid_time         t2m  \\\n",
       "0      1993-04-01  30 days     -25.0      -69.0 1993-05-01  283.522827   \n",
       "1      1993-04-01  30 days     -25.0      -68.0 1993-05-01  279.689941   \n",
       "2      1993-04-01  30 days     -25.0      -67.0 1993-05-01  279.902527   \n",
       "3      1993-04-01  30 days     -25.0      -66.0 1993-05-01  283.908844   \n",
       "4      1993-04-01  30 days     -25.0      -65.0 1993-05-01  287.464691   \n",
       "...           ...      ...       ...        ...        ...         ...   \n",
       "539131 2016-11-01 181 days     -42.0      -61.0 2017-05-01  289.146973   \n",
       "539132 2016-11-01 181 days     -42.0      -60.0 2017-05-01  288.385254   \n",
       "539133 2016-11-01 181 days     -42.0      -59.0 2017-05-01  287.322754   \n",
       "539134 2016-11-01 181 days     -42.0      -58.0 2017-05-01  285.217285   \n",
       "539135 2016-11-01 181 days     -42.0      -57.0 2017-05-01  284.205566   \n",
       "\n",
       "              tprate  model  \n",
       "0       2.750266e-10   CMCC  \n",
       "1       3.969913e-10   CMCC  \n",
       "2       2.366786e-09   CMCC  \n",
       "3       1.698170e-08   CMCC  \n",
       "4       3.244487e-08   CMCC  \n",
       "...              ...    ...  \n",
       "539131  1.972936e-08  ECMWF  \n",
       "539132  1.584399e-08  ECMWF  \n",
       "539133  1.307185e-08  ECMWF  \n",
       "539134  9.535738e-09  ECMWF  \n",
       "539135  1.061986e-08  ECMWF  \n",
       "\n",
       "[539136 rows x 8 columns]"
      ]
     },
     "execution_count": 21,
     "metadata": {},
     "output_type": "execute_result"
    }
   ],
   "source": [
    "hindcasts"
   ]
  },
  {
   "cell_type": "markdown",
   "metadata": {},
   "source": [
    "### 2. Basic Preprocessing"
   ]
  },
  {
   "cell_type": "code",
   "execution_count": 22,
   "metadata": {},
   "outputs": [],
   "source": [
    "hindcasts_copy = hindcasts.copy()"
   ]
  },
  {
   "cell_type": "code",
   "execution_count": 23,
   "metadata": {},
   "outputs": [],
   "source": [
    "# Uniform names for ECCC forecasts\n",
    "hindcasts.loc[hindcasts[\"model\"] == \"ECCC_operational\", \"model\"] = \"ECCC\"\n",
    "# Seconds per day\n",
    "hindcasts[\"tprate\"] = hindcasts[\"tprate\"] * 86400  \n",
    "# Kelvin to Celsius\n",
    "hindcasts[\"t2m\"] = hindcasts[\"t2m\"].apply(lambda x: x - 273.15)\n",
    "# Convert to datetime object\n",
    "hindcasts[\"time\"] = pd.to_datetime(hindcasts[\"time\"])\n",
    "hindcasts[\"valid_time\"] = pd.to_datetime(hindcasts[\"valid_time\"])\n",
    "# For JMA hindcasts that are initialized at the end of the month we bring them to start date as the first day of the next month\n",
    "hindcasts.loc[(hindcasts[\"time\"].dt.day.between(26, 31)) & (hindcasts[\"model\"] == \"JMA\"), \"time\"] = hindcasts.loc[(hindcasts[\"time\"].dt.day.between(26, 31)) & (hindcasts[\"model\"] == \"JMA\"), \"time\"].apply(lambda x: x.replace(day=1) + relativedelta(months=1))\n",
    "# Filter init days that are not at the beginning of the month\n",
    "hindcasts = hindcasts.loc[(hindcasts[\"time\"].dt.day == 1)].reset_index(drop=True)\n",
    "# Derive year and month\n",
    "hindcasts[\"init_month\"] = hindcasts[\"time\"].dt.month\n",
    "hindcasts[\"forecasted_month\"] = hindcasts[\"valid_time\"].dt.month - 1\n",
    "hindcasts[\"year\"] = hindcasts[\"time\"].dt.year\n",
    "hindcasts[\"forecasted_year\"] = hindcasts[\"valid_time\"].dt.year\n",
    "# Filter\n",
    "hindcasts = hindcasts.loc[(hindcasts[\"year\"] == hindcasts[\"forecasted_year\"])\n",
    "                          & (hindcasts[\"init_month\"].between(6,11)) & (hindcasts[\"forecasted_month\"].between(9,11))].reset_index(drop=True)\n",
    "# Rename and reorder\n",
    "hindcasts = hindcasts.rename(columns={\"latitude\":\"lat\", \"longitude\":\"lon\", \"t2m\":\"tmean\", \"tprate\":\"rain\"})\n",
    "hindcasts = hindcasts[[\"model\", \"year\", \"init_month\", \"forecasted_month\", \"rain\", \"tmean\", \"lat\", \"lon\"]]"
   ]
  },
  {
   "cell_type": "code",
   "execution_count": 24,
   "metadata": {},
   "outputs": [
    {
     "data": {
      "text/plain": [
       "(168480, 8)"
      ]
     },
     "execution_count": 24,
     "metadata": {},
     "output_type": "execute_result"
    }
   ],
   "source": [
    "hindcasts.shape"
   ]
  },
  {
   "cell_type": "code",
   "execution_count": 25,
   "metadata": {},
   "outputs": [
    {
     "data": {
      "text/plain": [
       "model  init_month\n",
       "CMCC   6             {9, 10, 11}\n",
       "       7             {9, 10, 11}\n",
       "       8             {9, 10, 11}\n",
       "       9             {9, 10, 11}\n",
       "       10               {10, 11}\n",
       "       11                   {11}\n",
       "ECMWF  6             {9, 10, 11}\n",
       "       7             {9, 10, 11}\n",
       "       8             {9, 10, 11}\n",
       "       9             {9, 10, 11}\n",
       "       10               {10, 11}\n",
       "       11                   {11}\n",
       "Name: forecasted_month, dtype: object"
      ]
     },
     "execution_count": 25,
     "metadata": {},
     "output_type": "execute_result"
    }
   ],
   "source": [
    "hindcasts.groupby([\"model\", \"init_month\"])[\"forecasted_month\"].apply(set)"
   ]
  },
  {
   "cell_type": "code",
   "execution_count": 26,
   "metadata": {},
   "outputs": [
    {
     "data": {
      "text/html": [
       "<div>\n",
       "<style scoped>\n",
       "    .dataframe tbody tr th:only-of-type {\n",
       "        vertical-align: middle;\n",
       "    }\n",
       "\n",
       "    .dataframe tbody tr th {\n",
       "        vertical-align: top;\n",
       "    }\n",
       "\n",
       "    .dataframe thead th {\n",
       "        text-align: right;\n",
       "    }\n",
       "</style>\n",
       "<table border=\"1\" class=\"dataframe\">\n",
       "  <thead>\n",
       "    <tr style=\"text-align: right;\">\n",
       "      <th></th>\n",
       "      <th>model</th>\n",
       "      <th>year</th>\n",
       "      <th>init_month</th>\n",
       "      <th>forecasted_month</th>\n",
       "      <th>rain</th>\n",
       "      <th>tmean</th>\n",
       "      <th>lat</th>\n",
       "      <th>lon</th>\n",
       "    </tr>\n",
       "  </thead>\n",
       "  <tbody>\n",
       "    <tr>\n",
       "      <th>72099</th>\n",
       "      <td>CMCC</td>\n",
       "      <td>2013</td>\n",
       "      <td>8</td>\n",
       "      <td>11</td>\n",
       "      <td>0.001384</td>\n",
       "      <td>11.400018</td>\n",
       "      <td>-27.0</td>\n",
       "      <td>-68.0</td>\n",
       "    </tr>\n",
       "    <tr>\n",
       "      <th>97644</th>\n",
       "      <td>ECMWF</td>\n",
       "      <td>1996</td>\n",
       "      <td>10</td>\n",
       "      <td>10</td>\n",
       "      <td>0.000591</td>\n",
       "      <td>16.902246</td>\n",
       "      <td>-30.0</td>\n",
       "      <td>-68.0</td>\n",
       "    </tr>\n",
       "    <tr>\n",
       "      <th>119072</th>\n",
       "      <td>ECMWF</td>\n",
       "      <td>2002</td>\n",
       "      <td>10</td>\n",
       "      <td>11</td>\n",
       "      <td>0.001585</td>\n",
       "      <td>19.008936</td>\n",
       "      <td>-40.0</td>\n",
       "      <td>-64.0</td>\n",
       "    </tr>\n",
       "    <tr>\n",
       "      <th>156822</th>\n",
       "      <td>ECMWF</td>\n",
       "      <td>2013</td>\n",
       "      <td>9</td>\n",
       "      <td>10</td>\n",
       "      <td>0.003070</td>\n",
       "      <td>14.394434</td>\n",
       "      <td>-28.0</td>\n",
       "      <td>-66.0</td>\n",
       "    </tr>\n",
       "    <tr>\n",
       "      <th>13739</th>\n",
       "      <td>CMCC</td>\n",
       "      <td>1996</td>\n",
       "      <td>10</td>\n",
       "      <td>11</td>\n",
       "      <td>0.001625</td>\n",
       "      <td>17.496545</td>\n",
       "      <td>-37.0</td>\n",
       "      <td>-58.0</td>\n",
       "    </tr>\n",
       "  </tbody>\n",
       "</table>\n",
       "</div>"
      ],
      "text/plain": [
       "        model  year  init_month  forecasted_month      rain      tmean   lat  \\\n",
       "72099    CMCC  2013           8                11  0.001384  11.400018 -27.0   \n",
       "97644   ECMWF  1996          10                10  0.000591  16.902246 -30.0   \n",
       "119072  ECMWF  2002          10                11  0.001585  19.008936 -40.0   \n",
       "156822  ECMWF  2013           9                10  0.003070  14.394434 -28.0   \n",
       "13739    CMCC  1996          10                11  0.001625  17.496545 -37.0   \n",
       "\n",
       "         lon  \n",
       "72099  -68.0  \n",
       "97644  -68.0  \n",
       "119072 -64.0  \n",
       "156822 -66.0  \n",
       "13739  -58.0  "
      ]
     },
     "execution_count": 26,
     "metadata": {},
     "output_type": "execute_result"
    }
   ],
   "source": [
    "hindcasts.sample(5)"
   ]
  },
  {
   "cell_type": "markdown",
   "metadata": {},
   "source": [
    "## EXPORT"
   ]
  },
  {
   "cell_type": "code",
   "execution_count": 27,
   "metadata": {},
   "outputs": [],
   "source": [
    "hindcasts.to_csv(\"data/c3s_hindcasts.csv\", index=False)"
   ]
  }
 ],
 "metadata": {
  "kernelspec": {
   "display_name": "Python 3.8.0 ('geospatial')",
   "language": "python",
   "name": "python3"
  },
  "language_info": {
   "codemirror_mode": {
    "name": "ipython",
    "version": 3
   },
   "file_extension": ".py",
   "mimetype": "text/x-python",
   "name": "python",
   "nbconvert_exporter": "python",
   "pygments_lexer": "ipython3",
   "version": "3.11.4"
  },
  "orig_nbformat": 4,
  "vscode": {
   "interpreter": {
    "hash": "3defe0cc3d3d54f02a1572862cbbf1c665fc2dba211b501647237531695c978b"
   }
  }
 },
 "nbformat": 4,
 "nbformat_minor": 2
}
