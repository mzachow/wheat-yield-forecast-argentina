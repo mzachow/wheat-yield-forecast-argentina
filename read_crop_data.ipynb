{
 "cells": [
  {
   "cell_type": "code",
   "execution_count": 18,
   "metadata": {},
   "outputs": [
    {
     "name": "stdout",
     "output_type": "stream",
     "text": [
      "The autoreload extension is already loaded. To reload it, use:\n",
      "  %reload_ext autoreload\n"
     ]
    }
   ],
   "source": [
    "import pandas as pd\n",
    "import numpy as np\n",
    "\n",
    "%load_ext autoreload\n",
    "%autoreload 2"
   ]
  },
  {
   "attachments": {},
   "cell_type": "markdown",
   "metadata": {},
   "source": [
    "### Read historical wheat data \n",
    "- for Argentina on municipality level\n",
    "- from 1969-2022\n",
    "- SOURCE: https://datosestimaciones.magyp.gob.ar/"
   ]
  },
  {
   "cell_type": "code",
   "execution_count": 4,
   "metadata": {},
   "outputs": [
    {
     "data": {
      "text/html": [
       "<div>\n",
       "<style scoped>\n",
       "    .dataframe tbody tr th:only-of-type {\n",
       "        vertical-align: middle;\n",
       "    }\n",
       "\n",
       "    .dataframe tbody tr th {\n",
       "        vertical-align: top;\n",
       "    }\n",
       "\n",
       "    .dataframe thead th {\n",
       "        text-align: right;\n",
       "    }\n",
       "</style>\n",
       "<table border=\"1\" class=\"dataframe\">\n",
       "  <thead>\n",
       "    <tr style=\"text-align: right;\">\n",
       "      <th></th>\n",
       "      <th>year</th>\n",
       "      <th>province</th>\n",
       "      <th>municipality</th>\n",
       "      <th>harvested area [ha]</th>\n",
       "      <th>production [t]</th>\n",
       "      <th>yield [kg/ha]</th>\n",
       "    </tr>\n",
       "  </thead>\n",
       "  <tbody>\n",
       "    <tr>\n",
       "      <th>0</th>\n",
       "      <td>1969</td>\n",
       "      <td>BUENOS AIRES</td>\n",
       "      <td>25 DE MAYO</td>\n",
       "      <td>42000</td>\n",
       "      <td>71400</td>\n",
       "      <td>1700</td>\n",
       "    </tr>\n",
       "    <tr>\n",
       "      <th>1</th>\n",
       "      <td>1970</td>\n",
       "      <td>BUENOS AIRES</td>\n",
       "      <td>25 DE MAYO</td>\n",
       "      <td>36000</td>\n",
       "      <td>54000</td>\n",
       "      <td>1500</td>\n",
       "    </tr>\n",
       "    <tr>\n",
       "      <th>2</th>\n",
       "      <td>1971</td>\n",
       "      <td>BUENOS AIRES</td>\n",
       "      <td>25 DE MAYO</td>\n",
       "      <td>30000</td>\n",
       "      <td>39000</td>\n",
       "      <td>1300</td>\n",
       "    </tr>\n",
       "    <tr>\n",
       "      <th>3</th>\n",
       "      <td>1972</td>\n",
       "      <td>BUENOS AIRES</td>\n",
       "      <td>25 DE MAYO</td>\n",
       "      <td>41000</td>\n",
       "      <td>73600</td>\n",
       "      <td>1795</td>\n",
       "    </tr>\n",
       "    <tr>\n",
       "      <th>4</th>\n",
       "      <td>1973</td>\n",
       "      <td>BUENOS AIRES</td>\n",
       "      <td>25 DE MAYO</td>\n",
       "      <td>6000</td>\n",
       "      <td>9000</td>\n",
       "      <td>1500</td>\n",
       "    </tr>\n",
       "  </tbody>\n",
       "</table>\n",
       "</div>"
      ],
      "text/plain": [
       "   year      province municipality  harvested area [ha]  production [t]  \\\n",
       "0  1969  BUENOS AIRES   25 DE MAYO                42000           71400   \n",
       "1  1970  BUENOS AIRES   25 DE MAYO                36000           54000   \n",
       "2  1971  BUENOS AIRES   25 DE MAYO                30000           39000   \n",
       "3  1972  BUENOS AIRES   25 DE MAYO                41000           73600   \n",
       "4  1973  BUENOS AIRES   25 DE MAYO                 6000            9000   \n",
       "\n",
       "   yield [kg/ha]  \n",
       "0           1700  \n",
       "1           1500  \n",
       "2           1300  \n",
       "3           1795  \n",
       "4           1500  "
      ]
     },
     "execution_count": 4,
     "metadata": {},
     "output_type": "execute_result"
    }
   ],
   "source": [
    "df = (pd\n",
    "      .read_csv(\"data/crop/historical_wheat_data_argentina.csv\", encoding=\"latin-1\", sep=\";\")\n",
    "      .drop(columns={\"Cultivo\", \"idProvincia\", \"idDepartamento\", \"Sup. Sembrada\"}))\n",
    "\n",
    "df.columns = [\"year\", \"province\", \"municipality\", \"harvested area [ha]\", \"production [t]\", \"yield [kg/ha]\"]\n",
    "\n",
    "\"\"\"\n",
    "\"Campaña\" is based on USDA marketing year defintion. Argentinian wheat season spans from June-Dec. \n",
    "The following paragraph from USDA from April 2023 indicates how the first year number (e.g. XXXX in XXXX/YY) is relevant for our crop forecasts.\n",
    "\n",
    "Post estimates Argentine wheat production to rebound to 19.5 million metric tons (MMT) in marketing year (MY) 2023/24, \n",
    "resulting in wheat exports of 13.7 MMT (including wheat flour as its wheat equivalent). However after the severe drought in MY 2022/23, \n",
    "more rains are needed to recharge soil moisture profiles before the June planting window (from: https://www.fas.usda.gov/data/argentina-grain-and-feed-annual-9)\n",
    "\"\"\"\n",
    "df[\"year\"] = df[\"year\"].str[:4].astype(int)\n",
    "\n",
    "#df = df.loc[df[\"year\"] >= 1973].reset_index(drop=True) # because of SCM availability\n",
    "\n",
    "df.head()"
   ]
  },
  {
   "attachments": {},
   "cell_type": "markdown",
   "metadata": {},
   "source": [
    "We filter by provinces with relevant production"
   ]
  },
  {
   "cell_type": "code",
   "execution_count": 5,
   "metadata": {},
   "outputs": [
    {
     "data": {
      "text/html": [
       "<div>\n",
       "<style scoped>\n",
       "    .dataframe tbody tr th:only-of-type {\n",
       "        vertical-align: middle;\n",
       "    }\n",
       "\n",
       "    .dataframe tbody tr th {\n",
       "        vertical-align: top;\n",
       "    }\n",
       "\n",
       "    .dataframe thead th {\n",
       "        text-align: right;\n",
       "    }\n",
       "</style>\n",
       "<table border=\"1\" class=\"dataframe\">\n",
       "  <thead>\n",
       "    <tr style=\"text-align: right;\">\n",
       "      <th></th>\n",
       "      <th>province</th>\n",
       "      <th>production [t]</th>\n",
       "    </tr>\n",
       "  </thead>\n",
       "  <tbody>\n",
       "    <tr>\n",
       "      <th>0</th>\n",
       "      <td>BUENOS AIRES</td>\n",
       "      <td>57.50</td>\n",
       "    </tr>\n",
       "    <tr>\n",
       "      <th>1</th>\n",
       "      <td>SANTA FE</td>\n",
       "      <td>15.87</td>\n",
       "    </tr>\n",
       "    <tr>\n",
       "      <th>2</th>\n",
       "      <td>CORDOBA</td>\n",
       "      <td>13.20</td>\n",
       "    </tr>\n",
       "    <tr>\n",
       "      <th>3</th>\n",
       "      <td>LA PAMPA</td>\n",
       "      <td>5.17</td>\n",
       "    </tr>\n",
       "    <tr>\n",
       "      <th>4</th>\n",
       "      <td>ENTRE RIOS</td>\n",
       "      <td>4.61</td>\n",
       "    </tr>\n",
       "    <tr>\n",
       "      <th>5</th>\n",
       "      <td>SANTIAGO DEL ESTERO</td>\n",
       "      <td>1.57</td>\n",
       "    </tr>\n",
       "    <tr>\n",
       "      <th>6</th>\n",
       "      <td>TUCUMAN</td>\n",
       "      <td>0.64</td>\n",
       "    </tr>\n",
       "    <tr>\n",
       "      <th>7</th>\n",
       "      <td>CHACO</td>\n",
       "      <td>0.61</td>\n",
       "    </tr>\n",
       "    <tr>\n",
       "      <th>8</th>\n",
       "      <td>SALTA</td>\n",
       "      <td>0.52</td>\n",
       "    </tr>\n",
       "    <tr>\n",
       "      <th>9</th>\n",
       "      <td>CATAMARCA</td>\n",
       "      <td>0.13</td>\n",
       "    </tr>\n",
       "  </tbody>\n",
       "</table>\n",
       "</div>"
      ],
      "text/plain": [
       "              province  production [t]\n",
       "0         BUENOS AIRES           57.50\n",
       "1             SANTA FE           15.87\n",
       "2              CORDOBA           13.20\n",
       "3             LA PAMPA            5.17\n",
       "4           ENTRE RIOS            4.61\n",
       "5  SANTIAGO DEL ESTERO            1.57\n",
       "6              TUCUMAN            0.64\n",
       "7                CHACO            0.61\n",
       "8                SALTA            0.52\n",
       "9            CATAMARCA            0.13"
      ]
     },
     "execution_count": 5,
     "metadata": {},
     "output_type": "execute_result"
    }
   ],
   "source": [
    "production_by_province = df.groupby(\"province\")[\"production [t]\"].sum().reset_index().sort_values(by=\"production [t]\", ascending=False).reset_index(drop=True)\n",
    "production_by_province[\"production [t]\"] = np.round(100 * production_by_province[\"production [t]\"] / df[\"production [t]\"].sum(), 2)\n",
    "production_by_province.head(10)"
   ]
  },
  {
   "attachments": {},
   "cell_type": "markdown",
   "metadata": {},
   "source": [
    "Buenos Aires, Santa Fe, Cordoba, Entre Rios, and La Pampa contribute most of Argentinian wheat production. We will only focus on these 5 provinces from now on. In addition, these are the provinces with similar soil and climate conditions (Espinal, Pampas)"
   ]
  },
  {
   "cell_type": "code",
   "execution_count": 6,
   "metadata": {},
   "outputs": [],
   "source": [
    "df = df.loc[df[\"province\"].isin(['BUENOS AIRES', 'CORDOBA', 'ENTRE RIOS', 'LA PAMPA', 'SANTA FE'])].reset_index(drop=True)"
   ]
  },
  {
   "attachments": {},
   "cell_type": "markdown",
   "metadata": {},
   "source": [
    "Filter by municipalities with complete time series"
   ]
  },
  {
   "cell_type": "code",
   "execution_count": 13,
   "metadata": {},
   "outputs": [],
   "source": [
    "df_province = df[df.groupby([\"province\", \"municipality\"])[['province', \"municipality\"]].transform('size') == len(df[\"year\"].unique().tolist())].reset_index(drop=True)"
   ]
  },
  {
   "attachments": {},
   "cell_type": "markdown",
   "metadata": {},
   "source": [
    "Now we need to aggregate to national level by year. Yield is weighted with harvested area."
   ]
  },
  {
   "cell_type": "code",
   "execution_count": 14,
   "metadata": {},
   "outputs": [
    {
     "data": {
      "text/html": [
       "<div>\n",
       "<style scoped>\n",
       "    .dataframe tbody tr th:only-of-type {\n",
       "        vertical-align: middle;\n",
       "    }\n",
       "\n",
       "    .dataframe tbody tr th {\n",
       "        vertical-align: top;\n",
       "    }\n",
       "\n",
       "    .dataframe thead th {\n",
       "        text-align: right;\n",
       "    }\n",
       "</style>\n",
       "<table border=\"1\" class=\"dataframe\">\n",
       "  <thead>\n",
       "    <tr style=\"text-align: right;\">\n",
       "      <th></th>\n",
       "      <th>year</th>\n",
       "      <th>harvested area [ha]</th>\n",
       "      <th>yield [kg/ha]</th>\n",
       "    </tr>\n",
       "  </thead>\n",
       "  <tbody>\n",
       "    <tr>\n",
       "      <th>0</th>\n",
       "      <td>1969</td>\n",
       "      <td>5106050</td>\n",
       "      <td>1359.034983</td>\n",
       "    </tr>\n",
       "    <tr>\n",
       "      <th>1</th>\n",
       "      <td>1970</td>\n",
       "      <td>3600200</td>\n",
       "      <td>1331.261758</td>\n",
       "    </tr>\n",
       "    <tr>\n",
       "      <th>2</th>\n",
       "      <td>1971</td>\n",
       "      <td>4218650</td>\n",
       "      <td>1265.488889</td>\n",
       "    </tr>\n",
       "    <tr>\n",
       "      <th>3</th>\n",
       "      <td>1972</td>\n",
       "      <td>4880900</td>\n",
       "      <td>1603.616515</td>\n",
       "    </tr>\n",
       "    <tr>\n",
       "      <th>4</th>\n",
       "      <td>1973</td>\n",
       "      <td>3858700</td>\n",
       "      <td>1663.510772</td>\n",
       "    </tr>\n",
       "  </tbody>\n",
       "</table>\n",
       "</div>"
      ],
      "text/plain": [
       "   year  harvested area [ha]  yield [kg/ha]\n",
       "0  1969              5106050    1359.034983\n",
       "1  1970              3600200    1331.261758\n",
       "2  1971              4218650    1265.488889\n",
       "3  1972              4880900    1603.616515\n",
       "4  1973              3858700    1663.510772"
      ]
     },
     "execution_count": 14,
     "metadata": {},
     "output_type": "execute_result"
    }
   ],
   "source": [
    "df_national = df.copy()\n",
    "df_national[\"yield weighted\"] = df_national[\"yield [kg/ha]\"] * df[\"harvested area [ha]\"]\n",
    "df_national = df_national.groupby(\"year\").agg({\"harvested area [ha]\":\"sum\", \"yield weighted\":\"sum\"})\n",
    "df_national[\"yield [kg/ha]\"] = df_national[\"yield weighted\"] / df_national[\"harvested area [ha]\"]\n",
    "\n",
    "df_national = df_national[[\"harvested area [ha]\", \"yield [kg/ha]\"]].reset_index()\n",
    "df_national.head()"
   ]
  },
  {
   "cell_type": "code",
   "execution_count": 17,
   "metadata": {},
   "outputs": [],
   "source": [
    "df_national.to_csv(\"data/crop/national_yield_with_trend.csv\", index=False)\n",
    "df_province.to_csv(\"data/crop/province_yield_with_trend.csv\", index=False)"
   ]
  }
 ],
 "metadata": {
  "kernelspec": {
   "display_name": "Python 3.9.12 ('base')",
   "language": "python",
   "name": "python3"
  },
  "language_info": {
   "codemirror_mode": {
    "name": "ipython",
    "version": 3
   },
   "file_extension": ".py",
   "mimetype": "text/x-python",
   "name": "python",
   "nbconvert_exporter": "python",
   "pygments_lexer": "ipython3",
   "version": "3.11.4"
  },
  "orig_nbformat": 4,
  "vscode": {
   "interpreter": {
    "hash": "7bdd4fa5e4a01778d662c250f68cd0ae4cd5c6713655d3ff4cfd53a48ea87565"
   }
  }
 },
 "nbformat": 4,
 "nbformat_minor": 2
}
