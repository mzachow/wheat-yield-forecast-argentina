{
 "cells": [
  {
   "cell_type": "code",
   "execution_count": 66,
   "metadata": {},
   "outputs": [],
   "source": [
    "import pandas as pd\n",
    "import numpy as np\n",
    "import seaborn as sns\n",
    "import matplotlib.pyplot as plt"
   ]
  },
  {
   "attachments": {},
   "cell_type": "markdown",
   "metadata": {},
   "source": [
    "### Read historical wheat data \n",
    "- for Argentina on municipality level\n",
    "- from 1969-2022"
   ]
  },
  {
   "cell_type": "code",
   "execution_count": 78,
   "metadata": {},
   "outputs": [
    {
     "data": {
      "text/html": [
       "<div>\n",
       "<style scoped>\n",
       "    .dataframe tbody tr th:only-of-type {\n",
       "        vertical-align: middle;\n",
       "    }\n",
       "\n",
       "    .dataframe tbody tr th {\n",
       "        vertical-align: top;\n",
       "    }\n",
       "\n",
       "    .dataframe thead th {\n",
       "        text-align: right;\n",
       "    }\n",
       "</style>\n",
       "<table border=\"1\" class=\"dataframe\">\n",
       "  <thead>\n",
       "    <tr style=\"text-align: right;\">\n",
       "      <th></th>\n",
       "      <th>year</th>\n",
       "      <th>province</th>\n",
       "      <th>municipality</th>\n",
       "      <th>harvested area [ha]</th>\n",
       "      <th>production [t]</th>\n",
       "      <th>yield [kg/ha]</th>\n",
       "    </tr>\n",
       "  </thead>\n",
       "  <tbody>\n",
       "    <tr>\n",
       "      <th>0</th>\n",
       "      <td>1989</td>\n",
       "      <td>BUENOS AIRES</td>\n",
       "      <td>25 DE MAYO</td>\n",
       "      <td>32000</td>\n",
       "      <td>60100</td>\n",
       "      <td>1878</td>\n",
       "    </tr>\n",
       "    <tr>\n",
       "      <th>1</th>\n",
       "      <td>1990</td>\n",
       "      <td>BUENOS AIRES</td>\n",
       "      <td>25 DE MAYO</td>\n",
       "      <td>38400</td>\n",
       "      <td>84500</td>\n",
       "      <td>2201</td>\n",
       "    </tr>\n",
       "    <tr>\n",
       "      <th>2</th>\n",
       "      <td>1991</td>\n",
       "      <td>BUENOS AIRES</td>\n",
       "      <td>25 DE MAYO</td>\n",
       "      <td>21000</td>\n",
       "      <td>48300</td>\n",
       "      <td>2300</td>\n",
       "    </tr>\n",
       "    <tr>\n",
       "      <th>3</th>\n",
       "      <td>1992</td>\n",
       "      <td>BUENOS AIRES</td>\n",
       "      <td>25 DE MAYO</td>\n",
       "      <td>16800</td>\n",
       "      <td>43700</td>\n",
       "      <td>2601</td>\n",
       "    </tr>\n",
       "    <tr>\n",
       "      <th>4</th>\n",
       "      <td>1993</td>\n",
       "      <td>BUENOS AIRES</td>\n",
       "      <td>25 DE MAYO</td>\n",
       "      <td>14000</td>\n",
       "      <td>28000</td>\n",
       "      <td>2000</td>\n",
       "    </tr>\n",
       "  </tbody>\n",
       "</table>\n",
       "</div>"
      ],
      "text/plain": [
       "   year      province municipality  harvested area [ha]  production [t]  \\\n",
       "0  1989  BUENOS AIRES   25 DE MAYO                32000           60100   \n",
       "1  1990  BUENOS AIRES   25 DE MAYO                38400           84500   \n",
       "2  1991  BUENOS AIRES   25 DE MAYO                21000           48300   \n",
       "3  1992  BUENOS AIRES   25 DE MAYO                16800           43700   \n",
       "4  1993  BUENOS AIRES   25 DE MAYO                14000           28000   \n",
       "\n",
       "   yield [kg/ha]  \n",
       "0           1878  \n",
       "1           2201  \n",
       "2           2300  \n",
       "3           2601  \n",
       "4           2000  "
      ]
     },
     "execution_count": 78,
     "metadata": {},
     "output_type": "execute_result"
    }
   ],
   "source": [
    "df = (pd\n",
    "      .read_csv(\"data/crop/historical_wheat_data_argentina.csv\", encoding=\"latin-1\", sep=\";\")\n",
    "      .drop(columns={\"Cultivo\", \"idProvincia\", \"idDepartamento\", \"Sup. Sembrada\"}))\n",
    "\n",
    "df.columns = [\"year\", \"province\", \"municipality\", \"harvested area [ha]\", \"production [t]\", \"yield [kg/ha]\"]\n",
    "\n",
    "\n",
    "\"\"\"\n",
    "\"Campaña\" is based on USDA marketing year defintion. Argentinian wheat season spans from June-Dec. \n",
    "The following paragraph from USDA from April 2023 indicates how the first year number (e.g. XXXX in XXXX/YY) is relevant for our crop forecasts.\n",
    "\n",
    "Post estimates Argentine wheat production to rebound to 19.5 million metric tons (MMT) in marketing year (MY) 2023/24, \n",
    "resulting in wheat exports of 13.7 MMT (including wheat flour as its wheat equivalent). However after the severe drought in MY 2022/23, \n",
    "more rains are needed to recharge soil moisture profiles before the June planting window (from: https://www.fas.usda.gov/data/argentina-grain-and-feed-annual-9)\n",
    "\"\"\"\n",
    "df[\"year\"] = df[\"year\"].str[:4].astype(int)\n",
    "\n",
    "df = df.loc[df[\"year\"] >= 1989].reset_index(drop=True) # because of SCM availability\n",
    "\n",
    "df.head()"
   ]
  },
  {
   "attachments": {},
   "cell_type": "markdown",
   "metadata": {},
   "source": [
    "We filter by provinces with relevant production"
   ]
  },
  {
   "cell_type": "code",
   "execution_count": 80,
   "metadata": {},
   "outputs": [
    {
     "data": {
      "text/html": [
       "<div>\n",
       "<style scoped>\n",
       "    .dataframe tbody tr th:only-of-type {\n",
       "        vertical-align: middle;\n",
       "    }\n",
       "\n",
       "    .dataframe tbody tr th {\n",
       "        vertical-align: top;\n",
       "    }\n",
       "\n",
       "    .dataframe thead th {\n",
       "        text-align: right;\n",
       "    }\n",
       "</style>\n",
       "<table border=\"1\" class=\"dataframe\">\n",
       "  <thead>\n",
       "    <tr style=\"text-align: right;\">\n",
       "      <th></th>\n",
       "      <th>province</th>\n",
       "      <th>production [t]</th>\n",
       "    </tr>\n",
       "  </thead>\n",
       "  <tbody>\n",
       "    <tr>\n",
       "      <th>0</th>\n",
       "      <td>BUENOS AIRES</td>\n",
       "      <td>55.64</td>\n",
       "    </tr>\n",
       "    <tr>\n",
       "      <th>1</th>\n",
       "      <td>SANTA FE</td>\n",
       "      <td>15.42</td>\n",
       "    </tr>\n",
       "    <tr>\n",
       "      <th>2</th>\n",
       "      <td>CORDOBA</td>\n",
       "      <td>14.24</td>\n",
       "    </tr>\n",
       "    <tr>\n",
       "      <th>3</th>\n",
       "      <td>ENTRE RIOS</td>\n",
       "      <td>5.59</td>\n",
       "    </tr>\n",
       "    <tr>\n",
       "      <th>4</th>\n",
       "      <td>LA PAMPA</td>\n",
       "      <td>4.57</td>\n",
       "    </tr>\n",
       "    <tr>\n",
       "      <th>5</th>\n",
       "      <td>SANTIAGO DEL ESTERO</td>\n",
       "      <td>2.03</td>\n",
       "    </tr>\n",
       "    <tr>\n",
       "      <th>6</th>\n",
       "      <td>TUCUMAN</td>\n",
       "      <td>0.78</td>\n",
       "    </tr>\n",
       "    <tr>\n",
       "      <th>7</th>\n",
       "      <td>CHACO</td>\n",
       "      <td>0.73</td>\n",
       "    </tr>\n",
       "    <tr>\n",
       "      <th>8</th>\n",
       "      <td>SALTA</td>\n",
       "      <td>0.68</td>\n",
       "    </tr>\n",
       "    <tr>\n",
       "      <th>9</th>\n",
       "      <td>CATAMARCA</td>\n",
       "      <td>0.18</td>\n",
       "    </tr>\n",
       "  </tbody>\n",
       "</table>\n",
       "</div>"
      ],
      "text/plain": [
       "              province  production [t]\n",
       "0         BUENOS AIRES           55.64\n",
       "1             SANTA FE           15.42\n",
       "2              CORDOBA           14.24\n",
       "3           ENTRE RIOS            5.59\n",
       "4             LA PAMPA            4.57\n",
       "5  SANTIAGO DEL ESTERO            2.03\n",
       "6              TUCUMAN            0.78\n",
       "7                CHACO            0.73\n",
       "8                SALTA            0.68\n",
       "9            CATAMARCA            0.18"
      ]
     },
     "execution_count": 80,
     "metadata": {},
     "output_type": "execute_result"
    }
   ],
   "source": [
    "production_by_province = df.groupby(\"province\")[\"production [t]\"].sum().reset_index().sort_values(by=\"production [t]\", ascending=False).reset_index(drop=True)\n",
    "production_by_province[\"production [t]\"] = np.round(100 * production_by_province[\"production [t]\"] / df[\"production [t]\"].sum(), 2)\n",
    "production_by_province.head(10)"
   ]
  },
  {
   "attachments": {},
   "cell_type": "markdown",
   "metadata": {},
   "source": [
    "Buenos Aires, Santa Fe, Cordoba, Entre Rios, and La Pampa contribute most of Argentinian wheat production. We will only focus on these 5 provinces from now on. In addition, these are the provinces with similar soil and climate conditions (Espinal, Pampas)"
   ]
  },
  {
   "cell_type": "code",
   "execution_count": 81,
   "metadata": {},
   "outputs": [],
   "source": [
    "df = df.loc[df[\"province\"].isin(['BUENOS AIRES', 'CORDOBA', 'ENTRE RIOS', 'LA PAMPA', 'SANTA FE'])].reset_index(drop=True)"
   ]
  },
  {
   "attachments": {},
   "cell_type": "markdown",
   "metadata": {},
   "source": [
    "Filter by municipalities with complete time series"
   ]
  },
  {
   "cell_type": "code",
   "execution_count": 82,
   "metadata": {},
   "outputs": [],
   "source": [
    "df_province = df[df.groupby([\"province\", \"municipality\"])[['province', \"municipality\"]].transform('size') > 28].reset_index(drop=True)"
   ]
  },
  {
   "attachments": {},
   "cell_type": "markdown",
   "metadata": {},
   "source": [
    "Now we need to aggregate to national level by year. Yield is weighted with harvested area."
   ]
  },
  {
   "cell_type": "code",
   "execution_count": 83,
   "metadata": {},
   "outputs": [
    {
     "data": {
      "text/html": [
       "<div>\n",
       "<style scoped>\n",
       "    .dataframe tbody tr th:only-of-type {\n",
       "        vertical-align: middle;\n",
       "    }\n",
       "\n",
       "    .dataframe tbody tr th {\n",
       "        vertical-align: top;\n",
       "    }\n",
       "\n",
       "    .dataframe thead th {\n",
       "        text-align: right;\n",
       "    }\n",
       "</style>\n",
       "<table border=\"1\" class=\"dataframe\">\n",
       "  <thead>\n",
       "    <tr style=\"text-align: right;\">\n",
       "      <th></th>\n",
       "      <th>year</th>\n",
       "      <th>harvested area [ha]</th>\n",
       "      <th>yield [kg/ha]</th>\n",
       "    </tr>\n",
       "  </thead>\n",
       "  <tbody>\n",
       "    <tr>\n",
       "      <th>0</th>\n",
       "      <td>1989</td>\n",
       "      <td>5219300</td>\n",
       "      <td>1900.115092</td>\n",
       "    </tr>\n",
       "    <tr>\n",
       "      <th>1</th>\n",
       "      <td>1990</td>\n",
       "      <td>5706600</td>\n",
       "      <td>1903.157765</td>\n",
       "    </tr>\n",
       "    <tr>\n",
       "      <th>2</th>\n",
       "      <td>1991</td>\n",
       "      <td>4491850</td>\n",
       "      <td>2178.221802</td>\n",
       "    </tr>\n",
       "    <tr>\n",
       "      <th>3</th>\n",
       "      <td>1992</td>\n",
       "      <td>4173300</td>\n",
       "      <td>2330.659478</td>\n",
       "    </tr>\n",
       "    <tr>\n",
       "      <th>4</th>\n",
       "      <td>1993</td>\n",
       "      <td>4724100</td>\n",
       "      <td>2032.688963</td>\n",
       "    </tr>\n",
       "  </tbody>\n",
       "</table>\n",
       "</div>"
      ],
      "text/plain": [
       "   year  harvested area [ha]  yield [kg/ha]\n",
       "0  1989              5219300    1900.115092\n",
       "1  1990              5706600    1903.157765\n",
       "2  1991              4491850    2178.221802\n",
       "3  1992              4173300    2330.659478\n",
       "4  1993              4724100    2032.688963"
      ]
     },
     "execution_count": 83,
     "metadata": {},
     "output_type": "execute_result"
    }
   ],
   "source": [
    "df_national = df.copy()\n",
    "df_national[\"yield weighted\"] = df_national[\"yield [kg/ha]\"] * df[\"harvested area [ha]\"]\n",
    "df_national = df_national.groupby(\"year\").agg({\"harvested area [ha]\":\"sum\", \"yield weighted\":\"sum\"})\n",
    "df_national[\"yield [kg/ha]\"] = df_national[\"yield weighted\"] / df_national[\"harvested area [ha]\"]\n",
    "\n",
    "df_national = df_national[[\"harvested area [ha]\", \"yield [kg/ha]\"]].reset_index()\n",
    "df_national.head()"
   ]
  },
  {
   "cell_type": "code",
   "execution_count": 84,
   "metadata": {},
   "outputs": [
    {
     "data": {
      "text/plain": [
       "<Axes: xlabel='year'>"
      ]
     },
     "execution_count": 84,
     "metadata": {},
     "output_type": "execute_result"
    },
    {
     "data": {
      "image/png": "[encoded data removed]",
      "text/plain": [
       "<Figure size 640x480 with 1 Axes>"
      ]
     },
     "metadata": {},
     "output_type": "display_data"
    }
   ],
   "source": [
    "df_national.plot(x=\"year\", y=\"yield [kg/ha]\")"
   ]
  },
  {
   "attachments": {},
   "cell_type": "markdown",
   "metadata": {},
   "source": [
    "We will not detrend the yield data here for now"
   ]
  },
  {
   "cell_type": "code",
   "execution_count": 85,
   "metadata": {},
   "outputs": [],
   "source": [
    "df_national.to_csv(\"data/crop/national_yield_with_trend.csv\", index=False)\n",
    "df_province.to_csv(\"data/crop/province_yield_with_trend.csv\", index=False)"
   ]
  }
 ],
 "metadata": {
  "kernelspec": {
   "display_name": "Python 3.9.12 ('base')",
   "language": "python",
   "name": "python3"
  },
  "language_info": {
   "codemirror_mode": {
    "name": "ipython",
    "version": 3
   },
   "file_extension": ".py",
   "mimetype": "text/x-python",
   "name": "python",
   "nbconvert_exporter": "python",
   "pygments_lexer": "ipython3",
   "version": "3.11.4"
  },
  "orig_nbformat": 4,
  "vscode": {
   "interpreter": {
    "hash": "7bdd4fa5e4a01778d662c250f68cd0ae4cd5c6713655d3ff4cfd53a48ea87565"
   }
  }
 },
 "nbformat": 4,
 "nbformat_minor": 2
}
