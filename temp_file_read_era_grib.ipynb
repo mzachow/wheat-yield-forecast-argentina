{
 "cells": [
  {
   "cell_type": "code",
   "execution_count": 56,
   "metadata": {},
   "outputs": [],
   "source": [
    "import xarray as xr\n",
    "import pandas as pd\n",
    "import numpy as np"
   ]
  },
  {
   "cell_type": "code",
   "execution_count": 48,
   "metadata": {},
   "outputs": [
    {
     "data": {
      "text/html": [
       "<div>\n",
       "<style scoped>\n",
       "    .dataframe tbody tr th:only-of-type {\n",
       "        vertical-align: middle;\n",
       "    }\n",
       "\n",
       "    .dataframe tbody tr th {\n",
       "        vertical-align: top;\n",
       "    }\n",
       "\n",
       "    .dataframe thead th {\n",
       "        text-align: right;\n",
       "    }\n",
       "</style>\n",
       "<table border=\"1\" class=\"dataframe\">\n",
       "  <thead>\n",
       "    <tr style=\"text-align: right;\">\n",
       "      <th></th>\n",
       "      <th>time</th>\n",
       "      <th>lat</th>\n",
       "      <th>lon</th>\n",
       "      <th>rain</th>\n",
       "      <th>tmean</th>\n",
       "      <th>month</th>\n",
       "      <th>year</th>\n",
       "    </tr>\n",
       "  </thead>\n",
       "  <tbody>\n",
       "    <tr>\n",
       "      <th>0</th>\n",
       "      <td>1993-01-01</td>\n",
       "      <td>-25.0</td>\n",
       "      <td>-69.0</td>\n",
       "      <td>0.000698</td>\n",
       "      <td>9.41</td>\n",
       "      <td>1</td>\n",
       "      <td>1993</td>\n",
       "    </tr>\n",
       "    <tr>\n",
       "      <th>1</th>\n",
       "      <td>1993-01-01</td>\n",
       "      <td>-25.0</td>\n",
       "      <td>-68.9</td>\n",
       "      <td>0.001047</td>\n",
       "      <td>9.21</td>\n",
       "      <td>1</td>\n",
       "      <td>1993</td>\n",
       "    </tr>\n",
       "    <tr>\n",
       "      <th>2</th>\n",
       "      <td>1993-01-01</td>\n",
       "      <td>-25.0</td>\n",
       "      <td>-68.8</td>\n",
       "      <td>0.001443</td>\n",
       "      <td>8.79</td>\n",
       "      <td>1</td>\n",
       "      <td>1993</td>\n",
       "    </tr>\n",
       "    <tr>\n",
       "      <th>3</th>\n",
       "      <td>1993-01-01</td>\n",
       "      <td>-25.0</td>\n",
       "      <td>-68.7</td>\n",
       "      <td>0.001846</td>\n",
       "      <td>8.63</td>\n",
       "      <td>1</td>\n",
       "      <td>1993</td>\n",
       "    </tr>\n",
       "    <tr>\n",
       "      <th>4</th>\n",
       "      <td>1993-01-01</td>\n",
       "      <td>-25.0</td>\n",
       "      <td>-68.6</td>\n",
       "      <td>0.002307</td>\n",
       "      <td>8.11</td>\n",
       "      <td>1</td>\n",
       "      <td>1993</td>\n",
       "    </tr>\n",
       "  </tbody>\n",
       "</table>\n",
       "</div>"
      ],
      "text/plain": [
       "         time   lat   lon      rain  tmean  month  year\n",
       "0  1993-01-01 -25.0 -69.0  0.000698   9.41      1  1993\n",
       "1  1993-01-01 -25.0 -68.9  0.001047   9.21      1  1993\n",
       "2  1993-01-01 -25.0 -68.8  0.001443   8.79      1  1993\n",
       "3  1993-01-01 -25.0 -68.7  0.001846   8.63      1  1993\n",
       "4  1993-01-01 -25.0 -68.6  0.002307   8.11      1  1993"
      ]
     },
     "execution_count": 48,
     "metadata": {},
     "output_type": "execute_result"
    }
   ],
   "source": [
    "era_old = pd.read_csv(\"data/ERA/era.csv\")\n",
    "era_old.head()"
   ]
  },
  {
   "cell_type": "code",
   "execution_count": 49,
   "metadata": {},
   "outputs": [],
   "source": [
    "tmean = xr.open_dataset(\"data/ERA/adaptor.mars.internal-1688106777.5563195-3400-10-ab04a334-090b-4b03-8618-e44f1bc55d69.grib\").to_dataframe().reset_index().dropna().reset_index(drop=True)\n",
    "rain1 = xr.open_dataset(\"data/ERA/adaptor.mars.internal-1688106991.2341475-30970-8-3470c5a2-6688-448c-aa7c-83cf8ce08a45.grib\", filter_by_keys={'stepType': 'avgad'}).to_dataframe().reset_index()\n",
    "rain2 = xr.open_dataset(\"data/ERA/adaptor.mars.internal-1688106991.2341475-30970-8-3470c5a2-6688-448c-aa7c-83cf8ce08a45.grib\", filter_by_keys={'stepType': 'avgas'}).to_dataframe().reset_index()\n",
    "\n",
    "rain = pd.concat([rain2, rain1], ignore_index=True).dropna().reset_index(drop=True)\n",
    "era = tmean.merge(rain, on=[\"time\", \"latitude\", \"longitude\", \"number\", \"step\", \"surface\", \"valid_time\"])"
   ]
  },
  {
   "cell_type": "code",
   "execution_count": 50,
   "metadata": {},
   "outputs": [],
   "source": [
    "# Kelvin to Celsius\n",
    "era[\"t2m\"] = era[\"t2m\"].apply(lambda x: x - 273.15)\n",
    "# time to datetime\n",
    "era[\"time\"] = pd.to_datetime(era[\"time\"])\n",
    "era[\"valid_time\"] = pd.to_datetime(era[\"valid_time\"])\n",
    "\n",
    "# Sort values\n",
    "era = era.sort_values(by=[\"time\", \"latitude\", \"longitude\"]).loc[:, [\"time\", \"latitude\", \"longitude\", \"t2m\", \"tp\"]].reset_index(drop=True)\n",
    "\n",
    "era.columns = [\"time\", \"lat\", \"lon\", \"tmean\", \"rain\"]\n",
    "era[\"month\"] = era[\"time\"].dt.month\n",
    "era[\"year\"] = era[\"time\"].dt.year\n",
    "era = era[era_old.columns]"
   ]
  },
  {
   "cell_type": "code",
   "execution_count": 54,
   "metadata": {},
   "outputs": [
    {
     "data": {
      "text/html": [
       "<div>\n",
       "<style scoped>\n",
       "    .dataframe tbody tr th:only-of-type {\n",
       "        vertical-align: middle;\n",
       "    }\n",
       "\n",
       "    .dataframe tbody tr th {\n",
       "        vertical-align: top;\n",
       "    }\n",
       "\n",
       "    .dataframe thead th {\n",
       "        text-align: right;\n",
       "    }\n",
       "</style>\n",
       "<table border=\"1\" class=\"dataframe\">\n",
       "  <thead>\n",
       "    <tr style=\"text-align: right;\">\n",
       "      <th></th>\n",
       "      <th>time</th>\n",
       "      <th>lat</th>\n",
       "      <th>lon</th>\n",
       "      <th>rain</th>\n",
       "      <th>tmean</th>\n",
       "      <th>month</th>\n",
       "      <th>year</th>\n",
       "    </tr>\n",
       "  </thead>\n",
       "  <tbody>\n",
       "    <tr>\n",
       "      <th>0</th>\n",
       "      <td>1993-01-01</td>\n",
       "      <td>-25.0</td>\n",
       "      <td>-69.0</td>\n",
       "      <td>0.000698</td>\n",
       "      <td>9.41</td>\n",
       "      <td>1</td>\n",
       "      <td>1993</td>\n",
       "    </tr>\n",
       "    <tr>\n",
       "      <th>1</th>\n",
       "      <td>1993-01-01</td>\n",
       "      <td>-25.0</td>\n",
       "      <td>-68.9</td>\n",
       "      <td>0.001047</td>\n",
       "      <td>9.21</td>\n",
       "      <td>1</td>\n",
       "      <td>1993</td>\n",
       "    </tr>\n",
       "    <tr>\n",
       "      <th>2</th>\n",
       "      <td>1993-01-01</td>\n",
       "      <td>-25.0</td>\n",
       "      <td>-68.8</td>\n",
       "      <td>0.001443</td>\n",
       "      <td>8.79</td>\n",
       "      <td>1</td>\n",
       "      <td>1993</td>\n",
       "    </tr>\n",
       "    <tr>\n",
       "      <th>3</th>\n",
       "      <td>1993-01-01</td>\n",
       "      <td>-25.0</td>\n",
       "      <td>-68.7</td>\n",
       "      <td>0.001846</td>\n",
       "      <td>8.63</td>\n",
       "      <td>1</td>\n",
       "      <td>1993</td>\n",
       "    </tr>\n",
       "    <tr>\n",
       "      <th>4</th>\n",
       "      <td>1993-01-01</td>\n",
       "      <td>-25.0</td>\n",
       "      <td>-68.6</td>\n",
       "      <td>0.002307</td>\n",
       "      <td>8.11</td>\n",
       "      <td>1</td>\n",
       "      <td>1993</td>\n",
       "    </tr>\n",
       "  </tbody>\n",
       "</table>\n",
       "</div>"
      ],
      "text/plain": [
       "         time   lat   lon      rain  tmean  month  year\n",
       "0  1993-01-01 -25.0 -69.0  0.000698   9.41      1  1993\n",
       "1  1993-01-01 -25.0 -68.9  0.001047   9.21      1  1993\n",
       "2  1993-01-01 -25.0 -68.8  0.001443   8.79      1  1993\n",
       "3  1993-01-01 -25.0 -68.7  0.001846   8.63      1  1993\n",
       "4  1993-01-01 -25.0 -68.6  0.002307   8.11      1  1993"
      ]
     },
     "execution_count": 54,
     "metadata": {},
     "output_type": "execute_result"
    }
   ],
   "source": [
    "era_old.head()"
   ]
  },
  {
   "cell_type": "code",
   "execution_count": 63,
   "metadata": {},
   "outputs": [],
   "source": [
    "era_complete = pd.concat([era, era_old], ignore_index=True).sort_values(by=[\"year\", \"month\"]).reset_index(drop=True)"
   ]
  },
  {
   "cell_type": "code",
   "execution_count": 66,
   "metadata": {},
   "outputs": [],
   "source": [
    "era_complete.to_csv(\"data/ERA/era_complete.csv\", index=False)"
   ]
  },
  {
   "cell_type": "code",
   "execution_count": null,
   "metadata": {},
   "outputs": [],
   "source": []
  }
 ],
 "metadata": {
  "kernelspec": {
   "display_name": "global-yield-forecast",
   "language": "python",
   "name": "python3"
  },
  "language_info": {
   "codemirror_mode": {
    "name": "ipython",
    "version": 3
   },
   "file_extension": ".py",
   "mimetype": "text/x-python",
   "name": "python",
   "nbconvert_exporter": "python",
   "pygments_lexer": "ipython3",
   "version": "3.11.4"
  },
  "orig_nbformat": 4
 },
 "nbformat": 4,
 "nbformat_minor": 2
}
