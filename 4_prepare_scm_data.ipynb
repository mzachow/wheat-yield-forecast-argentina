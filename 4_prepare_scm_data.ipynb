{
 "cells": [
  {
   "cell_type": "code",
   "execution_count": 216,
   "metadata": {},
   "outputs": [],
   "source": [
    "# Third-party Library Imports\n",
    "import pandas as pd\n",
    "import numpy as np\n",
    "import geopandas as gpd\n",
    "import seaborn as sns\n",
    "from sklearn.neighbors import BallTree\n",
    "from unidecode import unidecode\n",
    "from bias_correction import BiasCorrection\n",
    "from sklearn.metrics import (\n",
    "    r2_score,\n",
    "    mean_squared_error as mse,\n",
    ")\n",
    "\n",
    "import warnings\n",
    "warnings.simplefilter(action='ignore', category=FutureWarning)\n",
    "warnings.simplefilter(action='ignore', category=UserWarning)\n",
    "\n",
    "pd.set_option('display.max_columns', 500)"
   ]
  },
  {
   "attachments": {},
   "cell_type": "markdown",
   "metadata": {},
   "source": [
    "### 1. Read SCM & ERA data"
   ]
  },
  {
   "cell_type": "code",
   "execution_count": 217,
   "metadata": {},
   "outputs": [
    {
     "data": {
      "text/html": [
       "<div>\n",
       "<style scoped>\n",
       "    .dataframe tbody tr th:only-of-type {\n",
       "        vertical-align: middle;\n",
       "    }\n",
       "\n",
       "    .dataframe tbody tr th {\n",
       "        vertical-align: top;\n",
       "    }\n",
       "\n",
       "    .dataframe thead th {\n",
       "        text-align: right;\n",
       "    }\n",
       "</style>\n",
       "<table border=\"1\" class=\"dataframe\">\n",
       "  <thead>\n",
       "    <tr style=\"text-align: right;\">\n",
       "      <th></th>\n",
       "      <th>model</th>\n",
       "      <th>year</th>\n",
       "      <th>init_month</th>\n",
       "      <th>forecasted_month</th>\n",
       "      <th>rain</th>\n",
       "      <th>tmean</th>\n",
       "      <th>lat</th>\n",
       "      <th>lon</th>\n",
       "    </tr>\n",
       "  </thead>\n",
       "  <tbody>\n",
       "    <tr>\n",
       "      <th>186378</th>\n",
       "      <td>DWD</td>\n",
       "      <td>2015</td>\n",
       "      <td>10</td>\n",
       "      <td>10</td>\n",
       "      <td>0.000760</td>\n",
       "      <td>20.889673</td>\n",
       "      <td>-32.0</td>\n",
       "      <td>-67.0</td>\n",
       "    </tr>\n",
       "    <tr>\n",
       "      <th>118999</th>\n",
       "      <td>NCEP</td>\n",
       "      <td>2008</td>\n",
       "      <td>9</td>\n",
       "      <td>10</td>\n",
       "      <td>0.002315</td>\n",
       "      <td>16.800989</td>\n",
       "      <td>-36.0</td>\n",
       "      <td>-62.0</td>\n",
       "    </tr>\n",
       "  </tbody>\n",
       "</table>\n",
       "</div>"
      ],
      "text/plain": [
       "       model  year  init_month  forecasted_month      rain      tmean   lat  \\\n",
       "186378   DWD  2015          10                10  0.000760  20.889673 -32.0   \n",
       "118999  NCEP  2008           9                10  0.002315  16.800989 -36.0   \n",
       "\n",
       "         lon  \n",
       "186378 -67.0  \n",
       "118999 -62.0  "
      ]
     },
     "execution_count": 217,
     "metadata": {},
     "output_type": "execute_result"
    }
   ],
   "source": [
    "# Read ERA data\n",
    "era_final = pd.read_csv(\"files/ERA/processed/era_final_features.csv\")\n",
    "era_raw = pd.read_csv(\"files/ERA/processed/era_tmean_rain_all_departments.csv\").assign(model=\"ERA\", init_month=12)\n",
    "\n",
    "# Read and preprocess hindcast data from different climate models\n",
    "c3s = pd.read_csv(\"c3s/data/c3s_hindcasts.csv\")\n",
    "nmme = pd.read_csv(\"nmme/data/nmme_hindcasts.csv\")\n",
    "apcc = pd.read_csv(\"clik-apcc/data/apcc_hindcasts.csv\")\n",
    "scm = pd.concat([nmme, c3s, apcc], ignore_index=True).drop_duplicates()\n",
    "scm = scm.loc[(scm[\"year\"].between(1993, 2016)) & (scm[\"init_month\"].between(9, 11))].reset_index(drop=True)\n",
    "\n",
    "# Store variables used throughout the notebook\n",
    "climate_models = scm[\"model\"].unique().tolist()\n",
    "climate_models.sort()\n",
    "crop_seasons = scm[\"year\"].unique().tolist()\n",
    "relevant_municipalities = list(set([c.split(\"_\")[1] for c in era_final.columns if (\"rain\" in c) or (\"tmean\" in c)]))\n",
    "weather_columns_final = [c for c in era_final.columns if (\"rain\" in c) or (\"tmean\" in c)]\n",
    "\n",
    "# Extract raw weather columns based on basis expansion needed for final features\n",
    "weather_columns_raw = []\n",
    "new_dict = dict(zip([\"tmean\", \"rain\"], [dict.fromkeys([c.split(\"_\")[1] for c in weather_columns_final if (\"tmean\" in c)]),\n",
    "                                        dict.fromkeys([c.split(\"_\")[1] for c in weather_columns_final if (\"rain\" in c)])]))\n",
    "for var in new_dict:\n",
    "    for loc in new_dict[var]:\n",
    "        new_dict[var][loc] = list(set([int(c.split(\"_\")[-1]) for c in weather_columns_final if (var in c) and (loc in c)]))\n",
    "        for month in new_dict[var][loc]:\n",
    "            weather_columns_raw.append(\"{}_{}_{}\".format(var, loc, month))\n",
    "            \n",
    "era_raw = era_raw.loc[:, [\"year\", \"model\", \"init_month\"] + weather_columns_raw]\n",
    "\n",
    "# Display a random sample from the processed hindcast data\n",
    "scm.sample(2)\n"
   ]
  },
  {
   "cell_type": "markdown",
   "metadata": {},
   "source": [
    "### 2. Filter SCM locations\n",
    "\n",
    "**2.1 Obtain polygon shapes of relevant municipalities**\n",
    "\n",
    "To forecast wheat yield in Argentina, we use weather data from two locations - Buenos Aires Coronel Dorrego and Buenos Aires Hipolito Yrigoyen. SCM data is often provided in e.g. 1° x 1° or 2.5° x 2.5° grid cells. For each location, we need to find the *k* grid cells that are closest. "
   ]
  },
  {
   "cell_type": "code",
   "execution_count": 218,
   "metadata": {},
   "outputs": [
    {
     "data": {
      "text/plain": [
       "{'buenos aires coronel suarez': <POLYGON Z ((-61.603 -36.993 0, -61.735 -37.093 0, -61.735 -37.095 0, -61.73...>,\n",
       " 'buenos aires hipolito yrigoyen': <POLYGON Z ((-61.45 -36.052 0, -61.435 -36.039 0, -61.393 -36.072 0, -61.333...>}"
      ]
     },
     "execution_count": 218,
     "metadata": {},
     "output_type": "execute_result"
    }
   ],
   "source": [
    "gdf_adm2 = gpd.read_file(\"files/shapefiles/arg_admbnda_adm2_unhcr2017.shp\")[[\"ADM1_ES\", \"ADM2_ES\", \"geometry\"]]\n",
    "gdf_adm2[\"name\"] = gdf_adm2[[\"ADM1_ES\", \"ADM2_ES\"]].apply(lambda x: unidecode(x[0].lower()) + \" \" + unidecode(x[1].lower()), axis=1)\n",
    "gdf_adm2 = gdf_adm2.loc[gdf_adm2[\"name\"].isin(relevant_municipalities), [\"name\", \"geometry\"]].reset_index(drop=True)\n",
    "relevant_municipalities = gdf_adm2[\"name\"].unique().tolist()\n",
    "name_to_shape = gdf_adm2.set_index(\"name\")[\"geometry\"].to_dict()\n",
    "name_to_shape"
   ]
  },
  {
   "cell_type": "markdown",
   "metadata": {},
   "source": [
    "**2.2 Preview SCM locations and relevant municipality locations**"
   ]
  },
  {
   "cell_type": "code",
   "execution_count": 219,
   "metadata": {},
   "outputs": [
    {
     "data": {
      "text/plain": [
       "<Axes: >"
      ]
     },
     "execution_count": 219,
     "metadata": {},
     "output_type": "execute_result"
    },
    {
     "data": {
      "image/png": "[encoded data removed]",
      "text/plain": [
       "<Figure size 640x480 with 1 Axes>"
      ]
     },
     "metadata": {},
     "output_type": "display_data"
    }
   ],
   "source": [
    "# Convert SCM dataframe to geodataframe to facilitate spatial filtering in the next section\n",
    "scm = gpd.GeoDataFrame(scm, geometry=gpd.points_from_xy(scm[\"lon\"], scm[\"lat\"]), crs=\"EPSG:4326\")\n",
    "base = gdf_adm2[\"geometry\"].plot(edgecolor=\"black\")\n",
    "gpd.GeoDataFrame(scm.loc[:, [\"geometry\", \"lat\", \"lon\"]].drop_duplicates(), geometry=\"geometry\", crs=\"EPSG:4326\").plot(ax=base, color=\"black\", markersize=4)"
   ]
  },
  {
   "cell_type": "markdown",
   "metadata": {},
   "source": [
    "**2.3 Filter SCM hindcasts**\n",
    "\n",
    "For each relevant municipality, we select K grid cell locations from each SCM that are closest to that municipality. If a SCM has a sparse resolution, it may be that the same grid cell is used for both locations."
   ]
  },
  {
   "cell_type": "code",
   "execution_count": 249,
   "metadata": {},
   "outputs": [],
   "source": [
    "def get_nearest_neighbors(src_points, candidate_points, k_neighbors=2):\n",
    "    \"\"\"\n",
    "    Find k nearest neighbors for all source points from a set of candidate points\n",
    "    modified from: https://automating-gis-processes.github.io/site/notebooks/L3/nearest-neighbor-faster.html    \n",
    "    params:\n",
    "        src_points : geopandas.DataFrame Geometries to search from.\n",
    "        candidate_points : geopandas.DataFrame Geoemtries to be searched.\n",
    "        k_neighbors : int, optional Number of nearest neighbors. The default is 2.\n",
    "    returns:\n",
    "        tuple containing lists of indices of the closest and second closest locations \n",
    "    \"\"\"\n",
    "    src_points = [(x,y) for x,y in zip(src_points.geometry.centroid.x , src_points.geometry.centroid.y)]\n",
    "    candidates =  [(x,y) for x,y in zip(candidate_points.geometry.x , candidate_points.geometry.y)]\n",
    "    tree = BallTree(candidates, leaf_size=15, metric='euclidean')\n",
    "    distances, indices = tree.query(src_points, k=k_neighbors)\n",
    "    distances = distances.transpose()\n",
    "    indices = indices.transpose()\n",
    "    closest = indices[0]\n",
    "    second_closest = indices[1] \n",
    "\n",
    "    return (closest, second_closest)"
   ]
  },
  {
   "cell_type": "code",
   "execution_count": 250,
   "metadata": {},
   "outputs": [],
   "source": [
    "filtered_scm = []\n",
    "for model in climate_models:\n",
    "    coordinates_of_scm = scm.loc[scm[\"model\"] == model, [\"model\", \"geometry\"]].drop_duplicates().reset_index(drop=True).copy()\n",
    "    (ids_closest, ids_second_closest) = get_nearest_neighbors(gdf_adm2, coordinates_of_scm, 2)\n",
    "    filtered_coordinates = coordinates_of_scm.iloc[list(ids_closest) + list(ids_second_closest)].reset_index(drop=True)\n",
    "    filtered_coordinates = filtered_coordinates.assign(name=pd.Series(2 * relevant_municipalities))\n",
    "    filtered_scm.append(scm.loc[scm[\"model\"] == model].merge(filtered_coordinates[[\"name\", \"geometry\"]], on=\"geometry\", how=\"right\"))\n",
    "    \n",
    "filtered_scm = pd.concat(filtered_scm, ignore_index=True)"
   ]
  },
  {
   "cell_type": "code",
   "execution_count": 251,
   "metadata": {},
   "outputs": [
    {
     "data": {
      "text/plain": [
       "<Axes: >"
      ]
     },
     "execution_count": 251,
     "metadata": {},
     "output_type": "execute_result"
    },
    {
     "data": {
      "image/png": "[encoded data removed]",
      "text/plain": [
       "<Figure size 600x600 with 1 Axes>"
      ]
     },
     "metadata": {},
     "output_type": "display_data"
    }
   ],
   "source": [
    "base = gdf_adm2.plot(figsize=(6,6), edgecolor=\"black\", linewidth=.2)\n",
    "gpd.GeoDataFrame(filtered_scm[[\"geometry\", \"lat\", \"lon\"]].drop_duplicates(), geometry=\"geometry\", crs=\"EPSG:4326\").plot(ax=base,  color=\"black\")"
   ]
  },
  {
   "cell_type": "markdown",
   "metadata": {},
   "source": [
    "### 3. Bring SCM hindcasts into feature structure"
   ]
  },
  {
   "cell_type": "code",
   "execution_count": 252,
   "metadata": {},
   "outputs": [
    {
     "data": {
      "text/html": [
       "<div>\n",
       "<style scoped>\n",
       "    .dataframe tbody tr th:only-of-type {\n",
       "        vertical-align: middle;\n",
       "    }\n",
       "\n",
       "    .dataframe tbody tr th {\n",
       "        vertical-align: top;\n",
       "    }\n",
       "\n",
       "    .dataframe thead th {\n",
       "        text-align: right;\n",
       "    }\n",
       "</style>\n",
       "<table border=\"1\" class=\"dataframe\">\n",
       "  <thead>\n",
       "    <tr style=\"text-align: right;\">\n",
       "      <th></th>\n",
       "      <th>year</th>\n",
       "      <th>model</th>\n",
       "      <th>init_month</th>\n",
       "      <th>lat</th>\n",
       "      <th>lon</th>\n",
       "      <th>tmean_buenos aires coronel suarez_9</th>\n",
       "      <th>tmean_buenos aires coronel suarez_11</th>\n",
       "      <th>rain_buenos aires coronel suarez_9</th>\n",
       "      <th>rain_buenos aires coronel suarez_11</th>\n",
       "      <th>rain_buenos aires hipolito yrigoyen_9</th>\n",
       "    </tr>\n",
       "  </thead>\n",
       "  <tbody>\n",
       "    <tr>\n",
       "      <th>603</th>\n",
       "      <td>2001</td>\n",
       "      <td>CMCC</td>\n",
       "      <td>9</td>\n",
       "      <td>-36.0</td>\n",
       "      <td>-61.0</td>\n",
       "      <td>NaN</td>\n",
       "      <td>NaN</td>\n",
       "      <td>NaN</td>\n",
       "      <td>NaN</td>\n",
       "      <td>0.001507</td>\n",
       "    </tr>\n",
       "    <tr>\n",
       "      <th>2616</th>\n",
       "      <td>1995</td>\n",
       "      <td>KMA</td>\n",
       "      <td>11</td>\n",
       "      <td>-37.5</td>\n",
       "      <td>-62.5</td>\n",
       "      <td>NaN</td>\n",
       "      <td>19.024591</td>\n",
       "      <td>NaN</td>\n",
       "      <td>0.002304</td>\n",
       "      <td>NaN</td>\n",
       "    </tr>\n",
       "    <tr>\n",
       "      <th>3534</th>\n",
       "      <td>2005</td>\n",
       "      <td>NCEP</td>\n",
       "      <td>10</td>\n",
       "      <td>-36.0</td>\n",
       "      <td>-62.0</td>\n",
       "      <td>NaN</td>\n",
       "      <td>NaN</td>\n",
       "      <td>NaN</td>\n",
       "      <td>NaN</td>\n",
       "      <td>NaN</td>\n",
       "    </tr>\n",
       "  </tbody>\n",
       "</table>\n",
       "</div>"
      ],
      "text/plain": [
       "      year model  init_month   lat   lon  tmean_buenos aires coronel suarez_9  \\\n",
       "603   2001  CMCC           9 -36.0 -61.0                                  NaN   \n",
       "2616  1995   KMA          11 -37.5 -62.5                                  NaN   \n",
       "3534  2005  NCEP          10 -36.0 -62.0                                  NaN   \n",
       "\n",
       "      tmean_buenos aires coronel suarez_11  \\\n",
       "603                                    NaN   \n",
       "2616                             19.024591   \n",
       "3534                                   NaN   \n",
       "\n",
       "      rain_buenos aires coronel suarez_9  rain_buenos aires coronel suarez_11  \\\n",
       "603                                  NaN                                  NaN   \n",
       "2616                                 NaN                             0.002304   \n",
       "3534                                 NaN                                  NaN   \n",
       "\n",
       "      rain_buenos aires hipolito yrigoyen_9  \n",
       "603                                0.001507  \n",
       "2616                                    NaN  \n",
       "3534                                    NaN  "
      ]
     },
     "execution_count": 252,
     "metadata": {},
     "output_type": "execute_result"
    }
   ],
   "source": [
    "li =[]\n",
    "for m in relevant_municipalities:\n",
    "    df = filtered_scm.loc[filtered_scm[\"name\"] == m].pivot_table(\n",
    "        index=[\"model\", \"year\", \"init_month\", \"lat\", \"lon\"],\n",
    "        columns=[\"name\", \"forecasted_month\"],\n",
    "        values=[\"tmean\", \"rain\"]\n",
    "    ).reset_index()\n",
    "    df.columns = [\"{}_{}_{}\".format(c[0], c[1], c[2]) for c in df.columns]\n",
    "    df.columns = [c.strip(\"_\") for c in df.columns]\n",
    "    df = df.set_index([\"model\", \"year\", \"init_month\", \"lat\", \"lon\"])\n",
    "    li.append(df)\n",
    "\n",
    "scm_pivot = pd.concat(li, axis=1, join=\"outer\").reset_index().sort_values(by=[\"model\", \"year\", \"init_month\", \"lat\", \"lon\"]).reset_index(drop=True)\n",
    "scm_pivot = scm_pivot.loc[:, [\"year\", \"model\", \"init_month\"] + [\"lat\", \"lon\"] + weather_columns_raw]\n",
    "scm_pivot.sample(3)"
   ]
  },
  {
   "cell_type": "markdown",
   "metadata": {},
   "source": [
    "### 4. Adjust Bias"
   ]
  },
  {
   "cell_type": "code",
   "execution_count": 253,
   "metadata": {},
   "outputs": [],
   "source": [
    "def adjust_bias(observed, predicted, correction_method=\"basic_quantile\"):\n",
    "    \"\"\"apply bias-adjustment to monthly values of hindcasts.\n",
    "    \n",
    "    parameters:\n",
    "     - observed: observed climate data\n",
    "     - predicted: hindcast data\n",
    "     - correction_method: bias-correction method to be applied. Can be 'normal_mapping', 'basic_quantile', 'gamma_mapping', 'modified_quantile'\n",
    "    \n",
    "    returns: \n",
    "     - results: bias-adjusted hindcasts as dataframe  \n",
    "    \"\"\"\n",
    "    adjusted_models = []\n",
    "    for model in climate_models:\n",
    "        adjusted_init_months = []\n",
    "        for month in [9, 10, 11]:\n",
    "            adjusted_cols = []\n",
    "            for col in weather_columns_raw:\n",
    "                adjusted_years = []\n",
    "                for year in crop_seasons:\n",
    "                    observations_used_as_reference = observed.loc[(observed[\"model\"] == \"ERA\") & (observed[\"year\"] != year), col]\n",
    "                    hindcast_used_as_reference = predicted.loc[(predicted[\"model\"] == model) & (predicted[\"init_month\"] == month), col]\n",
    "                    hindcast_to_be_adjusted = predicted.loc[(predicted[\"model\"] == model) & (predicted[\"init_month\"] == month) & (predicted[\"year\"] == year), col].copy()\n",
    "                    y = predicted.loc[(predicted[\"model\"] == model) & (predicted[\"init_month\"] == month) & (predicted[\"year\"] == year), [\"model\", \"year\", \"init_month\"]].copy()\n",
    "                    # Perform bias-adjustment \n",
    "                    if int(col.split(\"_\")[-1]) >= month:\n",
    "                        bc_col = BiasCorrection(observations_used_as_reference, hindcast_used_as_reference, hindcast_to_be_adjusted)\n",
    "                        hindcast_to_be_adjusted = bc_col.correct(method=correction_method)\n",
    "                    hindcast_to_be_adjusted = pd.concat([y, hindcast_to_be_adjusted], axis=1)\n",
    "                    adjusted_years.append(hindcast_to_be_adjusted)\n",
    "                adjusted_years = pd.concat(adjusted_years)\n",
    "                adjusted_cols.append(adjusted_years)\n",
    "            adjusted_cols = pd.concat(adjusted_cols, axis=1)\n",
    "            adjusted_cols = adjusted_cols.loc[:,~adjusted_cols.columns.duplicated()]\n",
    "            adjusted_init_months.append(adjusted_cols)\n",
    "        adjusted_init_months = pd.concat(adjusted_init_months)\n",
    "        adjusted_models.append(adjusted_init_months)\n",
    "    adjusted_models = pd.concat(adjusted_models).sort_values(by=[\"model\", \"year\", \"init_month\"])\n",
    "    return adjusted_models"
   ]
  },
  {
   "cell_type": "code",
   "execution_count": 254,
   "metadata": {},
   "outputs": [
    {
     "data": {
      "text/html": [
       "<div>\n",
       "<style scoped>\n",
       "    .dataframe tbody tr th:only-of-type {\n",
       "        vertical-align: middle;\n",
       "    }\n",
       "\n",
       "    .dataframe tbody tr th {\n",
       "        vertical-align: top;\n",
       "    }\n",
       "\n",
       "    .dataframe thead th {\n",
       "        text-align: right;\n",
       "    }\n",
       "</style>\n",
       "<table border=\"1\" class=\"dataframe\">\n",
       "  <thead>\n",
       "    <tr style=\"text-align: right;\">\n",
       "      <th></th>\n",
       "      <th>model</th>\n",
       "      <th>year</th>\n",
       "      <th>init_month</th>\n",
       "      <th>tmean_buenos aires coronel suarez_9</th>\n",
       "      <th>tmean_buenos aires coronel suarez_11</th>\n",
       "      <th>rain_buenos aires coronel suarez_9</th>\n",
       "      <th>rain_buenos aires coronel suarez_11</th>\n",
       "      <th>rain_buenos aires hipolito yrigoyen_9</th>\n",
       "    </tr>\n",
       "  </thead>\n",
       "  <tbody>\n",
       "    <tr>\n",
       "      <th>1886</th>\n",
       "      <td>GFDL</td>\n",
       "      <td>1994</td>\n",
       "      <td>9</td>\n",
       "      <td>NaN</td>\n",
       "      <td>NaN</td>\n",
       "      <td>NaN</td>\n",
       "      <td>NaN</td>\n",
       "      <td>0.001571</td>\n",
       "    </tr>\n",
       "    <tr>\n",
       "      <th>3822</th>\n",
       "      <td>PNU</td>\n",
       "      <td>2009</td>\n",
       "      <td>11</td>\n",
       "      <td>NaN</td>\n",
       "      <td>16.070417</td>\n",
       "      <td>NaN</td>\n",
       "      <td>0.003898</td>\n",
       "      <td>NaN</td>\n",
       "    </tr>\n",
       "    <tr>\n",
       "      <th>2499</th>\n",
       "      <td>JMA</td>\n",
       "      <td>2006</td>\n",
       "      <td>11</td>\n",
       "      <td>NaN</td>\n",
       "      <td>15.761543</td>\n",
       "      <td>NaN</td>\n",
       "      <td>0.002591</td>\n",
       "      <td>NaN</td>\n",
       "    </tr>\n",
       "  </tbody>\n",
       "</table>\n",
       "</div>"
      ],
      "text/plain": [
       "     model  year  init_month  tmean_buenos aires coronel suarez_9  \\\n",
       "1886  GFDL  1994           9                                  NaN   \n",
       "3822   PNU  2009          11                                  NaN   \n",
       "2499   JMA  2006          11                                  NaN   \n",
       "\n",
       "      tmean_buenos aires coronel suarez_11  \\\n",
       "1886                                   NaN   \n",
       "3822                             16.070417   \n",
       "2499                             15.761543   \n",
       "\n",
       "      rain_buenos aires coronel suarez_9  rain_buenos aires coronel suarez_11  \\\n",
       "1886                                 NaN                                  NaN   \n",
       "3822                                 NaN                             0.003898   \n",
       "2499                                 NaN                             0.002591   \n",
       "\n",
       "      rain_buenos aires hipolito yrigoyen_9  \n",
       "1886                               0.001571  \n",
       "3822                                    NaN  \n",
       "2499                                    NaN  "
      ]
     },
     "execution_count": 254,
     "metadata": {},
     "output_type": "execute_result"
    }
   ],
   "source": [
    "scm_bias_adjusted = adjust_bias(era_raw, scm_pivot, \"basic_quantile\")\n",
    "scm_bias_adjusted.sample(3)"
   ]
  },
  {
   "cell_type": "markdown",
   "metadata": {},
   "source": [
    "### 5. Standardize and Basis Expansion\n",
    "\n",
    "Standardization is done through the LOYO-CV scheme, separately for each model."
   ]
  },
  {
   "cell_type": "code",
   "execution_count": 255,
   "metadata": {},
   "outputs": [],
   "source": [
    "def standardize_loyo(scm_df, era_df):\n",
    "    scm_df = scm_df.copy()\n",
    "    era_df = era_df.copy()\n",
    "    standardized_data = []\n",
    "    for model in scm_df[\"model\"].unique():\n",
    "        standardized_data_init_month = []\n",
    "        for month in scm_df[\"init_month\"].unique():\n",
    "            standardized_data_current_scm = []\n",
    "            for year in list(range(1993, 2017)):\n",
    "                # split\n",
    "                features_used_for_standardization = era_df.loc[(era_df[\"year\"] != year), [c for c in era_df.columns if (\"tmean\" in c) or (\"rain\" in c)]].reset_index(drop=True).copy()\n",
    "                features_to_standardize = scm_df.loc[(scm_df[\"year\"] == year) & (scm_df[\"model\"] == model) & (scm_df[\"init_month\"] == month), [c for c in scm_df.columns if (\"tmean\" in c) or (\"rain\" in c)]].reset_index(drop=True).copy()\n",
    "                #print(features_used_for_standardization)\n",
    "                # standardize\n",
    "                features_standardized = (features_to_standardize - features_used_for_standardization.mean()) / features_used_for_standardization.std()\n",
    "                # bring it together\n",
    "                year_model_init_month = scm_df.loc[(scm_df[\"year\"] == year) & (scm_df[\"model\"] == model) & (scm_df[\"init_month\"] == month), [\"year\", \"model\", \"init_month\"]].reset_index(drop=True)\n",
    "                standardized_df = pd.concat([year_model_init_month, features_standardized], axis=1)\n",
    "                standardized_df.loc[:, [c for c in [l for l in standardized_df.columns if (\"tmean\" in l) or (\"rain\" in l)] if (int(c.split(\"_\")[-1]) < month)]] = np.nan\n",
    "                standardized_data_current_scm.append(standardized_df)\n",
    "            current_scm_standardized = pd.concat(standardized_data_current_scm, ignore_index=True)\n",
    "            standardized_data_init_month.append(current_scm_standardized)\n",
    "        standardized_data_init_month = pd.concat(standardized_data_init_month)\n",
    "        standardized_data.append(standardized_data_init_month)\n",
    "    df_standardized = pd.concat(standardized_data)\n",
    "    return df_standardized\n",
    "\n",
    "def apply_basis_expansion(scm_df, era_raw_df, era_final_df, final_features):\n",
    "    \"\"\"\n",
    "    apply basis expansion to feature-dataframe and return as new dataframe, where original features are replaced with new ones.\n",
    "    params:\n",
    "        data: dataframe, with the original features; monthly tmean and monthly rainfall\n",
    "    returns:\n",
    "        data_expanded: dataframe, with original features and tmean_squared, rain_squared, and tmean_times_rain features\n",
    "    \"\"\"\n",
    "    df_standardized = standardize_loyo(scm_df, era_raw_df)\n",
    "    df_standardized = df_standardized.sort_values(by=[\"model\", \"year\", \"init_month\"]).set_index([\"model\", \"year\", \"init_month\"])\n",
    "\n",
    "    for col in final_features:\n",
    "        type_of_expansion = col.split(\"_\")[0]\n",
    "        location = col.split(\"_\")[1]\n",
    "        month = col.split(\"_\")[2]\n",
    "        \n",
    "        if type_of_expansion == \"tmeansquared\":\n",
    "            tmean = df_standardized[\"tmean_{}_{}\".format(location, month)]\n",
    "            df_standardized[col] = tmean.mul(tmean)\n",
    "        if type_of_expansion == \"rainsquared\":\n",
    "            rain = df_standardized[\"rain_{}_{}\".format(location, month)]\n",
    "            df_standardized[col] = rain.mul(rain)\n",
    "        if type_of_expansion == \"tmeanrain\":\n",
    "            tmean = df_standardized[\"tmean_{}_{}\".format(location, month)]\n",
    "            rain = df_standardized[\"rain_{}_{}\".format(location, month)]\n",
    "            df_standardized[col] = rain * tmean.values\n",
    "    \n",
    "    df_standardized = df_standardized[final_features].reset_index()\n",
    "    \n",
    "    # standardize expanded features again\n",
    "    df_standardized = standardize_loyo(df_standardized, era_final_df)\n",
    "    df_standardized = df_standardized.groupby([\"model\", \"year\", \"init_month\"]).mean()[final_features].reset_index()\n",
    "    \n",
    "    return df_standardized"
   ]
  },
  {
   "cell_type": "code",
   "execution_count": 256,
   "metadata": {},
   "outputs": [
    {
     "data": {
      "text/html": [
       "<div>\n",
       "<style scoped>\n",
       "    .dataframe tbody tr th:only-of-type {\n",
       "        vertical-align: middle;\n",
       "    }\n",
       "\n",
       "    .dataframe tbody tr th {\n",
       "        vertical-align: top;\n",
       "    }\n",
       "\n",
       "    .dataframe thead th {\n",
       "        text-align: right;\n",
       "    }\n",
       "</style>\n",
       "<table border=\"1\" class=\"dataframe\">\n",
       "  <thead>\n",
       "    <tr style=\"text-align: right;\">\n",
       "      <th></th>\n",
       "      <th>model</th>\n",
       "      <th>year</th>\n",
       "      <th>init_month</th>\n",
       "      <th>tmeanrain_buenos aires coronel suarez_9</th>\n",
       "      <th>rainsquared_buenos aires hipolito yrigoyen_9</th>\n",
       "      <th>tmeanrain_buenos aires coronel suarez_11</th>\n",
       "      <th>tmeansquared_buenos aires coronel suarez_11</th>\n",
       "    </tr>\n",
       "  </thead>\n",
       "  <tbody>\n",
       "    <tr>\n",
       "      <th>516</th>\n",
       "      <td>GFDL</td>\n",
       "      <td>1997</td>\n",
       "      <td>9</td>\n",
       "      <td>-0.157857</td>\n",
       "      <td>0.097315</td>\n",
       "      <td>-0.067271</td>\n",
       "      <td>0.196798</td>\n",
       "    </tr>\n",
       "    <tr>\n",
       "      <th>1103</th>\n",
       "      <td>UKMO</td>\n",
       "      <td>2000</td>\n",
       "      <td>11</td>\n",
       "      <td>NaN</td>\n",
       "      <td>NaN</td>\n",
       "      <td>0.447770</td>\n",
       "      <td>0.172850</td>\n",
       "    </tr>\n",
       "    <tr>\n",
       "      <th>681</th>\n",
       "      <td>JMA</td>\n",
       "      <td>2004</td>\n",
       "      <td>9</td>\n",
       "      <td>-0.144933</td>\n",
       "      <td>-0.038549</td>\n",
       "      <td>-0.082049</td>\n",
       "      <td>-0.077958</td>\n",
       "    </tr>\n",
       "  </tbody>\n",
       "</table>\n",
       "</div>"
      ],
      "text/plain": [
       "     model  year  init_month  tmeanrain_buenos aires coronel suarez_9  \\\n",
       "516   GFDL  1997           9                                -0.157857   \n",
       "1103  UKMO  2000          11                                      NaN   \n",
       "681    JMA  2004           9                                -0.144933   \n",
       "\n",
       "      rainsquared_buenos aires hipolito yrigoyen_9  \\\n",
       "516                                       0.097315   \n",
       "1103                                           NaN   \n",
       "681                                      -0.038549   \n",
       "\n",
       "      tmeanrain_buenos aires coronel suarez_11  \\\n",
       "516                                  -0.067271   \n",
       "1103                                  0.447770   \n",
       "681                                  -0.082049   \n",
       "\n",
       "      tmeansquared_buenos aires coronel suarez_11  \n",
       "516                                      0.196798  \n",
       "1103                                     0.172850  \n",
       "681                                     -0.077958  "
      ]
     },
     "execution_count": 256,
     "metadata": {},
     "output_type": "execute_result"
    }
   ],
   "source": [
    "scm_basis_expansion = apply_basis_expansion(scm_bias_adjusted, era_raw, era_final, weather_columns_final)\n",
    "scm_basis_expansion.sample(3)"
   ]
  },
  {
   "cell_type": "code",
   "execution_count": 258,
   "metadata": {},
   "outputs": [
    {
     "data": {
      "text/html": [
       "<div>\n",
       "<style scoped>\n",
       "    .dataframe tbody tr th:only-of-type {\n",
       "        vertical-align: middle;\n",
       "    }\n",
       "\n",
       "    .dataframe tbody tr th {\n",
       "        vertical-align: top;\n",
       "    }\n",
       "\n",
       "    .dataframe thead th {\n",
       "        text-align: right;\n",
       "    }\n",
       "</style>\n",
       "<table border=\"1\" class=\"dataframe\">\n",
       "  <thead>\n",
       "    <tr style=\"text-align: right;\">\n",
       "      <th></th>\n",
       "      <th>rainsquared_buenos aires hipolito yrigoyen_9</th>\n",
       "    </tr>\n",
       "  </thead>\n",
       "  <tbody>\n",
       "    <tr>\n",
       "      <th>567</th>\n",
       "      <td>5.627199</td>\n",
       "    </tr>\n",
       "  </tbody>\n",
       "</table>\n",
       "</div>"
      ],
      "text/plain": [
       "     rainsquared_buenos aires hipolito yrigoyen_9\n",
       "567                                      5.627199"
      ]
     },
     "execution_count": 258,
     "metadata": {},
     "output_type": "execute_result"
    }
   ],
   "source": [
    "scm_basis_expansion.loc[(scm_basis_expansion[\"model\"] == \"GFDL\") & (scm_basis_expansion[\"init_month\"] == 9) & (scm_basis_expansion[\"year\"] == 2014), [\"rainsquared_buenos aires hipolito yrigoyen_9\"]]"
   ]
  },
  {
   "cell_type": "code",
   "execution_count": 259,
   "metadata": {},
   "outputs": [
    {
     "data": {
      "text/html": [
       "<div>\n",
       "<style scoped>\n",
       "    .dataframe tbody tr th:only-of-type {\n",
       "        vertical-align: middle;\n",
       "    }\n",
       "\n",
       "    .dataframe tbody tr th {\n",
       "        vertical-align: top;\n",
       "    }\n",
       "\n",
       "    .dataframe thead th {\n",
       "        text-align: right;\n",
       "    }\n",
       "</style>\n",
       "<table border=\"1\" class=\"dataframe\">\n",
       "  <thead>\n",
       "    <tr style=\"text-align: right;\">\n",
       "      <th></th>\n",
       "      <th>rain_buenos aires hipolito yrigoyen_9</th>\n",
       "    </tr>\n",
       "  </thead>\n",
       "  <tbody>\n",
       "    <tr>\n",
       "      <th>2124</th>\n",
       "      <td>NaN</td>\n",
       "    </tr>\n",
       "    <tr>\n",
       "      <th>2125</th>\n",
       "      <td>NaN</td>\n",
       "    </tr>\n",
       "    <tr>\n",
       "      <th>2126</th>\n",
       "      <td>0.005515</td>\n",
       "    </tr>\n",
       "    <tr>\n",
       "      <th>2127</th>\n",
       "      <td>0.006151</td>\n",
       "    </tr>\n",
       "  </tbody>\n",
       "</table>\n",
       "</div>"
      ],
      "text/plain": [
       "      rain_buenos aires hipolito yrigoyen_9\n",
       "2124                                    NaN\n",
       "2125                                    NaN\n",
       "2126                               0.005515\n",
       "2127                               0.006151"
      ]
     },
     "execution_count": 259,
     "metadata": {},
     "output_type": "execute_result"
    }
   ],
   "source": [
    "scm_bias_adjusted.loc[(scm_bias_adjusted[\"model\"] == \"GFDL\") & (scm_bias_adjusted[\"init_month\"] == 9) & (scm_bias_adjusted[\"year\"] == 2014), [\"rain_buenos aires hipolito yrigoyen_9\"]]"
   ]
  },
  {
   "cell_type": "code",
   "execution_count": 260,
   "metadata": {},
   "outputs": [
    {
     "data": {
      "text/html": [
       "<div>\n",
       "<style scoped>\n",
       "    .dataframe tbody tr th:only-of-type {\n",
       "        vertical-align: middle;\n",
       "    }\n",
       "\n",
       "    .dataframe tbody tr th {\n",
       "        vertical-align: top;\n",
       "    }\n",
       "\n",
       "    .dataframe thead th {\n",
       "        text-align: right;\n",
       "    }\n",
       "</style>\n",
       "<table border=\"1\" class=\"dataframe\">\n",
       "  <thead>\n",
       "    <tr style=\"text-align: right;\">\n",
       "      <th></th>\n",
       "      <th>rain_buenos aires hipolito yrigoyen_9</th>\n",
       "    </tr>\n",
       "  </thead>\n",
       "  <tbody>\n",
       "    <tr>\n",
       "      <th>3348</th>\n",
       "      <td>NaN</td>\n",
       "    </tr>\n",
       "    <tr>\n",
       "      <th>3349</th>\n",
       "      <td>NaN</td>\n",
       "    </tr>\n",
       "    <tr>\n",
       "      <th>3350</th>\n",
       "      <td>0.003355</td>\n",
       "    </tr>\n",
       "    <tr>\n",
       "      <th>3351</th>\n",
       "      <td>0.003362</td>\n",
       "    </tr>\n",
       "  </tbody>\n",
       "</table>\n",
       "</div>"
      ],
      "text/plain": [
       "      rain_buenos aires hipolito yrigoyen_9\n",
       "3348                                    NaN\n",
       "3349                                    NaN\n",
       "3350                               0.003355\n",
       "3351                               0.003362"
      ]
     },
     "execution_count": 260,
     "metadata": {},
     "output_type": "execute_result"
    }
   ],
   "source": [
    "scm_bias_adjusted.loc[(scm_bias_adjusted[\"model\"] == \"NASA\") & (scm_bias_adjusted[\"init_month\"] == 9) & (scm_bias_adjusted[\"year\"] == 2014), [\"rain_buenos aires hipolito yrigoyen_9\"]]"
   ]
  },
  {
   "cell_type": "code",
   "execution_count": 261,
   "metadata": {},
   "outputs": [
    {
     "data": {
      "text/html": [
       "<div>\n",
       "<style scoped>\n",
       "    .dataframe tbody tr th:only-of-type {\n",
       "        vertical-align: middle;\n",
       "    }\n",
       "\n",
       "    .dataframe tbody tr th {\n",
       "        vertical-align: top;\n",
       "    }\n",
       "\n",
       "    .dataframe thead th {\n",
       "        text-align: right;\n",
       "    }\n",
       "</style>\n",
       "<table border=\"1\" class=\"dataframe\">\n",
       "  <thead>\n",
       "    <tr style=\"text-align: right;\">\n",
       "      <th></th>\n",
       "      <th>rain_buenos aires hipolito yrigoyen_9</th>\n",
       "    </tr>\n",
       "  </thead>\n",
       "  <tbody>\n",
       "    <tr>\n",
       "      <th>21</th>\n",
       "      <td>0.001556</td>\n",
       "    </tr>\n",
       "  </tbody>\n",
       "</table>\n",
       "</div>"
      ],
      "text/plain": [
       "    rain_buenos aires hipolito yrigoyen_9\n",
       "21                               0.001556"
      ]
     },
     "execution_count": 261,
     "metadata": {},
     "output_type": "execute_result"
    }
   ],
   "source": [
    "era_raw.loc[ (era_raw[\"year\"] == 2014), [\"rain_buenos aires hipolito yrigoyen_9\"]]"
   ]
  },
  {
   "cell_type": "code",
   "execution_count": 262,
   "metadata": {},
   "outputs": [
    {
     "data": {
      "text/html": [
       "<div>\n",
       "<style scoped>\n",
       "    .dataframe tbody tr th:only-of-type {\n",
       "        vertical-align: middle;\n",
       "    }\n",
       "\n",
       "    .dataframe tbody tr th {\n",
       "        vertical-align: top;\n",
       "    }\n",
       "\n",
       "    .dataframe thead th {\n",
       "        text-align: right;\n",
       "    }\n",
       "</style>\n",
       "<table border=\"1\" class=\"dataframe\">\n",
       "  <thead>\n",
       "    <tr style=\"text-align: right;\">\n",
       "      <th></th>\n",
       "      <th>rainsquared_buenos aires hipolito yrigoyen_9</th>\n",
       "    </tr>\n",
       "  </thead>\n",
       "  <tbody>\n",
       "    <tr>\n",
       "      <th>21</th>\n",
       "      <td>-0.500335</td>\n",
       "    </tr>\n",
       "  </tbody>\n",
       "</table>\n",
       "</div>"
      ],
      "text/plain": [
       "    rainsquared_buenos aires hipolito yrigoyen_9\n",
       "21                                     -0.500335"
      ]
     },
     "execution_count": 262,
     "metadata": {},
     "output_type": "execute_result"
    }
   ],
   "source": [
    "era_final.loc[ (era_final[\"year\"] == 2014), [\"rainsquared_buenos aires hipolito yrigoyen_9\"]]"
   ]
  },
  {
   "cell_type": "markdown",
   "metadata": {},
   "source": [
    "### 6. Fill unskillful months with climatology"
   ]
  },
  {
   "cell_type": "markdown",
   "metadata": {},
   "source": [
    "#### 6.1 Detect unskillful SCM using out-of-sample R<sup>2</sup>"
   ]
  },
  {
   "cell_type": "code",
   "execution_count": 263,
   "metadata": {},
   "outputs": [
    {
     "data": {
      "text/html": [
       "<div>\n",
       "<style scoped>\n",
       "    .dataframe tbody tr th:only-of-type {\n",
       "        vertical-align: middle;\n",
       "    }\n",
       "\n",
       "    .dataframe tbody tr th {\n",
       "        vertical-align: top;\n",
       "    }\n",
       "\n",
       "    .dataframe thead th {\n",
       "        text-align: right;\n",
       "    }\n",
       "</style>\n",
       "<table border=\"1\" class=\"dataframe\">\n",
       "  <thead>\n",
       "    <tr style=\"text-align: right;\">\n",
       "      <th></th>\n",
       "      <th>BOM</th>\n",
       "      <th>CCSM4</th>\n",
       "      <th>CMCC</th>\n",
       "      <th>CWB</th>\n",
       "      <th>DWD</th>\n",
       "      <th>ECCC</th>\n",
       "      <th>ECMWF</th>\n",
       "      <th>GFDL</th>\n",
       "      <th>HMC</th>\n",
       "      <th>JMA</th>\n",
       "      <th>KMA</th>\n",
       "      <th>METFR</th>\n",
       "      <th>NASA</th>\n",
       "      <th>NCEP</th>\n",
       "      <th>PNU</th>\n",
       "      <th>UKMO</th>\n",
       "    </tr>\n",
       "  </thead>\n",
       "  <tbody>\n",
       "    <tr>\n",
       "      <th>tmeanrain_buenos aires coronel suarez_11</th>\n",
       "      <td>0.284813</td>\n",
       "      <td>0.106131</td>\n",
       "      <td>0.057501</td>\n",
       "      <td>0.273864</td>\n",
       "      <td>0.026523</td>\n",
       "      <td>0.199898</td>\n",
       "      <td>0.422996</td>\n",
       "      <td>0.309256</td>\n",
       "      <td>0.068990</td>\n",
       "      <td>0.135426</td>\n",
       "      <td>0.424636</td>\n",
       "      <td>0.088438</td>\n",
       "      <td>NaN</td>\n",
       "      <td>NaN</td>\n",
       "      <td>NaN</td>\n",
       "      <td>NaN</td>\n",
       "    </tr>\n",
       "    <tr>\n",
       "      <th>tmeansquared_buenos aires coronel suarez_11</th>\n",
       "      <td>0.496426</td>\n",
       "      <td>0.328780</td>\n",
       "      <td>0.374945</td>\n",
       "      <td>0.517165</td>\n",
       "      <td>0.092985</td>\n",
       "      <td>0.840169</td>\n",
       "      <td>0.853244</td>\n",
       "      <td>0.755283</td>\n",
       "      <td>0.457864</td>\n",
       "      <td>0.273923</td>\n",
       "      <td>0.590114</td>\n",
       "      <td>0.331835</td>\n",
       "      <td>0.599531</td>\n",
       "      <td>0.217347</td>\n",
       "      <td>0.214969</td>\n",
       "      <td>0.174854</td>\n",
       "    </tr>\n",
       "  </tbody>\n",
       "</table>\n",
       "</div>"
      ],
      "text/plain": [
       "                                                  BOM     CCSM4      CMCC  \\\n",
       "tmeanrain_buenos aires coronel suarez_11     0.284813  0.106131  0.057501   \n",
       "tmeansquared_buenos aires coronel suarez_11  0.496426  0.328780  0.374945   \n",
       "\n",
       "                                                  CWB       DWD      ECCC  \\\n",
       "tmeanrain_buenos aires coronel suarez_11     0.273864  0.026523  0.199898   \n",
       "tmeansquared_buenos aires coronel suarez_11  0.517165  0.092985  0.840169   \n",
       "\n",
       "                                                ECMWF      GFDL       HMC  \\\n",
       "tmeanrain_buenos aires coronel suarez_11     0.422996  0.309256  0.068990   \n",
       "tmeansquared_buenos aires coronel suarez_11  0.853244  0.755283  0.457864   \n",
       "\n",
       "                                                  JMA       KMA     METFR  \\\n",
       "tmeanrain_buenos aires coronel suarez_11     0.135426  0.424636  0.088438   \n",
       "tmeansquared_buenos aires coronel suarez_11  0.273923  0.590114  0.331835   \n",
       "\n",
       "                                                 NASA      NCEP       PNU  \\\n",
       "tmeanrain_buenos aires coronel suarez_11          NaN       NaN       NaN   \n",
       "tmeansquared_buenos aires coronel suarez_11  0.599531  0.217347  0.214969   \n",
       "\n",
       "                                                 UKMO  \n",
       "tmeanrain_buenos aires coronel suarez_11          NaN  \n",
       "tmeansquared_buenos aires coronel suarez_11  0.174854  "
      ]
     },
     "execution_count": 263,
     "metadata": {},
     "output_type": "execute_result"
    }
   ],
   "source": [
    "def r2_by_feature_init_month_and_scm(init_month, climate_models, era_df, scm_df, features):\n",
    "    model_to_col_to_r2 = dict.fromkeys(climate_models)\n",
    "    loyo_mean = (era_df[features].sum() - era_df[features]) / (era_df.shape[0] - 1)\n",
    "    \n",
    "    for model in climate_models:\n",
    "        forecasted_scm = scm_df.xs(init_month, level=2, drop_level=True).xs(model, level=0, drop_level=True)[features]\n",
    "        \n",
    "        ss_total = mse(era_df[features], loyo_mean, multioutput=\"raw_values\")\n",
    "        ss_model = mse(era_df[features], forecasted_scm, multioutput=\"raw_values\")\n",
    "        \n",
    "        current_r2 = 1 - ( ss_model / ss_total )\n",
    "        model_to_col_to_r2[model] = dict(zip(features, current_r2))\n",
    "\n",
    "    model_to_col_to_r2 = pd.DataFrame(model_to_col_to_r2)\n",
    "    model_to_col_to_r2[model_to_col_to_r2 < 0] = np.nan\n",
    "    return model_to_col_to_r2\n",
    "\n",
    "r2_9 = r2_by_feature_init_month_and_scm(9, climate_models, era_final, scm_basis_expansion.set_index([\"model\", \"year\", \"init_month\"]), weather_columns_final)\n",
    "r2_10 = r2_by_feature_init_month_and_scm(10, climate_models, era_final, scm_basis_expansion.set_index([\"model\", \"year\", \"init_month\"]), [c for c in weather_columns_final if (\"_9\" not in c)])\n",
    "r2_11 = r2_by_feature_init_month_and_scm(11, climate_models, era_final, scm_basis_expansion.set_index([\"model\", \"year\", \"init_month\"]), [c for c in weather_columns_final if (\"_11\" in c)])\n",
    "\n",
    "#r2_by_init = r2_9.merge(r2_10.merge(r2_11, left_index=True, right_index=True, suffixes=(\"\", \"_11\"), how=\"outer\"), left_index=True, right_index=True, suffixes=(\"_9\", \"_10\"), how=\"outer\")\n",
    "r2_by_init = pd.concat([r2_9, r2_10, r2_11])\n",
    "r2_10"
   ]
  },
  {
   "cell_type": "markdown",
   "metadata": {},
   "source": [
    "### 5. Fill past months with ERA data"
   ]
  },
  {
   "cell_type": "code",
   "execution_count": 264,
   "metadata": {},
   "outputs": [
    {
     "data": {
      "text/html": [
       "<div>\n",
       "<style scoped>\n",
       "    .dataframe tbody tr th:only-of-type {\n",
       "        vertical-align: middle;\n",
       "    }\n",
       "\n",
       "    .dataframe tbody tr th {\n",
       "        vertical-align: top;\n",
       "    }\n",
       "\n",
       "    .dataframe thead th {\n",
       "        text-align: right;\n",
       "    }\n",
       "</style>\n",
       "<table border=\"1\" class=\"dataframe\">\n",
       "  <thead>\n",
       "    <tr style=\"text-align: right;\">\n",
       "      <th></th>\n",
       "      <th>year</th>\n",
       "      <th>model</th>\n",
       "      <th>init_month</th>\n",
       "      <th>yield anomaly [%]</th>\n",
       "      <th>tmeanrain_buenos aires coronel suarez_9</th>\n",
       "      <th>rainsquared_buenos aires hipolito yrigoyen_9</th>\n",
       "      <th>tmeanrain_buenos aires coronel suarez_11</th>\n",
       "      <th>tmeansquared_buenos aires coronel suarez_11</th>\n",
       "    </tr>\n",
       "  </thead>\n",
       "  <tbody>\n",
       "    <tr>\n",
       "      <th>301</th>\n",
       "      <td>1997</td>\n",
       "      <td>DWD</td>\n",
       "      <td>10</td>\n",
       "      <td>0.175913</td>\n",
       "      <td>0.760139</td>\n",
       "      <td>-0.440915</td>\n",
       "      <td>0.239233</td>\n",
       "      <td>0.121440</td>\n",
       "    </tr>\n",
       "    <tr>\n",
       "      <th>147</th>\n",
       "      <td>1994</td>\n",
       "      <td>CMCC</td>\n",
       "      <td>9</td>\n",
       "      <td>0.018138</td>\n",
       "      <td>0.564335</td>\n",
       "      <td>0.229198</td>\n",
       "      <td>0.015063</td>\n",
       "      <td>0.117727</td>\n",
       "    </tr>\n",
       "    <tr>\n",
       "      <th>297</th>\n",
       "      <td>1996</td>\n",
       "      <td>DWD</td>\n",
       "      <td>9</td>\n",
       "      <td>0.040968</td>\n",
       "      <td>0.013946</td>\n",
       "      <td>-0.089579</td>\n",
       "      <td>-0.560501</td>\n",
       "      <td>0.433031</td>\n",
       "    </tr>\n",
       "    <tr>\n",
       "      <th>173</th>\n",
       "      <td>2002</td>\n",
       "      <td>CMCC</td>\n",
       "      <td>11</td>\n",
       "      <td>-0.159990</td>\n",
       "      <td>0.523275</td>\n",
       "      <td>-0.640879</td>\n",
       "      <td>-0.050151</td>\n",
       "      <td>-0.021347</td>\n",
       "    </tr>\n",
       "    <tr>\n",
       "      <th>254</th>\n",
       "      <td>2005</td>\n",
       "      <td>CWB</td>\n",
       "      <td>11</td>\n",
       "      <td>0.029549</td>\n",
       "      <td>0.425555</td>\n",
       "      <td>-0.582333</td>\n",
       "      <td>-0.135345</td>\n",
       "      <td>-0.060463</td>\n",
       "    </tr>\n",
       "  </tbody>\n",
       "</table>\n",
       "</div>"
      ],
      "text/plain": [
       "     year model  init_month  yield anomaly [%]  \\\n",
       "301  1997   DWD          10           0.175913   \n",
       "147  1994  CMCC           9           0.018138   \n",
       "297  1996   DWD           9           0.040968   \n",
       "173  2002  CMCC          11          -0.159990   \n",
       "254  2005   CWB          11           0.029549   \n",
       "\n",
       "     tmeanrain_buenos aires coronel suarez_9  \\\n",
       "301                                 0.760139   \n",
       "147                                 0.564335   \n",
       "297                                 0.013946   \n",
       "173                                 0.523275   \n",
       "254                                 0.425555   \n",
       "\n",
       "     rainsquared_buenos aires hipolito yrigoyen_9  \\\n",
       "301                                     -0.440915   \n",
       "147                                      0.229198   \n",
       "297                                     -0.089579   \n",
       "173                                     -0.640879   \n",
       "254                                     -0.582333   \n",
       "\n",
       "     tmeanrain_buenos aires coronel suarez_11  \\\n",
       "301                                  0.239233   \n",
       "147                                  0.015063   \n",
       "297                                 -0.560501   \n",
       "173                                 -0.050151   \n",
       "254                                 -0.135345   \n",
       "\n",
       "     tmeansquared_buenos aires coronel suarez_11  \n",
       "301                                     0.121440  \n",
       "147                                     0.117727  \n",
       "297                                     0.433031  \n",
       "173                                    -0.021347  \n",
       "254                                    -0.060463  "
      ]
     },
     "execution_count": 264,
     "metadata": {},
     "output_type": "execute_result"
    }
   ],
   "source": [
    "scm_yield = scm_basis_expansion.merge(era_final[[\"year\", \"yield anomaly [%]\"]], on=\"year\", how=\"left\")\n",
    "scm_yield = scm_yield[era_final.columns].set_index(\"year\").combine_first(era_final.set_index(\"year\")).reset_index()\n",
    "# Concat ERA with init_month = 12  \n",
    "scm_era = pd.concat([scm_yield, era_final], ignore_index=True)\n",
    "scm_era = scm_era.drop_duplicates().reset_index(drop=True)\n",
    "scm_era = scm_era.loc[scm_era[\"init_month\"] >= 9].sort_values(by=[\"model\", \"year\", \"init_month\"]).reset_index(drop=True)\n",
    "# Preview\n",
    "scm_era.sample(5)"
   ]
  },
  {
   "cell_type": "markdown",
   "metadata": {},
   "source": [
    "### 7. Analyse Bias"
   ]
  },
  {
   "cell_type": "code",
   "execution_count": 265,
   "metadata": {},
   "outputs": [],
   "source": [
    "# store variables that are used through this notebook\n",
    "init_months = scm_era[\"init_month\"].unique().tolist()\n",
    "init_months.remove(12)\n",
    "scm_models = [c for c in scm_era.model.unique().tolist() if c != \"ERA\"]\n",
    "weather_columns = [c for c in scm_era.columns if (\"rain\" in c) or (\"tmean\" in c)]"
   ]
  },
  {
   "cell_type": "code",
   "execution_count": 266,
   "metadata": {},
   "outputs": [],
   "source": [
    "scm_bias = scm_era.loc[scm_era[\"model\"].isin(scm_models)]\n",
    "era_bias = scm_era.loc[scm_era[\"model\"] == \"ERA\"].set_index(\"year\")[weather_columns]\n",
    "\n",
    "all_bias = []\n",
    "for model in scm_models:\n",
    "    for month in init_months:\n",
    "        current_scm = scm_bias.loc[(scm_bias[\"model\"] == model) & (scm_bias[\"init_month\"] == month)].set_index(\"year\")\n",
    "        current_scm_bias = abs(current_scm[weather_columns] - era_bias)\n",
    "        current_scm_info = current_scm[['model', 'init_month', 'yield anomaly [%]']]\n",
    "        current_scm_bias.loc[:, [c for c in weather_columns if int(c.split(\"_\")[-1]) < month]] = np.nan\n",
    "        current_scm = pd.concat([current_scm_info, current_scm_bias], axis=1).groupby(['model', 'init_month'])[weather_columns].mean().reset_index(drop=False)\n",
    "        #current_scm = pd.concat([current_scm_info, current_scm_bias], axis=1)[['model', 'init_month']+weather_columns]\n",
    "        all_bias.append(current_scm)\n",
    "all_bias = pd.concat(all_bias)"
   ]
  },
  {
   "cell_type": "code",
   "execution_count": 267,
   "metadata": {},
   "outputs": [],
   "source": [
    "all_bias = all_bias.set_index([\"model\", \"init_month\"]).stack().reset_index()\n",
    "all_bias.columns = [\"model\", \"init_month\", \"feature\", \"bias\"]"
   ]
  },
  {
   "cell_type": "code",
   "execution_count": 268,
   "metadata": {},
   "outputs": [
    {
     "data": {
      "text/plain": [
       "<Axes: ylabel='model'>"
      ]
     },
     "execution_count": 268,
     "metadata": {},
     "output_type": "execute_result"
    },
    {
     "data": {
      "image/png": "[encoded data removed]",
      "text/plain": [
       "<Figure size 640x480 with 2 Axes>"
      ]
     },
     "metadata": {},
     "output_type": "display_data"
    }
   ],
   "source": [
    "bias_heatmap = (all_bias.loc[(all_bias[\"init_month\"] == 9)].groupby(\"model\")[\"bias\"].mean().reset_index()\n",
    "                .merge(all_bias.loc[(all_bias[\"init_month\"] == 10)].groupby(\"model\")[\"bias\"].mean().reset_index()\n",
    "                        .merge(all_bias.loc[(all_bias[\"init_month\"] == 11)].groupby(\"model\")[\"bias\"].mean().reset_index(), on=\"model\", suffixes=(\"\", \"_11\")), on=\"model\", suffixes=(\"_9\", \"_10\"))\n",
    "                .round(2))\n",
    "sns.heatmap(bias_heatmap.set_index(\"model\"))"
   ]
  },
  {
   "cell_type": "code",
   "execution_count": 269,
   "metadata": {},
   "outputs": [
    {
     "data": {
      "text/plain": [
       "<Axes: xlabel='bias', ylabel='feature'>"
      ]
     },
     "execution_count": 269,
     "metadata": {},
     "output_type": "execute_result"
    },
    {
     "data": {
      "image/png": "[encoded data removed]",
      "text/plain": [
       "<Figure size 640x480 with 1 Axes>"
      ]
     },
     "metadata": {},
     "output_type": "display_data"
    }
   ],
   "source": [
    "sns.stripplot(data=all_bias.loc[(all_bias[\"init_month\"] == 10)], x=\"bias\", y=\"feature\", orient=\"h\", s=7, linewidth=0.5, alpha=.6, hue=\"model\", jitter=True, size=(20,20))"
   ]
  },
  {
   "cell_type": "markdown",
   "metadata": {},
   "source": [
    "## EXPORT"
   ]
  },
  {
   "cell_type": "code",
   "execution_count": 270,
   "metadata": {},
   "outputs": [],
   "source": [
    "scm_era.to_csv(\"files/ERA/processed/era_scm_final_features.csv\", index=False)"
   ]
  }
 ],
 "metadata": {
  "kernelspec": {
   "display_name": "global-yield-forecast",
   "language": "python",
   "name": "python3"
  },
  "language_info": {
   "codemirror_mode": {
    "name": "ipython",
    "version": 3
   },
   "file_extension": ".py",
   "mimetype": "text/x-python",
   "name": "python",
   "nbconvert_exporter": "python",
   "pygments_lexer": "ipython3",
   "version": "3.11.4"
  },
  "orig_nbformat": 4,
  "vscode": {
   "interpreter": {
    "hash": "1a13e9c38e230185871227d6dfdef7d2ccc917d443c4e26807339cda0e86f522"
   }
  }
 },
 "nbformat": 4,
 "nbformat_minor": 2
}
