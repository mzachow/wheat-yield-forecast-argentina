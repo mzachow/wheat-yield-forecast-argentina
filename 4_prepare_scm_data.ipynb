{
 "cells": [
  {
   "cell_type": "code",
   "execution_count": 1,
   "metadata": {},
   "outputs": [],
   "source": [
    "# Third-party Library Imports\n",
    "import pandas as pd\n",
    "import numpy as np\n",
    "import geopandas as gpd\n",
    "import matplotlib.pyplot as plt\n",
    "import seaborn as sns\n",
    "from unidecode import unidecode\n",
    "from bias_correction import BiasCorrection\n",
    "from sklearn.metrics import (\n",
    "    r2_score,\n",
    "    mean_squared_error as mse,\n",
    ")"
   ]
  },
  {
   "attachments": {},
   "cell_type": "markdown",
   "metadata": {},
   "source": [
    "### 1. Read SCM & ERA data"
   ]
  },
  {
   "cell_type": "code",
   "execution_count": 36,
   "metadata": {},
   "outputs": [
    {
     "data": {
      "text/html": [
       "<div>\n",
       "<style scoped>\n",
       "    .dataframe tbody tr th:only-of-type {\n",
       "        vertical-align: middle;\n",
       "    }\n",
       "\n",
       "    .dataframe tbody tr th {\n",
       "        vertical-align: top;\n",
       "    }\n",
       "\n",
       "    .dataframe thead th {\n",
       "        text-align: right;\n",
       "    }\n",
       "</style>\n",
       "<table border=\"1\" class=\"dataframe\">\n",
       "  <thead>\n",
       "    <tr style=\"text-align: right;\">\n",
       "      <th></th>\n",
       "      <th>model</th>\n",
       "      <th>year</th>\n",
       "      <th>init_month</th>\n",
       "      <th>forecasted_month</th>\n",
       "      <th>rain</th>\n",
       "      <th>tmean</th>\n",
       "      <th>lat</th>\n",
       "      <th>lon</th>\n",
       "    </tr>\n",
       "  </thead>\n",
       "  <tbody>\n",
       "    <tr>\n",
       "      <th>130346</th>\n",
       "      <td>CMCC</td>\n",
       "      <td>1999</td>\n",
       "      <td>10</td>\n",
       "      <td>11</td>\n",
       "      <td>0.000874</td>\n",
       "      <td>15.583887</td>\n",
       "      <td>-40.0</td>\n",
       "      <td>-69.0</td>\n",
       "    </tr>\n",
       "    <tr>\n",
       "      <th>324512</th>\n",
       "      <td>ECCC</td>\n",
       "      <td>2003</td>\n",
       "      <td>10</td>\n",
       "      <td>10</td>\n",
       "      <td>0.000785</td>\n",
       "      <td>12.912683</td>\n",
       "      <td>-29.0</td>\n",
       "      <td>-68.0</td>\n",
       "    </tr>\n",
       "    <tr>\n",
       "      <th>295425</th>\n",
       "      <td>UKMO</td>\n",
       "      <td>2006</td>\n",
       "      <td>11</td>\n",
       "      <td>11</td>\n",
       "      <td>0.003331</td>\n",
       "      <td>21.014368</td>\n",
       "      <td>-35.0</td>\n",
       "      <td>-61.0</td>\n",
       "    </tr>\n",
       "    <tr>\n",
       "      <th>328411</th>\n",
       "      <td>ECCC</td>\n",
       "      <td>2006</td>\n",
       "      <td>9</td>\n",
       "      <td>11</td>\n",
       "      <td>0.001544</td>\n",
       "      <td>11.617303</td>\n",
       "      <td>-35.0</td>\n",
       "      <td>-69.0</td>\n",
       "    </tr>\n",
       "    <tr>\n",
       "      <th>133159</th>\n",
       "      <td>CMCC</td>\n",
       "      <td>2001</td>\n",
       "      <td>10</td>\n",
       "      <td>11</td>\n",
       "      <td>0.001552</td>\n",
       "      <td>20.668817</td>\n",
       "      <td>-40.0</td>\n",
       "      <td>-64.0</td>\n",
       "    </tr>\n",
       "  </tbody>\n",
       "</table>\n",
       "</div>"
      ],
      "text/plain": [
       "       model  year  init_month  forecasted_month      rain      tmean   lat  \\\n",
       "130346  CMCC  1999          10                11  0.000874  15.583887 -40.0   \n",
       "324512  ECCC  2003          10                10  0.000785  12.912683 -29.0   \n",
       "295425  UKMO  2006          11                11  0.003331  21.014368 -35.0   \n",
       "328411  ECCC  2006           9                11  0.001544  11.617303 -35.0   \n",
       "133159  CMCC  2001          10                11  0.001552  20.668817 -40.0   \n",
       "\n",
       "         lon  \n",
       "130346 -69.0  \n",
       "324512 -68.0  \n",
       "295425 -61.0  \n",
       "328411 -69.0  \n",
       "133159 -64.0  "
      ]
     },
     "execution_count": 36,
     "metadata": {},
     "output_type": "execute_result"
    }
   ],
   "source": [
    "# Contains selected ERA-features, as identified in 3_yield_model_with_era.ipynb\n",
    "era_final = pd.read_csv(\"files/ERA/features/era_features_filtered_case11.csv\")\n",
    "era_raw = pd.read_csv(\"files/ERA/raw/era_basic_preprocessed_filtered_feature_structure_1993_2016.csv\")\n",
    "era_raw = era_raw.assign(model=\"ERA\", init_month=12)\n",
    "\n",
    "# Contains hindcasts as csv with basic preprocessing\n",
    "c3s = pd.read_csv(\"c3s/data/c3s_hindcasts.csv\")\n",
    "nmme = pd.read_csv(\"nmme/data/nmme_hindcasts.csv\")\n",
    "apcc = pd.read_csv(\"clik-apcc/data/apcc_hindcasts.csv\")\n",
    "\n",
    "# Concatenate SCM and filter by year\n",
    "scm = pd.concat([nmme, c3s, apcc], ignore_index=True).drop_duplicates()\n",
    "scm = scm.loc[(scm[\"year\"].between(1993, 2016)) & (scm[\"init_month\"].between(9, 11))].reset_index(drop=True)\n",
    "\n",
    "# Store variables that are used through this notebook\n",
    "init_months = scm[\"init_month\"].unique().tolist()\n",
    "scm_models = [c for c in scm.model.unique().tolist() if c != \"ERA\"]\n",
    "weather_columns_final = [c for c in era_final.columns if (\"rain\" in c) or (\"tmean\" in c)]\n",
    "crop_seasons = scm[\"year\"].unique().tolist()\n",
    "relevant_municipalities = list(set([c.split(\"_\")[1] for c in era_final.columns if (\"rain\" in c) or (\"tmean\" in c)]))\n",
    "\n",
    "new_dict = dict.fromkeys([\"tmean\", \"rain\"])\n",
    "new_dict[\"tmean\"] = dict.fromkeys([c.split(\"_\")[1] for c in weather_columns_final if (\"tmean\" in c)])\n",
    "new_dict[\"rain\"] = dict.fromkeys([c.split(\"_\")[1] for c in weather_columns_final if (\"rain\" in c)])\n",
    "for var in new_dict:\n",
    "    for loc in new_dict[var]:\n",
    "        new_dict[var][loc] = list(set([int(c.split(\"_\")[-1]) for c in weather_columns_final if (var in c) and (loc in c)]))\n",
    "weather_columns_raw = []\n",
    "for var in new_dict:\n",
    "    for loc in new_dict[var]:\n",
    "        for month in new_dict[var][loc]:\n",
    "            weather_columns_raw.append(\"{}_{}_{}\".format(var, loc, month))\n",
    "\n",
    "era_raw = era_raw.loc[:, [\"year\", \"model\", \"init_month\"] + weather_columns_raw]\n",
    "\n",
    "# Preview\n",
    "scm.sample(5)"
   ]
  },
  {
   "cell_type": "markdown",
   "metadata": {},
   "source": [
    "### 2. Filter SCM locations\n",
    "\n",
    "**2.1 Obtain polygon shapes of relevant municipalities**\n",
    "\n",
    "To forecast wheat yield in Argentina, we use weather data from two locations - Buenos Aires Coronel Dorrego and Buenos Aires Hipolito Yrigoyen. SCM data is often provided in e.g. 1° x 1° grid cells. For each location, we need to find the grid cells that are closest. "
   ]
  },
  {
   "cell_type": "code",
   "execution_count": 37,
   "metadata": {},
   "outputs": [
    {
     "data": {
      "text/plain": [
       "{'buenos aires coronel suarez': <POLYGON Z ((-61.603 -36.993 0, -61.735 -37.093 0, -61.735 -37.095 0, -61.73...>,\n",
       " 'buenos aires hipolito yrigoyen': <POLYGON Z ((-61.45 -36.052 0, -61.435 -36.039 0, -61.393 -36.072 0, -61.333...>}"
      ]
     },
     "execution_count": 37,
     "metadata": {},
     "output_type": "execute_result"
    }
   ],
   "source": [
    "# Read all polygon shapes of Argentinian municipalities\n",
    "gdf_adm2 = gpd.read_file(\"files/shapefiles/arg_admbnda_adm2_unhcr2017.shp\")[[\"ADM1_ES\", \"ADM2_ES\", \"geometry\"]]\n",
    "# Concatenate name of state and municipality\n",
    "gdf_adm2[\"name\"] = gdf_adm2[[\"ADM1_ES\", \"ADM2_ES\"]].apply(lambda x: unidecode(x[0].lower()) + \" \" + unidecode(x[1].lower()), axis=1)\n",
    "# Filter polygon shapes by the relevant municipalities\n",
    "gdf_adm2 = gdf_adm2.loc[gdf_adm2[\"name\"].isin(relevant_municipalities), [\"name\", \"geometry\"]].reset_index(drop=True)\n",
    "# Convert to dictionary for easier access\n",
    "name_to_shape = gdf_adm2.set_index(\"name\")[\"geometry\"].to_dict()\n",
    "# Preview\n",
    "name_to_shape"
   ]
  },
  {
   "cell_type": "markdown",
   "metadata": {},
   "source": [
    "**2.2 Preview SCM locations and relevant municipality locations**"
   ]
  },
  {
   "cell_type": "code",
   "execution_count": 40,
   "metadata": {},
   "outputs": [
    {
     "data": {
      "text/plain": [
       "<Axes: >"
      ]
     },
     "execution_count": 40,
     "metadata": {},
     "output_type": "execute_result"
    },
    {
     "data": {
      "image/png": "[encoded data removed]",
      "text/plain": [
       "<Figure size 600x600 with 1 Axes>"
      ]
     },
     "metadata": {},
     "output_type": "display_data"
    }
   ],
   "source": [
    "appc_models = [\"BOM\", \"CWB\", \"HMC\", \"KMA\", \"PNU\"]\n",
    "c3s_models = [\"CMCC\", \"DWD\", \"ECCC\", \"ECMWF\", \"JMA\", \"METFR\", \"UKMO\"]\n",
    "# Convert SCM dataframe to geodataframe to facilitate spatial filtering in the next section\n",
    "scm = gpd.GeoDataFrame(scm, geometry=gpd.points_from_xy(scm[\"lon\"], scm[\"lat\"]), crs=\"EPSG:4326\")\n",
    "\n",
    "# Preview SCM locations and municipality polygons\n",
    "base = gdf_adm2.plot(figsize=(6,6), linewidth=.2)\n",
    "gpd.GeoDataFrame(scm.loc[:, [\"geometry\", \"lat\", \"lon\"]].drop_duplicates(), geometry=\"geometry\", crs=\"EPSG:4326\").plot(ax=base,  color=\"black\", markersize=4)"
   ]
  },
  {
   "cell_type": "markdown",
   "metadata": {},
   "source": [
    "**2.3 Filter SCM hindcasts**\n",
    "\n",
    "For each relevant municipality, we select a grid cell location from each SCM that is closest to that municipality. If a SCM has a sparse resolution, it may be that the same grid cell is used for both locations."
   ]
  },
  {
   "cell_type": "code",
   "execution_count": 41,
   "metadata": {},
   "outputs": [],
   "source": [
    "filtered_scm = []\n",
    "for model in scm_models:\n",
    "    # Get current model and the lat-lon coordinates of its forecasts\n",
    "    current_model = scm.loc[scm[\"model\"] == model, [\"model\", \"lat\", \"lon\", \"geometry\"]].drop_duplicates()\n",
    "    selected_grid_cells = []\n",
    "    for count, municipality in enumerate(relevant_municipalities):\n",
    "        # Get the nearest lat-lon pair to all locations (municipalities)\n",
    "        grid_cell_for_current_municipality = pd.DataFrame(current_model.iloc[current_model.sindex.nearest(name_to_shape[municipality])[1][0]]).transpose().assign(location=municipality).reset_index(drop=True)\n",
    "        selected_grid_cells.append(grid_cell_for_current_municipality)\n",
    "    # Save in dataframe\n",
    "    selected_grid_cells = pd.concat(selected_grid_cells, ignore_index=True)\n",
    "    # The lat-lon pairs that are selected are merged with the name of their location; all other lat-lon pairs are dropped\n",
    "    current_model = current_model.merge(selected_grid_cells, on=[\"model\", \"lat\", \"lon\", \"geometry\"], how=\"left\").dropna()\n",
    "    # Append the locations for this model\n",
    "    filtered_scm.append(current_model)        \n",
    "filtered_scm = pd.concat(filtered_scm, ignore_index=True, axis=0)\n",
    "scm = scm.merge(filtered_scm, on=[\"model\", \"lat\", \"lon\", \"geometry\"]).dropna()\n",
    "#scm[\"location\"] = scm[\"location\"].str.replace(\"buenos aires \", \"\")"
   ]
  },
  {
   "cell_type": "code",
   "execution_count": 42,
   "metadata": {},
   "outputs": [
    {
     "data": {
      "text/plain": [
       "<Axes: >"
      ]
     },
     "execution_count": 42,
     "metadata": {},
     "output_type": "execute_result"
    },
    {
     "data": {
      "image/png": "[encoded data removed]",
      "text/plain": [
       "<Figure size 600x600 with 1 Axes>"
      ]
     },
     "metadata": {},
     "output_type": "display_data"
    }
   ],
   "source": [
    "base = gdf_adm2.plot(figsize=(6,6), edgecolor=\"black\", linewidth=.2)\n",
    "gpd.GeoDataFrame(scm[[\"geometry\", \"lat\", \"lon\"]].drop_duplicates(), geometry=\"geometry\", crs=\"EPSG:4326\").plot(ax=base,  color=\"black\")"
   ]
  },
  {
   "cell_type": "markdown",
   "metadata": {},
   "source": [
    "### 3. Bring SCM hindcasts into feature structure"
   ]
  },
  {
   "cell_type": "code",
   "execution_count": 43,
   "metadata": {},
   "outputs": [
    {
     "data": {
      "text/html": [
       "<div>\n",
       "<style scoped>\n",
       "    .dataframe tbody tr th:only-of-type {\n",
       "        vertical-align: middle;\n",
       "    }\n",
       "\n",
       "    .dataframe tbody tr th {\n",
       "        vertical-align: top;\n",
       "    }\n",
       "\n",
       "    .dataframe thead th {\n",
       "        text-align: right;\n",
       "    }\n",
       "</style>\n",
       "<table border=\"1\" class=\"dataframe\">\n",
       "  <thead>\n",
       "    <tr style=\"text-align: right;\">\n",
       "      <th></th>\n",
       "      <th>model</th>\n",
       "      <th>year</th>\n",
       "      <th>init_month</th>\n",
       "      <th>tmean_buenos aires coronel suarez_9</th>\n",
       "      <th>tmean_buenos aires coronel suarez_11</th>\n",
       "      <th>rain_buenos aires coronel suarez_9</th>\n",
       "      <th>rain_buenos aires coronel suarez_11</th>\n",
       "      <th>rain_buenos aires hipolito yrigoyen_9</th>\n",
       "    </tr>\n",
       "  </thead>\n",
       "  <tbody>\n",
       "    <tr>\n",
       "      <th>37</th>\n",
       "      <td>BOM</td>\n",
       "      <td>2005</td>\n",
       "      <td>10</td>\n",
       "      <td>NaN</td>\n",
       "      <td>19.835565</td>\n",
       "      <td>NaN</td>\n",
       "      <td>0.002502</td>\n",
       "      <td>NaN</td>\n",
       "    </tr>\n",
       "    <tr>\n",
       "      <th>442</th>\n",
       "      <td>ECMWF</td>\n",
       "      <td>1996</td>\n",
       "      <td>10</td>\n",
       "      <td>NaN</td>\n",
       "      <td>17.469293</td>\n",
       "      <td>NaN</td>\n",
       "      <td>0.002659</td>\n",
       "      <td>NaN</td>\n",
       "    </tr>\n",
       "    <tr>\n",
       "      <th>327</th>\n",
       "      <td>DWD</td>\n",
       "      <td>2006</td>\n",
       "      <td>9</td>\n",
       "      <td>10.762933</td>\n",
       "      <td>18.849603</td>\n",
       "      <td>0.002021</td>\n",
       "      <td>0.002786</td>\n",
       "      <td>0.002367</td>\n",
       "    </tr>\n",
       "  </tbody>\n",
       "</table>\n",
       "</div>"
      ],
      "text/plain": [
       "     model  year  init_month  tmean_buenos aires coronel suarez_9  \\\n",
       "37     BOM  2005          10                                  NaN   \n",
       "442  ECMWF  1996          10                                  NaN   \n",
       "327    DWD  2006           9                            10.762933   \n",
       "\n",
       "     tmean_buenos aires coronel suarez_11  rain_buenos aires coronel suarez_9  \\\n",
       "37                              19.835565                                 NaN   \n",
       "442                             17.469293                                 NaN   \n",
       "327                             18.849603                            0.002021   \n",
       "\n",
       "     rain_buenos aires coronel suarez_11  \\\n",
       "37                              0.002502   \n",
       "442                             0.002659   \n",
       "327                             0.002786   \n",
       "\n",
       "     rain_buenos aires hipolito yrigoyen_9  \n",
       "37                                     NaN  \n",
       "442                                    NaN  \n",
       "327                               0.002367  "
      ]
     },
     "execution_count": 43,
     "metadata": {},
     "output_type": "execute_result"
    }
   ],
   "source": [
    "# Bring NMME hindcasts into right structure where features are columns and rows are model-year-init_month\n",
    "scm_pivot = scm.pivot(index=[\"model\", \"year\", \"init_month\"], columns=[\"location\", \"forecasted_month\"], values=[\"tmean\", \"rain\"]).reset_index()\n",
    "scm_pivot.columns = [\"{}_{}_{}\".format(c[0], c[1], c[2]) for c in scm_pivot.columns]\n",
    "scm_pivot.columns = [c.strip(\"_\") for c in scm_pivot.columns]\n",
    "era_raw.columns = [\"year\", \"model\", \"init_month\"] + weather_columns_raw\n",
    "weather_columns_raw = [c for c in era_raw.columns if (\"rain\" in c) or (\"tmean\" in c)]\n",
    "scm_pivot = scm_pivot.loc[: , [c for c in scm_pivot.columns if c in era_raw.columns]]\n",
    "scm_pivot.sample(3)"
   ]
  },
  {
   "cell_type": "markdown",
   "metadata": {},
   "source": [
    "### 4. Adjust Bias"
   ]
  },
  {
   "cell_type": "code",
   "execution_count": 44,
   "metadata": {},
   "outputs": [],
   "source": [
    "def adjust_bias(observed, predicted, correction_method=\"basic_quantile\"):\n",
    "    \"\"\"Apply bias-adjustment to monthly values of hindcasts.\n",
    "    \n",
    "    parameters:\n",
    "     - observed: observed climate data\n",
    "     - predicted: hindcast data\n",
    "     - correction_method: bias-correction method to be applied. Can be 'normal_mapping', 'basic_quantile', 'gamma_mapping', 'modified_quantile'\n",
    "    \n",
    "    returns: \n",
    "     - results: bias-adjusted hindcasts as dataframe  \n",
    "    \"\"\"\n",
    "    adjusted_models = []\n",
    "    for model in scm_models:\n",
    "        adjusted_init_months = []\n",
    "        for month in [9, 10, 11]:\n",
    "            adjusted_cols = []\n",
    "            for col in weather_columns_raw:\n",
    "                adjusted_years = []\n",
    "                for year in crop_seasons:\n",
    "                    observations_used_as_reference = observed.loc[(observed[\"model\"] == \"ERA\") & (observed[\"year\"] != year), col]\n",
    "                    hindcast_used_as_reference = predicted.loc[(predicted[\"model\"] == model) & (predicted[\"init_month\"] == month), col]\n",
    "                    hindcast_to_be_adjusted = predicted.loc[(predicted[\"model\"] == model) & (predicted[\"init_month\"] == month) & (predicted[\"year\"] == year), col].copy()\n",
    "                    y = predicted.loc[(predicted[\"model\"] == model) & (predicted[\"init_month\"] == month) & (predicted[\"year\"] == year), [\"model\", \"year\", \"init_month\"]].copy()\n",
    "                    # Perform bias-adjustment \n",
    "                    if int(col.split(\"_\")[-1]) >= month:\n",
    "                        bc_col = BiasCorrection(observations_used_as_reference, hindcast_used_as_reference, hindcast_to_be_adjusted)\n",
    "                        hindcast_to_be_adjusted = bc_col.correct(method=correction_method)\n",
    "                    hindcast_to_be_adjusted = pd.concat([y, hindcast_to_be_adjusted], axis=1)\n",
    "                    adjusted_years.append(hindcast_to_be_adjusted)\n",
    "                adjusted_years = pd.concat(adjusted_years)\n",
    "                adjusted_cols.append(adjusted_years)\n",
    "            adjusted_cols = pd.concat(adjusted_cols, axis=1)\n",
    "            adjusted_cols = adjusted_cols.loc[:,~adjusted_cols.columns.duplicated()]\n",
    "            adjusted_init_months.append(adjusted_cols)\n",
    "        adjusted_init_months = pd.concat(adjusted_init_months)\n",
    "        adjusted_models.append(adjusted_init_months)\n",
    "    adjusted_models = pd.concat(adjusted_models).sort_values(by=[\"model\", \"year\", \"init_month\"])\n",
    "    return adjusted_models"
   ]
  },
  {
   "cell_type": "code",
   "execution_count": 45,
   "metadata": {},
   "outputs": [
    {
     "data": {
      "text/html": [
       "<div>\n",
       "<style scoped>\n",
       "    .dataframe tbody tr th:only-of-type {\n",
       "        vertical-align: middle;\n",
       "    }\n",
       "\n",
       "    .dataframe tbody tr th {\n",
       "        vertical-align: top;\n",
       "    }\n",
       "\n",
       "    .dataframe thead th {\n",
       "        text-align: right;\n",
       "    }\n",
       "</style>\n",
       "<table border=\"1\" class=\"dataframe\">\n",
       "  <thead>\n",
       "    <tr style=\"text-align: right;\">\n",
       "      <th></th>\n",
       "      <th>model</th>\n",
       "      <th>year</th>\n",
       "      <th>init_month</th>\n",
       "      <th>tmean_buenos aires coronel suarez_9</th>\n",
       "      <th>tmean_buenos aires coronel suarez_11</th>\n",
       "      <th>rain_buenos aires coronel suarez_9</th>\n",
       "      <th>rain_buenos aires coronel suarez_11</th>\n",
       "      <th>rain_buenos aires hipolito yrigoyen_9</th>\n",
       "    </tr>\n",
       "  </thead>\n",
       "  <tbody>\n",
       "    <tr>\n",
       "      <th>88</th>\n",
       "      <td>CCSM4</td>\n",
       "      <td>1998</td>\n",
       "      <td>10</td>\n",
       "      <td>NaN</td>\n",
       "      <td>17.933476</td>\n",
       "      <td>NaN</td>\n",
       "      <td>0.001908</td>\n",
       "      <td>NaN</td>\n",
       "    </tr>\n",
       "    <tr>\n",
       "      <th>904</th>\n",
       "      <td>NASA</td>\n",
       "      <td>2006</td>\n",
       "      <td>10</td>\n",
       "      <td>NaN</td>\n",
       "      <td>17.577207</td>\n",
       "      <td>NaN</td>\n",
       "      <td>0.004643</td>\n",
       "      <td>NaN</td>\n",
       "    </tr>\n",
       "    <tr>\n",
       "      <th>854</th>\n",
       "      <td>METFR</td>\n",
       "      <td>2013</td>\n",
       "      <td>11</td>\n",
       "      <td>NaN</td>\n",
       "      <td>17.647860</td>\n",
       "      <td>NaN</td>\n",
       "      <td>0.003099</td>\n",
       "      <td>NaN</td>\n",
       "    </tr>\n",
       "  </tbody>\n",
       "</table>\n",
       "</div>"
      ],
      "text/plain": [
       "     model  year  init_month  tmean_buenos aires coronel suarez_9  \\\n",
       "88   CCSM4  1998          10                                  NaN   \n",
       "904   NASA  2006          10                                  NaN   \n",
       "854  METFR  2013          11                                  NaN   \n",
       "\n",
       "     tmean_buenos aires coronel suarez_11  rain_buenos aires coronel suarez_9  \\\n",
       "88                              17.933476                                 NaN   \n",
       "904                             17.577207                                 NaN   \n",
       "854                             17.647860                                 NaN   \n",
       "\n",
       "     rain_buenos aires coronel suarez_11  \\\n",
       "88                              0.001908   \n",
       "904                             0.004643   \n",
       "854                             0.003099   \n",
       "\n",
       "     rain_buenos aires hipolito yrigoyen_9  \n",
       "88                                     NaN  \n",
       "904                                    NaN  \n",
       "854                                    NaN  "
      ]
     },
     "execution_count": 45,
     "metadata": {},
     "output_type": "execute_result"
    }
   ],
   "source": [
    "scm_bias_adjusted = adjust_bias(era_raw, scm_pivot, \"basic_quantile\")\n",
    "scm_bias_adjusted.sample(3)"
   ]
  },
  {
   "cell_type": "markdown",
   "metadata": {},
   "source": [
    "### Fill with climatology"
   ]
  },
  {
   "cell_type": "code",
   "execution_count": 166,
   "metadata": {},
   "outputs": [],
   "source": [
    "def r2_by_feature_init_month_and_scm(init_month, climate_models, era_df, scm_df, features):\n",
    "    model_to_col_to_r2 = dict.fromkeys(climate_models)\n",
    "    for model in climate_models:\n",
    "        # Get forecasted features for model and init month, with year as index and all weather columns\n",
    "        forecasted_scm = scm_df.xs(init_month, level=2, drop_level=True).xs(model, level=0, drop_level=True)[features]\n",
    "        # Calculate LOYO mean of ERA\n",
    "        loyo_mean = (era_df[features].sum() - era_df[features]) / (era_df.shape[0] - 1)\n",
    "        \n",
    "        ss_total = mse(era_df[features], loyo_mean, multioutput=\"raw_values\")\n",
    "        ss_model = mse(era_df[features], forecasted_scm, multioutput=\"raw_values\")\n",
    "        \n",
    "        current_r2 = 1 - ( ss_model / ss_total )\n",
    "        \n",
    "        model_to_col_to_r2[model] = dict(zip(features, current_r2))\n",
    "    model_to_col_to_r2 = pd.DataFrame(model_to_col_to_r2)\n",
    "    model_to_col_to_r2[model_to_col_to_r2 < 0] = np.nan\n",
    "    return model_to_col_to_r2"
   ]
  },
  {
   "cell_type": "code",
   "execution_count": 167,
   "metadata": {},
   "outputs": [
    {
     "data": {
      "text/plain": [
       "level_0\n",
       "tmean_buenos aires coronel suarez_11    [NASA]\n",
       "Name: level_1, dtype: object"
      ]
     },
     "execution_count": 167,
     "metadata": {},
     "output_type": "execute_result"
    }
   ],
   "source": [
    "r2_9 = r2_by_feature_init_month_and_scm(9, scm_models, era_raw, scm_bias_adjusted.set_index([\"model\", \"year\", \"init_month\"]), weather_columns_raw)\n",
    "r2_9.stack().reset_index().groupby(\"level_0\")[\"level_1\"].apply(list)"
   ]
  },
  {
   "cell_type": "code",
   "execution_count": 168,
   "metadata": {},
   "outputs": [
    {
     "data": {
      "text/plain": [
       "level_0\n",
       "tmean_buenos aires coronel suarez_11    [CMCC, ECCC, ECMWF, GFDL, JMA, NASA]\n",
       "Name: level_1, dtype: object"
      ]
     },
     "execution_count": 168,
     "metadata": {},
     "output_type": "execute_result"
    }
   ],
   "source": [
    "r2_10 = r2_by_feature_init_month_and_scm(10, scm_models, era_raw, scm_bias_adjusted.set_index([\"model\", \"year\", \"init_month\"]), [c for c in weather_columns_raw if (\"_9\" not in c)])\n",
    "r2_10.stack().reset_index().groupby(\"level_0\")[\"level_1\"].apply(list)"
   ]
  },
  {
   "cell_type": "code",
   "execution_count": 169,
   "metadata": {},
   "outputs": [
    {
     "data": {
      "text/plain": [
       "level_0\n",
       "rain_buenos aires coronel suarez_11                      [ECCC, ECMWF, GFDL, UKMO]\n",
       "tmean_buenos aires coronel suarez_11    [BOM, ECCC, ECMWF, KMA, METFR, NASA, NCEP]\n",
       "Name: level_1, dtype: object"
      ]
     },
     "execution_count": 169,
     "metadata": {},
     "output_type": "execute_result"
    }
   ],
   "source": [
    "r2_11 = r2_by_feature_init_month_and_scm(11, scm_models, era_raw, scm_bias_adjusted.set_index([\"model\", \"year\", \"init_month\"]), [c for c in weather_columns_raw if (\"_11\" in c)])\n",
    "r2_11.stack().reset_index().groupby(\"level_0\")[\"level_1\"].apply(list)"
   ]
  },
  {
   "cell_type": "code",
   "execution_count": 170,
   "metadata": {},
   "outputs": [],
   "source": [
    "init_month_to_skill = dict.fromkeys([9, 10, 11])\n",
    "init_month_to_skill[9] = r2_9.stack().reset_index().groupby(\"level_0\")[\"level_1\"].apply(list).to_dict()\n",
    "init_month_to_skill[10] = r2_10.stack().reset_index().groupby(\"level_0\")[\"level_1\"].apply(list).to_dict()\n",
    "init_month_to_skill[11] = r2_11.stack().reset_index().groupby(\"level_0\")[\"level_1\"].apply(list).to_dict()"
   ]
  },
  {
   "cell_type": "code",
   "execution_count": 171,
   "metadata": {},
   "outputs": [],
   "source": [
    "era_climatology = era_raw.loc[:, [\"year\"] + weather_columns_raw].set_index(\"year\")\n",
    "era_climatology = (era_climatology.sum() - era_climatology) / (era_climatology.shape[0] - 1)\n",
    "era_climatology = era_climatology.reset_index()\n",
    "\n",
    "# LOYO Climatology\n",
    "era_columns_no_skill_sep = [c for c in weather_columns_raw if c not in list(init_month_to_skill[9].keys())]\n",
    "era_columns_no_skill_oct = [c for c in weather_columns_raw if c not in list(init_month_to_skill[10].keys())]\n",
    "era_columns_no_skill_nov = [c for c in weather_columns_raw if c not in list(init_month_to_skill[11].keys())]"
   ]
  },
  {
   "cell_type": "code",
   "execution_count": 172,
   "metadata": {},
   "outputs": [],
   "source": [
    "scm_filled_climatology = scm_bias_adjusted.copy()\n",
    "#scm_basis_expansion_climatology.xs(9, axis=0, level=1, drop_level=True).reset_index().set_index(\"year\")[era_columns_no_skill_sep] = era_climatology[era_columns_no_skill_sep]\n",
    "sep = scm_filled_climatology.loc[scm_filled_climatology[\"init_month\"] == 9, [c for c in scm_filled_climatology.columns if c not in era_columns_no_skill_sep]].merge(era_climatology[[\"year\"] + era_columns_no_skill_sep], on=\"year\")\n",
    "oct = scm_filled_climatology.loc[scm_filled_climatology[\"init_month\"] == 10, [c for c in scm_filled_climatology.columns if c not in era_columns_no_skill_oct]].merge(era_climatology[[\"year\"] + era_columns_no_skill_oct], on=\"year\")\n",
    "nov = scm_filled_climatology.loc[scm_filled_climatology[\"init_month\"] == 11, [c for c in scm_filled_climatology.columns if c not in era_columns_no_skill_nov]].merge(era_climatology[[\"year\"] + era_columns_no_skill_nov], on=\"year\")\n",
    "\n",
    "scm_filled_climatology = pd.concat([sep, oct, nov], ignore_index=True, axis=0)"
   ]
  },
  {
   "cell_type": "code",
   "execution_count": 173,
   "metadata": {},
   "outputs": [],
   "source": [
    "for im in [9, 10, 11]:\n",
    "    for col in list(init_month_to_skill[im].keys()):\n",
    "        scm_with_no_skill = [c for c in scm_models if c not in init_month_to_skill[im][col]]\n",
    "        for model in scm_with_no_skill:\n",
    "            #print(\"{}, {}, {}\".format(im, col, model))\n",
    "            filter_model = scm_filled_climatology[\"model\"] == model\n",
    "            filter_init_month = scm_filled_climatology[\"init_month\"] == im\n",
    "            new_values = (era_raw[col].sum() - era_raw[col]) / (era_raw[col].shape[0] - 1)\n",
    "            new_values = new_values.values\n",
    "            #print(new_values)\n",
    "            scm_filled_climatology.loc[(filter_model) & (filter_init_month), col] = new_values"
   ]
  },
  {
   "cell_type": "code",
   "execution_count": 174,
   "metadata": {},
   "outputs": [],
   "source": [
    "scm_filled_climatology.loc[scm_filled_climatology[\"init_month\"] == 9, [c for c in weather_columns_raw if int(c.split(\"_\")[-1]) < 9]] = np.nan\n",
    "scm_filled_climatology.loc[scm_filled_climatology[\"init_month\"] == 10, [c for c in weather_columns_raw if int(c.split(\"_\")[-1]) < 10]] = np.nan\n",
    "scm_filled_climatology.loc[scm_filled_climatology[\"init_month\"] == 11, [c for c in weather_columns_raw if int(c.split(\"_\")[-1]) < 11]] = np.nan"
   ]
  },
  {
   "cell_type": "markdown",
   "metadata": {},
   "source": [
    "### 5. Standardize and Basis Expansion\n",
    "\n",
    "Standardization is done through the LOYO-CV scheme, separately for each model."
   ]
  },
  {
   "cell_type": "code",
   "execution_count": 189,
   "metadata": {},
   "outputs": [],
   "source": [
    "def standardize_loyo(data):\n",
    "    data = data.copy()\n",
    "    standardized_data = []\n",
    "    for model in data[\"model\"].unique():\n",
    "        standardized_data_init_month = []\n",
    "        for month in data[\"init_month\"].unique():\n",
    "            standardized_data_current_scm = []\n",
    "            for year in list(range(1993, 2017)):\n",
    "                # split\n",
    "                features_used_for_standardization = data.loc[(data[\"year\"] != year) & (data[\"model\"] == model) & (data[\"init_month\"] == month), [c for c in data.columns if (\"tmean\" in c) or (\"rain\" in c)]].reset_index(drop=True).copy()\n",
    "                features_to_standardize = data.loc[(data[\"year\"] == year) & (data[\"model\"] == model) & (data[\"init_month\"] == month), [c for c in data.columns if (\"tmean\" in c) or (\"rain\" in c)]].reset_index(drop=True).copy()\n",
    "                #print(features_used_for_standardization)\n",
    "                # standardize\n",
    "                features_standardized = (features_to_standardize - features_used_for_standardization.mean()) / features_used_for_standardization.std()\n",
    "                # bring it together\n",
    "                year_model_init_month = data.loc[(data[\"year\"] == year) & (data[\"model\"] == model) & (data[\"init_month\"] == month), [\"year\", \"model\", \"init_month\"]].reset_index(drop=True)\n",
    "                standardized_df = pd.concat([year_model_init_month, features_standardized], axis=1)\n",
    "                standardized_data_current_scm.append(standardized_df)\n",
    "            current_scm_standardized = pd.concat(standardized_data_current_scm, ignore_index=True)\n",
    "            standardized_data_init_month.append(current_scm_standardized)\n",
    "        standardized_data_init_month = pd.concat(standardized_data_init_month)\n",
    "        standardized_data.append(standardized_data_init_month)\n",
    "    df_standardized = pd.concat(standardized_data)\n",
    "    return df_standardized\n",
    "\n",
    "def apply_basis_expansion(data):\n",
    "    \"\"\"\n",
    "    apply basis expansion to feature-dataframe and return as new dataframe, where original features are replaced with new ones.\n",
    "    params:\n",
    "        data: dataframe, with the original features; monthly tmean and monthly rainfall\n",
    "    returns:\n",
    "        data_expanded: dataframe, with original features and tmean_squared, rain_squared, and tmean_times_rain features\n",
    "    \"\"\"\n",
    "    df_standardized = standardize_loyo(data)\n",
    "    df_standardized = df_standardized.sort_values(by=[\"model\", \"year\", \"init_month\"]).set_index([\"model\", \"year\", \"init_month\"])\n",
    "    # Store features and target in variables for better readability\n",
    "    X_temp = df_standardized.loc[:, [c for c in df_standardized.columns if (\"tmean\" in c)]]\n",
    "    X_rain = df_standardized.loc[:, [c for c in df_standardized.columns if (\"rain\" in c)]]\n",
    "    \n",
    "    tmean_loc_m = []\n",
    "    for k in new_dict[\"tmean\"].keys():\n",
    "        for m in new_dict[\"tmean\"][k]:\n",
    "            tmean_loc_m.append(\"{}_{}\".format(k,m))\n",
    "    rain_loc_m = []\n",
    "    for k in new_dict[\"rain\"].keys():\n",
    "        for m in new_dict[\"rain\"][k]:\n",
    "            rain_loc_m.append(\"{}_{}\".format(k,m))\n",
    "   \n",
    "    tmean_rain_intersect = list(np.intersect1d(tmean_loc_m, rain_loc_m))\n",
    "    \n",
    "    X_rain_for_tmean = df_standardized.loc[:, [\"rain_{}\".format(c) for c in tmean_rain_intersect]]\n",
    "    X_tmean_for_rain = df_standardized.loc[:, [\"tmean_{}\".format(c) for c in tmean_rain_intersect]]\n",
    "    \n",
    "    # basis expansion to linear model\n",
    "    X_tmean_squared = X_temp.mul(X_temp)\n",
    "    X_rain_squared = X_rain.mul(X_rain)\n",
    "    X_rain_tmean = X_rain_for_tmean * X_tmean_for_rain.values\n",
    "    X_tmean_squared.columns = [\"tmeansquared_{}\".format(\"_\".join(c.split(\"_\")[1:])) for c in X_tmean_squared.columns]\n",
    "    X_rain_squared.columns = [\"rainsquared_{}\".format(\"_\".join(c.split(\"_\")[1:])) for c in X_rain_squared.columns]\n",
    "    X_rain_tmean.columns = [\"tmeanrain_{}\".format(\"_\".join(c.split(\"_\")[1:])) for c in X_rain_tmean.columns]\n",
    "    \n",
    "    # merge to feature dataframe\n",
    "    X = (X_tmean_squared.merge(X_rain_squared.merge(X_rain_tmean, left_index=True, right_index=True), left_index=True, right_index=True)).reset_index()\n",
    "\n",
    "    # standardize expanded features again\n",
    "    df_standardized = standardize_loyo(X)\n",
    "    \n",
    "    return df_standardized"
   ]
  },
  {
   "cell_type": "code",
   "execution_count": 190,
   "metadata": {},
   "outputs": [
    {
     "data": {
      "text/html": [
       "<div>\n",
       "<style scoped>\n",
       "    .dataframe tbody tr th:only-of-type {\n",
       "        vertical-align: middle;\n",
       "    }\n",
       "\n",
       "    .dataframe tbody tr th {\n",
       "        vertical-align: top;\n",
       "    }\n",
       "\n",
       "    .dataframe thead th {\n",
       "        text-align: right;\n",
       "    }\n",
       "</style>\n",
       "<table border=\"1\" class=\"dataframe\">\n",
       "  <thead>\n",
       "    <tr style=\"text-align: right;\">\n",
       "      <th></th>\n",
       "      <th>year</th>\n",
       "      <th>model</th>\n",
       "      <th>init_month</th>\n",
       "      <th>tmeansquared_buenos aires coronel suarez_11</th>\n",
       "      <th>tmeansquared_buenos aires coronel suarez_9</th>\n",
       "      <th>rainsquared_buenos aires coronel suarez_9</th>\n",
       "      <th>rainsquared_buenos aires coronel suarez_11</th>\n",
       "      <th>rainsquared_buenos aires hipolito yrigoyen_9</th>\n",
       "      <th>tmeanrain_buenos aires coronel suarez_11</th>\n",
       "      <th>tmeanrain_buenos aires coronel suarez_9</th>\n",
       "    </tr>\n",
       "  </thead>\n",
       "  <tbody>\n",
       "    <tr>\n",
       "      <th>1</th>\n",
       "      <td>1994</td>\n",
       "      <td>BOM</td>\n",
       "      <td>10</td>\n",
       "      <td>-0.092845</td>\n",
       "      <td>NaN</td>\n",
       "      <td>NaN</td>\n",
       "      <td>0.369163</td>\n",
       "      <td>NaN</td>\n",
       "      <td>-1.033729</td>\n",
       "      <td>NaN</td>\n",
       "    </tr>\n",
       "    <tr>\n",
       "      <th>8</th>\n",
       "      <td>2001</td>\n",
       "      <td>NASA</td>\n",
       "      <td>11</td>\n",
       "      <td>2.330686</td>\n",
       "      <td>NaN</td>\n",
       "      <td>NaN</td>\n",
       "      <td>-0.682209</td>\n",
       "      <td>NaN</td>\n",
       "      <td>0.557978</td>\n",
       "      <td>NaN</td>\n",
       "    </tr>\n",
       "    <tr>\n",
       "      <th>20</th>\n",
       "      <td>2013</td>\n",
       "      <td>CCSM4</td>\n",
       "      <td>10</td>\n",
       "      <td>-0.318565</td>\n",
       "      <td>NaN</td>\n",
       "      <td>NaN</td>\n",
       "      <td>-0.329074</td>\n",
       "      <td>NaN</td>\n",
       "      <td>-0.404934</td>\n",
       "      <td>NaN</td>\n",
       "    </tr>\n",
       "  </tbody>\n",
       "</table>\n",
       "</div>"
      ],
      "text/plain": [
       "    year  model  init_month  tmeansquared_buenos aires coronel suarez_11  \\\n",
       "1   1994    BOM          10                                    -0.092845   \n",
       "8   2001   NASA          11                                     2.330686   \n",
       "20  2013  CCSM4          10                                    -0.318565   \n",
       "\n",
       "    tmeansquared_buenos aires coronel suarez_9  \\\n",
       "1                                          NaN   \n",
       "8                                          NaN   \n",
       "20                                         NaN   \n",
       "\n",
       "    rainsquared_buenos aires coronel suarez_9  \\\n",
       "1                                         NaN   \n",
       "8                                         NaN   \n",
       "20                                        NaN   \n",
       "\n",
       "    rainsquared_buenos aires coronel suarez_11  \\\n",
       "1                                     0.369163   \n",
       "8                                    -0.682209   \n",
       "20                                   -0.329074   \n",
       "\n",
       "    rainsquared_buenos aires hipolito yrigoyen_9  \\\n",
       "1                                            NaN   \n",
       "8                                            NaN   \n",
       "20                                           NaN   \n",
       "\n",
       "    tmeanrain_buenos aires coronel suarez_11  \\\n",
       "1                                  -1.033729   \n",
       "8                                   0.557978   \n",
       "20                                 -0.404934   \n",
       "\n",
       "    tmeanrain_buenos aires coronel suarez_9  \n",
       "1                                       NaN  \n",
       "8                                       NaN  \n",
       "20                                      NaN  "
      ]
     },
     "execution_count": 190,
     "metadata": {},
     "output_type": "execute_result"
    }
   ],
   "source": [
    "scm_basis_expansion = apply_basis_expansion(scm_filled_climatology)\n",
    "basis_expansion_weather_columns = [c for c in scm_basis_expansion.columns if (\"tmean\" in c) or (\"rain\" in c)]\n",
    "scm_basis_expansion.sample(3)"
   ]
  },
  {
   "cell_type": "markdown",
   "metadata": {},
   "source": [
    "### 5. Fill past months with ERA data"
   ]
  },
  {
   "cell_type": "code",
   "execution_count": 191,
   "metadata": {},
   "outputs": [
    {
     "data": {
      "text/html": [
       "<div>\n",
       "<style scoped>\n",
       "    .dataframe tbody tr th:only-of-type {\n",
       "        vertical-align: middle;\n",
       "    }\n",
       "\n",
       "    .dataframe tbody tr th {\n",
       "        vertical-align: top;\n",
       "    }\n",
       "\n",
       "    .dataframe thead th {\n",
       "        text-align: right;\n",
       "    }\n",
       "</style>\n",
       "<table border=\"1\" class=\"dataframe\">\n",
       "  <thead>\n",
       "    <tr style=\"text-align: right;\">\n",
       "      <th></th>\n",
       "      <th>year</th>\n",
       "      <th>model</th>\n",
       "      <th>init_month</th>\n",
       "      <th>yield [kg/ha]</th>\n",
       "      <th>yield anomaly [%]</th>\n",
       "      <th>tmeanrain_buenos aires coronel suarez_9</th>\n",
       "      <th>tmeansquared_buenos aires coronel suarez_11</th>\n",
       "      <th>tmeanrain_buenos aires coronel suarez_11</th>\n",
       "      <th>rainsquared_buenos aires hipolito yrigoyen_9</th>\n",
       "    </tr>\n",
       "  </thead>\n",
       "  <tbody>\n",
       "    <tr>\n",
       "      <th>20</th>\n",
       "      <td>1999</td>\n",
       "      <td>BOM</td>\n",
       "      <td>11</td>\n",
       "      <td>2505.600827</td>\n",
       "      <td>0.060371</td>\n",
       "      <td>0.531753</td>\n",
       "      <td>-0.620415</td>\n",
       "      <td>0.151223</td>\n",
       "      <td>0.923174</td>\n",
       "    </tr>\n",
       "    <tr>\n",
       "      <th>668</th>\n",
       "      <td>2015</td>\n",
       "      <td>HMC</td>\n",
       "      <td>11</td>\n",
       "      <td>3101.367972</td>\n",
       "      <td>-0.032409</td>\n",
       "      <td>1.154080</td>\n",
       "      <td>-0.545609</td>\n",
       "      <td>0.006821</td>\n",
       "      <td>-0.356949</td>\n",
       "    </tr>\n",
       "    <tr>\n",
       "      <th>369</th>\n",
       "      <td>1996</td>\n",
       "      <td>ECCC</td>\n",
       "      <td>9</td>\n",
       "      <td>2260.470320</td>\n",
       "      <td>0.040968</td>\n",
       "      <td>0.492462</td>\n",
       "      <td>-0.416771</td>\n",
       "      <td>0.436535</td>\n",
       "      <td>-0.254815</td>\n",
       "    </tr>\n",
       "    <tr>\n",
       "      <th>820</th>\n",
       "      <td>1994</td>\n",
       "      <td>METFR</td>\n",
       "      <td>10</td>\n",
       "      <td>2185.741998</td>\n",
       "      <td>0.018138</td>\n",
       "      <td>-0.031891</td>\n",
       "      <td>-0.092845</td>\n",
       "      <td>-1.033729</td>\n",
       "      <td>-0.515184</td>\n",
       "    </tr>\n",
       "    <tr>\n",
       "      <th>539</th>\n",
       "      <td>1996</td>\n",
       "      <td>GFDL</td>\n",
       "      <td>11</td>\n",
       "      <td>2260.470320</td>\n",
       "      <td>0.040968</td>\n",
       "      <td>0.492462</td>\n",
       "      <td>-0.416771</td>\n",
       "      <td>0.563851</td>\n",
       "      <td>-0.254815</td>\n",
       "    </tr>\n",
       "  </tbody>\n",
       "</table>\n",
       "</div>"
      ],
      "text/plain": [
       "     year  model  init_month  yield [kg/ha]  yield anomaly [%]  \\\n",
       "20   1999    BOM          11    2505.600827           0.060371   \n",
       "668  2015    HMC          11    3101.367972          -0.032409   \n",
       "369  1996   ECCC           9    2260.470320           0.040968   \n",
       "820  1994  METFR          10    2185.741998           0.018138   \n",
       "539  1996   GFDL          11    2260.470320           0.040968   \n",
       "\n",
       "     tmeanrain_buenos aires coronel suarez_9  \\\n",
       "20                                  0.531753   \n",
       "668                                 1.154080   \n",
       "369                                 0.492462   \n",
       "820                                -0.031891   \n",
       "539                                 0.492462   \n",
       "\n",
       "     tmeansquared_buenos aires coronel suarez_11  \\\n",
       "20                                     -0.620415   \n",
       "668                                    -0.545609   \n",
       "369                                    -0.416771   \n",
       "820                                    -0.092845   \n",
       "539                                    -0.416771   \n",
       "\n",
       "     tmeanrain_buenos aires coronel suarez_11  \\\n",
       "20                                   0.151223   \n",
       "668                                  0.006821   \n",
       "369                                  0.436535   \n",
       "820                                 -1.033729   \n",
       "539                                  0.563851   \n",
       "\n",
       "     rainsquared_buenos aires hipolito yrigoyen_9  \n",
       "20                                       0.923174  \n",
       "668                                     -0.356949  \n",
       "369                                     -0.254815  \n",
       "820                                     -0.515184  \n",
       "539                                     -0.254815  "
      ]
     },
     "execution_count": 191,
     "metadata": {},
     "output_type": "execute_result"
    }
   ],
   "source": [
    "scm_yield = scm_basis_expansion.merge(era_final[[\"year\", \"yield [kg/ha]\", \"yield anomaly [%]\"]], on=\"year\", how=\"left\")\n",
    "scm_yield = scm_yield[era_final.columns].set_index(\"year\").combine_first(era_final.set_index(\"year\")).reset_index()\n",
    "# Concat ERA with init_month = 12  \n",
    "scm_era = pd.concat([scm_yield, era_final], ignore_index=True)\n",
    "scm_era = scm_era.drop_duplicates().reset_index(drop=True)\n",
    "scm_era = scm_era.loc[scm_era[\"init_month\"] >= 9].sort_values(by=[\"model\", \"year\", \"init_month\"]).reset_index(drop=True)\n",
    "# Preview\n",
    "scm_era.sample(5)"
   ]
  },
  {
   "cell_type": "markdown",
   "metadata": {},
   "source": [
    "### 7. Analyse Bias"
   ]
  },
  {
   "cell_type": "code",
   "execution_count": 192,
   "metadata": {},
   "outputs": [],
   "source": [
    "# store variables that are used through this notebook\n",
    "init_months = scm_era[\"init_month\"].unique().tolist()\n",
    "init_months.remove(12)\n",
    "scm_models = [c for c in scm_era.model.unique().tolist() if c != \"ERA\"]\n",
    "weather_columns = [c for c in scm_era.columns if (\"rain\" in c) or (\"tmean\" in c)]"
   ]
  },
  {
   "cell_type": "code",
   "execution_count": 193,
   "metadata": {},
   "outputs": [],
   "source": [
    "scm_bias = scm_era.loc[scm_era[\"model\"].isin(scm_models)]\n",
    "era_bias = scm_era.loc[scm_era[\"model\"] == \"ERA\"].set_index(\"year\")[weather_columns]\n",
    "\n",
    "all_bias = []\n",
    "for model in scm_models:\n",
    "    for month in init_months:\n",
    "        current_scm = scm_bias.loc[(scm_bias[\"model\"] == model) & (scm_bias[\"init_month\"] == month)].set_index(\"year\")\n",
    "        current_scm_bias = abs(current_scm[weather_columns] - era_bias)\n",
    "        current_scm_info = current_scm[['model', 'init_month', 'yield [kg/ha]', 'yield anomaly [%]']]\n",
    "        current_scm_bias.loc[:, [c for c in weather_columns if int(c.split(\"_\")[-1]) < month]] = np.nan\n",
    "        current_scm = pd.concat([current_scm_info, current_scm_bias], axis=1).groupby(['model', 'init_month'])[weather_columns].mean().reset_index(drop=False)\n",
    "        #current_scm = pd.concat([current_scm_info, current_scm_bias], axis=1)[['model', 'init_month']+weather_columns]\n",
    "        all_bias.append(current_scm)\n",
    "all_bias = pd.concat(all_bias)"
   ]
  },
  {
   "cell_type": "code",
   "execution_count": 194,
   "metadata": {},
   "outputs": [],
   "source": [
    "all_bias = all_bias.set_index([\"model\", \"init_month\"]).stack().reset_index()\n",
    "all_bias.columns = [\"model\", \"init_month\", \"feature\", \"bias\"]"
   ]
  },
  {
   "cell_type": "code",
   "execution_count": 195,
   "metadata": {},
   "outputs": [
    {
     "data": {
      "text/plain": [
       "<Axes: ylabel='model'>"
      ]
     },
     "execution_count": 195,
     "metadata": {},
     "output_type": "execute_result"
    },
    {
     "data": {
      "image/png": "[encoded data removed]",
      "text/plain": [
       "<Figure size 640x480 with 2 Axes>"
      ]
     },
     "metadata": {},
     "output_type": "display_data"
    }
   ],
   "source": [
    "bias_heatmap = (all_bias.loc[(all_bias[\"init_month\"] == 9)].groupby(\"model\")[\"bias\"].mean().reset_index()\n",
    "                .merge(all_bias.loc[(all_bias[\"init_month\"] == 10)].groupby(\"model\")[\"bias\"].mean().reset_index()\n",
    "                        .merge(all_bias.loc[(all_bias[\"init_month\"] == 11)].groupby(\"model\")[\"bias\"].mean().reset_index(), on=\"model\", suffixes=(\"\", \"_11\")), on=\"model\", suffixes=(\"_9\", \"_10\"))\n",
    "                .round(2))\n",
    "sns.heatmap(bias_heatmap.set_index(\"model\"))"
   ]
  },
  {
   "cell_type": "code",
   "execution_count": 196,
   "metadata": {},
   "outputs": [
    {
     "data": {
      "text/plain": [
       "<Axes: xlabel='bias', ylabel='feature'>"
      ]
     },
     "execution_count": 196,
     "metadata": {},
     "output_type": "execute_result"
    },
    {
     "data": {
      "image/png": "[encoded data removed]",
      "text/plain": [
       "<Figure size 640x480 with 1 Axes>"
      ]
     },
     "metadata": {},
     "output_type": "display_data"
    }
   ],
   "source": [
    "sns.stripplot(data=all_bias.loc[(all_bias[\"init_month\"] == 10) & (all_bias[\"model\"].isin([\"CWB\", \"GFDL\"]))], x=\"bias\", y=\"feature\", orient=\"h\", s=7, linewidth=0.5, alpha=.6, hue=\"model\", jitter=True, size=(20,20))"
   ]
  },
  {
   "cell_type": "markdown",
   "metadata": {},
   "source": [
    "## EXPORT"
   ]
  },
  {
   "cell_type": "code",
   "execution_count": 197,
   "metadata": {},
   "outputs": [],
   "source": [
    "scm_era.to_csv(\"files/ERA/features/scm_era_features_filtered_case28.csv\", index=False)"
   ]
  }
 ],
 "metadata": {
  "kernelspec": {
   "display_name": "global-yield-forecast",
   "language": "python",
   "name": "python3"
  },
  "language_info": {
   "codemirror_mode": {
    "name": "ipython",
    "version": 3
   },
   "file_extension": ".py",
   "mimetype": "text/x-python",
   "name": "python",
   "nbconvert_exporter": "python",
   "pygments_lexer": "ipython3",
   "version": "3.11.4"
  },
  "orig_nbformat": 4,
  "vscode": {
   "interpreter": {
    "hash": "1a13e9c38e230185871227d6dfdef7d2ccc917d443c4e26807339cda0e86f522"
   }
  }
 },
 "nbformat": 4,
 "nbformat_minor": 2
}
