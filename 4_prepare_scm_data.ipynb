{
 "cells": [
  {
   "cell_type": "code",
   "execution_count": 1,
   "metadata": {},
   "outputs": [],
   "source": [
    "# Third-party Library Imports\n",
    "import pandas as pd\n",
    "import numpy as np\n",
    "import geopandas as gpd\n",
    "import matplotlib.pyplot as plt\n",
    "import seaborn as sns\n",
    "from shapely.geometry import Polygon \n",
    "from unidecode import unidecode\n",
    "from bias_correction import BiasCorrection\n",
    "from sklearn.metrics import (\n",
    "    r2_score,\n",
    "    mean_squared_error as mse,\n",
    ")\n",
    "\n",
    "import warnings\n",
    "warnings.simplefilter(action='ignore', category=FutureWarning)\n",
    "warnings.simplefilter(action='ignore', category=UserWarning)"
   ]
  },
  {
   "attachments": {},
   "cell_type": "markdown",
   "metadata": {},
   "source": [
    "### 1. Read SCM & ERA data"
   ]
  },
  {
   "cell_type": "code",
   "execution_count": 206,
   "metadata": {},
   "outputs": [
    {
     "data": {
      "text/html": [
       "<div>\n",
       "<style scoped>\n",
       "    .dataframe tbody tr th:only-of-type {\n",
       "        vertical-align: middle;\n",
       "    }\n",
       "\n",
       "    .dataframe tbody tr th {\n",
       "        vertical-align: top;\n",
       "    }\n",
       "\n",
       "    .dataframe thead th {\n",
       "        text-align: right;\n",
       "    }\n",
       "</style>\n",
       "<table border=\"1\" class=\"dataframe\">\n",
       "  <thead>\n",
       "    <tr style=\"text-align: right;\">\n",
       "      <th></th>\n",
       "      <th>model</th>\n",
       "      <th>year</th>\n",
       "      <th>init_month</th>\n",
       "      <th>forecasted_month</th>\n",
       "      <th>rain</th>\n",
       "      <th>tmean</th>\n",
       "      <th>lat</th>\n",
       "      <th>lon</th>\n",
       "    </tr>\n",
       "  </thead>\n",
       "  <tbody>\n",
       "    <tr>\n",
       "      <th>64398</th>\n",
       "      <td>CCSM4</td>\n",
       "      <td>1998</td>\n",
       "      <td>9</td>\n",
       "      <td>9</td>\n",
       "      <td>0.003114</td>\n",
       "      <td>15.159402</td>\n",
       "      <td>-34.0</td>\n",
       "      <td>-56.0</td>\n",
       "    </tr>\n",
       "    <tr>\n",
       "      <th>368655</th>\n",
       "      <td>BOM</td>\n",
       "      <td>1994</td>\n",
       "      <td>10</td>\n",
       "      <td>11</td>\n",
       "      <td>0.004886</td>\n",
       "      <td>21.916467</td>\n",
       "      <td>-32.5</td>\n",
       "      <td>-60.0</td>\n",
       "    </tr>\n",
       "    <tr>\n",
       "      <th>304596</th>\n",
       "      <td>UKMO</td>\n",
       "      <td>2013</td>\n",
       "      <td>9</td>\n",
       "      <td>11</td>\n",
       "      <td>0.002166</td>\n",
       "      <td>19.657220</td>\n",
       "      <td>-31.0</td>\n",
       "      <td>-68.0</td>\n",
       "    </tr>\n",
       "    <tr>\n",
       "      <th>333390</th>\n",
       "      <td>ECCC</td>\n",
       "      <td>2009</td>\n",
       "      <td>11</td>\n",
       "      <td>11</td>\n",
       "      <td>0.001106</td>\n",
       "      <td>13.025842</td>\n",
       "      <td>-30.0</td>\n",
       "      <td>-69.0</td>\n",
       "    </tr>\n",
       "    <tr>\n",
       "      <th>321937</th>\n",
       "      <td>ECCC</td>\n",
       "      <td>2001</td>\n",
       "      <td>10</td>\n",
       "      <td>11</td>\n",
       "      <td>0.000942</td>\n",
       "      <td>8.950647</td>\n",
       "      <td>-29.0</td>\n",
       "      <td>-69.0</td>\n",
       "    </tr>\n",
       "  </tbody>\n",
       "</table>\n",
       "</div>"
      ],
      "text/plain": [
       "        model  year  init_month  forecasted_month      rain      tmean   lat  \\\n",
       "64398   CCSM4  1998           9                 9  0.003114  15.159402 -34.0   \n",
       "368655    BOM  1994          10                11  0.004886  21.916467 -32.5   \n",
       "304596   UKMO  2013           9                11  0.002166  19.657220 -31.0   \n",
       "333390   ECCC  2009          11                11  0.001106  13.025842 -30.0   \n",
       "321937   ECCC  2001          10                11  0.000942   8.950647 -29.0   \n",
       "\n",
       "         lon  \n",
       "64398  -56.0  \n",
       "368655 -60.0  \n",
       "304596 -68.0  \n",
       "333390 -69.0  \n",
       "321937 -69.0  "
      ]
     },
     "execution_count": 206,
     "metadata": {},
     "output_type": "execute_result"
    }
   ],
   "source": [
    "era_final = pd.read_csv(\"files/ERA/features/era_features_filtered_case11.csv\")\n",
    "era_raw = pd.read_csv(\"files/ERA/raw/era_basic_preprocessed_filtered_feature_structure_1993_2016.csv\").assign(model=\"ERA\", init_month=12)\n",
    "\n",
    "c3s = pd.read_csv(\"c3s/data/c3s_hindcasts.csv\")\n",
    "nmme = pd.read_csv(\"nmme/data/nmme_hindcasts.csv\")\n",
    "apcc = pd.read_csv(\"clik-apcc/data/apcc_hindcasts.csv\")\n",
    "scm = pd.concat([nmme, c3s, apcc], ignore_index=True).drop_duplicates()\n",
    "scm = scm.loc[(scm[\"year\"].between(1993, 2016)) & (scm[\"init_month\"].between(9, 11))].reset_index(drop=True)\n",
    "\n",
    "# Store variables that are used through this notebook\n",
    "climate_models = [c for c in scm.model.unique().tolist() if c != \"ERA\"]\n",
    "crop_seasons = scm[\"year\"].unique().tolist()\n",
    "relevant_municipalities = list(set([c.split(\"_\")[1] for c in era_final.columns if (\"rain\" in c) or (\"tmean\" in c)]))\n",
    "weather_columns_final = [c for c in era_final.columns if (\"rain\" in c) or (\"tmean\" in c)]\n",
    "\n",
    "weather_columns_raw = []\n",
    "new_dict = dict(zip([\"tmean\", \"rain\"], [dict.fromkeys([c.split(\"_\")[1] for c in weather_columns_final if (\"tmean\" in c)]),\n",
    "                                        dict.fromkeys([c.split(\"_\")[1] for c in weather_columns_final if (\"rain\" in c)])]))\n",
    "for var in new_dict:\n",
    "    for loc in new_dict[var]:\n",
    "        new_dict[var][loc] = list(set([int(c.split(\"_\")[-1]) for c in weather_columns_final if (var in c) and (loc in c)]))\n",
    "        for month in new_dict[var][loc]:\n",
    "            weather_columns_raw.append(\"{}_{}_{}\".format(var, loc, month))\n",
    "\n",
    "era_raw = era_raw.loc[:, [\"year\", \"model\", \"init_month\"] + weather_columns_raw]\n",
    "\n",
    "# Preview\n",
    "scm.sample(5)"
   ]
  },
  {
   "cell_type": "markdown",
   "metadata": {},
   "source": [
    "### 2. Filter SCM locations\n",
    "\n",
    "**2.1 Obtain polygon shapes of relevant municipalities**\n",
    "\n",
    "To forecast wheat yield in Argentina, we use weather data from two locations - Buenos Aires Coronel Dorrego and Buenos Aires Hipolito Yrigoyen. SCM data is often provided in e.g. 1° x 1° grid cells. For each location, we need to find the grid cells that are closest. "
   ]
  },
  {
   "cell_type": "code",
   "execution_count": 207,
   "metadata": {},
   "outputs": [
    {
     "data": {
      "text/plain": [
       "{'buenos aires coronel suarez': <POLYGON Z ((-61.603 -36.993 0, -61.735 -37.093 0, -61.735 -37.095 0, -61.73...>,\n",
       " 'buenos aires hipolito yrigoyen': <POLYGON Z ((-61.45 -36.052 0, -61.435 -36.039 0, -61.393 -36.072 0, -61.333...>}"
      ]
     },
     "execution_count": 207,
     "metadata": {},
     "output_type": "execute_result"
    }
   ],
   "source": [
    "# Read all polygon shapes of Argentinian municipalities\n",
    "gdf_adm2 = gpd.read_file(\"files/shapefiles/arg_admbnda_adm2_unhcr2017.shp\")[[\"ADM1_ES\", \"ADM2_ES\", \"geometry\"]]\n",
    "# Concatenate name of state and municipality\n",
    "gdf_adm2[\"name\"] = gdf_adm2[[\"ADM1_ES\", \"ADM2_ES\"]].apply(lambda x: unidecode(x[0].lower()) + \" \" + unidecode(x[1].lower()), axis=1)\n",
    "# Filter polygon shapes by the relevant municipalities\n",
    "gdf_adm2 = gdf_adm2.loc[gdf_adm2[\"name\"].isin(relevant_municipalities), [\"name\", \"geometry\"]].reset_index(drop=True)\n",
    "# Convert to dictionary for easier access\n",
    "name_to_shape = gdf_adm2.set_index(\"name\")[\"geometry\"].to_dict()\n",
    "# Preview\n",
    "name_to_shape"
   ]
  },
  {
   "cell_type": "markdown",
   "metadata": {},
   "source": [
    "**2.2 Preview SCM locations and relevant municipality locations with buffer**"
   ]
  },
  {
   "cell_type": "code",
   "execution_count": 208,
   "metadata": {},
   "outputs": [
    {
     "data": {
      "text/plain": [
       "<Axes: >"
      ]
     },
     "execution_count": 208,
     "metadata": {},
     "output_type": "execute_result"
    },
    {
     "data": {
      "image/png": "[encoded data removed]",
      "text/plain": [
       "<Figure size 640x480 with 1 Axes>"
      ]
     },
     "metadata": {},
     "output_type": "display_data"
    }
   ],
   "source": [
    "# Convert SCM dataframe to geodataframe to facilitate spatial filtering in the next section\n",
    "scm = gpd.GeoDataFrame(scm, geometry=gpd.points_from_xy(scm[\"lon\"], scm[\"lat\"]), crs=\"EPSG:4326\")\n",
    "\n",
    "# Preview SCM locations and municipality polygons\n",
    "base = gdf_adm2[\"geometry\"].centroid.buffer(2).plot(edgecolor=\"black\")\n",
    "gpd.GeoDataFrame(scm.loc[:, [\"geometry\", \"lat\", \"lon\"]].drop_duplicates(), geometry=\"geometry\", crs=\"EPSG:4326\").plot(ax=base,  color=\"black\", markersize=4)"
   ]
  },
  {
   "cell_type": "markdown",
   "metadata": {},
   "source": [
    "**2.3 Filter SCM hindcasts**\n",
    "\n",
    "For each relevant municipality, we select a grid cell location from each SCM that is closest to that municipality. If a SCM has a sparse resolution, it may be that the same grid cell is used for both locations."
   ]
  },
  {
   "cell_type": "code",
   "execution_count": 209,
   "metadata": {},
   "outputs": [],
   "source": [
    "# directly spatial join takes too much time, therefore save coordinates first\n",
    "gdf_adm2[\"geometry\"] = gdf_adm2[\"geometry\"].centroid.buffer(2)\n",
    "coordinates = gpd.sjoin(scm[[\"model\", \"geometry\", \"lat\", \"lon\"]].drop_duplicates(), gdf_adm2)[[\"name\", \"lat\", \"lon\"]].drop_duplicates().reset_index(drop=True)\n",
    "scm_joined = scm.merge(coordinates[[\"lat\", \"lon\", \"name\"]], on=[\"lat\", \"lon\"], how=\"left\")\n",
    "scm_joined = scm_joined.dropna(subset=\"name\").reset_index(drop=True)"
   ]
  },
  {
   "cell_type": "code",
   "execution_count": 210,
   "metadata": {},
   "outputs": [
    {
     "data": {
      "text/plain": [
       "<Axes: >"
      ]
     },
     "execution_count": 210,
     "metadata": {},
     "output_type": "execute_result"
    },
    {
     "data": {
      "image/png": "[encoded data removed]",
      "text/plain": [
       "<Figure size 600x600 with 1 Axes>"
      ]
     },
     "metadata": {},
     "output_type": "display_data"
    }
   ],
   "source": [
    "base = gdf_adm2.plot(figsize=(6,6), edgecolor=\"black\", linewidth=.2)\n",
    "gpd.GeoDataFrame(scm_joined[[\"geometry\", \"lat\", \"lon\"]].drop_duplicates(), geometry=\"geometry\", crs=\"EPSG:4326\").plot(ax=base,  color=\"black\")"
   ]
  },
  {
   "cell_type": "markdown",
   "metadata": {},
   "source": [
    "### 3. Bring SCM hindcasts into feature structure"
   ]
  },
  {
   "cell_type": "code",
   "execution_count": 211,
   "metadata": {},
   "outputs": [
    {
     "data": {
      "text/html": [
       "<div>\n",
       "<style scoped>\n",
       "    .dataframe tbody tr th:only-of-type {\n",
       "        vertical-align: middle;\n",
       "    }\n",
       "\n",
       "    .dataframe tbody tr th {\n",
       "        vertical-align: top;\n",
       "    }\n",
       "\n",
       "    .dataframe thead th {\n",
       "        text-align: right;\n",
       "    }\n",
       "</style>\n",
       "<table border=\"1\" class=\"dataframe\">\n",
       "  <thead>\n",
       "    <tr style=\"text-align: right;\">\n",
       "      <th></th>\n",
       "      <th>model</th>\n",
       "      <th>year</th>\n",
       "      <th>init_month</th>\n",
       "      <th>rain_buenos aires hipolito yrigoyen_9</th>\n",
       "      <th>tmean_buenos aires coronel suarez_9</th>\n",
       "      <th>tmean_buenos aires coronel suarez_11</th>\n",
       "      <th>rain_buenos aires coronel suarez_9</th>\n",
       "      <th>rain_buenos aires coronel suarez_11</th>\n",
       "    </tr>\n",
       "  </thead>\n",
       "  <tbody>\n",
       "    <tr>\n",
       "      <th>657</th>\n",
       "      <td>CCSM4</td>\n",
       "      <td>2001</td>\n",
       "      <td>9</td>\n",
       "      <td>0.003089</td>\n",
       "      <td>NaN</td>\n",
       "      <td>NaN</td>\n",
       "      <td>NaN</td>\n",
       "      <td>NaN</td>\n",
       "    </tr>\n",
       "    <tr>\n",
       "      <th>14684</th>\n",
       "      <td>UKMO</td>\n",
       "      <td>2015</td>\n",
       "      <td>10</td>\n",
       "      <td>NaN</td>\n",
       "      <td>NaN</td>\n",
       "      <td>17.026239</td>\n",
       "      <td>NaN</td>\n",
       "      <td>0.002665</td>\n",
       "    </tr>\n",
       "    <tr>\n",
       "      <th>9433</th>\n",
       "      <td>METFR</td>\n",
       "      <td>1994</td>\n",
       "      <td>10</td>\n",
       "      <td>NaN</td>\n",
       "      <td>NaN</td>\n",
       "      <td>18.316980</td>\n",
       "      <td>NaN</td>\n",
       "      <td>0.002706</td>\n",
       "    </tr>\n",
       "  </tbody>\n",
       "</table>\n",
       "</div>"
      ],
      "text/plain": [
       "       model  year  init_month  rain_buenos aires hipolito yrigoyen_9  \\\n",
       "657    CCSM4  2001           9                               0.003089   \n",
       "14684   UKMO  2015          10                                    NaN   \n",
       "9433   METFR  1994          10                                    NaN   \n",
       "\n",
       "       tmean_buenos aires coronel suarez_9  \\\n",
       "657                                    NaN   \n",
       "14684                                  NaN   \n",
       "9433                                   NaN   \n",
       "\n",
       "       tmean_buenos aires coronel suarez_11  \\\n",
       "657                                     NaN   \n",
       "14684                             17.026239   \n",
       "9433                              18.316980   \n",
       "\n",
       "       rain_buenos aires coronel suarez_9  rain_buenos aires coronel suarez_11  \n",
       "657                                   NaN                                  NaN  \n",
       "14684                                 NaN                             0.002665  \n",
       "9433                                  NaN                             0.002706  "
      ]
     },
     "execution_count": 211,
     "metadata": {},
     "output_type": "execute_result"
    }
   ],
   "source": [
    "li =[]\n",
    "for m in relevant_municipalities:\n",
    "    df = scm_joined.loc[(scm_joined[\"name\"] == m)].pivot(index=[\"model\", \"year\", \"init_month\", \"lat\", \"lon\"], columns=[\"name\", \"forecasted_month\"], values=[\"tmean\", \"rain\"]).reset_index()\n",
    "    df.columns = [\"{}_{}_{}\".format(c[0], c[1], c[2]) for c in df.columns]\n",
    "    df.columns = [c.strip(\"_\") for c in df.columns]\n",
    "    #print(df[[\"lat\", \"lon\"]].drop_duplicates())\n",
    "    df = df.set_index([\"model\", \"year\", \"init_month\", \"lat\", \"lon\"])\n",
    "    li.append(df)\n",
    "#print(len(li))\n",
    "scm_pivot_test = pd.concat(li, axis=1, join=\"outer\").reset_index().sort_values(by=[\"model\", \"year\", \"init_month\"]).reset_index(drop=True)\n",
    "\n",
    "era_raw.columns = [\"year\", \"model\", \"init_month\"] + weather_columns_raw\n",
    "#weather_columns_raw = [c for c in era_raw.columns if (\"rain\" in c) or (\"tmean\" in c)]\n",
    "scm_pivot_test = scm_pivot_test.loc[: , [c for c in scm_pivot_test.columns if c in era_raw.columns]]\n",
    "scm_pivot_test.sample(3)"
   ]
  },
  {
   "cell_type": "markdown",
   "metadata": {},
   "source": [
    "### 4. Adjust Bias"
   ]
  },
  {
   "cell_type": "code",
   "execution_count": 213,
   "metadata": {},
   "outputs": [],
   "source": [
    "def adjust_bias(observed, predicted, correction_method=\"basic_quantile\"):\n",
    "    \"\"\"Apply bias-adjustment to monthly values of hindcasts.\n",
    "    \n",
    "    parameters:\n",
    "     - observed: observed climate data\n",
    "     - predicted: hindcast data\n",
    "     - correction_method: bias-correction method to be applied. Can be 'normal_mapping', 'basic_quantile', 'gamma_mapping', 'modified_quantile'\n",
    "    \n",
    "    returns: \n",
    "     - results: bias-adjusted hindcasts as dataframe  \n",
    "    \"\"\"\n",
    "    adjusted_models = []\n",
    "    for model in climate_models:\n",
    "        adjusted_init_months = []\n",
    "        for month in [9, 10, 11]:\n",
    "            adjusted_cols = []\n",
    "            for col in weather_columns_raw:\n",
    "                adjusted_years = []\n",
    "                for year in crop_seasons:\n",
    "                    observations_used_as_reference = observed.loc[(observed[\"model\"] == \"ERA\") & (observed[\"year\"] != year), col]\n",
    "                    hindcast_used_as_reference = predicted.loc[(predicted[\"model\"] == model) & (predicted[\"init_month\"] == month), col]\n",
    "                    hindcast_to_be_adjusted = predicted.loc[(predicted[\"model\"] == model) & (predicted[\"init_month\"] == month) & (predicted[\"year\"] == year), col].copy()\n",
    "                    y = predicted.loc[(predicted[\"model\"] == model) & (predicted[\"init_month\"] == month) & (predicted[\"year\"] == year), [\"model\", \"year\", \"init_month\"]].copy()\n",
    "                    # Perform bias-adjustment \n",
    "                    if int(col.split(\"_\")[-1]) >= month:\n",
    "                        bc_col = BiasCorrection(observations_used_as_reference, hindcast_used_as_reference, hindcast_to_be_adjusted)\n",
    "                        hindcast_to_be_adjusted = bc_col.correct(method=correction_method)\n",
    "                    hindcast_to_be_adjusted = pd.concat([y, hindcast_to_be_adjusted], axis=1)\n",
    "                    adjusted_years.append(hindcast_to_be_adjusted)\n",
    "                adjusted_years = pd.concat(adjusted_years)\n",
    "                adjusted_cols.append(adjusted_years)\n",
    "            adjusted_cols = pd.concat(adjusted_cols, axis=1)\n",
    "            adjusted_cols = adjusted_cols.loc[:,~adjusted_cols.columns.duplicated()]\n",
    "            adjusted_init_months.append(adjusted_cols)\n",
    "        adjusted_init_months = pd.concat(adjusted_init_months)\n",
    "        adjusted_models.append(adjusted_init_months)\n",
    "    adjusted_models = pd.concat(adjusted_models).sort_values(by=[\"model\", \"year\", \"init_month\"])\n",
    "    return adjusted_models"
   ]
  },
  {
   "cell_type": "code",
   "execution_count": 214,
   "metadata": {},
   "outputs": [
    {
     "data": {
      "text/html": [
       "<div>\n",
       "<style scoped>\n",
       "    .dataframe tbody tr th:only-of-type {\n",
       "        vertical-align: middle;\n",
       "    }\n",
       "\n",
       "    .dataframe tbody tr th {\n",
       "        vertical-align: top;\n",
       "    }\n",
       "\n",
       "    .dataframe thead th {\n",
       "        text-align: right;\n",
       "    }\n",
       "</style>\n",
       "<table border=\"1\" class=\"dataframe\">\n",
       "  <thead>\n",
       "    <tr style=\"text-align: right;\">\n",
       "      <th></th>\n",
       "      <th>model</th>\n",
       "      <th>year</th>\n",
       "      <th>init_month</th>\n",
       "      <th>tmean_buenos aires coronel suarez_9</th>\n",
       "      <th>tmean_buenos aires coronel suarez_11</th>\n",
       "      <th>rain_buenos aires coronel suarez_9</th>\n",
       "      <th>rain_buenos aires coronel suarez_11</th>\n",
       "      <th>rain_buenos aires hipolito yrigoyen_9</th>\n",
       "    </tr>\n",
       "  </thead>\n",
       "  <tbody>\n",
       "    <tr>\n",
       "      <th>7696</th>\n",
       "      <td>GFDL</td>\n",
       "      <td>2007</td>\n",
       "      <td>10</td>\n",
       "      <td>NaN</td>\n",
       "      <td>NaN</td>\n",
       "      <td>NaN</td>\n",
       "      <td>NaN</td>\n",
       "      <td>NaN</td>\n",
       "    </tr>\n",
       "    <tr>\n",
       "      <th>5938</th>\n",
       "      <td>ECMWF</td>\n",
       "      <td>1998</td>\n",
       "      <td>11</td>\n",
       "      <td>NaN</td>\n",
       "      <td>17.700606</td>\n",
       "      <td>NaN</td>\n",
       "      <td>0.002788</td>\n",
       "      <td>NaN</td>\n",
       "    </tr>\n",
       "    <tr>\n",
       "      <th>12334</th>\n",
       "      <td>NCEP</td>\n",
       "      <td>2000</td>\n",
       "      <td>9</td>\n",
       "      <td>9.561891</td>\n",
       "      <td>16.381236</td>\n",
       "      <td>0.001937</td>\n",
       "      <td>0.003869</td>\n",
       "      <td>0.002079</td>\n",
       "    </tr>\n",
       "  </tbody>\n",
       "</table>\n",
       "</div>"
      ],
      "text/plain": [
       "       model  year  init_month  tmean_buenos aires coronel suarez_9  \\\n",
       "7696    GFDL  2007          10                                  NaN   \n",
       "5938   ECMWF  1998          11                                  NaN   \n",
       "12334   NCEP  2000           9                             9.561891   \n",
       "\n",
       "       tmean_buenos aires coronel suarez_11  \\\n",
       "7696                                    NaN   \n",
       "5938                              17.700606   \n",
       "12334                             16.381236   \n",
       "\n",
       "       rain_buenos aires coronel suarez_9  \\\n",
       "7696                                  NaN   \n",
       "5938                                  NaN   \n",
       "12334                            0.001937   \n",
       "\n",
       "       rain_buenos aires coronel suarez_11  \\\n",
       "7696                                   NaN   \n",
       "5938                              0.002788   \n",
       "12334                             0.003869   \n",
       "\n",
       "       rain_buenos aires hipolito yrigoyen_9  \n",
       "7696                                     NaN  \n",
       "5938                                     NaN  \n",
       "12334                               0.002079  "
      ]
     },
     "execution_count": 214,
     "metadata": {},
     "output_type": "execute_result"
    }
   ],
   "source": [
    "scm_bias_adjusted = adjust_bias(era_raw, scm_pivot_test, \"basic_quantile\")\n",
    "scm_bias_adjusted.sample(3)"
   ]
  },
  {
   "cell_type": "markdown",
   "metadata": {},
   "source": [
    "### 5. Standardize and Basis Expansion\n",
    "\n",
    "Standardization is done through the LOYO-CV scheme, separately for each model."
   ]
  },
  {
   "cell_type": "code",
   "execution_count": 215,
   "metadata": {},
   "outputs": [],
   "source": [
    "def standardize_loyo(data):\n",
    "    data = data.copy()\n",
    "    standardized_data = []\n",
    "    for model in data[\"model\"].unique():\n",
    "        standardized_data_init_month = []\n",
    "        for month in data[\"init_month\"].unique():\n",
    "            standardized_data_current_scm = []\n",
    "            for year in list(range(1993, 2017)):\n",
    "                # split\n",
    "                features_used_for_standardization = data.loc[(data[\"year\"] != year) & (data[\"model\"] == model) & (data[\"init_month\"] == month), [c for c in data.columns if (\"tmean\" in c) or (\"rain\" in c)]].reset_index(drop=True).copy()\n",
    "                features_to_standardize = data.loc[(data[\"year\"] == year) & (data[\"model\"] == model) & (data[\"init_month\"] == month), [c for c in data.columns if (\"tmean\" in c) or (\"rain\" in c)]].reset_index(drop=True).copy()\n",
    "                #print(features_used_for_standardization)\n",
    "                # standardize\n",
    "                features_standardized = (features_to_standardize - features_used_for_standardization.mean()) / features_used_for_standardization.std()\n",
    "                # bring it together\n",
    "                year_model_init_month = data.loc[(data[\"year\"] == year) & (data[\"model\"] == model) & (data[\"init_month\"] == month), [\"year\", \"model\", \"init_month\"]].reset_index(drop=True)\n",
    "                standardized_df = pd.concat([year_model_init_month, features_standardized], axis=1)\n",
    "                standardized_data_current_scm.append(standardized_df)\n",
    "            current_scm_standardized = pd.concat(standardized_data_current_scm, ignore_index=True)\n",
    "            standardized_data_init_month.append(current_scm_standardized)\n",
    "        standardized_data_init_month = pd.concat(standardized_data_init_month)\n",
    "        standardized_data.append(standardized_data_init_month)\n",
    "    df_standardized = pd.concat(standardized_data)\n",
    "    return df_standardized\n",
    "\n",
    "def apply_basis_expansion(data, final_features):\n",
    "    \"\"\"\n",
    "    apply basis expansion to feature-dataframe and return as new dataframe, where original features are replaced with new ones.\n",
    "    params:\n",
    "        data: dataframe, with the original features; monthly tmean and monthly rainfall\n",
    "    returns:\n",
    "        data_expanded: dataframe, with original features and tmean_squared, rain_squared, and tmean_times_rain features\n",
    "    \"\"\"\n",
    "    df_standardized = standardize_loyo(data)\n",
    "    df_standardized = df_standardized.sort_values(by=[\"model\", \"year\", \"init_month\"]).set_index([\"model\", \"year\", \"init_month\"])\n",
    "\n",
    "    for col in final_features:\n",
    "        type_of_expansion = col.split(\"_\")[0]\n",
    "        location = col.split(\"_\")[1]\n",
    "        month = col.split(\"_\")[2]\n",
    "        \n",
    "        if type_of_expansion == \"tmeansquared\":\n",
    "            tmean = df_standardized[\"tmean_{}_{}\".format(location, month)]\n",
    "            df_standardized[col] = tmean.mul(tmean)\n",
    "        if type_of_expansion == \"rainsquared\":\n",
    "            rain = df_standardized[\"rain_{}_{}\".format(location, month)]\n",
    "            df_standardized[col] = rain.mul(rain)\n",
    "        if type_of_expansion == \"tmeanrain\":\n",
    "            tmean = df_standardized[\"tmean_{}_{}\".format(location, month)]\n",
    "            rain = df_standardized[\"rain_{}_{}\".format(location, month)]\n",
    "            df_standardized[col] = rain * tmean.values\n",
    "    \n",
    "    df_standardized = df_standardized[final_features].reset_index()\n",
    "    \n",
    "    # standardize expanded features again\n",
    "    df_standardized = standardize_loyo(df_standardized)\n",
    "    \n",
    "    return df_standardized"
   ]
  },
  {
   "cell_type": "code",
   "execution_count": 230,
   "metadata": {},
   "outputs": [
    {
     "data": {
      "text/html": [
       "<div>\n",
       "<style scoped>\n",
       "    .dataframe tbody tr th:only-of-type {\n",
       "        vertical-align: middle;\n",
       "    }\n",
       "\n",
       "    .dataframe tbody tr th {\n",
       "        vertical-align: top;\n",
       "    }\n",
       "\n",
       "    .dataframe thead th {\n",
       "        text-align: right;\n",
       "    }\n",
       "</style>\n",
       "<table border=\"1\" class=\"dataframe\">\n",
       "  <thead>\n",
       "    <tr style=\"text-align: right;\">\n",
       "      <th></th>\n",
       "      <th>model</th>\n",
       "      <th>year</th>\n",
       "      <th>init_month</th>\n",
       "      <th>tmeanrain_buenos aires coronel suarez_9</th>\n",
       "      <th>tmeansquared_buenos aires coronel suarez_11</th>\n",
       "      <th>tmeanrain_buenos aires coronel suarez_11</th>\n",
       "      <th>rainsquared_buenos aires hipolito yrigoyen_9</th>\n",
       "    </tr>\n",
       "  </thead>\n",
       "  <tbody>\n",
       "    <tr>\n",
       "      <th>327</th>\n",
       "      <td>DWD</td>\n",
       "      <td>2006</td>\n",
       "      <td>9</td>\n",
       "      <td>-0.154911</td>\n",
       "      <td>-0.214075</td>\n",
       "      <td>0.199731</td>\n",
       "      <td>-0.330477</td>\n",
       "    </tr>\n",
       "    <tr>\n",
       "      <th>820</th>\n",
       "      <td>METFR</td>\n",
       "      <td>2002</td>\n",
       "      <td>10</td>\n",
       "      <td>NaN</td>\n",
       "      <td>0.321937</td>\n",
       "      <td>0.125130</td>\n",
       "      <td>NaN</td>\n",
       "    </tr>\n",
       "    <tr>\n",
       "      <th>1062</th>\n",
       "      <td>PNU</td>\n",
       "      <td>2011</td>\n",
       "      <td>9</td>\n",
       "      <td>-0.173458</td>\n",
       "      <td>-0.855593</td>\n",
       "      <td>0.463005</td>\n",
       "      <td>-0.371730</td>\n",
       "    </tr>\n",
       "  </tbody>\n",
       "</table>\n",
       "</div>"
      ],
      "text/plain": [
       "      model  year  init_month  tmeanrain_buenos aires coronel suarez_9  \\\n",
       "327     DWD  2006           9                                -0.154911   \n",
       "820   METFR  2002          10                                      NaN   \n",
       "1062    PNU  2011           9                                -0.173458   \n",
       "\n",
       "      tmeansquared_buenos aires coronel suarez_11  \\\n",
       "327                                     -0.214075   \n",
       "820                                      0.321937   \n",
       "1062                                    -0.855593   \n",
       "\n",
       "      tmeanrain_buenos aires coronel suarez_11  \\\n",
       "327                                   0.199731   \n",
       "820                                   0.125130   \n",
       "1062                                  0.463005   \n",
       "\n",
       "      rainsquared_buenos aires hipolito yrigoyen_9  \n",
       "327                                      -0.330477  \n",
       "820                                            NaN  \n",
       "1062                                     -0.371730  "
      ]
     },
     "execution_count": 230,
     "metadata": {},
     "output_type": "execute_result"
    }
   ],
   "source": [
    "scm_basis_expansion = apply_basis_expansion(scm_bias_adjusted.reset_index(drop=True), weather_columns_final)\n",
    "#basis_expansion_weather_columns = [c for c in scm_basis_expansion.columns if (\"tmean\" in c) or (\"rain\" in c)]\n",
    "scm_basis_expansion = scm_basis_expansion.groupby([\"model\", \"year\", \"init_month\"]).mean()[weather_columns_final].reset_index()\n",
    "scm_basis_expansion.sample(3)"
   ]
  },
  {
   "cell_type": "markdown",
   "metadata": {},
   "source": [
    "### 6. Fill unskillful months with climatology"
   ]
  },
  {
   "cell_type": "markdown",
   "metadata": {},
   "source": [
    "#### 6.1 Detect unskillful model-month forecast using out-of-sample R2"
   ]
  },
  {
   "cell_type": "code",
   "execution_count": 231,
   "metadata": {},
   "outputs": [
    {
     "data": {
      "text/html": [
       "<div>\n",
       "<style scoped>\n",
       "    .dataframe tbody tr th:only-of-type {\n",
       "        vertical-align: middle;\n",
       "    }\n",
       "\n",
       "    .dataframe tbody tr th {\n",
       "        vertical-align: top;\n",
       "    }\n",
       "\n",
       "    .dataframe thead th {\n",
       "        text-align: right;\n",
       "    }\n",
       "</style>\n",
       "<table border=\"1\" class=\"dataframe\">\n",
       "  <thead>\n",
       "    <tr style=\"text-align: right;\">\n",
       "      <th></th>\n",
       "      <th>GFDL</th>\n",
       "      <th>CCSM4</th>\n",
       "      <th>NASA</th>\n",
       "      <th>NCEP</th>\n",
       "      <th>CMCC</th>\n",
       "      <th>DWD</th>\n",
       "      <th>ECMWF</th>\n",
       "      <th>JMA</th>\n",
       "      <th>METFR</th>\n",
       "      <th>UKMO</th>\n",
       "      <th>ECCC</th>\n",
       "      <th>PNU</th>\n",
       "      <th>KMA</th>\n",
       "      <th>CWB</th>\n",
       "      <th>HMC</th>\n",
       "      <th>BOM</th>\n",
       "    </tr>\n",
       "  </thead>\n",
       "  <tbody>\n",
       "    <tr>\n",
       "      <th>tmeansquared_buenos aires coronel suarez_11</th>\n",
       "      <td>0.055354</td>\n",
       "      <td>0.047968</td>\n",
       "      <td>0.083781</td>\n",
       "      <td>0.055405</td>\n",
       "      <td>0.073569</td>\n",
       "      <td>NaN</td>\n",
       "      <td>0.245544</td>\n",
       "      <td>0.040919</td>\n",
       "      <td>0.027349</td>\n",
       "      <td>NaN</td>\n",
       "      <td>0.159512</td>\n",
       "      <td>NaN</td>\n",
       "      <td>0.117754</td>\n",
       "      <td>0.156515</td>\n",
       "      <td>NaN</td>\n",
       "      <td>0.035485</td>\n",
       "    </tr>\n",
       "    <tr>\n",
       "      <th>tmeanrain_buenos aires coronel suarez_11</th>\n",
       "      <td>0.080762</td>\n",
       "      <td>0.102001</td>\n",
       "      <td>NaN</td>\n",
       "      <td>NaN</td>\n",
       "      <td>0.015331</td>\n",
       "      <td>0.000332</td>\n",
       "      <td>0.169223</td>\n",
       "      <td>NaN</td>\n",
       "      <td>0.040289</td>\n",
       "      <td>NaN</td>\n",
       "      <td>NaN</td>\n",
       "      <td>NaN</td>\n",
       "      <td>0.194501</td>\n",
       "      <td>NaN</td>\n",
       "      <td>NaN</td>\n",
       "      <td>NaN</td>\n",
       "    </tr>\n",
       "  </tbody>\n",
       "</table>\n",
       "</div>"
      ],
      "text/plain": [
       "                                                 GFDL     CCSM4      NASA  \\\n",
       "tmeansquared_buenos aires coronel suarez_11  0.055354  0.047968  0.083781   \n",
       "tmeanrain_buenos aires coronel suarez_11     0.080762  0.102001       NaN   \n",
       "\n",
       "                                                 NCEP      CMCC       DWD  \\\n",
       "tmeansquared_buenos aires coronel suarez_11  0.055405  0.073569       NaN   \n",
       "tmeanrain_buenos aires coronel suarez_11          NaN  0.015331  0.000332   \n",
       "\n",
       "                                                ECMWF       JMA     METFR  \\\n",
       "tmeansquared_buenos aires coronel suarez_11  0.245544  0.040919  0.027349   \n",
       "tmeanrain_buenos aires coronel suarez_11     0.169223       NaN  0.040289   \n",
       "\n",
       "                                             UKMO      ECCC  PNU       KMA  \\\n",
       "tmeansquared_buenos aires coronel suarez_11   NaN  0.159512  NaN  0.117754   \n",
       "tmeanrain_buenos aires coronel suarez_11      NaN       NaN  NaN  0.194501   \n",
       "\n",
       "                                                  CWB  HMC       BOM  \n",
       "tmeansquared_buenos aires coronel suarez_11  0.156515  NaN  0.035485  \n",
       "tmeanrain_buenos aires coronel suarez_11          NaN  NaN       NaN  "
      ]
     },
     "execution_count": 231,
     "metadata": {},
     "output_type": "execute_result"
    }
   ],
   "source": [
    "def r2_by_feature_init_month_and_scm(init_month, climate_models, era_df, scm_df, features):\n",
    "    model_to_col_to_r2 = dict.fromkeys(climate_models)\n",
    "    for model in climate_models:\n",
    "        forecasted_scm = scm_df.xs(init_month, level=2, drop_level=True).xs(model, level=0, drop_level=True)[features]\n",
    "        loyo_mean = (era_df[features].sum() - era_df[features]) / (era_df.shape[0] - 1)\n",
    "        \n",
    "        ss_total = mse(era_df[features], loyo_mean, multioutput=\"raw_values\")\n",
    "        ss_model = mse(era_df[features], forecasted_scm, multioutput=\"raw_values\")\n",
    "        \n",
    "        current_r2 = 1 - ( ss_model / ss_total )\n",
    "        model_to_col_to_r2[model] = dict(zip(features, current_r2))\n",
    "\n",
    "    model_to_col_to_r2 = pd.DataFrame(model_to_col_to_r2)\n",
    "    model_to_col_to_r2[model_to_col_to_r2 < 0] = np.nan\n",
    "    return model_to_col_to_r2\n",
    "\n",
    "r2_9 = r2_by_feature_init_month_and_scm(9, climate_models, era_final, scm_basis_expansion.set_index([\"model\", \"year\", \"init_month\"]), weather_columns_final)\n",
    "r2_10 = r2_by_feature_init_month_and_scm(10, climate_models, era_final, scm_basis_expansion.set_index([\"model\", \"year\", \"init_month\"]), [c for c in weather_columns_final if (\"_9\" not in c)])\n",
    "r2_11 = r2_by_feature_init_month_and_scm(11, climate_models, era_final, scm_basis_expansion.set_index([\"model\", \"year\", \"init_month\"]), [c for c in weather_columns_final if (\"_11\" in c)])\n",
    "\n",
    "r2_by_init = r2_9.merge(r2_10.merge(r2_11, left_index=True, right_index=True, suffixes=(\"\", \"_11\"), how=\"outer\"), left_index=True, right_index=True, suffixes=(\"_9\", \"_10\"), how=\"outer\")\n",
    "r2_10"
   ]
  },
  {
   "cell_type": "markdown",
   "metadata": {},
   "source": [
    "#### 6.2 Replace with climatology"
   ]
  },
  {
   "cell_type": "code",
   "execution_count": 218,
   "metadata": {},
   "outputs": [
    {
     "data": {
      "text/html": [
       "<div>\n",
       "<style scoped>\n",
       "    .dataframe tbody tr th:only-of-type {\n",
       "        vertical-align: middle;\n",
       "    }\n",
       "\n",
       "    .dataframe tbody tr th {\n",
       "        vertical-align: top;\n",
       "    }\n",
       "\n",
       "    .dataframe thead th {\n",
       "        text-align: right;\n",
       "    }\n",
       "</style>\n",
       "<table border=\"1\" class=\"dataframe\">\n",
       "  <thead>\n",
       "    <tr style=\"text-align: right;\">\n",
       "      <th></th>\n",
       "      <th>year</th>\n",
       "      <th>tmeanrain_buenos aires coronel suarez_11</th>\n",
       "    </tr>\n",
       "  </thead>\n",
       "  <tbody>\n",
       "    <tr>\n",
       "      <th>396</th>\n",
       "      <td>1993</td>\n",
       "      <td>0.417412</td>\n",
       "    </tr>\n",
       "    <tr>\n",
       "      <th>412</th>\n",
       "      <td>1994</td>\n",
       "      <td>0.294470</td>\n",
       "    </tr>\n",
       "    <tr>\n",
       "      <th>428</th>\n",
       "      <td>1995</td>\n",
       "      <td>0.336808</td>\n",
       "    </tr>\n",
       "    <tr>\n",
       "      <th>444</th>\n",
       "      <td>1996</td>\n",
       "      <td>-0.415665</td>\n",
       "    </tr>\n",
       "    <tr>\n",
       "      <th>460</th>\n",
       "      <td>1997</td>\n",
       "      <td>0.108712</td>\n",
       "    </tr>\n",
       "  </tbody>\n",
       "</table>\n",
       "</div>"
      ],
      "text/plain": [
       "     year  tmeanrain_buenos aires coronel suarez_11\n",
       "396  1993                                  0.417412\n",
       "412  1994                                  0.294470\n",
       "428  1995                                  0.336808\n",
       "444  1996                                 -0.415665\n",
       "460  1997                                  0.108712"
      ]
     },
     "execution_count": 218,
     "metadata": {},
     "output_type": "execute_result"
    }
   ],
   "source": [
    "init_month_to_skill = dict.fromkeys([9, 10, 11])\n",
    "init_month_to_skill[9] = r2_9.stack().reset_index().groupby(\"level_0\")[\"level_1\"].apply(list).to_dict()\n",
    "init_month_to_skill[10] = r2_10.stack().reset_index().groupby(\"level_0\")[\"level_1\"].apply(list).to_dict()\n",
    "init_month_to_skill[11] = r2_11.stack().reset_index().groupby(\"level_0\")[\"level_1\"].apply(list).to_dict()\n",
    "\n",
    "era_climatology = era_final.loc[:, [\"year\"] + weather_columns_final].set_index(\"year\")\n",
    "era_climatology = (era_climatology.sum() - era_climatology) / (era_climatology.shape[0] - 1)\n",
    "era_climatology = era_climatology.reset_index()\n",
    "\n",
    "# LOYO Climatology\n",
    "era_columns_no_skill_sep = [c for c in weather_columns_final if c not in list(init_month_to_skill[9].keys())]\n",
    "era_columns_no_skill_oct = [c for c in weather_columns_final if c not in list(init_month_to_skill[10].keys())]\n",
    "era_columns_no_skill_nov = [c for c in weather_columns_final if c not in list(init_month_to_skill[11].keys())]\n",
    "\n",
    "scm_filled_climatology = scm_basis_expansion.copy()\n",
    "#scm_basis_expansion_climatology.xs(9, axis=0, level=1, drop_level=True).reset_index().set_index(\"year\")[era_columns_no_skill_sep] = era_climatology[era_columns_no_skill_sep]\n",
    "sep = scm_filled_climatology.loc[scm_filled_climatology[\"init_month\"] == 9, [c for c in scm_filled_climatology.columns if c not in era_columns_no_skill_sep]].merge(era_climatology[[\"year\"] + era_columns_no_skill_sep], on=\"year\")\n",
    "oct = scm_filled_climatology.loc[scm_filled_climatology[\"init_month\"] == 10, [c for c in scm_filled_climatology.columns if c not in era_columns_no_skill_oct]].merge(era_climatology[[\"year\"] + era_columns_no_skill_oct], on=\"year\")\n",
    "nov = scm_filled_climatology.loc[scm_filled_climatology[\"init_month\"] == 11, [c for c in scm_filled_climatology.columns if c not in era_columns_no_skill_nov]].merge(era_climatology[[\"year\"] + era_columns_no_skill_nov], on=\"year\")\n",
    "\n",
    "scm_filled_climatology = pd.concat([sep, oct, nov], ignore_index=True, axis=0)\n",
    "\n",
    "scm_filled_climatology.loc[(scm_filled_climatology[\"model\"] == \"NASA\") & (scm_filled_climatology[\"init_month\"] == 10), ['year', 'tmeanrain_buenos aires coronel suarez_11']].head()"
   ]
  },
  {
   "cell_type": "code",
   "execution_count": 219,
   "metadata": {},
   "outputs": [
    {
     "data": {
      "text/html": [
       "<div>\n",
       "<style scoped>\n",
       "    .dataframe tbody tr th:only-of-type {\n",
       "        vertical-align: middle;\n",
       "    }\n",
       "\n",
       "    .dataframe tbody tr th {\n",
       "        vertical-align: top;\n",
       "    }\n",
       "\n",
       "    .dataframe thead th {\n",
       "        text-align: right;\n",
       "    }\n",
       "</style>\n",
       "<table border=\"1\" class=\"dataframe\">\n",
       "  <thead>\n",
       "    <tr style=\"text-align: right;\">\n",
       "      <th></th>\n",
       "      <th>year</th>\n",
       "      <th>tmeanrain_buenos aires coronel suarez_11</th>\n",
       "    </tr>\n",
       "  </thead>\n",
       "  <tbody>\n",
       "    <tr>\n",
       "      <th>865</th>\n",
       "      <td>1993</td>\n",
       "      <td>0.417412</td>\n",
       "    </tr>\n",
       "    <tr>\n",
       "      <th>868</th>\n",
       "      <td>1994</td>\n",
       "      <td>0.294470</td>\n",
       "    </tr>\n",
       "    <tr>\n",
       "      <th>871</th>\n",
       "      <td>1995</td>\n",
       "      <td>0.336808</td>\n",
       "    </tr>\n",
       "    <tr>\n",
       "      <th>874</th>\n",
       "      <td>1996</td>\n",
       "      <td>-0.415665</td>\n",
       "    </tr>\n",
       "    <tr>\n",
       "      <th>877</th>\n",
       "      <td>1997</td>\n",
       "      <td>0.108712</td>\n",
       "    </tr>\n",
       "  </tbody>\n",
       "</table>\n",
       "</div>"
      ],
      "text/plain": [
       "     year  tmeanrain_buenos aires coronel suarez_11\n",
       "865  1993                                  0.417412\n",
       "868  1994                                  0.294470\n",
       "871  1995                                  0.336808\n",
       "874  1996                                 -0.415665\n",
       "877  1997                                  0.108712"
      ]
     },
     "execution_count": 219,
     "metadata": {},
     "output_type": "execute_result"
    }
   ],
   "source": [
    "scm_basis_expansion.loc[(scm_basis_expansion[\"model\"] == \"NASA\") & (scm_basis_expansion[\"init_month\"] == 10), ['year', 'tmeanrain_buenos aires coronel suarez_11']].head()"
   ]
  },
  {
   "cell_type": "code",
   "execution_count": 220,
   "metadata": {},
   "outputs": [
    {
     "name": "stdout",
     "output_type": "stream",
     "text": [
      "9, tmeanrain_buenos aires coronel suarez_11, GFDL\n",
      "9, tmeanrain_buenos aires coronel suarez_11, CMCC\n",
      "9, tmeanrain_buenos aires coronel suarez_11, DWD\n",
      "9, tmeanrain_buenos aires coronel suarez_11, JMA\n",
      "9, tmeanrain_buenos aires coronel suarez_11, METFR\n",
      "9, tmeanrain_buenos aires coronel suarez_11, UKMO\n",
      "9, tmeanrain_buenos aires coronel suarez_11, ECCC\n",
      "9, tmeanrain_buenos aires coronel suarez_11, PNU\n",
      "9, tmeanrain_buenos aires coronel suarez_11, KMA\n",
      "9, tmeanrain_buenos aires coronel suarez_11, CWB\n",
      "9, tmeanrain_buenos aires coronel suarez_11, HMC\n",
      "9, tmeanrain_buenos aires coronel suarez_11, BOM\n",
      "9, tmeanrain_buenos aires coronel suarez_9, GFDL\n",
      "9, tmeanrain_buenos aires coronel suarez_9, CCSM4\n",
      "9, tmeanrain_buenos aires coronel suarez_9, NASA\n",
      "9, tmeanrain_buenos aires coronel suarez_9, CMCC\n",
      "9, tmeanrain_buenos aires coronel suarez_9, DWD\n",
      "9, tmeanrain_buenos aires coronel suarez_9, ECMWF\n",
      "9, tmeanrain_buenos aires coronel suarez_9, JMA\n",
      "9, tmeanrain_buenos aires coronel suarez_9, METFR\n",
      "9, tmeanrain_buenos aires coronel suarez_9, UKMO\n",
      "9, tmeanrain_buenos aires coronel suarez_9, ECCC\n",
      "9, tmeanrain_buenos aires coronel suarez_9, PNU\n",
      "9, tmeanrain_buenos aires coronel suarez_9, KMA\n",
      "9, tmeanrain_buenos aires coronel suarez_9, CWB\n",
      "9, tmeanrain_buenos aires coronel suarez_9, HMC\n",
      "9, tmeanrain_buenos aires coronel suarez_9, BOM\n",
      "9, tmeansquared_buenos aires coronel suarez_11, GFDL\n",
      "9, tmeansquared_buenos aires coronel suarez_11, UKMO\n",
      "9, tmeansquared_buenos aires coronel suarez_11, PNU\n",
      "9, tmeansquared_buenos aires coronel suarez_11, KMA\n",
      "9, tmeansquared_buenos aires coronel suarez_11, CWB\n",
      "9, tmeansquared_buenos aires coronel suarez_11, HMC\n",
      "9, tmeansquared_buenos aires coronel suarez_11, BOM\n",
      "10, tmeanrain_buenos aires coronel suarez_11, NASA\n",
      "10, tmeanrain_buenos aires coronel suarez_11, NCEP\n",
      "10, tmeanrain_buenos aires coronel suarez_11, JMA\n",
      "10, tmeanrain_buenos aires coronel suarez_11, UKMO\n",
      "10, tmeanrain_buenos aires coronel suarez_11, ECCC\n",
      "10, tmeanrain_buenos aires coronel suarez_11, PNU\n",
      "10, tmeanrain_buenos aires coronel suarez_11, CWB\n",
      "10, tmeanrain_buenos aires coronel suarez_11, HMC\n",
      "10, tmeanrain_buenos aires coronel suarez_11, BOM\n",
      "10, tmeansquared_buenos aires coronel suarez_11, DWD\n",
      "10, tmeansquared_buenos aires coronel suarez_11, UKMO\n",
      "10, tmeansquared_buenos aires coronel suarez_11, PNU\n",
      "10, tmeansquared_buenos aires coronel suarez_11, HMC\n",
      "11, tmeanrain_buenos aires coronel suarez_11, GFDL\n",
      "11, tmeanrain_buenos aires coronel suarez_11, PNU\n",
      "11, tmeanrain_buenos aires coronel suarez_11, KMA\n",
      "11, tmeanrain_buenos aires coronel suarez_11, CWB\n",
      "11, tmeanrain_buenos aires coronel suarez_11, HMC\n",
      "11, tmeanrain_buenos aires coronel suarez_11, BOM\n",
      "11, tmeansquared_buenos aires coronel suarez_11, DWD\n",
      "11, tmeansquared_buenos aires coronel suarez_11, UKMO\n",
      "11, tmeansquared_buenos aires coronel suarez_11, PNU\n",
      "11, tmeansquared_buenos aires coronel suarez_11, HMC\n"
     ]
    }
   ],
   "source": [
    "for im in [9, 10, 11]:\n",
    "    for col in list(init_month_to_skill[im].keys()):\n",
    "        scm_with_no_skill = [c for c in climate_models if c not in init_month_to_skill[im][col]]\n",
    "        for model in scm_with_no_skill:\n",
    "            print(\"{}, {}, {}\".format(im, col, model))\n",
    "            filter_model = scm_filled_climatology[\"model\"] == model\n",
    "            filter_init_month = scm_filled_climatology[\"init_month\"] == im\n",
    "            new_values = (era_final[col].sum() - era_final[col]) / (era_final[col].shape[0] - 1)\n",
    "            new_values = new_values.values\n",
    "            scm_filled_climatology.loc[(filter_model) & (filter_init_month), col] = new_values"
   ]
  },
  {
   "cell_type": "code",
   "execution_count": 221,
   "metadata": {},
   "outputs": [
    {
     "data": {
      "text/html": [
       "<div>\n",
       "<style scoped>\n",
       "    .dataframe tbody tr th:only-of-type {\n",
       "        vertical-align: middle;\n",
       "    }\n",
       "\n",
       "    .dataframe tbody tr th {\n",
       "        vertical-align: top;\n",
       "    }\n",
       "\n",
       "    .dataframe thead th {\n",
       "        text-align: right;\n",
       "    }\n",
       "</style>\n",
       "<table border=\"1\" class=\"dataframe\">\n",
       "  <thead>\n",
       "    <tr style=\"text-align: right;\">\n",
       "      <th></th>\n",
       "      <th>year</th>\n",
       "      <th>tmeanrain_buenos aires coronel suarez_11</th>\n",
       "    </tr>\n",
       "  </thead>\n",
       "  <tbody>\n",
       "    <tr>\n",
       "      <th>396</th>\n",
       "      <td>1993</td>\n",
       "      <td>0.023029</td>\n",
       "    </tr>\n",
       "    <tr>\n",
       "      <th>412</th>\n",
       "      <td>1994</td>\n",
       "      <td>0.009838</td>\n",
       "    </tr>\n",
       "    <tr>\n",
       "      <th>428</th>\n",
       "      <td>1995</td>\n",
       "      <td>-0.052787</td>\n",
       "    </tr>\n",
       "    <tr>\n",
       "      <th>444</th>\n",
       "      <td>1996</td>\n",
       "      <td>-0.054087</td>\n",
       "    </tr>\n",
       "    <tr>\n",
       "      <th>460</th>\n",
       "      <td>1997</td>\n",
       "      <td>-0.077683</td>\n",
       "    </tr>\n",
       "  </tbody>\n",
       "</table>\n",
       "</div>"
      ],
      "text/plain": [
       "     year  tmeanrain_buenos aires coronel suarez_11\n",
       "396  1993                                  0.023029\n",
       "412  1994                                  0.009838\n",
       "428  1995                                 -0.052787\n",
       "444  1996                                 -0.054087\n",
       "460  1997                                 -0.077683"
      ]
     },
     "execution_count": 221,
     "metadata": {},
     "output_type": "execute_result"
    }
   ],
   "source": [
    "scm_filled_climatology.loc[(scm_filled_climatology[\"model\"] == \"NASA\") & (scm_filled_climatology[\"init_month\"] == 10), ['year', 'tmeanrain_buenos aires coronel suarez_11']].head()"
   ]
  },
  {
   "cell_type": "code",
   "execution_count": 222,
   "metadata": {},
   "outputs": [
    {
     "data": {
      "text/html": [
       "<div>\n",
       "<style scoped>\n",
       "    .dataframe tbody tr th:only-of-type {\n",
       "        vertical-align: middle;\n",
       "    }\n",
       "\n",
       "    .dataframe tbody tr th {\n",
       "        vertical-align: top;\n",
       "    }\n",
       "\n",
       "    .dataframe thead th {\n",
       "        text-align: right;\n",
       "    }\n",
       "</style>\n",
       "<table border=\"1\" class=\"dataframe\">\n",
       "  <thead>\n",
       "    <tr style=\"text-align: right;\">\n",
       "      <th></th>\n",
       "      <th>year</th>\n",
       "      <th>tmeanrain_buenos aires coronel suarez_11</th>\n",
       "    </tr>\n",
       "  </thead>\n",
       "  <tbody>\n",
       "    <tr>\n",
       "      <th>865</th>\n",
       "      <td>1993</td>\n",
       "      <td>0.417412</td>\n",
       "    </tr>\n",
       "    <tr>\n",
       "      <th>868</th>\n",
       "      <td>1994</td>\n",
       "      <td>0.294470</td>\n",
       "    </tr>\n",
       "    <tr>\n",
       "      <th>871</th>\n",
       "      <td>1995</td>\n",
       "      <td>0.336808</td>\n",
       "    </tr>\n",
       "    <tr>\n",
       "      <th>874</th>\n",
       "      <td>1996</td>\n",
       "      <td>-0.415665</td>\n",
       "    </tr>\n",
       "    <tr>\n",
       "      <th>877</th>\n",
       "      <td>1997</td>\n",
       "      <td>0.108712</td>\n",
       "    </tr>\n",
       "  </tbody>\n",
       "</table>\n",
       "</div>"
      ],
      "text/plain": [
       "     year  tmeanrain_buenos aires coronel suarez_11\n",
       "865  1993                                  0.417412\n",
       "868  1994                                  0.294470\n",
       "871  1995                                  0.336808\n",
       "874  1996                                 -0.415665\n",
       "877  1997                                  0.108712"
      ]
     },
     "execution_count": 222,
     "metadata": {},
     "output_type": "execute_result"
    }
   ],
   "source": [
    "scm_basis_expansion.loc[(scm_basis_expansion[\"model\"] == \"NASA\") & (scm_basis_expansion[\"init_month\"] == 10), ['year', 'tmeanrain_buenos aires coronel suarez_11']].head()"
   ]
  },
  {
   "cell_type": "code",
   "execution_count": 223,
   "metadata": {},
   "outputs": [],
   "source": [
    "scm_filled_climatology.loc[scm_filled_climatology[\"init_month\"] == 9, [c for c in weather_columns_final if int(c.split(\"_\")[-1]) < 9]] = np.nan\n",
    "scm_filled_climatology.loc[scm_filled_climatology[\"init_month\"] == 10, [c for c in weather_columns_final if int(c.split(\"_\")[-1]) < 10]] = np.nan\n",
    "scm_filled_climatology.loc[scm_filled_climatology[\"init_month\"] == 11, [c for c in weather_columns_final if int(c.split(\"_\")[-1]) < 11]] = np.nan"
   ]
  },
  {
   "cell_type": "markdown",
   "metadata": {},
   "source": [
    "### 5. Fill past months with ERA data"
   ]
  },
  {
   "cell_type": "code",
   "execution_count": 232,
   "metadata": {},
   "outputs": [
    {
     "data": {
      "text/html": [
       "<div>\n",
       "<style scoped>\n",
       "    .dataframe tbody tr th:only-of-type {\n",
       "        vertical-align: middle;\n",
       "    }\n",
       "\n",
       "    .dataframe tbody tr th {\n",
       "        vertical-align: top;\n",
       "    }\n",
       "\n",
       "    .dataframe thead th {\n",
       "        text-align: right;\n",
       "    }\n",
       "</style>\n",
       "<table border=\"1\" class=\"dataframe\">\n",
       "  <thead>\n",
       "    <tr style=\"text-align: right;\">\n",
       "      <th></th>\n",
       "      <th>year</th>\n",
       "      <th>model</th>\n",
       "      <th>init_month</th>\n",
       "      <th>yield [kg/ha]</th>\n",
       "      <th>yield anomaly [%]</th>\n",
       "      <th>tmeanrain_buenos aires coronel suarez_9</th>\n",
       "      <th>tmeansquared_buenos aires coronel suarez_11</th>\n",
       "      <th>tmeanrain_buenos aires coronel suarez_11</th>\n",
       "      <th>rainsquared_buenos aires hipolito yrigoyen_9</th>\n",
       "    </tr>\n",
       "  </thead>\n",
       "  <tbody>\n",
       "    <tr>\n",
       "      <th>741</th>\n",
       "      <td>2016</td>\n",
       "      <td>JMA</td>\n",
       "      <td>9</td>\n",
       "      <td>3477.431894</td>\n",
       "      <td>0.066009</td>\n",
       "      <td>-0.036955</td>\n",
       "      <td>-0.015995</td>\n",
       "      <td>-0.206809</td>\n",
       "      <td>1.437886</td>\n",
       "    </tr>\n",
       "    <tr>\n",
       "      <th>496</th>\n",
       "      <td>2014</td>\n",
       "      <td>ECMWF</td>\n",
       "      <td>10</td>\n",
       "      <td>2892.845436</td>\n",
       "      <td>-0.093509</td>\n",
       "      <td>-0.510849</td>\n",
       "      <td>-0.166835</td>\n",
       "      <td>0.077257</td>\n",
       "      <td>-0.500335</td>\n",
       "    </tr>\n",
       "    <tr>\n",
       "      <th>856</th>\n",
       "      <td>2006</td>\n",
       "      <td>METFR</td>\n",
       "      <td>10</td>\n",
       "      <td>2802.152802</td>\n",
       "      <td>0.057598</td>\n",
       "      <td>-0.228807</td>\n",
       "      <td>-0.057396</td>\n",
       "      <td>0.231911</td>\n",
       "      <td>-0.281609</td>\n",
       "    </tr>\n",
       "    <tr>\n",
       "      <th>702</th>\n",
       "      <td>2003</td>\n",
       "      <td>JMA</td>\n",
       "      <td>9</td>\n",
       "      <td>2687.698352</td>\n",
       "      <td>0.086721</td>\n",
       "      <td>0.216888</td>\n",
       "      <td>-0.055962</td>\n",
       "      <td>0.117917</td>\n",
       "      <td>-0.344542</td>\n",
       "    </tr>\n",
       "    <tr>\n",
       "      <th>748</th>\n",
       "      <td>1994</td>\n",
       "      <td>KMA</td>\n",
       "      <td>10</td>\n",
       "      <td>2185.741998</td>\n",
       "      <td>0.018138</td>\n",
       "      <td>-0.031891</td>\n",
       "      <td>2.010911</td>\n",
       "      <td>0.157408</td>\n",
       "      <td>-0.515184</td>\n",
       "    </tr>\n",
       "  </tbody>\n",
       "</table>\n",
       "</div>"
      ],
      "text/plain": [
       "     year  model  init_month  yield [kg/ha]  yield anomaly [%]  \\\n",
       "741  2016    JMA           9    3477.431894           0.066009   \n",
       "496  2014  ECMWF          10    2892.845436          -0.093509   \n",
       "856  2006  METFR          10    2802.152802           0.057598   \n",
       "702  2003    JMA           9    2687.698352           0.086721   \n",
       "748  1994    KMA          10    2185.741998           0.018138   \n",
       "\n",
       "     tmeanrain_buenos aires coronel suarez_9  \\\n",
       "741                                -0.036955   \n",
       "496                                -0.510849   \n",
       "856                                -0.228807   \n",
       "702                                 0.216888   \n",
       "748                                -0.031891   \n",
       "\n",
       "     tmeansquared_buenos aires coronel suarez_11  \\\n",
       "741                                    -0.015995   \n",
       "496                                    -0.166835   \n",
       "856                                    -0.057396   \n",
       "702                                    -0.055962   \n",
       "748                                     2.010911   \n",
       "\n",
       "     tmeanrain_buenos aires coronel suarez_11  \\\n",
       "741                                 -0.206809   \n",
       "496                                  0.077257   \n",
       "856                                  0.231911   \n",
       "702                                  0.117917   \n",
       "748                                  0.157408   \n",
       "\n",
       "     rainsquared_buenos aires hipolito yrigoyen_9  \n",
       "741                                      1.437886  \n",
       "496                                     -0.500335  \n",
       "856                                     -0.281609  \n",
       "702                                     -0.344542  \n",
       "748                                     -0.515184  "
      ]
     },
     "execution_count": 232,
     "metadata": {},
     "output_type": "execute_result"
    }
   ],
   "source": [
    "scm_yield = scm_basis_expansion.merge(era_final[[\"year\", \"yield [kg/ha]\", \"yield anomaly [%]\"]], on=\"year\", how=\"left\")\n",
    "scm_yield = scm_yield[era_final.columns].set_index(\"year\").combine_first(era_final.set_index(\"year\")).reset_index()\n",
    "# Concat ERA with init_month = 12  \n",
    "scm_era = pd.concat([scm_yield, era_final], ignore_index=True)\n",
    "scm_era = scm_era.drop_duplicates().reset_index(drop=True)\n",
    "scm_era = scm_era.loc[scm_era[\"init_month\"] >= 9].sort_values(by=[\"model\", \"year\", \"init_month\"]).reset_index(drop=True)\n",
    "# Preview\n",
    "scm_era.sample(5)"
   ]
  },
  {
   "cell_type": "markdown",
   "metadata": {},
   "source": [
    "### 7. Analyse Bias"
   ]
  },
  {
   "cell_type": "code",
   "execution_count": 233,
   "metadata": {},
   "outputs": [],
   "source": [
    "# store variables that are used through this notebook\n",
    "init_months = scm_era[\"init_month\"].unique().tolist()\n",
    "init_months.remove(12)\n",
    "scm_models = [c for c in scm_era.model.unique().tolist() if c != \"ERA\"]\n",
    "weather_columns = [c for c in scm_era.columns if (\"rain\" in c) or (\"tmean\" in c)]"
   ]
  },
  {
   "cell_type": "code",
   "execution_count": 234,
   "metadata": {},
   "outputs": [],
   "source": [
    "scm_bias = scm_era.loc[scm_era[\"model\"].isin(scm_models)]\n",
    "era_bias = scm_era.loc[scm_era[\"model\"] == \"ERA\"].set_index(\"year\")[weather_columns]\n",
    "\n",
    "all_bias = []\n",
    "for model in scm_models:\n",
    "    for month in init_months:\n",
    "        current_scm = scm_bias.loc[(scm_bias[\"model\"] == model) & (scm_bias[\"init_month\"] == month)].set_index(\"year\")\n",
    "        current_scm_bias = abs(current_scm[weather_columns] - era_bias)\n",
    "        current_scm_info = current_scm[['model', 'init_month', 'yield [kg/ha]', 'yield anomaly [%]']]\n",
    "        current_scm_bias.loc[:, [c for c in weather_columns if int(c.split(\"_\")[-1]) < month]] = np.nan\n",
    "        current_scm = pd.concat([current_scm_info, current_scm_bias], axis=1).groupby(['model', 'init_month'])[weather_columns].mean().reset_index(drop=False)\n",
    "        #current_scm = pd.concat([current_scm_info, current_scm_bias], axis=1)[['model', 'init_month']+weather_columns]\n",
    "        all_bias.append(current_scm)\n",
    "all_bias = pd.concat(all_bias)"
   ]
  },
  {
   "cell_type": "code",
   "execution_count": 235,
   "metadata": {},
   "outputs": [],
   "source": [
    "all_bias = all_bias.set_index([\"model\", \"init_month\"]).stack().reset_index()\n",
    "all_bias.columns = [\"model\", \"init_month\", \"feature\", \"bias\"]"
   ]
  },
  {
   "cell_type": "code",
   "execution_count": 236,
   "metadata": {},
   "outputs": [
    {
     "data": {
      "text/plain": [
       "<Axes: ylabel='model'>"
      ]
     },
     "execution_count": 236,
     "metadata": {},
     "output_type": "execute_result"
    },
    {
     "data": {
      "image/png": "[encoded data removed]",
      "text/plain": [
       "<Figure size 640x480 with 2 Axes>"
      ]
     },
     "metadata": {},
     "output_type": "display_data"
    }
   ],
   "source": [
    "bias_heatmap = (all_bias.loc[(all_bias[\"init_month\"] == 9)].groupby(\"model\")[\"bias\"].mean().reset_index()\n",
    "                .merge(all_bias.loc[(all_bias[\"init_month\"] == 10)].groupby(\"model\")[\"bias\"].mean().reset_index()\n",
    "                        .merge(all_bias.loc[(all_bias[\"init_month\"] == 11)].groupby(\"model\")[\"bias\"].mean().reset_index(), on=\"model\", suffixes=(\"\", \"_11\")), on=\"model\", suffixes=(\"_9\", \"_10\"))\n",
    "                .round(2))\n",
    "sns.heatmap(bias_heatmap.set_index(\"model\"))"
   ]
  },
  {
   "cell_type": "code",
   "execution_count": 237,
   "metadata": {},
   "outputs": [
    {
     "data": {
      "text/plain": [
       "<Axes: xlabel='bias', ylabel='feature'>"
      ]
     },
     "execution_count": 237,
     "metadata": {},
     "output_type": "execute_result"
    },
    {
     "data": {
      "image/png": "[encoded data removed]",
      "text/plain": [
       "<Figure size 640x480 with 1 Axes>"
      ]
     },
     "metadata": {},
     "output_type": "display_data"
    }
   ],
   "source": [
    "sns.stripplot(data=all_bias.loc[(all_bias[\"init_month\"] == 10)], x=\"bias\", y=\"feature\", orient=\"h\", s=7, linewidth=0.5, alpha=.6, hue=\"model\", jitter=True, size=(20,20))"
   ]
  },
  {
   "cell_type": "markdown",
   "metadata": {},
   "source": [
    "## EXPORT"
   ]
  },
  {
   "cell_type": "code",
   "execution_count": 238,
   "metadata": {},
   "outputs": [],
   "source": [
    "scm_era.to_csv(\"files/ERA/features/scm_era_features_filtered_case38.csv\", index=False)"
   ]
  },
  {
   "cell_type": "code",
   "execution_count": null,
   "metadata": {},
   "outputs": [],
   "source": []
  }
 ],
 "metadata": {
  "kernelspec": {
   "display_name": "global-yield-forecast",
   "language": "python",
   "name": "python3"
  },
  "language_info": {
   "codemirror_mode": {
    "name": "ipython",
    "version": 3
   },
   "file_extension": ".py",
   "mimetype": "text/x-python",
   "name": "python",
   "nbconvert_exporter": "python",
   "pygments_lexer": "ipython3",
   "version": "3.12.0"
  },
  "orig_nbformat": 4,
  "vscode": {
   "interpreter": {
    "hash": "1a13e9c38e230185871227d6dfdef7d2ccc917d443c4e26807339cda0e86f522"
   }
  }
 },
 "nbformat": 4,
 "nbformat_minor": 2
}
