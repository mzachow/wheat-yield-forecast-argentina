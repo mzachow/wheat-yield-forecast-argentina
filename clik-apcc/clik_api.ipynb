{
 "cells": [
  {
   "cell_type": "code",
   "execution_count": 1,
   "metadata": {},
   "outputs": [],
   "source": [
    "import apccapi"
   ]
  },
  {
   "cell_type": "code",
   "execution_count": 2,
   "metadata": {},
   "outputs": [],
   "source": [
    "list_a = list(range(1993, 2017))\n",
    "list_b = [\"01\", \"02\", \"03\", \"04\", \"05\", \"06\", \"07\", \"08\", \"09\", \"10\", \"11\", \"12\"]\n",
    "res = []\n",
    "\n",
    "for i in list_a:\n",
    "    for j in list_b:\n",
    "        res.append(str(i)+j)"
   ]
  },
  {
   "cell_type": "code",
   "execution_count": 3,
   "metadata": {},
   "outputs": [
    {
     "name": "stderr",
     "output_type": "stream",
     "text": [
      "[2022-11-28 10:26:18,780] [INFO] Hello 80807.\n",
      "[2022-11-28 10:26:18,782] [INFO] Your job id is 63847ebbd8075e0006691292\n",
      "[2022-11-28 10:26:18,784] [INFO] Request is Queued\n"
     ]
    },
    {
     "name": "stdout",
     "output_type": "stream",
     "text": [
      "<Response [202]>\n"
     ]
    },
    {
     "name": "stderr",
     "output_type": "stream",
     "text": [
      "[2022-11-28 10:26:23,018] [INFO] Request is Running\n",
      "[2022-11-28 13:36:25,715] [INFO] Request is Complete\n",
      "[2022-11-28 13:36:25,765] [INFO] Start to save file - kma.zip\n",
      "[2022-11-28 14:54:36,504] [INFO] Done\n"
     ]
    }
   ],
   "source": [
    "c = apccapi.Client()\n",
    "c.retrieve(\n",
    "\t{\n",
    "\t\t'jobtype': 'MODEL',\n",
    "\t\t'dataset': 'MODEL',\n",
    "\t\t'type': 'HINDCAST',\n",
    "\t\t'institute': 'KMA',\n",
    "\t\t'model': 'GLOSEA6GC3.2',\n",
    "\t\t'variable': ['prec', 't2m'],\n",
    "\t\t'yearmonth': res\n",
    "\t},\n",
    "\t'kma.zip'\n",
    ")"
   ]
  }
 ],
 "metadata": {
  "kernelspec": {
   "display_name": "Python 3.9.12 ('base')",
   "language": "python",
   "name": "python3"
  },
  "language_info": {
   "codemirror_mode": {
    "name": "ipython",
    "version": 3
   },
   "file_extension": ".py",
   "mimetype": "text/x-python",
   "name": "python",
   "nbconvert_exporter": "python",
   "pygments_lexer": "ipython3",
   "version": "3.9.12"
  },
  "orig_nbformat": 4,
  "vscode": {
   "interpreter": {
    "hash": "7bdd4fa5e4a01778d662c250f68cd0ae4cd5c6713655d3ff4cfd53a48ea87565"
   }
  }
 },
 "nbformat": 4,
 "nbformat_minor": 2
}
