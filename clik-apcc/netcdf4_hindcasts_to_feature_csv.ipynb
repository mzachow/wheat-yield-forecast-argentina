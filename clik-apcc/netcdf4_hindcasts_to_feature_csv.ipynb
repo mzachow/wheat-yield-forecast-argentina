{
 "cells": [
  {
   "cell_type": "code",
   "execution_count": 1,
   "metadata": {},
   "outputs": [],
   "source": [
    "import os\n",
    "import numpy as np\n",
    "import pandas as pd\n",
    "import xarray as xr\n",
    "import geopandas as gp\n",
    "\n",
    "from copy import copy\n",
    "from unidecode import unidecode\n",
    "from functools import reduce\n",
    "from datetime import date, datetime\n",
    "from dateutil.relativedelta import relativedelta\n",
    "from bias_correction import BiasCorrection, XBiasCorrection\n",
    "\n",
    "relevant_municipalities = [\"buenos aires coronel dorrego\", \"buenos aires hipolito yrigoyen\"]\n",
    "month_name_to_number = {\n",
    "    \"JAN\":1, \"FEB\":2, \"MAR\":3, \"APR\":4, \"MAY\":5, \"JUN\":6, \"JUL\":7, \"AUG\":8, \"SEP\":9, \"OCT\":10, \"NOV\":11, \"DEC\":12\n",
    "    }\n",
    "\n",
    "%load_ext autoreload\n",
    "%autoreload 2"
   ]
  },
  {
   "cell_type": "markdown",
   "metadata": {},
   "source": [
    "### 1. Read data"
   ]
  },
  {
   "cell_type": "markdown",
   "metadata": {},
   "source": [
    "**Polygon shapes**\n",
    "\n",
    "To forecast wheat yield in Argentina, we use weather data from two locations - Buenos Aires Coronel Dorrego and Buenos Aires Hipolito Yrigoyen. In this notebook we read hindcasts from the APCC CLIK that is provided in 2.5° x 2.5° grid cells. For each location, we need to find the grid cells that are closest. "
   ]
  },
  {
   "cell_type": "code",
   "execution_count": 2,
   "metadata": {},
   "outputs": [
    {
     "data": {
      "text/plain": [
       "{'buenos aires coronel dorrego': <POLYGON Z ((-61.175 -38.293 0, -61.174 -38.293 0, -61.173 -38.293 0, -61.17...>,\n",
       " 'buenos aires hipolito yrigoyen': <POLYGON Z ((-61.45 -36.052 0, -61.435 -36.039 0, -61.393 -36.072 0, -61.333...>}"
      ]
     },
     "execution_count": 2,
     "metadata": {},
     "output_type": "execute_result"
    }
   ],
   "source": [
    "# polygon shapes of the two municipalities that are relevant for the forecast model\n",
    "gdf_adm2 = gp.read_file(\"data/shapefile/arg_admbnda_adm2_unhcr2017.shp\")[[\"ADM1_ES\", \"ADM2_ES\", \"geometry\"]]\n",
    "# concatenate name of state and municipality\n",
    "gdf_adm2[\"name\"] = gdf_adm2[[\"ADM1_ES\", \"ADM2_ES\"]].apply(lambda x: unidecode(x[0].lower()) + \" \" + unidecode(x[1].lower()), axis=1)\n",
    "# filter the two relevant names\n",
    "gdf_adm2 = gdf_adm2.loc[gdf_adm2[\"name\"].isin([\"buenos aires coronel dorrego\", \"buenos aires hipolito yrigoyen\"]), [\"name\", \"geometry\"]].reset_index(drop=True)\n",
    "# convert to dictionary for easier access\n",
    "name_to_shape = gdf_adm2.set_index(\"name\")[\"geometry\"].to_dict()\n",
    "# preview\n",
    "name_to_shape"
   ]
  },
  {
   "cell_type": "markdown",
   "metadata": {},
   "source": [
    "**ERA data**\n",
    "\n",
    "The ERA5-Land-Reanalysis [Dataset](https://cds.climate.copernicus.eu/cdsapp#!/dataset/reanalysis-era5-land-monthly-means?tab=form) is needed to bias-adjustment."
   ]
  },
  {
   "cell_type": "code",
   "execution_count": 68,
   "metadata": {},
   "outputs": [
    {
     "data": {
      "text/html": [
       "<div>\n",
       "<style scoped>\n",
       "    .dataframe tbody tr th:only-of-type {\n",
       "        vertical-align: middle;\n",
       "    }\n",
       "\n",
       "    .dataframe tbody tr th {\n",
       "        vertical-align: top;\n",
       "    }\n",
       "\n",
       "    .dataframe thead th {\n",
       "        text-align: right;\n",
       "    }\n",
       "</style>\n",
       "<table border=\"1\" class=\"dataframe\">\n",
       "  <thead>\n",
       "    <tr style=\"text-align: right;\">\n",
       "      <th></th>\n",
       "      <th>model</th>\n",
       "      <th>year</th>\n",
       "      <th>init_month</th>\n",
       "      <th>forecasted_month</th>\n",
       "      <th>rain</th>\n",
       "      <th>tmean</th>\n",
       "      <th>location</th>\n",
       "    </tr>\n",
       "  </thead>\n",
       "  <tbody>\n",
       "    <tr>\n",
       "      <th>0</th>\n",
       "      <td>ERA</td>\n",
       "      <td>1993</td>\n",
       "      <td>12</td>\n",
       "      <td>8</td>\n",
       "      <td>0.000204</td>\n",
       "      <td>10.112333</td>\n",
       "      <td>coronel dorrego</td>\n",
       "    </tr>\n",
       "    <tr>\n",
       "      <th>1</th>\n",
       "      <td>ERA</td>\n",
       "      <td>1994</td>\n",
       "      <td>12</td>\n",
       "      <td>8</td>\n",
       "      <td>0.001294</td>\n",
       "      <td>9.102000</td>\n",
       "      <td>coronel dorrego</td>\n",
       "    </tr>\n",
       "  </tbody>\n",
       "</table>\n",
       "</div>"
      ],
      "text/plain": [
       "  model  year  init_month  forecasted_month      rain      tmean  \\\n",
       "0   ERA  1993          12                 8  0.000204  10.112333   \n",
       "1   ERA  1994          12                 8  0.001294   9.102000   \n",
       "\n",
       "          location  \n",
       "0  coronel dorrego  \n",
       "1  coronel dorrego  "
      ]
     },
     "execution_count": 68,
     "metadata": {},
     "output_type": "execute_result"
    }
   ],
   "source": [
    "era = pd.read_csv(\"data/era_filtered_locations.csv\").assign(model=\"ERA\", init_month=12)\n",
    "# the redundant part of the location \"Buenoas Aires\" can be removed\n",
    "era[\"name\"] = era[\"name\"].apply(lambda x: x.replace(\"buenos aires \", \"\"))\n",
    "era = era[[\"model\", \"year\", \"init_month\", \"month\", \"rain\", \"tmean\", \"name\"]]\n",
    "era.columns = [\"model\", \"year\", \"init_month\", \"forecasted_month\", \"rain\", \"tmean\", \"location\"]\n",
    "# preview\n",
    "era.head(2)"
   ]
  },
  {
   "cell_type": "markdown",
   "metadata": {},
   "source": [
    "### APCC CLIK\n",
    "\n",
    "The [Climate Information Toolkit (CLIK) from the APEC Climate Center (APCC)](https://cliks.apcc21.org/)(CLIK) consists of fifteen Seasonal climate models whose hindcasts are available to download [here](https://cliks.apcc21.org/dataset/model). Alternatively, CLIK has an API that we used in our research. More information is available [here](https://cliks.apcc21.org/contents/openapi). Out of the fifteen models that are part of the APCC MME, we collected data from five. Partly because some data was not consistently available for all years and months of initialization, and partly because the data was already collected from the NMME or the Copernicus Climate Data Store (more in *../c3s/* or *../nmme/*)\n",
    "\n",
    "- BoM ACCESS-S2 from Australia - **BOM**\n",
    "- PNU-RDA CGCMv2.0 from Korea - **PNU**\n",
    "- CWB TCWB1Tv1.1 from Chinese Taipei - **CWB**\n",
    "- HMC SL-AV from Russia - **HMC**\n",
    "- KMA GloSea6GC3.2 from Korea - **KMA**\n",
    "- NCEP CFSv2 from the USA - **collected from NMME**\n",
    "- METFR SYS8 from France - **collected from C3S**\n",
    "- CMCC SOS3.5 from Italy - **collected from C3S**\n",
    "- UKMO GloSea6 from the UK - **collected from C3s**\n",
    "- ECCC CANSIPSv2.1 from Canada - **collected from C3S**\n",
    "- APCC SCoPS from Korea - **not considered, because of missing data**\n",
    "- BCC CSM1.1m from China - **not considered, because of missing data**\n",
    "- MGO MGOAM-2 grom Russia - **not considered, because of missing data**\n"
   ]
  },
  {
   "cell_type": "code",
   "execution_count": 4,
   "metadata": {},
   "outputs": [],
   "source": [
    "def read_data(model_name_as_string):\n",
    "    \"\"\"Read netcdf4 data files and concatenates them to one dataframe.\n",
    "    Params:\n",
    "     - model_name_as_string: string, the name of the model\n",
    "     Returns:\n",
    "      - hindcasts: dataframe\n",
    "    \"\"\"\n",
    "    list_temp = []\n",
    "    list_prec = []\n",
    "    climate_vars = [\"prec\", \"t2m\"]\n",
    "    directory_as_str = \"data/\" + model_name_as_string + \"/\"\n",
    "    directory = os.fsencode(directory_as_str)\n",
    "    # to print progress of reading files\n",
    "    total_number_of_files = len([entry for entry in os.listdir(directory_as_str) if os.path.isfile(os.path.join(directory_as_str, entry))])\n",
    "    print(\"job started, there are {} files to iterate\".format(total_number_of_files))  \n",
    "    counter = 0\n",
    "    for file in os.listdir(directory):\n",
    "        \n",
    "        counter += 1\n",
    "        filename = os.fsdecode(file)\n",
    "        if filename.endswith(\"nc\"):\n",
    "            # info about hindcasts are part of the filename\n",
    "            splitted_filename = filename.split(\"_\") \n",
    "            init_month = splitted_filename[-3]\n",
    "            year = int(splitted_filename[-2])\n",
    "            model_year = splitted_filename[0][-4:]\n",
    "            df = (xr\n",
    "                  .open_dataset(directory_as_str + filename, engine=\"netcdf4\")\n",
    "                  .to_dataframe()\n",
    "                  .reset_index()\n",
    "                  .assign(model=model_name_as_string, model_year=model_year, init_year=year, \n",
    "                          init_month=init_month, forecasted_year=lambda x: pd.to_datetime(x[\"time\"]).dt.year, forecasted_month=lambda x: pd.to_datetime(x[\"time\"]).dt.month)\n",
    "                  .groupby([\"model\", \"model_year\", \"init_year\", \"init_month\", \"forecasted_year\", \"forecasted_month\", \"time\", \"lat\", \"lon\"])\n",
    "                  .mean())\n",
    "            df = df.loc[:, [c for c in df.columns if c in climate_vars]]\n",
    "            if filename.endswith(\"prec.nc\"): list_prec.append(df)\n",
    "            if filename.endswith(\"t2m.nc\"): list_temp.append(df)\n",
    "        if counter % 30 == 0:\n",
    "            print(str(counter) + \"/\" + str(total_number_of_files))\n",
    "    \n",
    "    print(\"concatenating temp and rain..\")        \n",
    "    hindcasts_prec = pd.concat(list_prec, axis=0, ignore_index=False)\n",
    "    hindcasts_temp = pd.concat(list_temp, axis=0, ignore_index=False)\n",
    "    hindcasts = hindcasts_prec.combine_first(hindcasts_temp).reset_index()\n",
    "    print(\"job finished\")\n",
    "    return hindcasts\n",
    "    "
   ]
  },
  {
   "cell_type": "code",
   "execution_count": 8,
   "metadata": {},
   "outputs": [
    {
     "name": "stdout",
     "output_type": "stream",
     "text": [
      "job started, there are 576 files to iterate\n",
      "30/576\n",
      "60/576\n",
      "90/576\n",
      "120/576\n",
      "150/576\n",
      "180/576\n",
      "210/576\n",
      "240/576\n",
      "270/576\n",
      "300/576\n",
      "330/576\n",
      "360/576\n",
      "390/576\n",
      "420/576\n",
      "450/576\n",
      "480/576\n",
      "510/576\n",
      "540/576\n",
      "570/576\n",
      "concatenating temp and rain..\n",
      "job finished\n"
     ]
    }
   ],
   "source": [
    "pnu = read_data(\"PNU\")"
   ]
  },
  {
   "cell_type": "code",
   "execution_count": 9,
   "metadata": {},
   "outputs": [
    {
     "name": "stdout",
     "output_type": "stream",
     "text": [
      "job started, there are 576 files to iterate\n",
      "30/576\n",
      "60/576\n",
      "90/576\n",
      "120/576\n",
      "150/576\n",
      "180/576\n",
      "210/576\n",
      "240/576\n",
      "270/576\n",
      "300/576\n",
      "330/576\n",
      "360/576\n",
      "390/576\n",
      "420/576\n",
      "450/576\n",
      "480/576\n",
      "510/576\n",
      "540/576\n",
      "570/576\n",
      "concatenating temp and rain..\n",
      "job finished\n"
     ]
    }
   ],
   "source": [
    "kma = read_data(\"KMA\")"
   ]
  },
  {
   "cell_type": "code",
   "execution_count": 7,
   "metadata": {},
   "outputs": [
    {
     "name": "stdout",
     "output_type": "stream",
     "text": [
      "job started, there are 576 files to iterate\n",
      "30/576\n",
      "60/576\n",
      "90/576\n",
      "120/576\n",
      "150/576\n",
      "180/576\n",
      "210/576\n",
      "240/576\n",
      "270/576\n",
      "300/576\n",
      "330/576\n",
      "360/576\n",
      "390/576\n",
      "420/576\n",
      "450/576\n",
      "480/576\n",
      "510/576\n",
      "540/576\n",
      "570/576\n",
      "concatenating temp and rain..\n",
      "job finished\n"
     ]
    }
   ],
   "source": [
    "cwb = read_data(\"CWB\")"
   ]
  },
  {
   "cell_type": "code",
   "execution_count": 6,
   "metadata": {},
   "outputs": [
    {
     "name": "stdout",
     "output_type": "stream",
     "text": [
      "job started, there are 566 files to iterate\n",
      "30/566\n",
      "60/566\n",
      "90/566\n",
      "120/566\n",
      "150/566\n",
      "180/566\n",
      "210/566\n",
      "240/566\n",
      "270/566\n",
      "300/566\n",
      "330/566\n",
      "360/566\n",
      "390/566\n",
      "420/566\n",
      "450/566\n",
      "480/566\n",
      "510/566\n",
      "540/566\n",
      "concatenating temp and rain..\n",
      "job finished\n"
     ]
    }
   ],
   "source": [
    "hmc = read_data(\"HMC\")"
   ]
  },
  {
   "cell_type": "code",
   "execution_count": 5,
   "metadata": {},
   "outputs": [
    {
     "name": "stdout",
     "output_type": "stream",
     "text": [
      "job started, there are 576 files to iterate\n",
      "30/576\n",
      "60/576\n",
      "90/576\n",
      "120/576\n",
      "150/576\n",
      "180/576\n",
      "210/576\n",
      "240/576\n",
      "270/576\n",
      "300/576\n",
      "330/576\n",
      "360/576\n",
      "390/576\n",
      "420/576\n",
      "450/576\n",
      "480/576\n",
      "510/576\n",
      "540/576\n",
      "570/576\n",
      "concatenating temp and rain..\n",
      "job finished\n"
     ]
    }
   ],
   "source": [
    "bom = read_data(\"BOM\")"
   ]
  },
  {
   "cell_type": "code",
   "execution_count": 54,
   "metadata": {},
   "outputs": [],
   "source": [
    "hindcasts = pd.concat([bom, pnu, cwb, hmc, kma], ignore_index=True)"
   ]
  },
  {
   "cell_type": "markdown",
   "metadata": {},
   "source": [
    "### 2. Preprocessing"
   ]
  },
  {
   "cell_type": "code",
   "execution_count": 55,
   "metadata": {},
   "outputs": [],
   "source": [
    "# change coordinate reference units\n",
    "hindcasts[\"lon\"] = hindcasts[\"lon\"].apply(lambda x: x - 360 if x > 180 else x)\n",
    "# filter roughly by relevant area of Argentina\n",
    "hindcasts = hindcasts.loc[(hindcasts[\"lat\"] <= -28) & (hindcasts[\"lat\"] >= -45) & (hindcasts[\"lon\"] >= -68) & (hindcasts[\"lon\"] <= -55)].reset_index(drop=True)\n",
    "# replace month names to integer\n",
    "hindcasts[\"init_month\"] = hindcasts[\"init_month\"].replace(month_name_to_number)\n",
    "# convert tempearture from Kelvin to degree celsius\n",
    "hindcasts[\"t2m\"] = hindcasts[\"t2m\"].apply(lambda x: x - 273.15)\n",
    "# convert rain to mm to match with ERA-reanalysis\n",
    "hindcasts[\"prec\"] = hindcasts[\"prec\"].apply(lambda x: x / 1000)\n",
    "# filter by init month and forecasted month; HMC is not available for init_month < 9, but we need 8 as feature, will be supplemented with ERA and filtered later\n",
    "hindcasts = (hindcasts\n",
    "             .loc[(hindcasts[\"init_month\"].between(8, 11)) & (hindcasts[\"forecasted_month\"].between(8, 11)) & (hindcasts[\"forecasted_year\"] == hindcasts[\"init_year\"]),\n",
    "                  [\"model\", \"init_year\", \"init_month\", \"forecasted_month\", \"prec\", \"t2m\", \"lat\", \"lon\"]]\n",
    "                .rename(columns={\"init_year\":\"year\", \"prec\":\"rain\", \"t2m\":\"tmean\"})\n",
    "                .reset_index(drop=True))\n",
    "\n",
    "# convert to geodataframe to facilitate spatial filtering in the next section\n",
    "hindcasts = gp.GeoDataFrame(hindcasts, geometry=gp.points_from_xy(hindcasts[\"lon\"], hindcasts[\"lat\"]), crs=\"EPSG:4326\")"
   ]
  },
  {
   "cell_type": "code",
   "execution_count": 56,
   "metadata": {},
   "outputs": [
    {
     "data": {
      "text/html": [
       "<div>\n",
       "<style scoped>\n",
       "    .dataframe tbody tr th:only-of-type {\n",
       "        vertical-align: middle;\n",
       "    }\n",
       "\n",
       "    .dataframe tbody tr th {\n",
       "        vertical-align: top;\n",
       "    }\n",
       "\n",
       "    .dataframe thead th {\n",
       "        text-align: right;\n",
       "    }\n",
       "</style>\n",
       "<table border=\"1\" class=\"dataframe\">\n",
       "  <thead>\n",
       "    <tr style=\"text-align: right;\">\n",
       "      <th></th>\n",
       "      <th>model</th>\n",
       "      <th>year</th>\n",
       "      <th>init_month</th>\n",
       "      <th>forecasted_month</th>\n",
       "      <th>rain</th>\n",
       "      <th>tmean</th>\n",
       "      <th>lat</th>\n",
       "      <th>lon</th>\n",
       "      <th>geometry</th>\n",
       "    </tr>\n",
       "  </thead>\n",
       "  <tbody>\n",
       "    <tr>\n",
       "      <th>0</th>\n",
       "      <td>BOM</td>\n",
       "      <td>1993</td>\n",
       "      <td>8</td>\n",
       "      <td>8</td>\n",
       "      <td>0.000858</td>\n",
       "      <td>4.104913</td>\n",
       "      <td>-45.0</td>\n",
       "      <td>-67.5</td>\n",
       "      <td>POINT (-67.50000 -45.00000)</td>\n",
       "    </tr>\n",
       "    <tr>\n",
       "      <th>1</th>\n",
       "      <td>BOM</td>\n",
       "      <td>1993</td>\n",
       "      <td>8</td>\n",
       "      <td>8</td>\n",
       "      <td>0.000947</td>\n",
       "      <td>6.767725</td>\n",
       "      <td>-45.0</td>\n",
       "      <td>-65.0</td>\n",
       "      <td>POINT (-65.00000 -45.00000)</td>\n",
       "    </tr>\n",
       "  </tbody>\n",
       "</table>\n",
       "</div>"
      ],
      "text/plain": [
       "  model  year  init_month  forecasted_month      rain     tmean   lat   lon  \\\n",
       "0   BOM  1993           8                 8  0.000858  4.104913 -45.0 -67.5   \n",
       "1   BOM  1993           8                 8  0.000947  6.767725 -45.0 -65.0   \n",
       "\n",
       "                      geometry  \n",
       "0  POINT (-67.50000 -45.00000)  \n",
       "1  POINT (-65.00000 -45.00000)  "
      ]
     },
     "execution_count": 56,
     "metadata": {},
     "output_type": "execute_result"
    }
   ],
   "source": [
    "hindcasts.head(2)"
   ]
  },
  {
   "cell_type": "markdown",
   "metadata": {},
   "source": [
    "### 3. Find closest location to municipalities"
   ]
  },
  {
   "cell_type": "code",
   "execution_count": 57,
   "metadata": {},
   "outputs": [],
   "source": [
    "modelling_groups = hindcasts[\"model\"].unique()\n",
    "li = []\n",
    "for model in modelling_groups:\n",
    "    # get current model and the lat-lon coordinates of its forecasts\n",
    "    current_model = hindcasts.loc[hindcasts[\"model\"] == model, [\"model\", \"lat\", \"lon\", \"geometry\"]].drop_duplicates()\n",
    "    # get the nearest lat-lon pair to both locations (municipalities)\n",
    "    location_1 = pd.DataFrame(current_model.iloc[current_model.sindex.nearest(name_to_shape[relevant_municipalities[0]])[1][0]]).transpose().assign(location=\"coronel dorrego\").reset_index(drop=True)\n",
    "    location_2 = pd.DataFrame(current_model.iloc[current_model.sindex.nearest(name_to_shape[relevant_municipalities[1]])[1][0]]).transpose().assign(location=\"hipolito yrigoyen\").reset_index(drop=True)\n",
    "    # save in dataframe\n",
    "    locations = pd.concat([location_1, location_2], ignore_index=True)\n",
    "    # the lat-lon pairs that are selected are merged with the name of their location; all other lat-lon pairs are dropped\n",
    "    current_model = current_model.merge(locations, on=[\"model\", \"lat\", \"lon\", \"geometry\"], how=\"left\").dropna()\n",
    "    # append the locations for this model\n",
    "    li.append(current_model)\n",
    "    \n",
    "model_locations = pd.concat(li, ignore_index=True, axis=0)\n",
    "# dataframe is now called CLIK \n",
    "clik = hindcasts.merge(model_locations, on=[\"model\", \"lat\", \"lon\", \"geometry\"]).dropna()"
   ]
  },
  {
   "cell_type": "code",
   "execution_count": 58,
   "metadata": {},
   "outputs": [
    {
     "data": {
      "text/plain": [
       "<Axes: >"
      ]
     },
     "execution_count": 58,
     "metadata": {},
     "output_type": "execute_result"
    },
    {
     "data": {
      "image/png": "[encoded data removed]",
      "text/plain": [
       "<Figure size 600x600 with 1 Axes>"
      ]
     },
     "metadata": {},
     "output_type": "display_data"
    }
   ],
   "source": [
    "base = gdf_adm2.plot(figsize=(6,6), edgecolor=\"black\", linewidth=.2)\n",
    "gp.GeoDataFrame(clik[[\"geometry\", \"lat\", \"lon\"]].drop_duplicates(), geometry=\"geometry\", crs=\"EPSG:4326\").plot(ax=base,  color=\"black\")"
   ]
  },
  {
   "cell_type": "code",
   "execution_count": 74,
   "metadata": {},
   "outputs": [],
   "source": [
    "def adjust_bias(observed, predicted, correction_method=\"basic_quantile\"):\n",
    "    \"\"\"Apply bias-adjustment to daily temperature values of hindcasts.\n",
    "    \n",
    "    parameters:\n",
    "     - observed: observed climate data\n",
    "     - predicted: hindcast data\n",
    "     - correction_method: bias-correction method to be applied. Can be 'normal_mapping', 'basic_quantile', 'gamma_mapping', 'modified_quantile'\n",
    "    \n",
    "    returns: \n",
    "     - results: bias-adjusted hindcasts as dataframe  \n",
    "    \"\"\"\n",
    "    # GroupBy objects allow faster access to relevant subsets of climate data.\n",
    "    grouped_climate_observations = observed.groupby([\"location\", \"year\", \"forecasted_month\"])\n",
    "    grouped_climate_hindcasts = predicted.groupby([\"model\", \"init_month\", \"location\", \"year\", \"forecasted_month\"])\n",
    "    grouped_climate_hindcasts_reference = copy(grouped_climate_hindcasts)\n",
    "    li = []\n",
    "    \n",
    "    for group_idx, group_content in grouped_climate_hindcasts:\n",
    "        # Save group characteristics in intuitive variables.\n",
    "        current_model = group_content[\"model\"].unique()[0]\n",
    "        current_init_month = group_content[\"init_month\"].unique()[0]\n",
    "        current_zone = group_content[\"location\"].unique()[0]\n",
    "        current_season = group_content[\"year\"].unique()[0]\n",
    "        current_month = group_content[\"forecasted_month\"].unique()[0]\n",
    "        \n",
    "        # Create calibration set of observations and hindcasts.\n",
    "        hindcasts_used_as_reference = []\n",
    "        observations_used_as_reference = []\n",
    "        for season in list(range(1993,2017)): \n",
    "            if season != current_season:\n",
    "                observation_to_be_added = (current_zone, season, current_month) \n",
    "                observations_used_as_reference.append(grouped_climate_observations.get_group(observation_to_be_added))   \n",
    "            hindcast_to_be_added = (current_model, current_init_month, current_zone, season, current_month)\n",
    "            hindcasts_used_as_reference.append(grouped_climate_hindcasts_reference.get_group(hindcast_to_be_added))\n",
    "        hindcasts_used_as_reference = pd.concat(hindcasts_used_as_reference, axis=0, ignore_index=False)\n",
    "        observations_used_as_reference = pd.concat(observations_used_as_reference, axis=0, ignore_index=False) \n",
    "        \n",
    "        # Perform bias-adjustment for temperature variables.\n",
    "        bc_tmean = BiasCorrection(observations_used_as_reference[\"tmean\"], hindcasts_used_as_reference[\"tmean\"], group_content[\"tmean\"])\n",
    "        bc_rain = BiasCorrection(observations_used_as_reference[\"rain\"], hindcasts_used_as_reference[\"rain\"], group_content[\"rain\"])\n",
    "        group_content[\"tmean\"] = bc_tmean.correct(method=correction_method)\n",
    "        group_content[\"rain\"] = bc_rain.correct(method=correction_method)\n",
    "        \n",
    "        li.append(group_content)\n",
    "    result = pd.concat(li, axis=0, ignore_index=True)       \n",
    "    \n",
    "    return result"
   ]
  },
  {
   "cell_type": "code",
   "execution_count": 70,
   "metadata": {},
   "outputs": [],
   "source": [
    "adjusted_hindcasts = adjust_bias(era, clik)"
   ]
  },
  {
   "cell_type": "markdown",
   "metadata": {},
   "source": [
    "### 5. Features structure "
   ]
  },
  {
   "cell_type": "code",
   "execution_count": 76,
   "metadata": {},
   "outputs": [
    {
     "data": {
      "text/html": [
       "<div>\n",
       "<style scoped>\n",
       "    .dataframe tbody tr th:only-of-type {\n",
       "        vertical-align: middle;\n",
       "    }\n",
       "\n",
       "    .dataframe tbody tr th {\n",
       "        vertical-align: top;\n",
       "    }\n",
       "\n",
       "    .dataframe thead th {\n",
       "        text-align: right;\n",
       "    }\n",
       "</style>\n",
       "<table border=\"1\" class=\"dataframe\">\n",
       "  <thead>\n",
       "    <tr style=\"text-align: right;\">\n",
       "      <th></th>\n",
       "      <th>model</th>\n",
       "      <th>year</th>\n",
       "      <th>init_month</th>\n",
       "      <th>rain_coronel dorrego_10</th>\n",
       "      <th>rain_coronel dorrego_11</th>\n",
       "      <th>rain_coronel dorrego_8</th>\n",
       "      <th>rain_coronel dorrego_9</th>\n",
       "      <th>rain_hipolito yrigoyen_10</th>\n",
       "      <th>rain_hipolito yrigoyen_11</th>\n",
       "      <th>rain_hipolito yrigoyen_8</th>\n",
       "      <th>rain_hipolito yrigoyen_9</th>\n",
       "      <th>tmean_coronel dorrego_10</th>\n",
       "      <th>tmean_coronel dorrego_11</th>\n",
       "      <th>tmean_coronel dorrego_8</th>\n",
       "      <th>tmean_coronel dorrego_9</th>\n",
       "      <th>tmean_hipolito yrigoyen_10</th>\n",
       "      <th>tmean_hipolito yrigoyen_11</th>\n",
       "      <th>tmean_hipolito yrigoyen_8</th>\n",
       "      <th>tmean_hipolito yrigoyen_9</th>\n",
       "    </tr>\n",
       "  </thead>\n",
       "  <tbody>\n",
       "    <tr>\n",
       "      <th>0</th>\n",
       "      <td>BOM</td>\n",
       "      <td>1993</td>\n",
       "      <td>9</td>\n",
       "      <td>0.003156</td>\n",
       "      <td>0.003315</td>\n",
       "      <td>0.000204</td>\n",
       "      <td>0.003024</td>\n",
       "      <td>0.003897</td>\n",
       "      <td>0.003932</td>\n",
       "      <td>0.000622</td>\n",
       "      <td>0.004287</td>\n",
       "      <td>13.417123</td>\n",
       "      <td>16.459535</td>\n",
       "      <td>10.112333</td>\n",
       "      <td>10.012685</td>\n",
       "      <td>14.735237</td>\n",
       "      <td>17.580730</td>\n",
       "      <td>10.272308</td>\n",
       "      <td>10.916235</td>\n",
       "    </tr>\n",
       "    <tr>\n",
       "      <th>1</th>\n",
       "      <td>BOM</td>\n",
       "      <td>1993</td>\n",
       "      <td>10</td>\n",
       "      <td>0.002996</td>\n",
       "      <td>0.002440</td>\n",
       "      <td>0.000204</td>\n",
       "      <td>0.000629</td>\n",
       "      <td>0.002625</td>\n",
       "      <td>0.003344</td>\n",
       "      <td>0.000622</td>\n",
       "      <td>0.002687</td>\n",
       "      <td>13.153378</td>\n",
       "      <td>17.334211</td>\n",
       "      <td>10.112333</td>\n",
       "      <td>11.635667</td>\n",
       "      <td>14.692238</td>\n",
       "      <td>18.756839</td>\n",
       "      <td>10.272308</td>\n",
       "      <td>11.610769</td>\n",
       "    </tr>\n",
       "    <tr>\n",
       "      <th>2</th>\n",
       "      <td>BOM</td>\n",
       "      <td>1993</td>\n",
       "      <td>11</td>\n",
       "      <td>0.001886</td>\n",
       "      <td>0.003443</td>\n",
       "      <td>0.000204</td>\n",
       "      <td>0.000629</td>\n",
       "      <td>0.002157</td>\n",
       "      <td>0.003908</td>\n",
       "      <td>0.000622</td>\n",
       "      <td>0.002687</td>\n",
       "      <td>14.787833</td>\n",
       "      <td>16.579685</td>\n",
       "      <td>10.112333</td>\n",
       "      <td>11.635667</td>\n",
       "      <td>16.042308</td>\n",
       "      <td>17.314909</td>\n",
       "      <td>10.272308</td>\n",
       "      <td>11.610769</td>\n",
       "    </tr>\n",
       "    <tr>\n",
       "      <th>3</th>\n",
       "      <td>BOM</td>\n",
       "      <td>1994</td>\n",
       "      <td>9</td>\n",
       "      <td>0.004603</td>\n",
       "      <td>0.003936</td>\n",
       "      <td>0.001294</td>\n",
       "      <td>0.004090</td>\n",
       "      <td>0.006222</td>\n",
       "      <td>0.003933</td>\n",
       "      <td>0.002331</td>\n",
       "      <td>0.003535</td>\n",
       "      <td>13.064657</td>\n",
       "      <td>16.587822</td>\n",
       "      <td>9.102000</td>\n",
       "      <td>10.464281</td>\n",
       "      <td>14.801586</td>\n",
       "      <td>17.650340</td>\n",
       "      <td>9.853077</td>\n",
       "      <td>11.743266</td>\n",
       "    </tr>\n",
       "    <tr>\n",
       "      <th>4</th>\n",
       "      <td>BOM</td>\n",
       "      <td>1994</td>\n",
       "      <td>10</td>\n",
       "      <td>0.004597</td>\n",
       "      <td>0.006267</td>\n",
       "      <td>0.001294</td>\n",
       "      <td>0.000819</td>\n",
       "      <td>0.005173</td>\n",
       "      <td>0.007149</td>\n",
       "      <td>0.002331</td>\n",
       "      <td>0.001586</td>\n",
       "      <td>14.079286</td>\n",
       "      <td>17.291641</td>\n",
       "      <td>9.102000</td>\n",
       "      <td>11.997500</td>\n",
       "      <td>15.322899</td>\n",
       "      <td>18.713781</td>\n",
       "      <td>9.853077</td>\n",
       "      <td>12.882308</td>\n",
       "    </tr>\n",
       "  </tbody>\n",
       "</table>\n",
       "</div>"
      ],
      "text/plain": [
       "  model  year  init_month  rain_coronel dorrego_10  rain_coronel dorrego_11  \\\n",
       "0   BOM  1993           9                 0.003156                 0.003315   \n",
       "1   BOM  1993          10                 0.002996                 0.002440   \n",
       "2   BOM  1993          11                 0.001886                 0.003443   \n",
       "3   BOM  1994           9                 0.004603                 0.003936   \n",
       "4   BOM  1994          10                 0.004597                 0.006267   \n",
       "\n",
       "   rain_coronel dorrego_8  rain_coronel dorrego_9  rain_hipolito yrigoyen_10  \\\n",
       "0                0.000204                0.003024                   0.003897   \n",
       "1                0.000204                0.000629                   0.002625   \n",
       "2                0.000204                0.000629                   0.002157   \n",
       "3                0.001294                0.004090                   0.006222   \n",
       "4                0.001294                0.000819                   0.005173   \n",
       "\n",
       "   rain_hipolito yrigoyen_11  rain_hipolito yrigoyen_8  \\\n",
       "0                   0.003932                  0.000622   \n",
       "1                   0.003344                  0.000622   \n",
       "2                   0.003908                  0.000622   \n",
       "3                   0.003933                  0.002331   \n",
       "4                   0.007149                  0.002331   \n",
       "\n",
       "   rain_hipolito yrigoyen_9  tmean_coronel dorrego_10  \\\n",
       "0                  0.004287                 13.417123   \n",
       "1                  0.002687                 13.153378   \n",
       "2                  0.002687                 14.787833   \n",
       "3                  0.003535                 13.064657   \n",
       "4                  0.001586                 14.079286   \n",
       "\n",
       "   tmean_coronel dorrego_11  tmean_coronel dorrego_8  tmean_coronel dorrego_9  \\\n",
       "0                 16.459535                10.112333                10.012685   \n",
       "1                 17.334211                10.112333                11.635667   \n",
       "2                 16.579685                10.112333                11.635667   \n",
       "3                 16.587822                 9.102000                10.464281   \n",
       "4                 17.291641                 9.102000                11.997500   \n",
       "\n",
       "   tmean_hipolito yrigoyen_10  tmean_hipolito yrigoyen_11  \\\n",
       "0                   14.735237                   17.580730   \n",
       "1                   14.692238                   18.756839   \n",
       "2                   16.042308                   17.314909   \n",
       "3                   14.801586                   17.650340   \n",
       "4                   15.322899                   18.713781   \n",
       "\n",
       "   tmean_hipolito yrigoyen_8  tmean_hipolito yrigoyen_9  \n",
       "0                  10.272308                  10.916235  \n",
       "1                  10.272308                  11.610769  \n",
       "2                  10.272308                  11.610769  \n",
       "3                   9.853077                  11.743266  \n",
       "4                   9.853077                  12.882308  "
      ]
     },
     "execution_count": 76,
     "metadata": {},
     "output_type": "execute_result"
    }
   ],
   "source": [
    "# Bring NMME hindcasts into right structure where features are columns and rows are model-year-init_month\n",
    "hindcasts_pivot = adjusted_hindcasts.pivot(index=[\"model\", \"year\", \"init_month\"], columns=[\"location\", \"forecasted_month\"], values=[\"tmean\", \"rain\"]).reset_index()\n",
    "hindcasts_pivot.columns = [\"{}_{}_{}\".format(c[0], c[1], c[2]) for c in hindcasts_pivot.columns]\n",
    "hindcasts_pivot.columns = [c.strip(\"_\") for c in hindcasts_pivot.columns]\n",
    "\n",
    "# Bring ERA into right structure where features are columns and rows are model-year\n",
    "era_pivot = era.pivot(index=[\"model\", \"year\", \"init_month\"], columns=[\"location\", \"forecasted_month\"], values=[\"tmean\", \"rain\"]).reset_index()\n",
    "era_pivot.columns = [\"{}_{}_{}\".format(c[0], c[1], c[2]) for c in era_pivot.columns]\n",
    "era_pivot.columns = [c.strip(\"_\") for c in era_pivot.columns]\n",
    "era_pivot = era_pivot.sort_values(by=[\"model\", \"year\", \"init_month\"])\n",
    "\n",
    "# features for month < init_months are NaNs and will be replaced with era-reanalysis data\n",
    "all_models = hindcasts_pivot.set_index(\"year\").combine_first(era_pivot.set_index(\"year\")).reset_index()\n",
    "# concat ERA with init_month = 12  \n",
    "all_models = pd.concat([all_models, era_pivot], ignore_index=True)\n",
    "all_models = all_models.drop_duplicates().reset_index(drop=True)\n",
    "all_models = all_models.loc[all_models[\"init_month\"] >= 9].sort_values(by=[\"model\", \"year\", \"init_month\"]).reset_index(drop=True)\n",
    "\n",
    "# bring columns into right order\n",
    "all_models = all_models[\n",
    "    ['model', 'year', 'init_month', 'rain_coronel dorrego_10', 'rain_coronel dorrego_11', 'rain_coronel dorrego_8', 'rain_coronel dorrego_9', 'rain_hipolito yrigoyen_10', \n",
    "     'rain_hipolito yrigoyen_11', 'rain_hipolito yrigoyen_8', 'rain_hipolito yrigoyen_9', 'tmean_coronel dorrego_10', 'tmean_coronel dorrego_11', 'tmean_coronel dorrego_8', \n",
    "     'tmean_coronel dorrego_9', 'tmean_hipolito yrigoyen_10', 'tmean_hipolito yrigoyen_11', 'tmean_hipolito yrigoyen_8', 'tmean_hipolito yrigoyen_9']\n",
    "    ]\n",
    "\n",
    "all_models.head()"
   ]
  },
  {
   "cell_type": "code",
   "execution_count": 77,
   "metadata": {},
   "outputs": [
    {
     "data": {
      "text/plain": [
       "model\n",
       "BOM    72\n",
       "CWB    72\n",
       "ERA    30\n",
       "HMC    72\n",
       "KMA    72\n",
       "PNU    72\n",
       "dtype: int64"
      ]
     },
     "execution_count": 77,
     "metadata": {},
     "output_type": "execute_result"
    }
   ],
   "source": [
    "all_models.groupby(\"model\").size()"
   ]
  },
  {
   "cell_type": "markdown",
   "metadata": {},
   "source": [
    "### EXPORT"
   ]
  },
  {
   "cell_type": "code",
   "execution_count": 81,
   "metadata": {},
   "outputs": [],
   "source": [
    "all_models.to_csv(\"data/features/bias_adjusted_clik_features.csv\", index=False)"
   ]
  }
 ],
 "metadata": {
  "kernelspec": {
   "display_name": "Python 3.8.0 ('geospatial')",
   "language": "python",
   "name": "python3"
  },
  "language_info": {
   "codemirror_mode": {
    "name": "ipython",
    "version": 3
   },
   "file_extension": ".py",
   "mimetype": "text/x-python",
   "name": "python",
   "nbconvert_exporter": "python",
   "pygments_lexer": "ipython3",
   "version": "3.11.4"
  },
  "orig_nbformat": 4,
  "vscode": {
   "interpreter": {
    "hash": "3defe0cc3d3d54f02a1572862cbbf1c665fc2dba211b501647237531695c978b"
   }
  }
 },
 "nbformat": 4,
 "nbformat_minor": 2
}
