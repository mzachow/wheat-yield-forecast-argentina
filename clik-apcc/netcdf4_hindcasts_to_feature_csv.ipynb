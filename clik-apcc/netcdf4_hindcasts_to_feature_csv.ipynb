{
 "cells": [
  {
   "cell_type": "code",
   "execution_count": 1,
   "metadata": {},
   "outputs": [],
   "source": [
    "import os\n",
    "import numpy as np\n",
    "import pandas as pd\n",
    "import xarray as xr\n",
    "import geopandas as gp\n",
    "\n",
    "from copy import copy\n",
    "from unidecode import unidecode\n",
    "from functools import reduce\n",
    "from datetime import date, datetime\n",
    "from dateutil.relativedelta import relativedelta\n",
    "from bias_correction import BiasCorrection, XBiasCorrection\n",
    "\n",
    "relevant_municipalities = [\"buenos aires bahia blanca\", \"buenos aires coronel pringles\", \"buenos aires hipolito yrigoyen\", \"buenos aires coronel dorrego\", \"buenos aires coronel suarez\", \"buenos aires saavedra\", \"santa fe san justo\"]\n",
    "month_name_to_number = {\n",
    "    \"JAN\":1, \"FEB\":2, \"MAR\":3, \"APR\":4, \"MAY\":5, \"JUN\":6, \"JUL\":7, \"AUG\":8, \"SEP\":9, \"OCT\":10, \"NOV\":11, \"DEC\":12\n",
    "    }\n",
    "\n",
    "%load_ext autoreload\n",
    "%autoreload 2"
   ]
  },
  {
   "cell_type": "markdown",
   "metadata": {},
   "source": [
    "### 1. Read data"
   ]
  },
  {
   "cell_type": "markdown",
   "metadata": {},
   "source": [
    "**Polygon shapes**\n",
    "\n",
    "To forecast wheat yield in Argentina, we use weather data from two locations - Buenos Aires Coronel Dorrego and Buenos Aires Hipolito Yrigoyen. In this notebook we read hindcasts from the APCC CLIK that is provided in 2.5° x 2.5° grid cells. For each location, we need to find the grid cells that are closest. "
   ]
  },
  {
   "cell_type": "code",
   "execution_count": 2,
   "metadata": {},
   "outputs": [
    {
     "data": {
      "text/plain": [
       "{'buenos aires coronel suarez': <POLYGON Z ((-61.603 -36.993 0, -61.735 -37.093 0, -61.735 -37.095 0, -61.73...>,\n",
       " 'buenos aires bahia blanca': <POLYGON Z ((-62.219 -38.435 0, -62.198 -38.452 0, -62.084 -38.363 0, -62.04...>,\n",
       " 'buenos aires coronel dorrego': <POLYGON Z ((-61.175 -38.293 0, -61.174 -38.293 0, -61.173 -38.293 0, -61.17...>,\n",
       " 'buenos aires coronel pringles': <POLYGON Z ((-61.001 -37.823 0, -60.988 -37.833 0, -60.853 -37.94 0, -60.846...>,\n",
       " 'buenos aires hipolito yrigoyen': <POLYGON Z ((-61.45 -36.052 0, -61.435 -36.039 0, -61.393 -36.072 0, -61.333...>,\n",
       " 'santa fe san justo': <POLYGON Z ((-60.667 -29.918 0, -60.611 -29.927 0, -60.599 -29.928 0, -60.58...>,\n",
       " 'buenos aires saavedra': <POLYGON Z ((-62.044 -37.753 0, -62.067 -37.833 0, -62.092 -37.913 0, -62.09...>}"
      ]
     },
     "execution_count": 2,
     "metadata": {},
     "output_type": "execute_result"
    }
   ],
   "source": [
    "# polygon shapes of the two municipalities that are relevant for the forecast model\n",
    "gdf_adm2 = gp.read_file(\"data/shapefile/arg_admbnda_adm2_unhcr2017.shp\")[[\"ADM1_ES\", \"ADM2_ES\", \"geometry\"]]\n",
    "# concatenate name of state and municipality\n",
    "gdf_adm2[\"name\"] = gdf_adm2[[\"ADM1_ES\", \"ADM2_ES\"]].apply(lambda x: unidecode(x[0].lower()) + \" \" + unidecode(x[1].lower()), axis=1)\n",
    "# filter the two relevant names\n",
    "gdf_adm2 = gdf_adm2.loc[gdf_adm2[\"name\"].isin(relevant_municipalities), [\"name\", \"geometry\"]].reset_index(drop=True)\n",
    "# convert to dictionary for easier access\n",
    "name_to_shape = gdf_adm2.set_index(\"name\")[\"geometry\"].to_dict()\n",
    "# preview\n",
    "name_to_shape"
   ]
  },
  {
   "cell_type": "markdown",
   "metadata": {},
   "source": [
    "**ERA data**\n",
    "\n",
    "The ERA5-Land-Reanalysis [Dataset](https://cds.climate.copernicus.eu/cdsapp#!/dataset/reanalysis-era5-land-monthly-means?tab=form) is needed to bias-adjustment."
   ]
  },
  {
   "cell_type": "code",
   "execution_count": 3,
   "metadata": {},
   "outputs": [
    {
     "data": {
      "text/html": [
       "<div>\n",
       "<style scoped>\n",
       "    .dataframe tbody tr th:only-of-type {\n",
       "        vertical-align: middle;\n",
       "    }\n",
       "\n",
       "    .dataframe tbody tr th {\n",
       "        vertical-align: top;\n",
       "    }\n",
       "\n",
       "    .dataframe thead th {\n",
       "        text-align: right;\n",
       "    }\n",
       "</style>\n",
       "<table border=\"1\" class=\"dataframe\">\n",
       "  <thead>\n",
       "    <tr style=\"text-align: right;\">\n",
       "      <th></th>\n",
       "      <th>model</th>\n",
       "      <th>year</th>\n",
       "      <th>init_month</th>\n",
       "      <th>forecasted_month</th>\n",
       "      <th>rain</th>\n",
       "      <th>tmean</th>\n",
       "      <th>location</th>\n",
       "    </tr>\n",
       "  </thead>\n",
       "  <tbody>\n",
       "    <tr>\n",
       "      <th>0</th>\n",
       "      <td>ERA</td>\n",
       "      <td>1993</td>\n",
       "      <td>12</td>\n",
       "      <td>8</td>\n",
       "      <td>0.000122</td>\n",
       "      <td>10.427311</td>\n",
       "      <td>bahia blanca</td>\n",
       "    </tr>\n",
       "    <tr>\n",
       "      <th>1</th>\n",
       "      <td>ERA</td>\n",
       "      <td>1993</td>\n",
       "      <td>12</td>\n",
       "      <td>9</td>\n",
       "      <td>0.000719</td>\n",
       "      <td>12.046370</td>\n",
       "      <td>bahia blanca</td>\n",
       "    </tr>\n",
       "  </tbody>\n",
       "</table>\n",
       "</div>"
      ],
      "text/plain": [
       "  model  year  init_month  forecasted_month      rain      tmean      location\n",
       "0   ERA  1993          12                 8  0.000122  10.427311  bahia blanca\n",
       "1   ERA  1993          12                 9  0.000719  12.046370  bahia blanca"
      ]
     },
     "execution_count": 3,
     "metadata": {},
     "output_type": "execute_result"
    }
   ],
   "source": [
    "era = pd.read_csv(\"data/era_filtered_locations_v2.csv\").assign(model=\"ERA\", init_month=12)\n",
    "# the redundant part of the location \"Buenoas Aires\" can be removed\n",
    "era[\"name\"] = era[\"name\"].apply(lambda x: x.replace(\"buenos aires \", \"\"))\n",
    "era = era[[\"model\", \"year\", \"init_month\", \"month\", \"rain\", \"tmean\", \"name\"]]\n",
    "era.columns = [\"model\", \"year\", \"init_month\", \"forecasted_month\", \"rain\", \"tmean\", \"location\"]\n",
    "# preview\n",
    "era.head(2)"
   ]
  },
  {
   "cell_type": "markdown",
   "metadata": {},
   "source": [
    "### APCC CLIK\n",
    "\n",
    "The [Climate Information Toolkit (CLIK) from the APEC Climate Center (APCC)](https://cliks.apcc21.org/)(CLIK) consists of fifteen Seasonal climate models whose hindcasts are available to download [here](https://cliks.apcc21.org/dataset/model). Alternatively, CLIK has an API that we used in our research. More information is available [here](https://cliks.apcc21.org/contents/openapi). Out of the fifteen models that are part of the APCC MME, we collected data from five. Partly because some data was not consistently available for all years and months of initialization, and partly because the data was already collected from the NMME or the Copernicus Climate Data Store (more in *../c3s/* or *../nmme/*)\n",
    "\n",
    "- BoM ACCESS-S2 from Australia - **BOM**\n",
    "- PNU-RDA CGCMv2.0 from Korea - **PNU**\n",
    "- CWB TCWB1Tv1.1 from Chinese Taipei - **CWB**\n",
    "- HMC SL-AV from Russia - **HMC**\n",
    "- KMA GloSea6GC3.2 from Korea - **KMA**\n",
    "- NCEP CFSv2 from the USA - **collected from NMME**\n",
    "- METFR SYS8 from France - **collected from C3S**\n",
    "- CMCC SOS3.5 from Italy - **collected from C3S**\n",
    "- UKMO GloSea6 from the UK - **collected from C3s**\n",
    "- ECCC CANSIPSv2.1 from Canada - **collected from C3S**\n",
    "- APCC SCoPS from Korea - **not considered, because of missing data**\n",
    "- BCC CSM1.1m from China - **not considered, because of missing data**\n",
    "- MGO MGOAM-2 grom Russia - **not considered, because of missing data**\n"
   ]
  },
  {
   "cell_type": "code",
   "execution_count": 5,
   "metadata": {},
   "outputs": [],
   "source": [
    "def read_data(model_name_as_string):\n",
    "    \"\"\"Read netcdf4 data files and concatenates them to one dataframe.\n",
    "    Params:\n",
    "     - model_name_as_string: string, the name of the model\n",
    "     Returns:\n",
    "      - hindcasts: dataframe\n",
    "    \"\"\"\n",
    "    list_temp = []\n",
    "    list_prec = []\n",
    "    climate_vars = [\"prec\", \"t2m\"]\n",
    "    directory_as_str = \"data/\" + model_name_as_string + \"/\"\n",
    "    directory = os.fsencode(directory_as_str)\n",
    "    # to print progress of reading files\n",
    "    total_number_of_files = len([entry for entry in os.listdir(directory_as_str) if os.path.isfile(os.path.join(directory_as_str, entry))])\n",
    "    print(\"job started, there are {} files to iterate\".format(total_number_of_files))  \n",
    "    counter = 0\n",
    "    for file in os.listdir(directory):\n",
    "        \n",
    "        counter += 1\n",
    "        filename = os.fsdecode(file)\n",
    "        if filename.endswith(\"nc\"):\n",
    "            # info about hindcasts are part of the filename\n",
    "            splitted_filename = filename.split(\"_\") \n",
    "            init_month = splitted_filename[-3]\n",
    "            year = int(splitted_filename[-2])\n",
    "            model_year = splitted_filename[0][-4:]\n",
    "            df = (xr\n",
    "                  .open_dataset(directory_as_str + filename, engine=\"netcdf4\")\n",
    "                  .to_dataframe()\n",
    "                  .reset_index()\n",
    "                  .assign(model=model_name_as_string, model_year=model_year, init_year=year, \n",
    "                          init_month=init_month, forecasted_year=lambda x: pd.to_datetime(x[\"time\"]).dt.year, forecasted_month=lambda x: pd.to_datetime(x[\"time\"]).dt.month)\n",
    "                  .groupby([\"model\", \"model_year\", \"init_year\", \"init_month\", \"forecasted_year\", \"forecasted_month\", \"time\", \"lat\", \"lon\"])\n",
    "                  .mean())\n",
    "            df = df.loc[:, [c for c in df.columns if c in climate_vars]]\n",
    "            if filename.endswith(\"prec.nc\"): list_prec.append(df)\n",
    "            if filename.endswith(\"t2m.nc\"): list_temp.append(df)\n",
    "        if counter % 100 == 0:\n",
    "            print(str(counter) + \"/\" + str(total_number_of_files))\n",
    "    \n",
    "    print(\"concatenating temp and rain..\")        \n",
    "    hindcasts_prec = pd.concat(list_prec, axis=0, ignore_index=False)\n",
    "    hindcasts_temp = pd.concat(list_temp, axis=0, ignore_index=False)\n",
    "    hindcasts = hindcasts_prec.combine_first(hindcasts_temp).reset_index()\n",
    "    print(\"job finished\")\n",
    "    return hindcasts\n",
    "    "
   ]
  },
  {
   "cell_type": "code",
   "execution_count": 6,
   "metadata": {},
   "outputs": [
    {
     "name": "stdout",
     "output_type": "stream",
     "text": [
      "job started, there are 577 files to iterate\n",
      "100/577\n",
      "200/577\n",
      "300/577\n",
      "400/577\n",
      "500/577\n",
      "concatenating temp and rain..\n",
      "job finished\n"
     ]
    }
   ],
   "source": [
    "pnu = read_data(\"PNU\")"
   ]
  },
  {
   "cell_type": "code",
   "execution_count": 7,
   "metadata": {},
   "outputs": [
    {
     "name": "stdout",
     "output_type": "stream",
     "text": [
      "job started, there are 577 files to iterate\n",
      "100/577\n",
      "200/577\n",
      "300/577\n",
      "400/577\n",
      "500/577\n",
      "concatenating temp and rain..\n",
      "job finished\n"
     ]
    }
   ],
   "source": [
    "kma = read_data(\"KMA\")"
   ]
  },
  {
   "cell_type": "code",
   "execution_count": 8,
   "metadata": {},
   "outputs": [
    {
     "name": "stdout",
     "output_type": "stream",
     "text": [
      "job started, there are 577 files to iterate\n",
      "100/577\n",
      "200/577\n",
      "300/577\n",
      "400/577\n",
      "500/577\n",
      "concatenating temp and rain..\n",
      "job finished\n"
     ]
    }
   ],
   "source": [
    "cwb = read_data(\"CWB\")"
   ]
  },
  {
   "cell_type": "code",
   "execution_count": 9,
   "metadata": {},
   "outputs": [
    {
     "name": "stdout",
     "output_type": "stream",
     "text": [
      "job started, there are 567 files to iterate\n",
      "100/567\n",
      "200/567\n",
      "300/567\n",
      "400/567\n",
      "500/567\n",
      "concatenating temp and rain..\n",
      "job finished\n"
     ]
    }
   ],
   "source": [
    "hmc = read_data(\"HMC\")"
   ]
  },
  {
   "cell_type": "code",
   "execution_count": 10,
   "metadata": {},
   "outputs": [
    {
     "name": "stdout",
     "output_type": "stream",
     "text": [
      "job started, there are 577 files to iterate\n"
     ]
    },
    {
     "name": "stdout",
     "output_type": "stream",
     "text": [
      "100/577\n",
      "200/577\n",
      "300/577\n",
      "400/577\n",
      "500/577\n",
      "concatenating temp and rain..\n",
      "job finished\n"
     ]
    }
   ],
   "source": [
    "bom = read_data(\"BOM\")"
   ]
  },
  {
   "cell_type": "code",
   "execution_count": 11,
   "metadata": {},
   "outputs": [],
   "source": [
    "hindcasts = pd.concat([bom, pnu, cwb, hmc, kma], ignore_index=True)"
   ]
  },
  {
   "cell_type": "markdown",
   "metadata": {},
   "source": [
    "### 2. Preprocessing"
   ]
  },
  {
   "cell_type": "code",
   "execution_count": 12,
   "metadata": {},
   "outputs": [
    {
     "data": {
      "text/html": [
       "<div>\n",
       "<style scoped>\n",
       "    .dataframe tbody tr th:only-of-type {\n",
       "        vertical-align: middle;\n",
       "    }\n",
       "\n",
       "    .dataframe tbody tr th {\n",
       "        vertical-align: top;\n",
       "    }\n",
       "\n",
       "    .dataframe thead th {\n",
       "        text-align: right;\n",
       "    }\n",
       "</style>\n",
       "<table border=\"1\" class=\"dataframe\">\n",
       "  <thead>\n",
       "    <tr style=\"text-align: right;\">\n",
       "      <th></th>\n",
       "      <th>model</th>\n",
       "      <th>model_year</th>\n",
       "      <th>init_year</th>\n",
       "      <th>init_month</th>\n",
       "      <th>forecasted_year</th>\n",
       "      <th>forecasted_month</th>\n",
       "      <th>time</th>\n",
       "      <th>lat</th>\n",
       "      <th>lon</th>\n",
       "      <th>prec</th>\n",
       "      <th>t2m</th>\n",
       "    </tr>\n",
       "  </thead>\n",
       "  <tbody>\n",
       "    <tr>\n",
       "      <th>0</th>\n",
       "      <td>BOM</td>\n",
       "      <td>2022</td>\n",
       "      <td>1993</td>\n",
       "      <td>APR</td>\n",
       "      <td>1993</td>\n",
       "      <td>4</td>\n",
       "      <td>1993-04-01</td>\n",
       "      <td>-90.0</td>\n",
       "      <td>0.0</td>\n",
       "      <td>0.172188</td>\n",
       "      <td>217.840622</td>\n",
       "    </tr>\n",
       "    <tr>\n",
       "      <th>1</th>\n",
       "      <td>BOM</td>\n",
       "      <td>2022</td>\n",
       "      <td>1993</td>\n",
       "      <td>APR</td>\n",
       "      <td>1993</td>\n",
       "      <td>4</td>\n",
       "      <td>1993-04-01</td>\n",
       "      <td>-90.0</td>\n",
       "      <td>2.5</td>\n",
       "      <td>0.175796</td>\n",
       "      <td>217.825546</td>\n",
       "    </tr>\n",
       "    <tr>\n",
       "      <th>2</th>\n",
       "      <td>BOM</td>\n",
       "      <td>2022</td>\n",
       "      <td>1993</td>\n",
       "      <td>APR</td>\n",
       "      <td>1993</td>\n",
       "      <td>4</td>\n",
       "      <td>1993-04-01</td>\n",
       "      <td>-90.0</td>\n",
       "      <td>5.0</td>\n",
       "      <td>0.176092</td>\n",
       "      <td>217.794159</td>\n",
       "    </tr>\n",
       "    <tr>\n",
       "      <th>3</th>\n",
       "      <td>BOM</td>\n",
       "      <td>2022</td>\n",
       "      <td>1993</td>\n",
       "      <td>APR</td>\n",
       "      <td>1993</td>\n",
       "      <td>4</td>\n",
       "      <td>1993-04-01</td>\n",
       "      <td>-90.0</td>\n",
       "      <td>7.5</td>\n",
       "      <td>0.176846</td>\n",
       "      <td>217.765625</td>\n",
       "    </tr>\n",
       "    <tr>\n",
       "      <th>4</th>\n",
       "      <td>BOM</td>\n",
       "      <td>2022</td>\n",
       "      <td>1993</td>\n",
       "      <td>APR</td>\n",
       "      <td>1993</td>\n",
       "      <td>4</td>\n",
       "      <td>1993-04-01</td>\n",
       "      <td>-90.0</td>\n",
       "      <td>10.0</td>\n",
       "      <td>0.177782</td>\n",
       "      <td>217.730927</td>\n",
       "    </tr>\n",
       "  </tbody>\n",
       "</table>\n",
       "</div>"
      ],
      "text/plain": [
       "  model model_year  init_year init_month  forecasted_year  forecasted_month  \\\n",
       "0   BOM       2022       1993        APR             1993                 4   \n",
       "1   BOM       2022       1993        APR             1993                 4   \n",
       "2   BOM       2022       1993        APR             1993                 4   \n",
       "3   BOM       2022       1993        APR             1993                 4   \n",
       "4   BOM       2022       1993        APR             1993                 4   \n",
       "\n",
       "        time   lat   lon      prec         t2m  \n",
       "0 1993-04-01 -90.0   0.0  0.172188  217.840622  \n",
       "1 1993-04-01 -90.0   2.5  0.175796  217.825546  \n",
       "2 1993-04-01 -90.0   5.0  0.176092  217.794159  \n",
       "3 1993-04-01 -90.0   7.5  0.176846  217.765625  \n",
       "4 1993-04-01 -90.0  10.0  0.177782  217.730927  "
      ]
     },
     "execution_count": 12,
     "metadata": {},
     "output_type": "execute_result"
    }
   ],
   "source": [
    "hindcasts.head()"
   ]
  },
  {
   "cell_type": "code",
   "execution_count": 13,
   "metadata": {},
   "outputs": [],
   "source": [
    "# change coordinate reference units\n",
    "hindcasts[\"lon\"] = hindcasts[\"lon\"].apply(lambda x: x - 360 if x > 180 else x)\n",
    "# filter roughly by relevant area of Argentina\n",
    "hindcasts = hindcasts.loc[(hindcasts[\"lat\"] <= -28) & (hindcasts[\"lat\"] >= -45) & (hindcasts[\"lon\"] >= -68) & (hindcasts[\"lon\"] <= -55)].reset_index(drop=True)\n",
    "# replace month names to integer\n",
    "hindcasts[\"init_month\"] = hindcasts[\"init_month\"].replace(month_name_to_number)\n",
    "# convert tempearture from Kelvin to degree celsius\n",
    "hindcasts[\"t2m\"] = hindcasts[\"t2m\"].apply(lambda x: x - 273.15)\n",
    "# convert rain to mm to match with ERA-reanalysis\n",
    "hindcasts[\"prec\"] = hindcasts[\"prec\"].apply(lambda x: x / 1000)\n",
    "# filter by init month and forecasted month; HMC is not available for init_month < 9, but we need 8 as feature, will be supplemented with ERA and filtered later\n",
    "hindcasts = (hindcasts\n",
    "             .loc[(hindcasts[\"init_month\"].between(8, 11)) & (hindcasts[\"forecasted_month\"].between(8, 11)) & (hindcasts[\"forecasted_year\"] == hindcasts[\"init_year\"]),\n",
    "                  [\"model\", \"init_year\", \"init_month\", \"forecasted_month\", \"prec\", \"t2m\", \"lat\", \"lon\"]]\n",
    "                .rename(columns={\"init_year\":\"year\", \"prec\":\"rain\", \"t2m\":\"tmean\"})\n",
    "                .reset_index(drop=True))\n",
    "\n",
    "# convert to geodataframe to facilitate spatial filtering in the next section\n",
    "hindcasts = gp.GeoDataFrame(hindcasts, geometry=gp.points_from_xy(hindcasts[\"lon\"], hindcasts[\"lat\"]), crs=\"EPSG:4326\")"
   ]
  },
  {
   "cell_type": "code",
   "execution_count": 14,
   "metadata": {},
   "outputs": [
    {
     "data": {
      "text/html": [
       "<div>\n",
       "<style scoped>\n",
       "    .dataframe tbody tr th:only-of-type {\n",
       "        vertical-align: middle;\n",
       "    }\n",
       "\n",
       "    .dataframe tbody tr th {\n",
       "        vertical-align: top;\n",
       "    }\n",
       "\n",
       "    .dataframe thead th {\n",
       "        text-align: right;\n",
       "    }\n",
       "</style>\n",
       "<table border=\"1\" class=\"dataframe\">\n",
       "  <thead>\n",
       "    <tr style=\"text-align: right;\">\n",
       "      <th></th>\n",
       "      <th>model</th>\n",
       "      <th>year</th>\n",
       "      <th>init_month</th>\n",
       "      <th>forecasted_month</th>\n",
       "      <th>rain</th>\n",
       "      <th>tmean</th>\n",
       "      <th>lat</th>\n",
       "      <th>lon</th>\n",
       "      <th>geometry</th>\n",
       "    </tr>\n",
       "  </thead>\n",
       "  <tbody>\n",
       "    <tr>\n",
       "      <th>0</th>\n",
       "      <td>BOM</td>\n",
       "      <td>1993</td>\n",
       "      <td>8</td>\n",
       "      <td>8</td>\n",
       "      <td>0.000858</td>\n",
       "      <td>4.104913</td>\n",
       "      <td>-45.0</td>\n",
       "      <td>-67.5</td>\n",
       "      <td>POINT (-67.50000 -45.00000)</td>\n",
       "    </tr>\n",
       "    <tr>\n",
       "      <th>1</th>\n",
       "      <td>BOM</td>\n",
       "      <td>1993</td>\n",
       "      <td>8</td>\n",
       "      <td>8</td>\n",
       "      <td>0.000947</td>\n",
       "      <td>6.767725</td>\n",
       "      <td>-45.0</td>\n",
       "      <td>-65.0</td>\n",
       "      <td>POINT (-65.00000 -45.00000)</td>\n",
       "    </tr>\n",
       "  </tbody>\n",
       "</table>\n",
       "</div>"
      ],
      "text/plain": [
       "  model  year  init_month  forecasted_month      rain     tmean   lat   lon  \\\n",
       "0   BOM  1993           8                 8  0.000858  4.104913 -45.0 -67.5   \n",
       "1   BOM  1993           8                 8  0.000947  6.767725 -45.0 -65.0   \n",
       "\n",
       "                      geometry  \n",
       "0  POINT (-67.50000 -45.00000)  \n",
       "1  POINT (-65.00000 -45.00000)  "
      ]
     },
     "execution_count": 14,
     "metadata": {},
     "output_type": "execute_result"
    }
   ],
   "source": [
    "hindcasts.head(2)"
   ]
  },
  {
   "cell_type": "markdown",
   "metadata": {},
   "source": [
    "### 3. Find closest location to municipalities"
   ]
  },
  {
   "cell_type": "code",
   "execution_count": 15,
   "metadata": {},
   "outputs": [],
   "source": [
    "modelling_groups = hindcasts[\"model\"].unique()\n",
    "li = []\n",
    "for model in modelling_groups:\n",
    "    # get current model and the lat-lon coordinates of its forecasts\n",
    "    current_model = hindcasts.loc[hindcasts[\"model\"] == model, [\"model\", \"lat\", \"lon\", \"geometry\"]].drop_duplicates()\n",
    "    # get the nearest lat-lon pair to both locations (municipalities)\n",
    "    location_1 = pd.DataFrame(current_model.iloc[current_model.sindex.nearest(name_to_shape[relevant_municipalities[0]])[1][0]]).transpose().assign(location=\"coronel suarez\").reset_index(drop=True)\n",
    "    location_2 = pd.DataFrame(current_model.iloc[current_model.sindex.nearest(name_to_shape[relevant_municipalities[1]])[1][0]]).transpose().assign(location=\"bahia blanca\").reset_index(drop=True)\n",
    "    location_3 = pd.DataFrame(current_model.iloc[current_model.sindex.nearest(name_to_shape[relevant_municipalities[2]])[1][0]]).transpose().assign(location=\"coronel dorrego\").reset_index(drop=True)\n",
    "    location_4 = pd.DataFrame(current_model.iloc[current_model.sindex.nearest(name_to_shape[relevant_municipalities[3]])[1][0]]).transpose().assign(location=\"coronel pringles\").reset_index(drop=True)\n",
    "    location_5 = pd.DataFrame(current_model.iloc[current_model.sindex.nearest(name_to_shape[relevant_municipalities[4]])[1][0]]).transpose().assign(location=\"hipolito yrigoyen\").reset_index(drop=True)\n",
    "    location_6 = pd.DataFrame(current_model.iloc[current_model.sindex.nearest(name_to_shape[relevant_municipalities[5]])[1][0]]).transpose().assign(location=\"santa fe san justo\").reset_index(drop=True)\n",
    "    location_7 = pd.DataFrame(current_model.iloc[current_model.sindex.nearest(name_to_shape[relevant_municipalities[6]])[1][0]]).transpose().assign(location=\"saavedra\").reset_index(drop=True)\n",
    "    # save in dataframe\n",
    "    locations = pd.concat([location_1, location_2, location_3, location_4, location_5, location_6, location_7], ignore_index=True)\n",
    "    # the lat-lon pairs that are selected are merged with the name of their location; all other lat-lon pairs are dropped\n",
    "    current_model = current_model.merge(locations, on=[\"model\", \"lat\", \"lon\", \"geometry\"], how=\"left\").dropna()\n",
    "    # append the locations for this model\n",
    "    li.append(current_model)\n",
    "    \n",
    "model_locations = pd.concat(li, ignore_index=True, axis=0)\n",
    "# dataframe is now called CLIK \n",
    "clik = hindcasts.merge(model_locations, on=[\"model\", \"lat\", \"lon\", \"geometry\"]).dropna()"
   ]
  },
  {
   "cell_type": "code",
   "execution_count": 18,
   "metadata": {},
   "outputs": [
    {
     "data": {
      "text/plain": [
       "<Axes: >"
      ]
     },
     "execution_count": 18,
     "metadata": {},
     "output_type": "execute_result"
    },
    {
     "data": {
      "image/png": "[encoded data removed]",
      "text/plain": [
       "<Figure size 600x600 with 1 Axes>"
      ]
     },
     "metadata": {},
     "output_type": "display_data"
    }
   ],
   "source": [
    "base = gdf_adm2.plot(figsize=(6,6), edgecolor=\"black\", linewidth=.2)\n",
    "gp.GeoDataFrame(clik[[\"geometry\", \"lat\", \"lon\"]].drop_duplicates(), geometry=\"geometry\", crs=\"EPSG:4326\").plot(ax=base,  color=\"black\")"
   ]
  },
  {
   "cell_type": "code",
   "execution_count": 19,
   "metadata": {},
   "outputs": [],
   "source": [
    "def adjust_bias(observed, predicted, correction_method=\"basic_quantile\"):\n",
    "    \"\"\"Apply bias-adjustment to daily temperature values of hindcasts.\n",
    "    \n",
    "    parameters:\n",
    "     - observed: observed climate data\n",
    "     - predicted: hindcast data\n",
    "     - correction_method: bias-correction method to be applied. Can be 'normal_mapping', 'basic_quantile', 'gamma_mapping', 'modified_quantile'\n",
    "    \n",
    "    returns: \n",
    "     - results: bias-adjusted hindcasts as dataframe  \n",
    "    \"\"\"\n",
    "    # GroupBy objects allow faster access to relevant subsets of climate data.\n",
    "    grouped_climate_observations = observed.groupby([\"location\", \"year\", \"forecasted_month\"])\n",
    "    grouped_climate_hindcasts = predicted.groupby([\"model\", \"init_month\", \"location\", \"year\", \"forecasted_month\"])\n",
    "    grouped_climate_hindcasts_reference = copy(grouped_climate_hindcasts)\n",
    "    li = []\n",
    "    \n",
    "    for group_idx, group_content in grouped_climate_hindcasts:\n",
    "        # Save group characteristics in intuitive variables.\n",
    "        current_model = group_content[\"model\"].unique()[0]\n",
    "        current_init_month = group_content[\"init_month\"].unique()[0]\n",
    "        current_zone = group_content[\"location\"].unique()[0]\n",
    "        current_season = group_content[\"year\"].unique()[0]\n",
    "        current_month = group_content[\"forecasted_month\"].unique()[0]\n",
    "        \n",
    "        # Create calibration set of observations and hindcasts.\n",
    "        hindcasts_used_as_reference = []\n",
    "        observations_used_as_reference = []\n",
    "        for season in list(range(1993,2017)): \n",
    "            if season != current_season:\n",
    "                observation_to_be_added = (current_zone, season, current_month) \n",
    "                observations_used_as_reference.append(grouped_climate_observations.get_group(observation_to_be_added))   \n",
    "            hindcast_to_be_added = (current_model, current_init_month, current_zone, season, current_month)\n",
    "            hindcasts_used_as_reference.append(grouped_climate_hindcasts_reference.get_group(hindcast_to_be_added))\n",
    "        hindcasts_used_as_reference = pd.concat(hindcasts_used_as_reference, axis=0, ignore_index=False)\n",
    "        observations_used_as_reference = pd.concat(observations_used_as_reference, axis=0, ignore_index=False) \n",
    "        \n",
    "        # Perform bias-adjustment for temperature variables.\n",
    "        bc_tmean = BiasCorrection(observations_used_as_reference[\"tmean\"], hindcasts_used_as_reference[\"tmean\"], group_content[\"tmean\"])\n",
    "        bc_rain = BiasCorrection(observations_used_as_reference[\"rain\"], hindcasts_used_as_reference[\"rain\"], group_content[\"rain\"])\n",
    "        group_content[\"tmean\"] = bc_tmean.correct(method=correction_method)\n",
    "        group_content[\"rain\"] = bc_rain.correct(method=correction_method)\n",
    "        \n",
    "        li.append(group_content)\n",
    "    result = pd.concat(li, axis=0, ignore_index=True)       \n",
    "    \n",
    "    return result"
   ]
  },
  {
   "cell_type": "code",
   "execution_count": 20,
   "metadata": {},
   "outputs": [],
   "source": [
    "adjusted_hindcasts = adjust_bias(era, clik)"
   ]
  },
  {
   "cell_type": "markdown",
   "metadata": {},
   "source": [
    "### 5. Features structure "
   ]
  },
  {
   "cell_type": "code",
   "execution_count": 21,
   "metadata": {},
   "outputs": [
    {
     "data": {
      "text/plain": [
       "model  location          \n",
       "BOM    bahia blanca          240\n",
       "       coronel dorrego       240\n",
       "       coronel pringles      240\n",
       "       coronel suarez        240\n",
       "       hipolito yrigoyen     240\n",
       "       saavedra              240\n",
       "       santa fe san justo    240\n",
       "CWB    bahia blanca          240\n",
       "       coronel dorrego       240\n",
       "       coronel pringles      240\n",
       "       coronel suarez        240\n",
       "       hipolito yrigoyen     240\n",
       "       saavedra              240\n",
       "       santa fe san justo    240\n",
       "HMC    bahia blanca          216\n",
       "       coronel dorrego       216\n",
       "       coronel pringles      216\n",
       "       coronel suarez        216\n",
       "       hipolito yrigoyen     216\n",
       "       saavedra              216\n",
       "       santa fe san justo    216\n",
       "KMA    bahia blanca          240\n",
       "       coronel dorrego       240\n",
       "       coronel pringles      240\n",
       "       coronel suarez        240\n",
       "       hipolito yrigoyen     240\n",
       "       saavedra              240\n",
       "       santa fe san justo    240\n",
       "PNU    bahia blanca          240\n",
       "       coronel dorrego       240\n",
       "       coronel pringles      240\n",
       "       coronel suarez        240\n",
       "       hipolito yrigoyen     240\n",
       "       saavedra              240\n",
       "       santa fe san justo    240\n",
       "dtype: int64"
      ]
     },
     "execution_count": 21,
     "metadata": {},
     "output_type": "execute_result"
    }
   ],
   "source": [
    "adjusted_hindcasts.groupby([\"model\", \"location\"]).size()"
   ]
  },
  {
   "cell_type": "code",
   "execution_count": 22,
   "metadata": {},
   "outputs": [],
   "source": [
    "# Bring NMME hindcasts into right structure where features are columns and rows are model-year-init_month\n",
    "hindcasts_pivot = adjusted_hindcasts.pivot(index=[\"model\", \"year\", \"init_month\"], columns=[\"location\", \"forecasted_month\"], values=[\"tmean\", \"rain\"]).reset_index()\n",
    "hindcasts_pivot.columns = [\"{}_{}_{}\".format(c[0], c[1], c[2]) for c in hindcasts_pivot.columns]\n",
    "hindcasts_pivot.columns = [c.strip(\"_\") for c in hindcasts_pivot.columns]\n",
    "\n",
    "# Bring ERA into right structure where features are columns and rows are model-year\n",
    "era_pivot = era.pivot(index=[\"model\", \"year\", \"init_month\"], columns=[\"location\", \"forecasted_month\"], values=[\"tmean\", \"rain\"]).reset_index()\n",
    "era_pivot.columns = [\"{}_{}_{}\".format(c[0], c[1], c[2]) for c in era_pivot.columns]\n",
    "era_pivot.columns = [c.strip(\"_\") for c in era_pivot.columns]\n",
    "era_pivot = era_pivot.sort_values(by=[\"model\", \"year\", \"init_month\"])\n",
    "\n",
    "# features for month < init_months are NaNs and will be replaced with era-reanalysis data\n",
    "all_models = hindcasts_pivot.set_index(\"year\").combine_first(era_pivot.set_index(\"year\")).reset_index()\n",
    "# concat ERA with init_month = 12  \n",
    "all_models = pd.concat([all_models, era_pivot], ignore_index=True)\n",
    "all_models = all_models.drop_duplicates().reset_index(drop=True)\n",
    "all_models = all_models.loc[all_models[\"init_month\"] >= 9].sort_values(by=[\"model\", \"year\", \"init_month\"]).reset_index(drop=True)\n"
   ]
  },
  {
   "cell_type": "code",
   "execution_count": 24,
   "metadata": {},
   "outputs": [],
   "source": [
    "# bring columns into right order\n",
    "all_models = all_models.set_index(['model', 'year', 'init_month']).reset_index()"
   ]
  },
  {
   "cell_type": "code",
   "execution_count": 25,
   "metadata": {},
   "outputs": [
    {
     "data": {
      "text/plain": [
       "model\n",
       "BOM    72\n",
       "CWB    72\n",
       "ERA    30\n",
       "HMC    72\n",
       "KMA    72\n",
       "PNU    72\n",
       "dtype: int64"
      ]
     },
     "execution_count": 25,
     "metadata": {},
     "output_type": "execute_result"
    }
   ],
   "source": [
    "all_models.groupby(\"model\").size()"
   ]
  },
  {
   "cell_type": "markdown",
   "metadata": {},
   "source": [
    "### EXPORT"
   ]
  },
  {
   "cell_type": "code",
   "execution_count": 27,
   "metadata": {},
   "outputs": [],
   "source": [
    "all_models.to_csv(\"data/features/bias_adjusted_clik_features_v2.csv\", index=False)"
   ]
  }
 ],
 "metadata": {
  "kernelspec": {
   "display_name": "Python 3.8.0 ('geospatial')",
   "language": "python",
   "name": "python3"
  },
  "language_info": {
   "codemirror_mode": {
    "name": "ipython",
    "version": 3
   },
   "file_extension": ".py",
   "mimetype": "text/x-python",
   "name": "python",
   "nbconvert_exporter": "python",
   "pygments_lexer": "ipython3",
   "version": "3.11.4"
  },
  "orig_nbformat": 4,
  "vscode": {
   "interpreter": {
    "hash": "3defe0cc3d3d54f02a1572862cbbf1c665fc2dba211b501647237531695c978b"
   }
  }
 },
 "nbformat": 4,
 "nbformat_minor": 2
}
